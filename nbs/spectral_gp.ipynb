{
 "cells": [
  {
   "cell_type": "markdown",
   "id": "2ce64c88",
   "metadata": {},
   "source": [
    "# Agenda\n",
    "Spectral clustering of GPs' bitmaps.\n",
    "\n"
   ]
  },
  {
   "cell_type": "code",
   "execution_count": 1,
   "id": "72bb0e00",
   "metadata": {},
   "outputs": [],
   "source": [
    "# Installing Libraries (if not installed)\n",
    "#!pip3 install jupyterlab-git\n",
    "#!pip3 install matplotlib\n",
    "#!pip3 install scikit-learn\n",
    "#!pip3 install seaborn\n",
    "#!pip3 install numpy\n",
    "#!pip3 install pandas\n",
    "#!pip3 install so4gp\n",
    "#!pip3 install scipy\n",
    "#!pip3 install sympy"
   ]
  },
  {
   "cell_type": "markdown",
   "id": "caa30d2f",
   "metadata": {},
   "source": [
    "# Import libraries <a name=\"lib-import\"></a>"
   ]
  },
  {
   "cell_type": "code",
   "execution_count": 2,
   "id": "2ef53478",
   "metadata": {},
   "outputs": [],
   "source": [
    "# Importing Libraries\n",
    "import pandas as pd\n",
    "import numpy as np\n",
    "from numpy.linalg import svd\n",
    "import matplotlib.pyplot as plt\n",
    "import seaborn as sns\n",
    "import networkx as nx\n",
    "import sympy\n",
    "import scipy\n",
    "\n",
    "\n",
    "from scipy.sparse import csgraph, csr_matrix\n",
    "from scipy.spatial.distance import pdist, squareform\n",
    "from sklearn.cluster import KMeans\n",
    "from sklearn.neighbors import kneighbors_graph\n",
    "from sklearn.metrics import homogeneity_score, completeness_score,v_measure_score\n",
    "from numpy import linalg as la"
   ]
  },
  {
   "cell_type": "code",
   "execution_count": 3,
   "id": "8159986a-afaf-4623-9fe1-98151b317497",
   "metadata": {},
   "outputs": [],
   "source": [
    "import so4gp as sgp"
   ]
  },
  {
   "cell_type": "markdown",
   "id": "3c1313c7-a9b5-4a5b-a1e0-09cc0402ac54",
   "metadata": {},
   "source": [
    "# Spectral Clustering\n",
    "\n",
    "Adopted from: [Towards data science](https://towardsdatascience.com/graph-laplacian-and-its-application-in-machine-learning-7d9aab021d16)\n",
    "\n",
    "## Data set\n",
    "Data set is the GP bitmaps (X0, X1, ..., Xn). Each attribute generates a GP bitmap."
   ]
  },
  {
   "cell_type": "code",
   "execution_count": 4,
   "id": "2b06dd40-f835-4134-9c25-6e84aec4c125",
   "metadata": {},
   "outputs": [],
   "source": [
    "#from sklearn.datasets import make_moons\n",
    "#features, y = make_moons(n_samples=10, noise=0.07, random_state=213)\n",
    "#features\n",
    "#y, features"
   ]
  },
  {
   "cell_type": "code",
   "execution_count": 54,
   "id": "6e01fe3c-0727-4474-ab13-170b58e76e26",
   "metadata": {},
   "outputs": [
    {
     "data": {
      "text/plain": [
       "array([[ 48.        ,  23.5       ,  70.        , ...,   7.99585   ,\n",
       "        417.114     ,   1.        ],\n",
       "       [ 83.        ,  20.69049454,  92.        , ...,   4.06405   ,\n",
       "        468.786     ,   1.        ],\n",
       "       [ 82.        ,  23.12467037,  91.        , ...,   9.27715   ,\n",
       "        554.697     ,   1.        ],\n",
       "       ...,\n",
       "       [ 65.        ,  32.05      ,  97.        , ...,  10.33      ,\n",
       "        314.05      ,   2.        ],\n",
       "       [ 72.        ,  25.59      ,  82.        , ...,   3.27      ,\n",
       "        392.46      ,   2.        ],\n",
       "       [ 86.        ,  27.18      , 138.        , ...,   4.35      ,\n",
       "         90.09      ,   2.        ]])"
      ]
     },
     "execution_count": 54,
     "metadata": {},
     "output_type": "execute_result"
    }
   ],
   "source": [
    "\n",
    "#ds = sgp.DataGP('.\\data\\DATASET.csv')\n",
    "ds = sgp.DataGP('./data/breast_cancer.csv')\n",
    "\n",
    "data_size = ds.row_count\n",
    "features = np.array(ds.data, dtype=np.float64)\n",
    "features"
   ]
  },
  {
   "cell_type": "code",
   "execution_count": 57,
   "id": "3f17a62a-4780-45a1-a822-ae192bbf2155",
   "metadata": {},
   "outputs": [
    {
     "data": {
      "text/plain": [
       "array([[23.5       ,  2.707     ],\n",
       "       [20.69049454,  3.115     ],\n",
       "       [23.12467037,  4.498     ],\n",
       "       [21.36752137,  3.226     ],\n",
       "       [21.11111111,  3.549     ],\n",
       "       [22.85445769,  3.226     ],\n",
       "       [22.7       ,  4.69      ],\n",
       "       [23.8       ,  6.47      ],\n",
       "       [22.        ,  3.35      ],\n",
       "       [23.        ,  4.952     ],\n",
       "       [21.47      ,  3.469     ],\n",
       "       [23.01      ,  5.663     ],\n",
       "       [22.86      ,  4.09      ],\n",
       "       [18.67      ,  6.107     ],\n",
       "       [23.34      ,  5.782     ],\n",
       "       [20.76      ,  7.553     ],\n",
       "       [22.03      ,  2.869     ],\n",
       "       [32.03895937, 18.077     ],\n",
       "       [34.5297228 ,  4.427     ],\n",
       "       [36.51263743, 14.026     ],\n",
       "       [28.57667585,  4.345     ],\n",
       "       [31.97501487,  4.53      ],\n",
       "       [32.27078777,  5.81      ],\n",
       "       [30.27681661,  4.376     ],\n",
       "       [30.48315806,  5.537     ],\n",
       "       [37.03560819,  6.76      ],\n",
       "       [38.57875854,  6.703     ],\n",
       "       [31.44654088,  9.245     ],\n",
       "       [35.2507611 ,  6.817     ],\n",
       "       [34.17489   ,  6.59      ],\n",
       "       [36.21227888, 15.533     ],\n",
       "       [36.7901662 , 10.175     ],\n",
       "       [35.85581466,  8.576     ],\n",
       "       [34.42217362, 23.194     ],\n",
       "       [27.68877813,  3.855     ],\n",
       "       [29.60676726,  5.819     ],\n",
       "       [31.2385898 ,  4.181     ],\n",
       "       [35.09270153,  5.646     ],\n",
       "       [26.34929208,  5.138     ],\n",
       "       [35.58792924,  3.881     ],\n",
       "       [29.2184076 ,  5.376     ],\n",
       "       [27.2       , 14.07      ],\n",
       "       [27.3       ,  5.197     ],\n",
       "       [32.5       ,  5.43      ],\n",
       "       [30.3       ,  8.34      ],\n",
       "       [27.7       ,  6.042     ],\n",
       "       [25.7       ,  8.079     ],\n",
       "       [25.3       ,  3.508     ],\n",
       "       [29.4       , 10.704     ],\n",
       "       [26.6       ,  4.462     ],\n",
       "       [27.1       , 26.211     ],\n",
       "       [25.9       ,  4.58      ],\n",
       "       [21.30394858, 13.852     ],\n",
       "       [20.82999519,  4.56      ],\n",
       "       [20.9566075 , 12.305     ],\n",
       "       [24.24242424, 21.699     ],\n",
       "       [21.35991456,  2.999     ],\n",
       "       [21.08281329,  6.2       ],\n",
       "       [19.13265306,  4.364     ],\n",
       "       [22.65625   ,  3.482     ],\n",
       "       [22.4996371 ,  5.261     ],\n",
       "       [21.51385851,  6.683     ],\n",
       "       [21.36752137,  2.64      ],\n",
       "       [22.89281998,  2.74      ],\n",
       "       [22.83287935,  6.862     ],\n",
       "       [23.14049587,  4.902     ],\n",
       "       [24.21875   ,  3.73      ],\n",
       "       [22.22222222,  5.7       ],\n",
       "       [20.83      ,  3.42      ],\n",
       "       [19.56      , 15.89      ],\n",
       "       [20.26      ,  3.44      ],\n",
       "       [24.74      , 58.46      ],\n",
       "       [18.37      ,  6.03      ],\n",
       "       [23.62      ,  4.42      ],\n",
       "       [22.21      , 36.94      ],\n",
       "       [26.5625    , 10.555     ],\n",
       "       [31.97501487, 16.635     ],\n",
       "       [31.25      ,  4.328     ],\n",
       "       [26.66666667, 41.611     ],\n",
       "       [26.6727633 , 22.033     ],\n",
       "       [28.67262608,  3.188     ],\n",
       "       [31.64036818,  9.669     ],\n",
       "       [32.46191136, 28.677     ],\n",
       "       [25.51020408, 10.395     ],\n",
       "       [29.296875  ,  4.172     ],\n",
       "       [29.666548  , 14.649     ],\n",
       "       [28.125     ,  2.54      ],\n",
       "       [27.68877813, 51.814     ],\n",
       "       [31.25      , 12.162     ],\n",
       "       [29.15451895, 16.582     ],\n",
       "       [30.83653053, 41.894     ],\n",
       "       [31.21748179, 18.077     ],\n",
       "       [30.8012487 , 30.212     ],\n",
       "       [32.46191136, 24.887     ],\n",
       "       [31.23140988, 30.13      ],\n",
       "       [29.77777778,  8.396     ],\n",
       "       [27.88761707,  9.208     ],\n",
       "       [27.63605442,  2.432     ],\n",
       "       [27.91551882, 18.2       ],\n",
       "       [28.44444444,  8.808     ],\n",
       "       [28.65013774,  3.012     ],\n",
       "       [26.5625    ,  6.524     ],\n",
       "       [30.91557669, 10.491     ],\n",
       "       [29.13631634, 10.949     ],\n",
       "       [34.83814777, 12.548     ],\n",
       "       [37.109375  ,  5.636     ],\n",
       "       [29.38475666,  4.713     ],\n",
       "       [33.18      ,  5.75      ],\n",
       "       [35.56      ,  8.15      ],\n",
       "       [30.48      ,  7.01      ],\n",
       "       [36.05      , 11.91      ],\n",
       "       [26.85      ,  3.33      ],\n",
       "       [26.84      ,  4.53      ],\n",
       "       [32.05      ,  5.73      ],\n",
       "       [25.59      ,  2.82      ],\n",
       "       [27.18      , 19.91      ]])"
      ]
     },
     "execution_count": 57,
     "metadata": {},
     "output_type": "execute_result"
    }
   ],
   "source": [
    "feature_X = features[:, [1,3]]\n",
    "feature_X"
   ]
  },
  {
   "cell_type": "markdown",
   "id": "6d384f8b-c811-4b9d-b457-4948c13c7f25",
   "metadata": {},
   "source": [
    "## Constructing K-nearest neighbors graph\n",
    "Based on connectivity (0 or 1)"
   ]
  },
  {
   "cell_type": "code",
   "execution_count": 58,
   "id": "4bd03f73-aaad-44a2-bb38-2a3780e5198e",
   "metadata": {},
   "outputs": [
    {
     "data": {
      "text/plain": [
       "matrix([[0., 0., 0., ..., 0., 0., 0.],\n",
       "        [0., 0., 0., ..., 0., 0., 0.],\n",
       "        [0., 0., 0., ..., 0., 0., 0.],\n",
       "        ...,\n",
       "        [0., 0., 0., ..., 0., 0., 0.],\n",
       "        [0., 0., 0., ..., 0., 0., 0.],\n",
       "        [0., 0., 0., ..., 0., 0., 0.]])"
      ]
     },
     "execution_count": 58,
     "metadata": {},
     "output_type": "execute_result"
    }
   ],
   "source": [
    "# Constructing K-nearest neighbors graph\n",
    "X = feature_X\n",
    "n_neighbors = 4\n",
    "knn_dist_graph = kneighbors_graph(X=X,\n",
    "                                 n_neighbors=n_neighbors,\n",
    "                                 #mode='distance')\n",
    "                                 mode='connectivity')\n",
    "\n",
    "#knn_dist_graph.todense()#[0][:,:50]\n",
    "gp_graph = knn_dist_graph\n",
    "gp_graph.todense()"
   ]
  },
  {
   "cell_type": "markdown",
   "id": "3fb88064-4ce9-4be5-898c-094e4f162d50",
   "metadata": {},
   "source": [
    "## Constructing GP Bitmap (or graph)\n",
    "\n",
    "Based on (-1, 0, 1)"
   ]
  },
  {
   "cell_type": "code",
   "execution_count": 59,
   "id": "48eeb36d-0039-485c-b6e3-d9d866cc9920",
   "metadata": {},
   "outputs": [
    {
     "data": {
      "text/plain": [
       "array([[ 0., -1., -1., ...,  1.,  1.,  1.],\n",
       "       [-1.,  0.,  1., ...,  1., -1.,  1.],\n",
       "       [-1.,  1.,  0., ...,  1., -1.,  1.],\n",
       "       ...,\n",
       "       [ 1.,  1.,  1., ...,  0.,  1., -1.],\n",
       "       [ 1., -1., -1., ...,  1.,  0.,  1.],\n",
       "       [ 1.,  1.,  1., ..., -1.,  1.,  0.]])"
      ]
     },
     "execution_count": 59,
     "metadata": {},
     "output_type": "execute_result"
    }
   ],
   "source": [
    "# X (2 features at a time)\n",
    "X = np.zeros((data_size, data_size))\n",
    "\n",
    "for i in range(data_size):\n",
    "    for j in range(data_size):\n",
    "        if (feature_X[i][0] == feature_X[j][0]) or (feature_X[i][1] == feature_X[j][1]):\n",
    "            pass\n",
    "        elif (feature_X[i][0] > feature_X[j][0]) and (feature_X[i][1] > feature_X[j][1]):\n",
    "            X[i][j] = 1\n",
    "            X[j][i] = 1\n",
    "        elif (feature_X[i][0] > feature_X[j][0]) and (feature_X[i][1] < feature_X[j][1]):\n",
    "            X[i][j] = -1\n",
    "            X[j][i] = -1\n",
    "gp_graph = X\n",
    "gp_graph"
   ]
  },
  {
   "cell_type": "markdown",
   "id": "1a89f278-7ecb-4072-8008-fd055d949976",
   "metadata": {},
   "source": [
    "## Computing Similarity\n"
   ]
  },
  {
   "cell_type": "code",
   "execution_count": 60,
   "id": "5f3b35dd-2f1b-4290-861d-eeb302226ff6",
   "metadata": {},
   "outputs": [
    {
     "name": "stderr",
     "output_type": "stream",
     "text": [
      "C:\\Users\\dowuor\\AppData\\Local\\Programs\\Python\\Python37\\lib\\site-packages\\scipy\\sparse\\_index.py:125: SparseEfficiencyWarning: Changing the sparsity structure of a csr_matrix is expensive. lil_matrix is more efficient.\n",
      "  self._set_arrayXarray(i, j, x)\n"
     ]
    },
    {
     "data": {
      "text/plain": [
       "matrix([[0.        , 0.60653066, 0.60653066, ..., 0.60653066, 0.60653066,\n",
       "         0.60653066],\n",
       "        [0.60653066, 0.        , 0.60653066, ..., 0.60653066, 0.60653066,\n",
       "         0.60653066],\n",
       "        [0.60653066, 0.60653066, 0.        , ..., 0.60653066, 0.60653066,\n",
       "         0.60653066],\n",
       "        ...,\n",
       "        [0.60653066, 0.60653066, 0.60653066, ..., 0.        , 0.60653066,\n",
       "         0.60653066],\n",
       "        [0.60653066, 0.60653066, 0.60653066, ..., 0.60653066, 0.        ,\n",
       "         0.60653066],\n",
       "        [0.60653066, 0.60653066, 0.60653066, ..., 0.60653066, 0.60653066,\n",
       "         0.        ]])"
      ]
     },
     "execution_count": 60,
     "metadata": {},
     "output_type": "execute_result"
    }
   ],
   "source": [
    "# Similarity graph\n",
    "\n",
    "sigma = 1\n",
    "similarity_graph = csr_matrix(gp_graph.shape)\n",
    "nonzeroindices = gp_graph.nonzero()\n",
    "similarity_graph[nonzeroindices] = np.exp( -np.asarray(gp_graph[nonzeroindices])**2 / 2.0 * sigma**2)\n",
    "similarity_graph = 0.5 * (similarity_graph + similarity_graph.T)\n",
    "similarity_graph.todense()#[0][:,:5]"
   ]
  },
  {
   "cell_type": "markdown",
   "id": "3e2e2bf8-005f-4163-8be5-1402bfbfbafa",
   "metadata": {},
   "source": [
    "## Deriving Graph Laplacian representation\n",
    "L = D-W\n",
    "\n",
    "D: Degree matrix\n",
    "\n",
    "W: Similarity graph"
   ]
  },
  {
   "cell_type": "code",
   "execution_count": 61,
   "id": "d85136e6-805f-4c76-806b-ab9281b9c996",
   "metadata": {},
   "outputs": [
    {
     "data": {
      "text/plain": [
       "array([[69.75102587,  0.        ,  0.        , ...,  0.        ,\n",
       "         0.        ,  0.        ],\n",
       "       [ 0.        , 69.75102587,  0.        , ...,  0.        ,\n",
       "         0.        ,  0.        ],\n",
       "       [ 0.        ,  0.        , 69.75102587, ...,  0.        ,\n",
       "         0.        ,  0.        ],\n",
       "       ...,\n",
       "       [ 0.        ,  0.        ,  0.        , ..., 69.75102587,\n",
       "         0.        ,  0.        ],\n",
       "       [ 0.        ,  0.        ,  0.        , ...,  0.        ,\n",
       "        69.75102587,  0.        ],\n",
       "       [ 0.        ,  0.        ,  0.        , ...,  0.        ,\n",
       "         0.        , 69.75102587]])"
      ]
     },
     "execution_count": 61,
     "metadata": {},
     "output_type": "execute_result"
    }
   ],
   "source": [
    "# Degree Matrix\n",
    "\n",
    "W = similarity_graph\n",
    "D = W.sum(axis=1)\n",
    "D = np.diag(np.asarray(D).reshape(data_size,))\n",
    "D"
   ]
  },
  {
   "cell_type": "code",
   "execution_count": 62,
   "id": "6fef1d80-dfb2-4515-8188-2b79be3ef1c1",
   "metadata": {},
   "outputs": [
    {
     "data": {
      "text/plain": [
       "matrix([[69.75102587, -0.60653066, -0.60653066, ..., -0.60653066,\n",
       "         -0.60653066, -0.60653066],\n",
       "        [-0.60653066, 69.75102587, -0.60653066, ..., -0.60653066,\n",
       "         -0.60653066, -0.60653066],\n",
       "        [-0.60653066, -0.60653066, 69.75102587, ..., -0.60653066,\n",
       "         -0.60653066, -0.60653066],\n",
       "        ...,\n",
       "        [-0.60653066, -0.60653066, -0.60653066, ..., 69.75102587,\n",
       "         -0.60653066, -0.60653066],\n",
       "        [-0.60653066, -0.60653066, -0.60653066, ..., -0.60653066,\n",
       "         69.75102587, -0.60653066],\n",
       "        [-0.60653066, -0.60653066, -0.60653066, ..., -0.60653066,\n",
       "         -0.60653066, 69.75102587]])"
      ]
     },
     "execution_count": 62,
     "metadata": {},
     "output_type": "execute_result"
    }
   ],
   "source": [
    "# Laplacian Matrix\n",
    "L = D - W\n",
    "L"
   ]
  },
  {
   "cell_type": "code",
   "execution_count": 63,
   "id": "436a90d9-bde8-458c-980c-9912a8ff3eb3",
   "metadata": {},
   "outputs": [
    {
     "data": {
      "text/plain": [
       "array([[69.75102587, -0.60653066, -0.60653066, ..., -0.60653066,\n",
       "        -0.60653066, -0.60653066],\n",
       "       [-0.60653066, 69.75102587, -0.60653066, ..., -0.60653066,\n",
       "        -0.60653066, -0.60653066],\n",
       "       [-0.60653066, -0.60653066, 69.75102587, ..., -0.60653066,\n",
       "        -0.60653066, -0.60653066],\n",
       "       ...,\n",
       "       [-0.60653066, -0.60653066, -0.60653066, ..., 69.75102587,\n",
       "        -0.60653066, -0.60653066],\n",
       "       [-0.60653066, -0.60653066, -0.60653066, ..., -0.60653066,\n",
       "        69.75102587, -0.60653066],\n",
       "       [-0.60653066, -0.60653066, -0.60653066, ..., -0.60653066,\n",
       "        -0.60653066, 69.75102587]])"
      ]
     },
     "execution_count": 63,
     "metadata": {},
     "output_type": "execute_result"
    }
   ],
   "source": [
    "# Laplacian Matrix\n",
    "\n",
    "L = csgraph.laplacian(W, normed=False)\n",
    "L.toarray()"
   ]
  },
  {
   "cell_type": "code",
   "execution_count": 64,
   "id": "687f097e-051e-4432-975f-ba8ceb15c560",
   "metadata": {},
   "outputs": [
    {
     "data": {
      "text/plain": [
       "array([[ 1.        , -0.00869565, -0.00869565, ..., -0.00869565,\n",
       "        -0.00869565, -0.00869565],\n",
       "       [-0.00869565,  1.        , -0.00869565, ..., -0.00869565,\n",
       "        -0.00869565, -0.00869565],\n",
       "       [-0.00869565, -0.00869565,  1.        , ..., -0.00869565,\n",
       "        -0.00869565, -0.00869565],\n",
       "       ...,\n",
       "       [-0.00869565, -0.00869565, -0.00869565, ...,  1.        ,\n",
       "        -0.00869565, -0.00869565],\n",
       "       [-0.00869565, -0.00869565, -0.00869565, ..., -0.00869565,\n",
       "         1.        , -0.00869565],\n",
       "       [-0.00869565, -0.00869565, -0.00869565, ..., -0.00869565,\n",
       "        -0.00869565,  1.        ]])"
      ]
     },
     "execution_count": 64,
     "metadata": {},
     "output_type": "execute_result"
    }
   ],
   "source": [
    "# Normalized Laplacian Matirx: \n",
    "\n",
    "L_norm = csgraph.laplacian(W, normed=True)\n",
    "L_norm.toarray()"
   ]
  },
  {
   "cell_type": "markdown",
   "id": "e55ac6a8-cad1-43f3-8828-aafeab9744a8",
   "metadata": {},
   "source": [
    "## Computing eigenvalues"
   ]
  },
  {
   "cell_type": "code",
   "execution_count": 65,
   "id": "03d671ae-ffed-4bd1-adc2-ad92608138b4",
   "metadata": {},
   "outputs": [
    {
     "data": {
      "text/plain": [
       "(array([-1.45053409e-15,  1.02076019e+00,  1.01665912e+00,  9.96370336e-01,\n",
       "         1.00869565e+00,  9.96350531e-01,  1.00869565e+00,  1.00869565e+00,\n",
       "         1.00869565e+00,  1.00000000e+00,  1.02127096e+00,  1.01754386e+00,\n",
       "         1.00877193e+00,  1.00877193e+00,  1.00000000e+00,  1.00869565e+00,\n",
       "         1.00869565e+00,  1.00000000e+00,  1.01754386e+00,  1.01754386e+00,\n",
       "         1.01754386e+00,  1.00000000e+00,  1.00000000e+00,  1.00869565e+00,\n",
       "         1.00869565e+00,  1.00869565e+00,  1.00869565e+00,  1.00869565e+00,\n",
       "         1.00869565e+00,  1.00869565e+00,  1.00869565e+00,  1.00869565e+00,\n",
       "         1.00869565e+00,  1.00869565e+00,  1.00869565e+00,  1.00869565e+00,\n",
       "         1.00869565e+00,  1.00869565e+00,  1.00869565e+00,  1.00869565e+00,\n",
       "         1.00869565e+00,  1.00869565e+00,  1.00869565e+00,  1.00869565e+00,\n",
       "         1.00869565e+00,  1.00869565e+00,  1.00869565e+00,  1.00869565e+00,\n",
       "         1.00869565e+00,  1.00869565e+00,  1.00869565e+00,  1.00869565e+00,\n",
       "         1.00869565e+00,  1.00869565e+00,  1.00869565e+00,  1.00869565e+00,\n",
       "         1.00869565e+00,  1.00869565e+00,  1.00869565e+00,  1.00869565e+00,\n",
       "         1.00869565e+00,  1.00869565e+00,  1.00869565e+00,  1.00869565e+00,\n",
       "         1.00869565e+00,  1.00869565e+00,  1.00869565e+00,  1.00869565e+00,\n",
       "         1.00869565e+00,  1.00869565e+00,  1.00869565e+00,  1.00869565e+00,\n",
       "         1.00869565e+00,  1.00869565e+00,  1.00869565e+00,  1.00869565e+00,\n",
       "         1.00869565e+00,  1.00869565e+00,  1.00869565e+00,  1.00869565e+00,\n",
       "         1.00869565e+00,  1.00869565e+00,  1.00869565e+00,  1.00869565e+00,\n",
       "         1.00869565e+00,  1.00869565e+00,  1.00869565e+00,  1.00869565e+00,\n",
       "         1.00869565e+00,  1.00869565e+00,  1.00869565e+00,  1.00869565e+00,\n",
       "         1.00869565e+00,  1.00869565e+00,  1.00869565e+00,  1.00869565e+00,\n",
       "         1.00869565e+00,  1.00869565e+00,  1.00869565e+00,  1.00869565e+00,\n",
       "         1.00869565e+00,  1.00869565e+00,  1.00869565e+00,  1.00869565e+00,\n",
       "         1.00869565e+00,  1.00869565e+00,  1.00869565e+00,  1.00869565e+00,\n",
       "         1.00869565e+00,  1.00869565e+00,  1.00869565e+00,  1.00869565e+00,\n",
       "         1.00869565e+00,  1.00869565e+00,  1.00869565e+00,  1.00869565e+00]),\n",
       " matrix([[-9.29103734e-02, -1.68249457e-02,  3.27053818e-02, ...,\n",
       "           4.01154672e-03,  2.62764865e-02,  5.88579929e-03],\n",
       "         [-9.29103734e-02, -1.68249457e-02,  3.27053818e-02, ...,\n",
       "           2.21135753e-02,  1.27211334e-02,  1.30954118e-05],\n",
       "         [-9.29103734e-02, -1.68249457e-02,  3.27053818e-02, ...,\n",
       "           5.47383015e-03, -1.10682666e-02,  1.76572188e-02],\n",
       "         ...,\n",
       "         [-9.29103734e-02, -1.68249457e-02,  3.27053818e-02, ...,\n",
       "           3.17235230e-04, -1.08603318e-01,  3.11180843e-02],\n",
       "         [-9.29103734e-02, -1.68249457e-02,  3.27053818e-02, ...,\n",
       "          -9.01104948e-02,  1.05048710e-02, -3.14914438e-01],\n",
       "         [-9.29103734e-02, -1.68249457e-02,  3.27053818e-02, ...,\n",
       "          -1.68727701e-02,  6.67113785e-02, -3.72986821e-02]]))"
      ]
     },
     "execution_count": 65,
     "metadata": {},
     "output_type": "execute_result"
    }
   ],
   "source": [
    "# Finding eigen values and eigen vectors\n",
    "e, evecs = la.eig(L_norm.todense())\n",
    "e, evecs"
   ]
  },
  {
   "cell_type": "code",
   "execution_count": 66,
   "id": "fbb2afee-29b9-46c1-b239-a9cbc19e16b8",
   "metadata": {},
   "outputs": [
    {
     "data": {
      "text/plain": [
       "array([-0.     ,  1.02076,  1.01666,  0.99637,  1.0087 ,  0.99635,\n",
       "        1.0087 ,  1.0087 ,  1.0087 ,  1.     ,  1.02127,  1.01754,\n",
       "        1.00877,  1.00877,  1.     ,  1.0087 ,  1.0087 ,  1.     ,\n",
       "        1.01754,  1.01754,  1.01754,  1.     ,  1.     ,  1.0087 ,\n",
       "        1.0087 ,  1.0087 ,  1.0087 ,  1.0087 ,  1.0087 ,  1.0087 ,\n",
       "        1.0087 ,  1.0087 ,  1.0087 ,  1.0087 ,  1.0087 ,  1.0087 ,\n",
       "        1.0087 ,  1.0087 ,  1.0087 ,  1.0087 ,  1.0087 ,  1.0087 ,\n",
       "        1.0087 ,  1.0087 ,  1.0087 ,  1.0087 ,  1.0087 ,  1.0087 ,\n",
       "        1.0087 ,  1.0087 ,  1.0087 ,  1.0087 ,  1.0087 ,  1.0087 ,\n",
       "        1.0087 ,  1.0087 ,  1.0087 ,  1.0087 ,  1.0087 ,  1.0087 ,\n",
       "        1.0087 ,  1.0087 ,  1.0087 ,  1.0087 ,  1.0087 ,  1.0087 ,\n",
       "        1.0087 ,  1.0087 ,  1.0087 ,  1.0087 ,  1.0087 ,  1.0087 ,\n",
       "        1.0087 ,  1.0087 ,  1.0087 ,  1.0087 ,  1.0087 ,  1.0087 ,\n",
       "        1.0087 ,  1.0087 ,  1.0087 ,  1.0087 ,  1.0087 ,  1.0087 ,\n",
       "        1.0087 ,  1.0087 ,  1.0087 ,  1.0087 ,  1.0087 ,  1.0087 ,\n",
       "        1.0087 ,  1.0087 ,  1.0087 ,  1.0087 ,  1.0087 ,  1.0087 ,\n",
       "        1.0087 ,  1.0087 ,  1.0087 ,  1.0087 ,  1.0087 ,  1.0087 ,\n",
       "        1.0087 ,  1.0087 ,  1.0087 ,  1.0087 ,  1.0087 ,  1.0087 ,\n",
       "        1.0087 ,  1.0087 ,  1.0087 ,  1.0087 ,  1.0087 ,  1.0087 ,\n",
       "        1.0087 ,  1.0087 ])"
      ]
     },
     "execution_count": 66,
     "metadata": {},
     "output_type": "execute_result"
    }
   ],
   "source": [
    "# No. of eigen values equal to 0\n",
    "e_rounded_off = e.round(5)\n",
    "e_rounded_off[e_rounded_off == 0].shape\n",
    "e_rounded_off"
   ]
  },
  {
   "cell_type": "code",
   "execution_count": 67,
   "id": "a0f4b946-44f5-428b-8927-75d6ed384a68",
   "metadata": {},
   "outputs": [],
   "source": [
    "# No. of connected components\n",
    "#nx.number_connected_components(nx_graph)"
   ]
  },
  {
   "cell_type": "markdown",
   "id": "9346a60d-a93f-4ebc-b884-267c7d0b52fb",
   "metadata": {},
   "source": [
    "## Partitioning data points"
   ]
  },
  {
   "cell_type": "code",
   "execution_count": 68,
   "id": "d6453022-f10e-449e-848a-dc0692d2fce0",
   "metadata": {},
   "outputs": [
    {
     "data": {
      "text/plain": [
       "array([  0,   5,   3,  14,  21,  22,   9,  17,  76,  82,  79,  78,  83,\n",
       "        84,  85,  77,  81,  80,  74,  86,  73,  72,  71,  70,  69,  68,\n",
       "        67,  66,  65,  64,  63,  75,  87,  91,  89, 113, 112, 111, 110,\n",
       "       109, 108, 107, 106, 105, 104, 103,  88, 102, 100,  99,  98,  97,\n",
       "        96,  95,  94,  93,  92,  62,  90, 101,  61,  57,  59,  35,  34,\n",
       "        60,  32,  31,  30,  29,  28,  27,  26,  25,  24,  23,  16,  15,\n",
       "         8,   7,   6,   4,  36,  37,  33,  39,  58, 114,  56,  55,  54,\n",
       "        53,  38,  52,  51,  50, 115,  48,  47,  46,  40,  45,  44,  49,\n",
       "        41,  43,  42,  13,  12,   2,  11,  18,  20,  19,   1,  10],\n",
       "      dtype=int64)"
      ]
     },
     "execution_count": 68,
     "metadata": {},
     "output_type": "execute_result"
    }
   ],
   "source": [
    "sorted_idxs = np.argsort(e_rounded_off)\n",
    "sorted_idxs"
   ]
  },
  {
   "cell_type": "code",
   "execution_count": 69,
   "id": "9873dd17-2938-4869-b641-ed4f2689830b",
   "metadata": {},
   "outputs": [
    {
     "data": {
      "image/png": "[encoded data removed]",
      "text/plain": [
       "<Figure size 576x432 with 1 Axes>"
      ]
     },
     "metadata": {
      "needs_background": "light"
     },
     "output_type": "display_data"
    }
   ],
   "source": [
    "# Using Fiedler vector (Obtained from eigenvalue)\n",
    "\n",
    "# Get smallest non-zero eigen value's index for obtaining partition to cluster\n",
    "fiedler_index = sorted_idxs[1]\n",
    "\n",
    "# The eigen vector for smallest non-zero eigen value i.e plotting the Fiedler vector\n",
    "plt.figure(figsize=(8,6))\n",
    "plt.scatter(np.arange(data_size), evecs[:,fiedler_index].tolist())\n",
    "plt.title(\"Eigen (Fiedler) vector plot\")\n",
    "plt.show()\n",
    "\n",
    "\n"
   ]
  },
  {
   "cell_type": "code",
   "execution_count": 77,
   "id": "66a88547-2817-4969-bff2-ddeb2bd092a2",
   "metadata": {},
   "outputs": [
    {
     "name": "stdout",
     "output_type": "stream",
     "text": [
      "[0. 0. 0. 1. 0. 0. 0. 0. 0. 0. 0. 0. 0. 0. 0. 0. 0. 0. 0. 0. 0. 0. 0. 0.\n",
      " 0. 0. 0. 0. 0. 0. 0. 0. 0. 0. 0. 0. 0. 0. 0. 0. 0. 0. 0. 0. 0. 0. 0. 0.\n",
      " 0. 0. 0. 0. 0. 0. 0. 0. 0. 0. 0. 0. 0. 0. 0. 0. 0. 0. 0. 0. 0. 0. 0. 0.\n",
      " 0. 0. 0. 0. 1. 0. 0. 0. 0. 0. 0. 0. 0. 0. 0. 0. 0. 0. 0. 0. 0. 0. 0. 0.\n",
      " 0. 0. 0. 0. 0. 0. 0. 0. 0. 0. 0. 0. 0. 0. 0. 0. 1. 0. 0. 0.]\n"
     ]
    },
    {
     "data": {
      "image/png": "[encoded data removed]",
      "text/plain": [
       "<Figure size 432x288 with 1 Axes>"
      ]
     },
     "metadata": {
      "needs_background": "light"
     },
     "output_type": "display_data"
    }
   ],
   "source": [
    "fiedler_vector = evecs[:,fiedler_index].copy()\n",
    "#print(fiedler_vector)\n",
    "\n",
    "# Thresholding the values in this eigen vector at 0\n",
    "fiedler_vector[fiedler_vector < 0.0] = 0\n",
    "fiedler_vector[fiedler_vector > 0.0] = 1\n",
    "new_labels = np.asarray(fiedler_vector)[:,0]\n",
    "print(new_labels)\n",
    "\n",
    "# Plot cluster result\n",
    "plt.scatter(feature_X[:,0], feature_X[:,1], c=new_labels.astype(float))\n",
    "plt.title(\"Clusters plot\")\n",
    "plt.show()"
   ]
  },
  {
   "cell_type": "code",
   "execution_count": 78,
   "id": "b473b39c-03af-4ac8-a02a-f003ca7b99c8",
   "metadata": {},
   "outputs": [
    {
     "name": "stdout",
     "output_type": "stream",
     "text": [
      "[0 0 0 0 0 0 0 0 0 0 0 0 0 0 0 0 0 0 0 0 0 0 0 0 0 0 0 0 0 0 0 0 0 0 0 0 0\n",
      " 0 0 0 0 0 0 0 0 0 0 0 0 0 0 0 0 0 0 0 0 0 0 0 0 0 0 0 0 0 0 0 0 0 0 0 0 0\n",
      " 0 0 0 1 0 0 0 0 0 0 0 0 0 0 1 0 0 0 0 0 0 0 0 0 0 0 0 0 0 0 0 0 0 0 0 0 0\n",
      " 0 0 0 0 0]\n"
     ]
    },
    {
     "data": {
      "image/png": "[encoded data removed]",
      "text/plain": [
       "<Figure size 432x288 with 1 Axes>"
      ]
     },
     "metadata": {
      "needs_background": "light"
     },
     "output_type": "display_data"
    }
   ],
   "source": [
    "# Using KMeans clustering (NOT VERY  ACCURATE)\n",
    "num_clusters = 2\n",
    "kmean_labels = KMeans(n_clusters=num_clusters).fit_predict(L_norm)\n",
    "print(kmean_labels)\n",
    "\n",
    "plt.scatter(feature_X[:,0], feature_X[:,1], c=kmean_labels.astype(float))\n",
    "plt.show()"
   ]
  },
  {
   "cell_type": "code",
   "execution_count": 72,
   "id": "9938d978-db6d-44fb-b1c6-6b60337290f2",
   "metadata": {},
   "outputs": [
    {
     "data": {
      "text/plain": [
       "(0.00523260738297789, 0.003796397747567685, 0.004400276352804102)"
      ]
     },
     "execution_count": 72,
     "metadata": {},
     "output_type": "execute_result"
    }
   ],
   "source": [
    "# Evaluation of clustering result of KMeans (true_labels, predicted_labels)\n",
    "y = kmean_labels \n",
    "homogeneity_score(y, new_labels), completeness_score(y, new_labels), v_measure_score(y, new_labels)"
   ]
  },
  {
   "cell_type": "code",
   "execution_count": 73,
   "id": "d4358ccc-788e-45c3-804d-b7de5792990d",
   "metadata": {},
   "outputs": [],
   "source": [
    "# Check if cluster_centers of different bitmaps can be used to compute support (AND operation)"
   ]
  },
  {
   "cell_type": "code",
   "execution_count": null,
   "id": "19281c82-0d0a-445b-9974-39e2e328343b",
   "metadata": {},
   "outputs": [],
   "source": []
  }
 ],
 "metadata": {
  "kernelspec": {
   "display_name": "Python 3 (ipykernel)",
   "language": "python",
   "name": "python3"
  },
  "language_info": {
   "codemirror_mode": {
    "name": "ipython",
    "version": 3
   },
   "file_extension": ".py",
   "mimetype": "text/x-python",
   "name": "python",
   "nbconvert_exporter": "python",
   "pygments_lexer": "ipython3",
   "version": "3.7.2"
  }
 },
 "nbformat": 4,
 "nbformat_minor": 5
}
