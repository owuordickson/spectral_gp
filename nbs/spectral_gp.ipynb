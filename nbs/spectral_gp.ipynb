{
 "cells": [
  {
   "cell_type": "markdown",
   "id": "2ce64c88",
   "metadata": {},
   "source": [
    "# Agenda\n",
    "Spectral clustering of GPs' bitmaps.\n",
    "\n"
   ]
  },
  {
   "cell_type": "code",
   "execution_count": 1,
   "id": "72bb0e00",
   "metadata": {},
   "outputs": [],
   "source": [
    "# Installing Libraries (if not installed)\n",
    "#!pip3 install jupyterlab-git\n",
    "#!pip3 install matplotlib\n",
    "#!pip3 install scikit-learn\n",
    "#!pip3 install seaborn\n",
    "#!pip3 install numpy\n",
    "#!pip3 install pandas\n",
    "#!pip3 install so4gp\n",
    "#!pip3 install scipy\n",
    "#!pip3 install sympy"
   ]
  },
  {
   "cell_type": "markdown",
   "id": "caa30d2f",
   "metadata": {},
   "source": [
    "# Import libraries <a name=\"lib-import\"></a>"
   ]
  },
  {
   "cell_type": "code",
   "execution_count": 2,
   "id": "2ef53478",
   "metadata": {},
   "outputs": [],
   "source": [
    "# Importing Libraries\n",
    "import pandas as pd\n",
    "import numpy as np\n",
    "from numpy.linalg import svd\n",
    "import matplotlib.pyplot as plt\n",
    "import seaborn as sns\n",
    "import networkx as nx\n",
    "import sympy\n",
    "import scipy\n",
    "\n",
    "\n",
    "from scipy.sparse import csgraph, csr_matrix\n",
    "from scipy.spatial.distance import pdist, squareform\n",
    "from sklearn.cluster import KMeans\n",
    "from sklearn.neighbors import kneighbors_graph\n",
    "from sklearn.metrics import homogeneity_score, completeness_score,v_measure_score\n",
    "from numpy import linalg as la"
   ]
  },
  {
   "cell_type": "code",
   "execution_count": 3,
   "id": "8159986a-afaf-4623-9fe1-98151b317497",
   "metadata": {},
   "outputs": [],
   "source": [
    "import so4gp as sgp"
   ]
  },
  {
   "cell_type": "markdown",
   "id": "3c1313c7-a9b5-4a5b-a1e0-09cc0402ac54",
   "metadata": {},
   "source": [
    "# Spectral Clustering\n",
    "\n",
    "Adopted from: [Towards data science](https://towardsdatascience.com/graph-laplacian-and-its-application-in-machine-learning-7d9aab021d16)\n",
    "\n",
    "## Data set\n",
    "Data set is the GP bitmaps (X0, X1, ..., Xn). Each attribute generates a GP bitmap."
   ]
  },
  {
   "cell_type": "code",
   "execution_count": 4,
   "id": "2b06dd40-f835-4134-9c25-6e84aec4c125",
   "metadata": {},
   "outputs": [],
   "source": [
    "#from sklearn.datasets import make_moons\n",
    "#features, y = make_moons(n_samples=10, noise=0.07, random_state=213)\n",
    "#features\n",
    "#y, features"
   ]
  },
  {
   "cell_type": "code",
   "execution_count": 5,
   "id": "6e01fe3c-0727-4474-ab13-170b58e76e26",
   "metadata": {},
   "outputs": [
    {
     "data": {
      "text/plain": [
       "array([[30.,  3.,  1., 10.,  2.,  4.],\n",
       "       [35.,  2.,  2.,  8.,  2.,  4.],\n",
       "       [40.,  4.,  2.,  7.,  2.,  4.],\n",
       "       [50.,  1.,  1.,  6.,  2.,  4.],\n",
       "       [52.,  7.,  1.,  2.,  2.,  4.]])"
      ]
     },
     "execution_count": 5,
     "metadata": {},
     "output_type": "execute_result"
    }
   ],
   "source": [
    "\n",
    "ds = sgp.DataGP('.\\data\\DATASET.csv')\n",
    "data_size = ds.row_count\n",
    "features = np.array(ds.data, dtype=np.float64)\n",
    "features"
   ]
  },
  {
   "cell_type": "code",
   "execution_count": 6,
   "id": "ff8be82a-3dc6-4de8-bde2-03289ee81fa8",
   "metadata": {},
   "outputs": [],
   "source": [
    "bm_matrix = []\n",
    "for i in ds.attr_cols:\n",
    "    bm = sgp.gibitmap(ds, i)\n",
    "    bm_matrix.append(bm)\n",
    "    \n",
    "bm_matrix = np.array(bm_matrix, dtype=int)"
   ]
  },
  {
   "cell_type": "code",
   "execution_count": 7,
   "id": "5735a42d-06da-4645-a1dd-9586d54f68c9",
   "metadata": {},
   "outputs": [
    {
     "data": {
      "text/plain": [
       "array([[0, 0, 0, 0, 0],\n",
       "       [1, 0, 0, 1, 1],\n",
       "       [1, 0, 0, 1, 1],\n",
       "       [0, 0, 0, 0, 0],\n",
       "       [0, 0, 0, 0, 0]])"
      ]
     },
     "execution_count": 7,
     "metadata": {},
     "output_type": "execute_result"
    }
   ],
   "source": [
    "#gp_map = so.get_bin_arr(ds, 0)\n",
    "X0 = sgp.gibitmap(ds, 0)\n",
    "X1 = sgp.gibitmap(ds, 1)\n",
    "X2 = sgp.gibitmap(ds, 2)\n",
    "X3 = sgp.gibitmap(ds, 3)\n",
    "X2"
   ]
  },
  {
   "cell_type": "markdown",
   "id": "6d384f8b-c811-4b9d-b457-4948c13c7f25",
   "metadata": {},
   "source": [
    "## Constructing K-nearest neighbors graph\n",
    "Based on connectivity (0 or 1)"
   ]
  },
  {
   "cell_type": "code",
   "execution_count": 8,
   "id": "4bd03f73-aaad-44a2-bb38-2a3780e5198e",
   "metadata": {},
   "outputs": [
    {
     "name": "stdout",
     "output_type": "stream",
     "text": [
      "[[30.  3.]\n",
      " [35.  2.]\n",
      " [40.  4.]\n",
      " [50.  1.]\n",
      " [52.  7.]]\n",
      "\n",
      "\n"
     ]
    },
    {
     "data": {
      "text/plain": [
       "matrix([[0., 1., 1., 1., 1.],\n",
       "        [1., 0., 1., 1., 1.],\n",
       "        [1., 1., 0., 1., 1.],\n",
       "        [1., 1., 1., 0., 1.],\n",
       "        [1., 1., 1., 1., 0.]])"
      ]
     },
     "execution_count": 8,
     "metadata": {},
     "output_type": "execute_result"
    }
   ],
   "source": [
    "# Constructing K-nearest neighbors graph\n",
    "X = features[:, 0:2] #X2\n",
    "n_neighbors = 4\n",
    "knn_dist_graph = kneighbors_graph(X=X,\n",
    "                                 n_neighbors=n_neighbors,\n",
    "                                 #mode='distance')\n",
    "                                 mode='connectivity')\n",
    "print(X)\n",
    "print(\"\\n\")\n",
    "knn_dist_graph.todense()#[0][:,:50]"
   ]
  },
  {
   "cell_type": "markdown",
   "id": "1a89f278-7ecb-4072-8008-fd055d949976",
   "metadata": {},
   "source": [
    "## Computing Similarity\n"
   ]
  },
  {
   "cell_type": "code",
   "execution_count": 9,
   "id": "5f3b35dd-2f1b-4290-861d-eeb302226ff6",
   "metadata": {},
   "outputs": [
    {
     "name": "stderr",
     "output_type": "stream",
     "text": [
      "C:\\Users\\dowuor\\AppData\\Local\\Programs\\Python\\Python37\\lib\\site-packages\\scipy\\sparse\\_index.py:125: SparseEfficiencyWarning: Changing the sparsity structure of a csr_matrix is expensive. lil_matrix is more efficient.\n",
      "  self._set_arrayXarray(i, j, x)\n"
     ]
    },
    {
     "data": {
      "text/plain": [
       "matrix([[0.        , 0.60653066, 0.60653066, 0.60653066, 0.60653066],\n",
       "        [0.60653066, 0.        , 0.60653066, 0.60653066, 0.60653066],\n",
       "        [0.60653066, 0.60653066, 0.        , 0.60653066, 0.60653066],\n",
       "        [0.60653066, 0.60653066, 0.60653066, 0.        , 0.60653066],\n",
       "        [0.60653066, 0.60653066, 0.60653066, 0.60653066, 0.        ]])"
      ]
     },
     "execution_count": 9,
     "metadata": {},
     "output_type": "execute_result"
    }
   ],
   "source": [
    "# Similarity graph\n",
    "\n",
    "sigma = 1\n",
    "similarity_graph = csr_matrix(knn_dist_graph.shape)\n",
    "nonzeroindices = knn_dist_graph.nonzero()\n",
    "similarity_graph[nonzeroindices] = np.exp( -np.asarray(knn_dist_graph[nonzeroindices])**2 / 2.0 * sigma**2)\n",
    "similarity_graph = 0.5 * (similarity_graph + similarity_graph.T)\n",
    "similarity_graph.todense()#[0][:,:5]"
   ]
  },
  {
   "cell_type": "markdown",
   "id": "3e2e2bf8-005f-4163-8be5-1402bfbfbafa",
   "metadata": {},
   "source": [
    "## Deriving Graph Laplacian representation\n",
    "L = D-W\n",
    "\n",
    "D: Degree matrix\n",
    "\n",
    "W: Similarity graph"
   ]
  },
  {
   "cell_type": "code",
   "execution_count": 10,
   "id": "d85136e6-805f-4c76-806b-ab9281b9c996",
   "metadata": {},
   "outputs": [
    {
     "data": {
      "text/plain": [
       "array([[2.42612264, 0.        , 0.        , 0.        , 0.        ],\n",
       "       [0.        , 2.42612264, 0.        , 0.        , 0.        ],\n",
       "       [0.        , 0.        , 2.42612264, 0.        , 0.        ],\n",
       "       [0.        , 0.        , 0.        , 2.42612264, 0.        ],\n",
       "       [0.        , 0.        , 0.        , 0.        , 2.42612264]])"
      ]
     },
     "execution_count": 10,
     "metadata": {},
     "output_type": "execute_result"
    }
   ],
   "source": [
    "# Degree Matrix\n",
    "\n",
    "W = similarity_graph\n",
    "D = W.sum(axis=1)\n",
    "D = np.diag(np.asarray(D).reshape(data_size,))\n",
    "D"
   ]
  },
  {
   "cell_type": "code",
   "execution_count": 11,
   "id": "6fef1d80-dfb2-4515-8188-2b79be3ef1c1",
   "metadata": {},
   "outputs": [
    {
     "data": {
      "text/plain": [
       "matrix([[ 2.42612264, -0.60653066, -0.60653066, -0.60653066, -0.60653066],\n",
       "        [-0.60653066,  2.42612264, -0.60653066, -0.60653066, -0.60653066],\n",
       "        [-0.60653066, -0.60653066,  2.42612264, -0.60653066, -0.60653066],\n",
       "        [-0.60653066, -0.60653066, -0.60653066,  2.42612264, -0.60653066],\n",
       "        [-0.60653066, -0.60653066, -0.60653066, -0.60653066,  2.42612264]])"
      ]
     },
     "execution_count": 11,
     "metadata": {},
     "output_type": "execute_result"
    }
   ],
   "source": [
    "# Laplacian Matrix\n",
    "L = D - W\n",
    "L"
   ]
  },
  {
   "cell_type": "code",
   "execution_count": 12,
   "id": "436a90d9-bde8-458c-980c-9912a8ff3eb3",
   "metadata": {},
   "outputs": [
    {
     "data": {
      "text/plain": [
       "array([[ 2.42612264, -0.60653066, -0.60653066, -0.60653066, -0.60653066],\n",
       "       [-0.60653066,  2.42612264, -0.60653066, -0.60653066, -0.60653066],\n",
       "       [-0.60653066, -0.60653066,  2.42612264, -0.60653066, -0.60653066],\n",
       "       [-0.60653066, -0.60653066, -0.60653066,  2.42612264, -0.60653066],\n",
       "       [-0.60653066, -0.60653066, -0.60653066, -0.60653066,  2.42612264]])"
      ]
     },
     "execution_count": 12,
     "metadata": {},
     "output_type": "execute_result"
    }
   ],
   "source": [
    "# Laplacian Matrix\n",
    "\n",
    "L = csgraph.laplacian(W, normed=False)\n",
    "L.toarray()"
   ]
  },
  {
   "cell_type": "code",
   "execution_count": 13,
   "id": "687f097e-051e-4432-975f-ba8ceb15c560",
   "metadata": {},
   "outputs": [
    {
     "data": {
      "text/plain": [
       "array([[ 1.  , -0.25, -0.25, -0.25, -0.25],\n",
       "       [-0.25,  1.  , -0.25, -0.25, -0.25],\n",
       "       [-0.25, -0.25,  1.  , -0.25, -0.25],\n",
       "       [-0.25, -0.25, -0.25,  1.  , -0.25],\n",
       "       [-0.25, -0.25, -0.25, -0.25,  1.  ]])"
      ]
     },
     "execution_count": 13,
     "metadata": {},
     "output_type": "execute_result"
    }
   ],
   "source": [
    "# Normalized Laplacian Matirx: \n",
    "\n",
    "L_norm = csgraph.laplacian(W, normed=True)\n",
    "L_norm.toarray()"
   ]
  },
  {
   "cell_type": "markdown",
   "id": "e55ac6a8-cad1-43f3-8828-aafeab9744a8",
   "metadata": {},
   "source": [
    "## Computing eigenvalues"
   ]
  },
  {
   "cell_type": "code",
   "execution_count": 14,
   "id": "03d671ae-ffed-4bd1-adc2-ad92608138b4",
   "metadata": {},
   "outputs": [
    {
     "data": {
      "text/plain": [
       "(array([1.25, 0.  , 1.25, 1.25, 1.25]),\n",
       " matrix([[ 0.89442719, -0.4472136 ,  0.        ,  0.        ,  0.        ],\n",
       "         [-0.2236068 , -0.4472136 ,  0.70710678, -0.24828177, -0.46829291],\n",
       "         [-0.2236068 , -0.4472136 , -0.47140452, -0.49656353, -0.18731716],\n",
       "         [-0.2236068 , -0.4472136 ,  0.23570226, -0.08276059,  0.84292723],\n",
       "         [-0.2236068 , -0.4472136 , -0.47140452,  0.82760589, -0.18731716]]))"
      ]
     },
     "execution_count": 14,
     "metadata": {},
     "output_type": "execute_result"
    }
   ],
   "source": [
    "# Finding eigen values and eigen vectors\n",
    "e, evecs = la.eig(L_norm.todense())\n",
    "e, evecs"
   ]
  },
  {
   "cell_type": "code",
   "execution_count": 15,
   "id": "fbb2afee-29b9-46c1-b239-a9cbc19e16b8",
   "metadata": {},
   "outputs": [
    {
     "data": {
      "text/plain": [
       "array([1.25, 0.  , 1.25, 1.25, 1.25])"
      ]
     },
     "execution_count": 15,
     "metadata": {},
     "output_type": "execute_result"
    }
   ],
   "source": [
    "# No. of eigen values equal to 0\n",
    "e_rounded_off = e.round(5)\n",
    "e_rounded_off[e_rounded_off == 0].shape\n",
    "e_rounded_off"
   ]
  },
  {
   "cell_type": "code",
   "execution_count": 16,
   "id": "a0f4b946-44f5-428b-8927-75d6ed384a68",
   "metadata": {},
   "outputs": [],
   "source": [
    "# No. of connected components\n",
    "#nx.number_connected_components(nx_graph)"
   ]
  },
  {
   "cell_type": "markdown",
   "id": "9346a60d-a93f-4ebc-b884-267c7d0b52fb",
   "metadata": {},
   "source": [
    "## Partitioning data points"
   ]
  },
  {
   "cell_type": "code",
   "execution_count": 17,
   "id": "d6453022-f10e-449e-848a-dc0692d2fce0",
   "metadata": {},
   "outputs": [
    {
     "data": {
      "text/plain": [
       "array([1, 0, 2, 3, 4], dtype=int64)"
      ]
     },
     "execution_count": 17,
     "metadata": {},
     "output_type": "execute_result"
    }
   ],
   "source": [
    "sorted_idxs = np.argsort(e_rounded_off)\n",
    "sorted_idxs"
   ]
  },
  {
   "cell_type": "code",
   "execution_count": 18,
   "id": "9873dd17-2938-4869-b641-ed4f2689830b",
   "metadata": {},
   "outputs": [
    {
     "data": {
      "image/png": "[encoded data removed]",
      "text/plain": [
       "<Figure size 576x432 with 1 Axes>"
      ]
     },
     "metadata": {
      "needs_background": "light"
     },
     "output_type": "display_data"
    }
   ],
   "source": [
    "# Using Fiedler vector (Obtained from eigenvalue)\n",
    "\n",
    "# Get smallest non-zero eigen value's index for obtaining partition to cluster\n",
    "fiedler_index = sorted_idxs[1]\n",
    "\n",
    "# The eigen vector for smallest non-zero eigen value i.e plotting the Fiedler vector\n",
    "plt.figure(figsize=(8,6))\n",
    "plt.scatter(np.arange(data_size), evecs[:,fiedler_index].tolist())\n",
    "plt.title(\"Eigen (Fiedler) vector plot\")\n",
    "plt.show()\n",
    "\n",
    "\n"
   ]
  },
  {
   "cell_type": "code",
   "execution_count": 19,
   "id": "66a88547-2817-4969-bff2-ddeb2bd092a2",
   "metadata": {},
   "outputs": [
    {
     "name": "stdout",
     "output_type": "stream",
     "text": [
      "[[ 0.89442719]\n",
      " [-0.2236068 ]\n",
      " [-0.2236068 ]\n",
      " [-0.2236068 ]\n",
      " [-0.2236068 ]]\n",
      "[1. 0. 0. 0. 0.]\n"
     ]
    },
    {
     "data": {
      "image/png": "[encoded data removed]",
      "text/plain": [
       "<Figure size 432x288 with 1 Axes>"
      ]
     },
     "metadata": {
      "needs_background": "light"
     },
     "output_type": "display_data"
    }
   ],
   "source": [
    "fiedler_vector = evecs[:,fiedler_index].copy()\n",
    "print(fiedler_vector)\n",
    "\n",
    "# Thresholding the values in this eigen vector at 0\n",
    "fiedler_vector[fiedler_vector < 0.0] = 0\n",
    "fiedler_vector[fiedler_vector > 0.0] = 1\n",
    "new_labels = np.asarray(fiedler_vector)[:,0]\n",
    "print(new_labels)\n",
    "\n",
    "# Plot cluster result\n",
    "plt.scatter(X[:,0], X[:,1], c=new_labels.astype(float))\n",
    "plt.title(\"Clusters plot\")\n",
    "plt.show()"
   ]
  },
  {
   "cell_type": "code",
   "execution_count": 20,
   "id": "b473b39c-03af-4ac8-a02a-f003ca7b99c8",
   "metadata": {},
   "outputs": [
    {
     "name": "stdout",
     "output_type": "stream",
     "text": [
      "[0 0 1 0 0]\n"
     ]
    },
    {
     "data": {
      "image/png": "[encoded data removed]",
      "text/plain": [
       "<Figure size 432x288 with 1 Axes>"
      ]
     },
     "metadata": {
      "needs_background": "light"
     },
     "output_type": "display_data"
    }
   ],
   "source": [
    "# Using KMeans clustering (NOT VERY  ACCURATE)\n",
    "num_clusters = 2\n",
    "kmean_labels = KMeans(n_clusters=num_clusters).fit_predict(L_norm)\n",
    "print(kmean_labels)\n",
    "\n",
    "plt.scatter(X[:,0], X[:,1], c=kmean_labels.astype(float))\n",
    "plt.show()"
   ]
  },
  {
   "cell_type": "code",
   "execution_count": 21,
   "id": "9938d978-db6d-44fb-b1c6-6b60337290f2",
   "metadata": {},
   "outputs": [
    {
     "data": {
      "text/plain": [
       "(0.10098733632389119, 0.10098733632389119, 0.10098733632389117)"
      ]
     },
     "execution_count": 21,
     "metadata": {},
     "output_type": "execute_result"
    }
   ],
   "source": [
    "# Evaluation of clustering result of KMeans (true_labels, predicted_labels)\n",
    "y = kmean_labels \n",
    "homogeneity_score(y, new_labels), completeness_score(y, new_labels), v_measure_score(y, new_labels)"
   ]
  },
  {
   "cell_type": "code",
   "execution_count": 22,
   "id": "d4358ccc-788e-45c3-804d-b7de5792990d",
   "metadata": {},
   "outputs": [],
   "source": [
    "# Check if cluster_centers of different bitmaps can be used to compute support (AND operation)"
   ]
  },
  {
   "cell_type": "code",
   "execution_count": null,
   "id": "19281c82-0d0a-445b-9974-39e2e328343b",
   "metadata": {},
   "outputs": [],
   "source": []
  }
 ],
 "metadata": {
  "kernelspec": {
   "display_name": "Python 3 (ipykernel)",
   "language": "python",
   "name": "python3"
  },
  "language_info": {
   "codemirror_mode": {
    "name": "ipython",
    "version": 3
   },
   "file_extension": ".py",
   "mimetype": "text/x-python",
   "name": "python",
   "nbconvert_exporter": "python",
   "pygments_lexer": "ipython3",
   "version": "3.7.2"
  }
 },
 "nbformat": 4,
 "nbformat_minor": 5
}
