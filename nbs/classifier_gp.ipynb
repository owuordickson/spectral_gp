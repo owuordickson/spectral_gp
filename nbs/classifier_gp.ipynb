{
 "cells": [
  {
   "cell_type": "markdown",
   "id": "2ce64c88",
   "metadata": {},
   "source": [
    "# Agenda\n",
    "Spectral clustering of GPs' bitmaps.\n",
    "\n"
   ]
  },
  {
   "cell_type": "code",
   "execution_count": 52,
   "id": "72bb0e00",
   "metadata": {},
   "outputs": [],
   "source": [
    "# Installing Libraries (if not installed)\n",
    "#!pip3 install jupyterlab-git\n",
    "#!pip3 install matplotlib\n",
    "#!pip3 install scikit-learn\n",
    "#!pip3 install seaborn\n",
    "#!pip3 install numpy\n",
    "#!pip3 install pandas\n",
    "#!pip3 install so4gp\n",
    "#!pip3 install scipy\n",
    "#!pip3 install sympy"
   ]
  },
  {
   "cell_type": "markdown",
   "id": "caa30d2f",
   "metadata": {},
   "source": [
    "# Import libraries <a name=\"lib-import\"></a>"
   ]
  },
  {
   "cell_type": "code",
   "execution_count": 53,
   "id": "2ef53478",
   "metadata": {},
   "outputs": [],
   "source": [
    "# Importing Libraries\n",
    "import pandas as pd\n",
    "import numpy as np\n",
    "from numpy.linalg import svd\n",
    "import matplotlib.pyplot as plt\n",
    "import seaborn as sns\n",
    "import networkx as nx\n",
    "import sympy\n",
    "import scipy\n",
    "import math\n",
    "\n",
    "\n",
    "from scipy.sparse import csgraph, csr_matrix\n",
    "from scipy.spatial.distance import pdist, squareform\n",
    "from sklearn.cluster import KMeans\n",
    "from sklearn.neighbors import KNeighborsClassifier\n",
    "from sklearn.neighbors import kneighbors_graph\n",
    "from sklearn.model_selection import train_test_split\n",
    "from sklearn.preprocessing import StandardScaler\n",
    "from sklearn.metrics import homogeneity_score, completeness_score,v_measure_score, confusion_matrix, accuracy_score\n",
    "from numpy import linalg as la"
   ]
  },
  {
   "cell_type": "code",
   "execution_count": 54,
   "id": "8159986a-afaf-4623-9fe1-98151b317497",
   "metadata": {},
   "outputs": [],
   "source": [
    "import so4gp as sgp"
   ]
  },
  {
   "cell_type": "markdown",
   "id": "3c1313c7-a9b5-4a5b-a1e0-09cc0402ac54",
   "metadata": {},
   "source": [
    "## Data set\n",
    "Retrieving data set and the features"
   ]
  },
  {
   "cell_type": "code",
   "execution_count": 55,
   "id": "6e01fe3c-0727-4474-ab13-170b58e76e26",
   "metadata": {},
   "outputs": [
    {
     "data": {
      "text/plain": [
       "array([[ 48.        ,  23.5       ,  70.        , ...,   7.99585   ,\n",
       "        417.114     ,   1.        ],\n",
       "       [ 83.        ,  20.69049454,  92.        , ...,   4.06405   ,\n",
       "        468.786     ,   1.        ],\n",
       "       [ 82.        ,  23.12467037,  91.        , ...,   9.27715   ,\n",
       "        554.697     ,   1.        ],\n",
       "       ...,\n",
       "       [ 65.        ,  32.05      ,  97.        , ...,  10.33      ,\n",
       "        314.05      ,   2.        ],\n",
       "       [ 72.        ,  25.59      ,  82.        , ...,   3.27      ,\n",
       "        392.46      ,   2.        ],\n",
       "       [ 86.        ,  27.18      , 138.        , ...,   4.35      ,\n",
       "         90.09      ,   2.        ]])"
      ]
     },
     "execution_count": 55,
     "metadata": {},
     "output_type": "execute_result"
    }
   ],
   "source": [
    "#ds = sgp.DataGP('./data/DATASET.csv')\n",
    "#ds = sgp.DataGP('./data/c2k_02k.csv')\n",
    "ds = sgp.DataGP('./data/breast_cancer.csv')\n",
    "\n",
    "\n",
    "data_size = ds.row_count\n",
    "features = np.array(ds.data, dtype=np.float64)\n",
    "features"
   ]
  },
  {
   "cell_type": "code",
   "execution_count": 56,
   "id": "d3874209-a95c-4880-9ab1-0ae352221a87",
   "metadata": {},
   "outputs": [
    {
     "data": {
      "text/plain": [
       "'{\"Algorithm\": \"GRAANK\", \"Patterns\": [[[\"Insulin+\", \"BMI+\"], 0.612], [[\"HOMA+\", \"BMI+\"], 0.614], [[\"Leptin+\", \"BMI+\"], 0.732], [[\"Insulin-\", \"BMI-\"], 0.612], [[\"BMI-\", \"HOMA-\"], 0.614], [[\"BMI-\", \"Leptin-\"], 0.732], [[\"Insulin+\", \"Glucose+\"], 0.637], [[\"HOMA+\", \"Glucose+\"], 0.697], [[\"Insulin-\", \"Glucose-\"], 0.637], [[\"Glucose-\", \"HOMA-\"], 0.697], [[\"Insulin+\", \"HOMA+\"], 0.94], [[\"Leptin+\", \"Insulin+\"], 0.659], [[\"Insulin-\", \"HOMA-\"], 0.94], [[\"Insulin-\", \"Leptin-\"], 0.659], [[\"Leptin+\", \"HOMA+\"], 0.659], [[\"Leptin-\", \"HOMA-\"], 0.659], [[\"MCP.1+\", \"Resistin+\"], 0.672], [[\"MCP.1-\", \"Resistin-\"], 0.672], [[\"Insulin+\", \"HOMA+\", \"Glucose+\"], 0.637], [[\"Insulin-\", \"Glucose-\", \"HOMA-\"], 0.637], [[\"Leptin+\", \"Insulin+\", \"HOMA+\"], 0.629], [[\"Insulin-\", \"Leptin-\", \"HOMA-\"], 0.629]]}'"
      ]
     },
     "execution_count": 56,
     "metadata": {},
     "output_type": "execute_result"
    }
   ],
   "source": [
    "sgp.graank('./data/breast_cancer.csv', min_sup=0.6)"
   ]
  },
  {
   "cell_type": "code",
   "execution_count": 57,
   "id": "95e0ba5b-67cb-4499-bada-99cf62e6ec2a",
   "metadata": {},
   "outputs": [
    {
     "data": {
      "text/plain": [
       "array([[ 2.707     ,  0.46740867],\n",
       "       [ 3.115     ,  0.70689733],\n",
       "       [ 4.498     ,  1.00965107],\n",
       "       [ 3.226     ,  0.61272493],\n",
       "       [ 3.549     ,  0.8053864 ],\n",
       "       [ 3.226     ,  0.73208693],\n",
       "       [ 4.69      ,  0.89078733],\n",
       "       [ 6.47      ,  1.88320133],\n",
       "       [ 3.35      ,  0.80154333],\n",
       "       [ 4.952     ,  1.01383947],\n",
       "       [ 3.469     ,  0.6674356 ],\n",
       "       [ 5.663     ,  1.14543613],\n",
       "       [ 4.09      ,  0.82727067],\n",
       "       [ 6.107     ,  1.33      ],\n",
       "       [ 5.782     ,  1.06967   ],\n",
       "       [ 7.553     ,  1.6       ],\n",
       "       [ 2.869     ,  0.59      ],\n",
       "       [18.077     ,  3.79014433],\n",
       "       [ 4.427     ,  1.03739367],\n",
       "       [14.026     ,  3.0099796 ],\n",
       "       [ 4.345     ,  0.92171933],\n",
       "       [ 4.53      ,  0.972138  ],\n",
       "       [ 5.81      ,  1.203832  ],\n",
       "       [ 4.376     ,  0.9067072 ],\n",
       "       [ 5.537     ,  1.229214  ],\n",
       "       [ 6.76      ,  1.38399733],\n",
       "       [ 6.703     ,  1.75261107],\n",
       "       [ 9.245     ,  2.05239   ],\n",
       "       [ 6.817     ,  1.513374  ],\n",
       "       [ 6.59      ,  1.30042667],\n",
       "       [15.533     ,  3.86978807],\n",
       "       [10.175     ,  2.53493167],\n",
       "       [ 8.576     ,  1.8404096 ],\n",
       "       [23.194     ,  5.09185613],\n",
       "       [ 3.855     ,  0.732193  ],\n",
       "       [ 5.819     ,  1.13392913],\n",
       "       [ 4.181     ,  0.84567693],\n",
       "       [ 5.646     ,  1.4066068 ],\n",
       "       [ 5.138     ,  1.30539453],\n",
       "       [ 3.881     ,  0.72755813],\n",
       "       [ 5.376     ,  1.1006464 ],\n",
       "       [14.07      ,  3.262364  ],\n",
       "       [ 5.197     ,  1.08963767],\n",
       "       [ 5.43      ,  1.245642  ],\n",
       "       [ 8.34      ,  2.098344  ],\n",
       "       [ 6.042     ,  1.341324  ],\n",
       "       [ 8.079     ,  1.8732508 ],\n",
       "       [ 3.508     ,  0.519184  ],\n",
       "       [10.704     ,  2.3498848 ],\n",
       "       [ 4.462     ,  1.0566016 ],\n",
       "       [26.211     ,  7.111918  ],\n",
       "       [ 4.58      ,  0.96027333],\n",
       "       [13.852     ,  3.4851632 ],\n",
       "       [ 4.56      ,  0.832352  ],\n",
       "       [12.305     ,  2.85311933],\n",
       "       [21.699     ,  4.9242264 ],\n",
       "       [ 2.999     ,  0.6879706 ],\n",
       "       [ 6.2       ,  1.55992   ],\n",
       "       [ 4.364     ,  1.0011016 ],\n",
       "       [ 3.482     ,  0.79018187],\n",
       "       [ 5.261     ,  1.23282767],\n",
       "       [ 6.683     ,  1.84629013],\n",
       "       [ 2.64      ,  0.507936  ],\n",
       "       [ 2.74      ,  0.69614267],\n",
       "       [ 6.862     ,  1.65877413],\n",
       "       [ 4.902     ,  1.4026256 ],\n",
       "       [ 3.73      ,  0.79125733],\n",
       "       [ 5.7       ,  1.37788   ],\n",
       "       [ 3.42      ,  0.742368  ],\n",
       "       [15.89      ,  4.468268  ],\n",
       "       [ 3.44      ,  0.78065067],\n",
       "       [58.46      , 15.28534133],\n",
       "       [ 6.03      ,  1.56177   ],\n",
       "       [ 4.42      ,  1.14478   ],\n",
       "       [36.94      ,  7.83620533],\n",
       "       [10.555     ,  2.62960233],\n",
       "       [16.635     ,  3.775036  ],\n",
       "       [ 4.328     ,  1.09960053],\n",
       "       [41.611     , 20.6307338 ],\n",
       "       [22.033     ,  5.27176247],\n",
       "       [ 3.188     ,  0.60550747],\n",
       "       [ 9.669     ,  2.38502   ],\n",
       "       [28.677     ,  7.0029234 ],\n",
       "       [10.395     ,  2.871792  ],\n",
       "       [ 4.172     ,  1.00851147],\n",
       "       [14.649     ,  3.071407  ],\n",
       "       [ 2.54      ,  0.56388   ],\n",
       "       [51.814     , 25.05034187],\n",
       "       [12.162     ,  5.9699204 ],\n",
       "       [16.582     ,  5.68541507],\n",
       "       [41.894     , 13.22733227],\n",
       "       [18.077     ,  4.45899333],\n",
       "       [30.212     ,  6.4834952 ],\n",
       "       [24.887     ,  8.22598307],\n",
       "       [30.13      ,  9.73600733],\n",
       "       [ 8.396     ,  1.44970933],\n",
       "       [ 9.208     ,  2.2485936 ],\n",
       "       [ 2.432     ,  0.61789013],\n",
       "       [18.2       ,  4.66890667],\n",
       "       [ 8.808     ,  2.3464512 ],\n",
       "       [ 3.012     ,  0.6538048 ],\n",
       "       [ 6.524     ,  1.43223547],\n",
       "       [10.491     ,  2.5101466 ],\n",
       "       [10.949     ,  2.24162527],\n",
       "       [12.548     ,  2.94041467],\n",
       "       [ 5.636     ,  1.86288587],\n",
       "       [ 4.713     ,  1.046286  ],\n",
       "       [ 5.75      ,  1.30486667],\n",
       "       [ 8.15      ,  2.63353667],\n",
       "       [ 7.01      ,  2.62828267],\n",
       "       [11.91      ,  3.495982  ],\n",
       "       [ 3.33      ,  0.755688  ],\n",
       "       [ 4.53      ,  1.1174    ],\n",
       "       [ 5.73      ,  1.370998  ],\n",
       "       [ 2.82      ,  0.570392  ],\n",
       "       [19.91      ,  6.777364  ]])"
      ]
     },
     "execution_count": 57,
     "metadata": {},
     "output_type": "execute_result"
    }
   ],
   "source": [
    "feature_X = features[:, [3,4]]\n",
    "feature_X"
   ]
  },
  {
   "cell_type": "markdown",
   "id": "fa870f0f-2b14-4721-8e14-c32724d962cb",
   "metadata": {},
   "source": [
    "## Train similirity labels\n",
    "\n",
    "### a. Retrieving training data set (X, y)"
   ]
  },
  {
   "cell_type": "code",
   "execution_count": 58,
   "id": "c27c3814-03b1-4b0a-ba0b-d55491049c26",
   "metadata": {},
   "outputs": [],
   "source": [
    "def compute_nz(row, i):\n",
    "    #print(row[i:])\n",
    "    nz = np.nonzero(row)\n",
    "    for k in range(nz[0].size):\n",
    "        if nz[0].size > 0:\n",
    "            j = nz[0][k]\n",
    "            if j > i:\n",
    "                return j\n",
    "    return 0"
   ]
  },
  {
   "cell_type": "code",
   "execution_count": 59,
   "id": "b8feda9d-9082-46ec-9cff-a53082f9d886",
   "metadata": {},
   "outputs": [
    {
     "name": "stdout",
     "output_type": "stream",
     "text": [
      "0, 1\n",
      "1, 2\n",
      "2, 3\n",
      "3, 4\n",
      "4, 5\n",
      "5, 6\n",
      "6, 7\n",
      "7, 8\n",
      "8, 9\n",
      "9, 10\n",
      "10, 11\n",
      "11, 12\n",
      "12, 13\n",
      "13, 14\n",
      "14, 15\n",
      "15, 16\n",
      "16, 17\n",
      "17, 18\n",
      "18, 19\n",
      "19, 20\n",
      "20, 21\n",
      "21, 22\n",
      "22, 23\n",
      "23, 24\n",
      "24, 25\n",
      "25, 26\n",
      "26, 27\n",
      "27, 28\n",
      "28, 29\n",
      "29, 30\n",
      "30, 31\n",
      "31, 32\n",
      "32, 33\n",
      "33, 34\n",
      "34, 35\n",
      "35, 36\n",
      "36, 37\n",
      "37, 38\n",
      "38, 39\n",
      "39, 40\n",
      "40, 41\n",
      "41, 42\n",
      "42, 43\n",
      "43, 44\n",
      "44, 45\n",
      "45, 46\n",
      "46, 47\n",
      "47, 48\n",
      "48, 49\n",
      "49, 50\n",
      "50, 51\n",
      "51, 52\n",
      "52, 53\n",
      "53, 54\n",
      "54, 55\n",
      "55, 56\n",
      "56, 57\n",
      "57, 58\n",
      "58, 59\n",
      "59, 60\n",
      "60, 61\n",
      "61, 62\n",
      "62, 63\n",
      "63, 64\n",
      "64, 65\n",
      "65, 66\n",
      "66, 67\n",
      "67, 68\n",
      "68, 69\n",
      "69, 70\n",
      "70, 71\n",
      "71, 72\n",
      "72, 73\n",
      "73, 74\n",
      "74, 75\n",
      "75, 76\n",
      "76, 77\n",
      "77, 78\n",
      "78, 79\n",
      "79, 80\n",
      "80, 81\n",
      "81, 82\n",
      "82, 83\n",
      "83, 84\n",
      "84, 85\n",
      "85, 86\n",
      "86, 87\n",
      "87, 88\n",
      "88, 89\n",
      "89, 90\n",
      "90, 91\n",
      "91, 92\n",
      "92, 93\n",
      "93, 94\n",
      "94, 95\n",
      "95, 96\n",
      "96, 97\n",
      "97, 98\n",
      "98, 99\n",
      "99, 100\n",
      "100, 101\n",
      "101, 102\n",
      "102, 103\n",
      "103, 104\n",
      "104, 105\n",
      "105, 106\n",
      "106, 107\n",
      "107, 108\n",
      "108, 109\n",
      "109, 110\n",
      "110, 111\n",
      "111, 112\n",
      "112, 113\n",
      "113, 114\n",
      "114, 115\n"
     ]
    },
    {
     "data": {
      "text/plain": [
       "array([[0., 1., 1., ..., 1., 1., 1.],\n",
       "       [1., 0., 1., ..., 1., 1., 1.],\n",
       "       [1., 1., 0., ..., 1., 1., 1.],\n",
       "       ...,\n",
       "       [1., 1., 1., ..., 0., 1., 1.],\n",
       "       [1., 1., 1., ..., 1., 0., 1.],\n",
       "       [1., 1., 1., ..., 1., 1., 0.]])"
      ]
     },
     "execution_count": 59,
     "metadata": {},
     "output_type": "execute_result"
    }
   ],
   "source": [
    "# X (2 features at a time)\n",
    "X = np.zeros((data_size, data_size))\n",
    "y  = np.zeros((data_size,))\n",
    "\n",
    "for i in range(data_size):\n",
    "    for j in range(data_size):\n",
    "        if (feature_X[i][0] == feature_X[j][0]) or (feature_X[i][1] == feature_X[j][1]):\n",
    "            pass\n",
    "        elif (feature_X[i][0] > feature_X[j][0]) and (feature_X[i][1] > feature_X[j][1]):\n",
    "            X[i][j] = 1\n",
    "            X[j][i] = 1\n",
    "        elif (feature_X[i][0] > feature_X[j][0]) and (feature_X[i][1] < feature_X[j][1]):\n",
    "            X[i][j] = 2 #-1\n",
    "            X[j][i] = 2 #-1\n",
    "\n",
    "cols = np.arange(data_size)\n",
    "rows = np.arange(data_size)\n",
    "# print (rows)\n",
    "for i in cols:\n",
    "    #u_count = np.unique(X[i], return_index=True, return_counts=True)\n",
    "    #print(u_count)\n",
    "    #i_max = u_count[2].argmax()\n",
    "    #y[i] = u_count[0][i_max] \n",
    "    \n",
    "    # (i, j)\n",
    "    # Column i, Row j\n",
    "    conns = X[i]\n",
    "    j = compute_nz(conns,i)\n",
    "    if j > 0:\n",
    "        #y[i] = X[i][j]\n",
    "        if (y[i] == 0) or (y[i] == X[i][j]):\n",
    "            y[i] = X[i][j]\n",
    "        y[j] = X[i][j]\n",
    "        print(str(i) + ', ' + str(j))\n",
    "    #else:  # To be ignored\n",
    "    #    print(str(i) + ', NaN')\n",
    "    #    pass\n",
    "\n",
    "X"
   ]
  },
  {
   "cell_type": "code",
   "execution_count": 60,
   "id": "04ffba06-b77a-456d-b6a3-cf14af0b695b",
   "metadata": {},
   "outputs": [
    {
     "name": "stdout",
     "output_type": "stream",
     "text": [
      "[1. 1. 1. 1. 1. 1. 1. 1. 1. 1. 1. 1. 1. 1. 1. 1. 1. 1. 1. 1. 1. 1. 1. 1.\n",
      " 1. 1. 2. 1. 1. 1. 1. 1. 1. 1. 1. 1. 1. 1. 1. 1. 1. 1. 1. 1. 1. 1. 1. 1.\n",
      " 1. 1. 1. 1. 1. 1. 1. 1. 1. 1. 1. 1. 1. 1. 1. 1. 1. 1. 1. 1. 1. 1. 1. 1.\n",
      " 1. 1. 1. 1. 1. 1. 1. 1. 1. 1. 1. 1. 1. 1. 1. 1. 1. 2. 1. 1. 1. 2. 1. 1.\n",
      " 1. 1. 1. 1. 1. 1. 1. 2. 1. 1. 1. 1. 1. 1. 1. 1. 1. 1. 1. 1.]\n",
      "[[ 2.707       0.46740867]\n",
      " [ 3.115       0.70689733]\n",
      " [ 4.498       1.00965107]\n",
      " [ 3.226       0.61272493]\n",
      " [ 3.549       0.8053864 ]\n",
      " [ 3.226       0.73208693]\n",
      " [ 4.69        0.89078733]\n",
      " [ 6.47        1.88320133]\n",
      " [ 3.35        0.80154333]\n",
      " [ 4.952       1.01383947]\n",
      " [ 3.469       0.6674356 ]\n",
      " [ 5.663       1.14543613]\n",
      " [ 4.09        0.82727067]\n",
      " [ 6.107       1.33      ]\n",
      " [ 5.782       1.06967   ]\n",
      " [ 7.553       1.6       ]\n",
      " [ 2.869       0.59      ]\n",
      " [18.077       3.79014433]\n",
      " [ 4.427       1.03739367]\n",
      " [14.026       3.0099796 ]\n",
      " [ 4.345       0.92171933]\n",
      " [ 4.53        0.972138  ]\n",
      " [ 5.81        1.203832  ]\n",
      " [ 4.376       0.9067072 ]\n",
      " [ 5.537       1.229214  ]\n",
      " [ 6.76        1.38399733]\n",
      " [ 6.703       1.75261107]\n",
      " [ 9.245       2.05239   ]\n",
      " [ 6.817       1.513374  ]\n",
      " [ 6.59        1.30042667]\n",
      " [15.533       3.86978807]\n",
      " [10.175       2.53493167]\n",
      " [ 8.576       1.8404096 ]\n",
      " [23.194       5.09185613]\n",
      " [ 3.855       0.732193  ]\n",
      " [ 5.819       1.13392913]\n",
      " [ 4.181       0.84567693]\n",
      " [ 5.646       1.4066068 ]\n",
      " [ 5.138       1.30539453]\n",
      " [ 3.881       0.72755813]\n",
      " [ 5.376       1.1006464 ]\n",
      " [14.07        3.262364  ]\n",
      " [ 5.197       1.08963767]\n",
      " [ 5.43        1.245642  ]\n",
      " [ 8.34        2.098344  ]\n",
      " [ 6.042       1.341324  ]\n",
      " [ 8.079       1.8732508 ]\n",
      " [ 3.508       0.519184  ]\n",
      " [10.704       2.3498848 ]\n",
      " [ 4.462       1.0566016 ]\n",
      " [26.211       7.111918  ]\n",
      " [ 4.58        0.96027333]\n",
      " [13.852       3.4851632 ]\n",
      " [ 4.56        0.832352  ]\n",
      " [12.305       2.85311933]\n",
      " [21.699       4.9242264 ]\n",
      " [ 2.999       0.6879706 ]\n",
      " [ 6.2         1.55992   ]\n",
      " [ 4.364       1.0011016 ]\n",
      " [ 3.482       0.79018187]\n",
      " [ 5.261       1.23282767]\n",
      " [ 6.683       1.84629013]\n",
      " [ 2.64        0.507936  ]\n",
      " [ 2.74        0.69614267]\n",
      " [ 6.862       1.65877413]\n",
      " [ 4.902       1.4026256 ]\n",
      " [ 3.73        0.79125733]\n",
      " [ 5.7         1.37788   ]\n",
      " [ 3.42        0.742368  ]\n",
      " [15.89        4.468268  ]\n",
      " [ 3.44        0.78065067]\n",
      " [58.46       15.28534133]\n",
      " [ 6.03        1.56177   ]\n",
      " [ 4.42        1.14478   ]\n",
      " [36.94        7.83620533]\n",
      " [10.555       2.62960233]\n",
      " [16.635       3.775036  ]\n",
      " [ 4.328       1.09960053]\n",
      " [41.611      20.6307338 ]\n",
      " [22.033       5.27176247]\n",
      " [ 3.188       0.60550747]\n",
      " [ 9.669       2.38502   ]\n",
      " [28.677       7.0029234 ]\n",
      " [10.395       2.871792  ]\n",
      " [ 4.172       1.00851147]\n",
      " [14.649       3.071407  ]\n",
      " [ 2.54        0.56388   ]\n",
      " [51.814      25.05034187]\n",
      " [12.162       5.9699204 ]\n",
      " [16.582       5.68541507]\n",
      " [41.894      13.22733227]\n",
      " [18.077       4.45899333]\n",
      " [30.212       6.4834952 ]\n",
      " [24.887       8.22598307]\n",
      " [30.13        9.73600733]\n",
      " [ 8.396       1.44970933]\n",
      " [ 9.208       2.2485936 ]\n",
      " [ 2.432       0.61789013]\n",
      " [18.2         4.66890667]\n",
      " [ 8.808       2.3464512 ]\n",
      " [ 3.012       0.6538048 ]\n",
      " [ 6.524       1.43223547]\n",
      " [10.491       2.5101466 ]\n",
      " [10.949       2.24162527]\n",
      " [12.548       2.94041467]\n",
      " [ 5.636       1.86288587]\n",
      " [ 4.713       1.046286  ]\n",
      " [ 5.75        1.30486667]\n",
      " [ 8.15        2.63353667]\n",
      " [ 7.01        2.62828267]\n",
      " [11.91        3.495982  ]\n",
      " [ 3.33        0.755688  ]\n",
      " [ 4.53        1.1174    ]\n",
      " [ 5.73        1.370998  ]\n",
      " [ 2.82        0.570392  ]\n",
      " [19.91        6.777364  ]]\n"
     ]
    }
   ],
   "source": [
    "#y  = np.array([2,2,2,2,2], dtype=int)\n",
    "print(y)\n",
    "print(feature_X)"
   ]
  },
  {
   "cell_type": "markdown",
   "id": "8e7ef33a-a797-4653-b7c6-cb16df59bdea",
   "metadata": {},
   "source": [
    "### b. Constructing KNN Classifier\n",
    "\n",
    "Using supervised learning\n",
    "\n",
    "Adopted from [Analyticsvidhya](https://www.analyticsvidhya.com/blog/2021/01/a-quick-introduction-to-k-nearest-neighbor-knn-classification-using-python/)"
   ]
  },
  {
   "cell_type": "code",
   "execution_count": 61,
   "id": "8f962585-e667-434a-a9b6-0bf4701d3be3",
   "metadata": {},
   "outputs": [],
   "source": [
    "# Splitting the dataset into the Training set (0.5 of data set sample) and Test set (0.5 of sample size)\n",
    "X_train, X_test, y_train, y_test = train_test_split(X, y, test_size = 0.5, random_state = 0)\n",
    "#X_train, X_test, y_train, y_test = train_test_split(feature_X, y, test_size = 0.50, random_state = 0)\n"
   ]
  },
  {
   "cell_type": "code",
   "execution_count": 62,
   "id": "210c715b-207b-4fd1-b433-90ac4ac2abc5",
   "metadata": {},
   "outputs": [],
   "source": [
    "# Feature Scaling (if you have large values otherwise skip)\n",
    "\n",
    "#sc = StandardScaler()\n",
    "#X_train = sc.fit_transform(X_train)\n",
    "#X_test = sc.transform(X_test)"
   ]
  },
  {
   "cell_type": "code",
   "execution_count": 63,
   "id": "53a02db4-da41-46bb-b171-2f2545df4c12",
   "metadata": {},
   "outputs": [
    {
     "data": {
      "text/plain": [
       "KNeighborsClassifier(n_neighbors=10)"
      ]
     },
     "execution_count": 63,
     "metadata": {},
     "output_type": "execute_result"
    }
   ],
   "source": [
    "# Training the K-NN model on the Training set\n",
    "n = int(math.sqrt(data_size))\n",
    "classifier = KNeighborsClassifier(n_neighbors = n, metric = 'minkowski', p = 2)  # default parameters\n",
    "classifier.fit(X_train, y_train)\n"
   ]
  },
  {
   "cell_type": "code",
   "execution_count": 64,
   "id": "134f532c-6805-45a4-932b-027bc2dadc80",
   "metadata": {},
   "outputs": [
    {
     "data": {
      "text/plain": [
       "array([1., 1., 1., 1., 1., 1., 1., 1., 1., 1., 1., 1., 1., 1., 1., 1., 1.,\n",
       "       1., 1., 1., 1., 1., 1., 1., 1., 1., 1., 1., 1., 1., 1., 1., 1., 1.,\n",
       "       1., 1., 1., 1., 1., 1., 1., 1., 1., 1., 1., 1., 1., 1., 1., 1., 1.,\n",
       "       1., 1., 1., 1., 1., 1., 1.])"
      ]
     },
     "execution_count": 64,
     "metadata": {},
     "output_type": "execute_result"
    }
   ],
   "source": [
    "# Predicting the Test set results\n",
    "y_pred = classifier.predict(X_test)\n",
    "y_pred"
   ]
  },
  {
   "cell_type": "code",
   "execution_count": 65,
   "id": "1fbb106e-a22c-4236-a3ee-693267b29179",
   "metadata": {},
   "outputs": [
    {
     "data": {
      "text/plain": [
       "(array([[56,  0],\n",
       "        [ 2,  0]], dtype=int64),\n",
       " 0.9655172413793104)"
      ]
     },
     "execution_count": 65,
     "metadata": {},
     "output_type": "execute_result"
    }
   ],
   "source": [
    "# Making the Confusion Matrix\n",
    "confusion_matrix(y_test, y_pred), accuracy_score(y_test, y_pred)"
   ]
  },
  {
   "cell_type": "markdown",
   "id": "8af3e587-078d-49b8-9bff-3034782c0757",
   "metadata": {},
   "source": [
    "## Proposed Approach\n",
    "1. We will have to decompose superset GPs into their individual 2x2 subsets and compute their supports through clustering. \n",
    "\n",
    "2. Then, we apply antimonotonicity principle to infer the support of the superset."
   ]
  },
  {
   "cell_type": "markdown",
   "id": "1416e081-0aae-4893-9e45-89760e7affb9",
   "metadata": {},
   "source": [
    "## a. KMeans Clustering\n",
    "Produces labels that are not very accurate in partitioning data points."
   ]
  },
  {
   "cell_type": "code",
   "execution_count": 66,
   "id": "57d5f6b7-1c3c-4771-acf4-1bb50d13eed1",
   "metadata": {},
   "outputs": [
    {
     "name": "stdout",
     "output_type": "stream",
     "text": [
      "(array([1.]), array([116], dtype=int64))\n",
      "[1. 1. 1. 1. 1. 1. 1. 1. 1. 1. 1. 1. 1. 1. 1. 1. 1. 1. 1. 1. 1. 1. 1. 1.\n",
      " 1. 1. 1. 1. 1. 1. 1. 1. 1. 1. 1. 1. 1. 1. 1. 1. 1. 1. 1. 1. 1. 1. 1. 1.\n",
      " 1. 1. 1. 1. 1. 1. 1. 1. 1. 1. 1. 1. 1. 1. 1. 1. 1. 1. 1. 1. 1. 1. 1. 1.\n",
      " 1. 1. 1. 1. 1. 1. 1. 1. 1. 1. 1. 1. 1. 1. 1. 1. 1. 1. 1. 1. 1. 1. 1. 1.\n",
      " 1. 1. 1. 1. 1. 1. 1. 1. 1. 1. 1. 1. 1. 1. 1. 1. 1. 1. 1. 1.]\n"
     ]
    },
    {
     "data": {
      "image/png": "[encoded data removed]",
      "text/plain": [
       "<Figure size 432x288 with 1 Axes>"
      ]
     },
     "metadata": {
      "needs_background": "light"
     },
     "output_type": "display_data"
    }
   ],
   "source": [
    "# Training\n",
    "# Using KMeans clustering (NOT VERY  ACCURATE)\n",
    "#num_clusters = 3\n",
    "#kmean_labels = KMeans(n_clusters=num_clusters).fit_predict(X)\n",
    "kmean_labels = classifier.predict(X)\n",
    "#kmean_labels = classifier.predict(feature_X)\n",
    "print(np.unique(kmean_labels, return_counts=True))\n",
    "print(kmean_labels)\n",
    "\n",
    "plt.scatter(feature_X[:,0], feature_X[:,1], c=kmean_labels)\n",
    "#plt.scatter(feature_X[:,0], feature_X[:,1], c=y )\n",
    "\n",
    "plt.show()"
   ]
  },
  {
   "cell_type": "code",
   "execution_count": 67,
   "id": "e47dc58d-bdae-4963-9b85-55639d7066bb",
   "metadata": {},
   "outputs": [
    {
     "data": {
      "text/plain": [
       "(0.0,\n",
       " 1.0,\n",
       " 0.0,\n",
       " 0.9655172413793104,\n",
       " array([[112,   0],\n",
       "        [  4,   0]], dtype=int64))"
      ]
     },
     "execution_count": 67,
     "metadata": {},
     "output_type": "execute_result"
    }
   ],
   "source": [
    "# Evaluation of clustering result of KMeans (true_labels, predicted_labels)\n",
    "homogeneity_score(y, kmean_labels), completeness_score(y, kmean_labels), v_measure_score(y, kmean_labels), accuracy_score(y, kmean_labels), confusion_matrix(y, kmean_labels)"
   ]
  },
  {
   "cell_type": "code",
   "execution_count": null,
   "id": "21dc14fd-9d05-4c0c-9f56-12807758495e",
   "metadata": {},
   "outputs": [],
   "source": []
  }
 ],
 "metadata": {
  "kernelspec": {
   "display_name": "Python 3 (ipykernel)",
   "language": "python",
   "name": "python3"
  },
  "language_info": {
   "codemirror_mode": {
    "name": "ipython",
    "version": 3
   },
   "file_extension": ".py",
   "mimetype": "text/x-python",
   "name": "python",
   "nbconvert_exporter": "python",
   "pygments_lexer": "ipython3",
   "version": "3.7.2"
  }
 },
 "nbformat": 4,
 "nbformat_minor": 5
}
