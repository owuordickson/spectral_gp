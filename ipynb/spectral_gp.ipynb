{
 "cells": [
  {
   "cell_type": "markdown",
   "id": "2ce64c88",
   "metadata": {},
   "source": [
    "# Agenda\n",
    "Spectral clustering of GPs' bitmaps.\n",
    "\n"
   ]
  },
  {
   "cell_type": "code",
   "execution_count": 1,
   "id": "72bb0e00",
   "metadata": {},
   "outputs": [],
   "source": [
    "# Installing Libraries (if not installed)\n",
    "#!pip3 install jupyterlab-git\n",
    "#!pip3 install matplotlib\n",
    "#!pip3 install scikit-learn\n",
    "#!pip3 install seaborn\n",
    "#!pip3 install numpy\n",
    "#!pip3 install pandas\n",
    "#!pip3 install so4gp\n",
    "#!pip3 install scipy\n",
    "#!pip3 install sympy"
   ]
  },
  {
   "cell_type": "markdown",
   "id": "caa30d2f",
   "metadata": {},
   "source": [
    "# Import libraries <a name=\"lib-import\"></a>"
   ]
  },
  {
   "cell_type": "code",
   "execution_count": 4,
   "id": "2ef53478",
   "metadata": {},
   "outputs": [
    {
     "ename": "ModuleNotFoundError",
     "evalue": "No module named 'networkx'",
     "output_type": "error",
     "traceback": [
      "\u001b[0;31m---------------------------------------------------------------------------\u001b[0m",
      "\u001b[0;31mModuleNotFoundError\u001b[0m                       Traceback (most recent call last)",
      "Input \u001b[0;32mIn [4]\u001b[0m, in \u001b[0;36m<module>\u001b[0;34m\u001b[0m\n\u001b[1;32m      5\u001b[0m \u001b[38;5;28;01mimport\u001b[39;00m \u001b[38;5;21;01mmatplotlib\u001b[39;00m\u001b[38;5;21;01m.\u001b[39;00m\u001b[38;5;21;01mpyplot\u001b[39;00m \u001b[38;5;28;01mas\u001b[39;00m \u001b[38;5;21;01mplt\u001b[39;00m\n\u001b[1;32m      6\u001b[0m \u001b[38;5;28;01mimport\u001b[39;00m \u001b[38;5;21;01mseaborn\u001b[39;00m \u001b[38;5;28;01mas\u001b[39;00m \u001b[38;5;21;01msns\u001b[39;00m\n\u001b[0;32m----> 7\u001b[0m \u001b[38;5;28;01mimport\u001b[39;00m \u001b[38;5;21;01mnetworkx\u001b[39;00m \u001b[38;5;28;01mas\u001b[39;00m \u001b[38;5;21;01mnx\u001b[39;00m\n\u001b[1;32m      8\u001b[0m \u001b[38;5;28;01mimport\u001b[39;00m \u001b[38;5;21;01msympy\u001b[39;00m\n\u001b[1;32m      9\u001b[0m \u001b[38;5;28;01mimport\u001b[39;00m \u001b[38;5;21;01mscipy\u001b[39;00m\n",
      "\u001b[0;31mModuleNotFoundError\u001b[0m: No module named 'networkx'"
     ]
    }
   ],
   "source": [
    "# Importing Libraries\n",
    "import pandas as pd\n",
    "import numpy as np\n",
    "from numpy.linalg import svd\n",
    "import matplotlib.pyplot as plt\n",
    "import seaborn as sns\n",
    "import networkx as nx\n",
    "import sympy\n",
    "import scipy\n",
    "\n",
    "\n",
    "from scipy.sparse import csgraph, csr_matrix, lil_matrix\n",
    "from scipy.spatial.distance import pdist, squareform\n",
    "from sklearn.cluster import KMeans\n",
    "from sklearn.neighbors import kneighbors_graph\n",
    "from sklearn.metrics import homogeneity_score, completeness_score,v_measure_score\n",
    "from numpy import linalg as la"
   ]
  },
  {
   "cell_type": "code",
   "execution_count": 2,
   "id": "8159986a-afaf-4623-9fe1-98151b317497",
   "metadata": {},
   "outputs": [],
   "source": [
    "import so4gp as sgp"
   ]
  },
  {
   "cell_type": "markdown",
   "id": "3c1313c7-a9b5-4a5b-a1e0-09cc0402ac54",
   "metadata": {},
   "source": [
    "# Spectral Clustering\n",
    "\n",
    "Adopted from: [Towards data science](https://towardsdatascience.com/graph-laplacian-and-its-application-in-machine-learning-7d9aab021d16)\n",
    "\n",
    "## Data set\n",
    "Data set is the GP bitmaps (X0, X1, ..., Xn). Each attribute generates a GP bitmap."
   ]
  },
  {
   "cell_type": "code",
   "execution_count": 4,
   "id": "2b06dd40-f835-4134-9c25-6e84aec4c125",
   "metadata": {},
   "outputs": [],
   "source": [
    "#from sklearn.datasets import make_moons\n",
    "#features, y = make_moons(n_samples=10, noise=0.07, random_state=213)\n",
    "#features\n",
    "#y, features"
   ]
  },
  {
   "cell_type": "code",
   "execution_count": 5,
   "id": "6e01fe3c-0727-4474-ab13-170b58e76e26",
   "metadata": {},
   "outputs": [
    {
     "data": {
      "text/plain": [
       "array([[30.,  3.,  1., 10.,  2.,  4.],\n",
       "       [35.,  2.,  2.,  8.,  2.,  4.],\n",
       "       [40.,  4.,  2.,  7.,  2.,  4.],\n",
       "       [50.,  1.,  1.,  6.,  2.,  4.],\n",
       "       [52.,  7.,  1.,  2.,  2.,  4.]])"
      ]
     },
     "execution_count": 5,
     "metadata": {},
     "output_type": "execute_result"
    }
   ],
   "source": [
    "\n",
    "ds = sgp.DataGP('../data/DATASET.csv')\n",
    "#ds = sgp.DataGP('./data/breast_cancer.csv')\n",
    "\n",
    "data_size = ds.row_count\n",
    "features = np.array(ds.data, dtype=np.float64)\n",
    "features"
   ]
  },
  {
   "cell_type": "code",
   "execution_count": 6,
   "id": "3f17a62a-4780-45a1-a822-ae192bbf2155",
   "metadata": {},
   "outputs": [
    {
     "data": {
      "text/plain": [
       "array([[ 3., 10.],\n",
       "       [ 2.,  8.],\n",
       "       [ 4.,  7.],\n",
       "       [ 1.,  6.],\n",
       "       [ 7.,  2.]])"
      ]
     },
     "execution_count": 6,
     "metadata": {},
     "output_type": "execute_result"
    }
   ],
   "source": [
    "feature_X = features[:, [1,3]]\n",
    "feature_X"
   ]
  },
  {
   "cell_type": "code",
   "execution_count": 9,
   "id": "1e46e99b-adf7-42d5-9949-80be15ee0405",
   "metadata": {},
   "outputs": [
    {
     "name": "stdout",
     "output_type": "stream",
     "text": [
      "[[0 0 0 0 0]\n",
      " [1 0 0 0 0]\n",
      " [1 1 0 0 0]\n",
      " [1 1 1 0 0]\n",
      " [1 1 1 1 0]]\n"
     ]
    },
    {
     "data": {
      "text/plain": [
       "array([[0, 0, 0, 0, 0],\n",
       "       [1, 0, 0, 1, 1],\n",
       "       [1, 0, 0, 1, 1],\n",
       "       [0, 0, 0, 0, 0],\n",
       "       [0, 0, 0, 0, 0]])"
      ]
     },
     "execution_count": 9,
     "metadata": {},
     "output_type": "execute_result"
    }
   ],
   "source": [
    "X0 = sgp.gibitmap(ds, 0)\n",
    "print(X0)\n",
    "\n",
    "X1 = sgp.gibitmap(ds, 2)\n",
    "X1"
   ]
  },
  {
   "cell_type": "markdown",
   "id": "6d384f8b-c811-4b9d-b457-4948c13c7f25",
   "metadata": {},
   "source": [
    "## Constructing K-nearest neighbors graph\n",
    "Based on connectivity (0 or 1)"
   ]
  },
  {
   "cell_type": "code",
   "execution_count": 8,
   "id": "4bd03f73-aaad-44a2-bb38-2a3780e5198e",
   "metadata": {},
   "outputs": [
    {
     "data": {
      "text/plain": [
       "matrix([[0., 1., 1., 0., 0.],\n",
       "        [1., 0., 1., 0., 0.],\n",
       "        [1., 1., 0., 0., 0.],\n",
       "        [0., 1., 1., 0., 0.],\n",
       "        [0., 0., 1., 1., 0.]])"
      ]
     },
     "execution_count": 8,
     "metadata": {},
     "output_type": "execute_result"
    }
   ],
   "source": [
    "# Constructing K-nearest neighbors graph\n",
    "n_neighbors = 2\n",
    "knn_dist_graph = kneighbors_graph(X=feature_X,\n",
    "                                 n_neighbors=n_neighbors,\n",
    "                                 #mode='distance')\n",
    "                                 mode='connectivity')\n",
    "\n",
    "knn_dist_graph.todense()#[0][:,:50]"
   ]
  },
  {
   "cell_type": "markdown",
   "id": "3fb88064-4ce9-4be5-898c-094e4f162d50",
   "metadata": {},
   "source": [
    "## Constructing GP Bitmap (or graph)\n",
    "\n",
    "Based on (2, 0, 1)"
   ]
  },
  {
   "cell_type": "code",
   "execution_count": 11,
   "id": "48eeb36d-0039-485c-b6e3-d9d866cc9920",
   "metadata": {},
   "outputs": [
    {
     "data": {
      "text/plain": [
       "array([[0., 1., 2., 1., 2.],\n",
       "       [1., 0., 2., 1., 2.],\n",
       "       [2., 2., 0., 1., 2.],\n",
       "       [1., 1., 1., 0., 2.],\n",
       "       [2., 2., 2., 2., 0.]])"
      ]
     },
     "execution_count": 11,
     "metadata": {},
     "output_type": "execute_result"
    }
   ],
   "source": [
    "# X (2 features at a time)\n",
    "X = np.zeros((data_size, data_size))\n",
    "\n",
    "for i in range(data_size):\n",
    "    for j in range(data_size):\n",
    "        x_i = feature_X[i]\n",
    "        x_j = feature_X[j]\n",
    "        if i == j:\n",
    "            pass\n",
    "        elif (x_i[0] > x_j[0]) and (x_i[1] > x_j[1]):\n",
    "            X[i][j] = 1\n",
    "            X[j][i] = 1\n",
    "        elif (x_i[0] > x_j[0]) and (x_i[1] < x_j[1]):\n",
    "            X[i][j] = 2\n",
    "            X[j][i] = 2\n",
    "gp_bitmap = X\n",
    "gp_bitmap"
   ]
  },
  {
   "cell_type": "markdown",
   "id": "1a89f278-7ecb-4072-8008-fd055d949976",
   "metadata": {},
   "source": [
    "## Computing Similarity\n"
   ]
  },
  {
   "cell_type": "code",
   "execution_count": 12,
   "id": "5f3b35dd-2f1b-4290-861d-eeb302226ff6",
   "metadata": {},
   "outputs": [
    {
     "data": {
      "text/plain": [
       "matrix([[0.        , 0.60653066, 0.13533528, 0.60653066, 0.13533528],\n",
       "        [0.60653066, 0.        , 0.13533528, 0.60653066, 0.13533528],\n",
       "        [0.13533528, 0.13533528, 0.        , 0.60653066, 0.13533528],\n",
       "        [0.60653066, 0.60653066, 0.60653066, 0.        , 0.13533528],\n",
       "        [0.13533528, 0.13533528, 0.13533528, 0.13533528, 0.        ]])"
      ]
     },
     "execution_count": 12,
     "metadata": {},
     "output_type": "execute_result"
    }
   ],
   "source": [
    "# Similarity graph\n",
    "\n",
    "# gp_graph = knn_dist_graph\n",
    "gp_graph = gp_bitmap\n",
    "\n",
    "sigma = 1\n",
    "similarity_graph = lil_matrix(gp_graph.shape)  # instead of csr_natrix\n",
    "nonzeroindices = gp_graph.nonzero()\n",
    "similarity_graph[nonzeroindices] = np.exp( -np.asarray(gp_graph[nonzeroindices])**2 / 2.0 * sigma**2)\n",
    "similarity_graph = 0.5 * (similarity_graph + similarity_graph.T)\n",
    "similarity_graph.todense()#[0][:,:5]"
   ]
  },
  {
   "cell_type": "markdown",
   "id": "3e2e2bf8-005f-4163-8be5-1402bfbfbafa",
   "metadata": {},
   "source": [
    "## Deriving Graph Laplacian representation\n",
    "L = D-W\n",
    "\n",
    "D: Degree matrix\n",
    "\n",
    "W: Similarity graph"
   ]
  },
  {
   "cell_type": "code",
   "execution_count": 13,
   "id": "d85136e6-805f-4c76-806b-ab9281b9c996",
   "metadata": {},
   "outputs": [
    {
     "data": {
      "text/plain": [
       "array([[1.48373189, 0.        , 0.        , 0.        , 0.        ],\n",
       "       [0.        , 1.48373189, 0.        , 0.        , 0.        ],\n",
       "       [0.        , 0.        , 1.01253651, 0.        , 0.        ],\n",
       "       [0.        , 0.        , 0.        , 1.95492726, 0.        ],\n",
       "       [0.        , 0.        , 0.        , 0.        , 0.54134113]])"
      ]
     },
     "execution_count": 13,
     "metadata": {},
     "output_type": "execute_result"
    }
   ],
   "source": [
    "# Degree Matrix\n",
    "\n",
    "W = similarity_graph\n",
    "D = W.sum(axis=1)\n",
    "D = np.diag(np.asarray(D).reshape(data_size,))\n",
    "D"
   ]
  },
  {
   "cell_type": "code",
   "execution_count": 14,
   "id": "6fef1d80-dfb2-4515-8188-2b79be3ef1c1",
   "metadata": {},
   "outputs": [
    {
     "data": {
      "text/plain": [
       "matrix([[ 1.48373189, -0.60653066, -0.13533528, -0.60653066, -0.13533528],\n",
       "        [-0.60653066,  1.48373189, -0.13533528, -0.60653066, -0.13533528],\n",
       "        [-0.13533528, -0.13533528,  1.01253651, -0.60653066, -0.13533528],\n",
       "        [-0.60653066, -0.60653066, -0.60653066,  1.95492726, -0.13533528],\n",
       "        [-0.13533528, -0.13533528, -0.13533528, -0.13533528,  0.54134113]])"
      ]
     },
     "execution_count": 14,
     "metadata": {},
     "output_type": "execute_result"
    }
   ],
   "source": [
    "# Laplacian Matrix\n",
    "L = D - W\n",
    "L"
   ]
  },
  {
   "cell_type": "code",
   "execution_count": 15,
   "id": "436a90d9-bde8-458c-980c-9912a8ff3eb3",
   "metadata": {},
   "outputs": [
    {
     "data": {
      "text/plain": [
       "array([[ 1.48373189, -0.60653066, -0.13533528, -0.60653066, -0.13533528],\n",
       "       [-0.60653066,  1.48373189, -0.13533528, -0.60653066, -0.13533528],\n",
       "       [-0.13533528, -0.13533528,  1.01253651, -0.60653066, -0.13533528],\n",
       "       [-0.60653066, -0.60653066, -0.60653066,  1.95492726, -0.13533528],\n",
       "       [-0.13533528, -0.13533528, -0.13533528, -0.13533528,  0.54134113]])"
      ]
     },
     "execution_count": 15,
     "metadata": {},
     "output_type": "execute_result"
    }
   ],
   "source": [
    "# Laplacian Matrix\n",
    "\n",
    "L = csgraph.laplacian(W, normed=False)\n",
    "L.toarray()"
   ]
  },
  {
   "cell_type": "code",
   "execution_count": 16,
   "id": "687f097e-051e-4432-975f-ba8ceb15c560",
   "metadata": {},
   "outputs": [
    {
     "data": {
      "text/plain": [
       "array([[ 1.        , -0.40878724, -0.11041497, -0.35613097, -0.15100725],\n",
       "       [-0.40878724,  1.        , -0.11041497, -0.35613097, -0.15100725],\n",
       "       [-0.11041497, -0.11041497,  1.        , -0.43110406, -0.18279747],\n",
       "       [-0.35613097, -0.35613097, -0.43110406,  1.        , -0.13155587],\n",
       "       [-0.15100725, -0.15100725, -0.18279747, -0.13155587,  1.        ]])"
      ]
     },
     "execution_count": 16,
     "metadata": {},
     "output_type": "execute_result"
    }
   ],
   "source": [
    "# Normalized Laplacian Matirx: \n",
    "\n",
    "L_norm = csgraph.laplacian(W, normed=True)\n",
    "L_norm.toarray()"
   ]
  },
  {
   "cell_type": "markdown",
   "id": "e55ac6a8-cad1-43f3-8828-aafeab9744a8",
   "metadata": {},
   "source": [
    "## Computing eigenvalues"
   ]
  },
  {
   "cell_type": "code",
   "execution_count": 17,
   "id": "03d671ae-ffed-4bd1-adc2-ad92608138b4",
   "metadata": {},
   "outputs": [
    {
     "data": {
      "text/plain": [
       "(array([2.22044605e-16, 1.52769415e+00, 1.40878724e+00, 9.72305854e-01,\n",
       "        1.09121276e+00]),\n",
       " matrix([[-4.78646939e-01, -2.40493951e-01,  7.07106781e-01,\n",
       "           4.60769238e-01,  2.74130691e-02],\n",
       "         [-4.78646939e-01, -2.40493951e-01, -7.07106781e-01,\n",
       "           4.60769238e-01,  2.74130691e-02],\n",
       "         [-3.95405692e-01, -5.57116229e-01,  3.84394090e-17,\n",
       "          -6.86757824e-01, -2.48273111e-01],\n",
       "         [-5.49417986e-01,  7.43535347e-01,  2.71292326e-16,\n",
       "          -1.62130218e-01, -3.44976603e-01],\n",
       "         [-2.89116638e-01,  1.45265323e-01,  9.11523043e-17,\n",
       "          -2.78317988e-01,  9.04349851e-01]]))"
      ]
     },
     "execution_count": 17,
     "metadata": {},
     "output_type": "execute_result"
    }
   ],
   "source": [
    "# Finding eigen values and eigen vectors\n",
    "e, evecs = la.eig(L_norm.todense())\n",
    "e, evecs"
   ]
  },
  {
   "cell_type": "code",
   "execution_count": 18,
   "id": "fbb2afee-29b9-46c1-b239-a9cbc19e16b8",
   "metadata": {},
   "outputs": [
    {
     "data": {
      "text/plain": [
       "array([0.     , 1.52769, 1.40879, 0.97231, 1.09121])"
      ]
     },
     "execution_count": 18,
     "metadata": {},
     "output_type": "execute_result"
    }
   ],
   "source": [
    "# No. of eigen values equal to 0\n",
    "e_rounded_off = e.round(5)\n",
    "e_rounded_off[e_rounded_off == 0].shape\n",
    "e_rounded_off"
   ]
  },
  {
   "cell_type": "code",
   "execution_count": 19,
   "id": "a0f4b946-44f5-428b-8927-75d6ed384a68",
   "metadata": {},
   "outputs": [],
   "source": [
    "# No. of connected components\n",
    "#nx.number_connected_components(nx_graph)"
   ]
  },
  {
   "cell_type": "markdown",
   "id": "9346a60d-a93f-4ebc-b884-267c7d0b52fb",
   "metadata": {},
   "source": [
    "## Partitioning data points"
   ]
  },
  {
   "cell_type": "code",
   "execution_count": 20,
   "id": "d6453022-f10e-449e-848a-dc0692d2fce0",
   "metadata": {},
   "outputs": [
    {
     "data": {
      "text/plain": [
       "array([0, 3, 4, 2, 1], dtype=int64)"
      ]
     },
     "execution_count": 20,
     "metadata": {},
     "output_type": "execute_result"
    }
   ],
   "source": [
    "sorted_idxs = np.argsort(e_rounded_off)\n",
    "sorted_idxs"
   ]
  },
  {
   "cell_type": "code",
   "execution_count": 21,
   "id": "9873dd17-2938-4869-b641-ed4f2689830b",
   "metadata": {},
   "outputs": [
    {
     "data": {
      "image/png": "[encoded data removed]",
      "text/plain": [
       "<Figure size 576x432 with 1 Axes>"
      ]
     },
     "metadata": {
      "needs_background": "light"
     },
     "output_type": "display_data"
    }
   ],
   "source": [
    "# Using Fiedler vector (Obtained from eigenvalue)\n",
    "\n",
    "# Get smallest non-zero eigen value's index for obtaining partition to cluster\n",
    "fiedler_index = sorted_idxs[1]\n",
    "\n",
    "# The eigen vector for smallest non-zero eigen value i.e plotting the Fiedler vector\n",
    "plt.figure(figsize=(8,6))\n",
    "plt.scatter(np.arange(data_size), evecs[:,fiedler_index].tolist())\n",
    "plt.title(\"Eigen (Fiedler) vector plot\")\n",
    "plt.show()\n",
    "\n",
    "\n"
   ]
  },
  {
   "cell_type": "code",
   "execution_count": 27,
   "id": "66a88547-2817-4969-bff2-ddeb2bd092a2",
   "metadata": {},
   "outputs": [
    {
     "name": "stdout",
     "output_type": "stream",
     "text": [
      "[ 0.46076924  0.46076924 -0.68675782 -0.16213022 -0.27831799]\n"
     ]
    },
    {
     "data": {
      "image/png": "[encoded data removed]",
      "text/plain": [
       "<Figure size 432x288 with 1 Axes>"
      ]
     },
     "metadata": {
      "needs_background": "light"
     },
     "output_type": "display_data"
    }
   ],
   "source": [
    "fiedler_vector = evecs[:,fiedler_index].copy()\n",
    "#print(fiedler_vector)\n",
    "\n",
    "# Thresholding the values in this eigen vector at 0\n",
    "#fiedler_vector[fiedler_vector < 0.0] = 0\n",
    "#fiedler_vector[fiedler_vector > 0.0] = 1\n",
    "laplace_labels = np.asarray(fiedler_vector)[:,0]\n",
    "print(laplace_labels)\n",
    "\n",
    "# Plot cluster result\n",
    "plt.scatter(feature_X[:,0], feature_X[:,1], c=laplace_labels.astype(float))\n",
    "plt.title(\"Clusters plot\")\n",
    "plt.show()"
   ]
  },
  {
   "cell_type": "code",
   "execution_count": 25,
   "id": "b473b39c-03af-4ac8-a02a-f003ca7b99c8",
   "metadata": {},
   "outputs": [
    {
     "name": "stdout",
     "output_type": "stream",
     "text": [
      "[0 2 0 1 0]\n"
     ]
    },
    {
     "data": {
      "image/png": "[encoded data removed]",
      "text/plain": [
       "<Figure size 432x288 with 1 Axes>"
      ]
     },
     "metadata": {
      "needs_background": "light"
     },
     "output_type": "display_data"
    }
   ],
   "source": [
    "# Using KMeans clustering (NOT VERY  ACCURATE)\n",
    "num_clusters = 3\n",
    "kmean_labels = KMeans(n_clusters=num_clusters).fit_predict(W)\n",
    "print(kmean_labels)\n",
    "\n",
    "plt.scatter(feature_X[:,0], feature_X[:,1], c=kmean_labels.astype(float))\n",
    "plt.show()"
   ]
  },
  {
   "cell_type": "code",
   "execution_count": 29,
   "id": "9938d978-db6d-44fb-b1c6-6b60337290f2",
   "metadata": {},
   "outputs": [],
   "source": [
    "# Evaluation of clustering result of KMeans (knn_labels, laplace_labels)\n",
    "#y = kmean_labels \n",
    "#homogeneity_score(y, laplace_labels), completeness_score(y, laplace_labels), v_measure_score(y, laplace_labels)"
   ]
  },
  {
   "cell_type": "code",
   "execution_count": null,
   "id": "d4358ccc-788e-45c3-804d-b7de5792990d",
   "metadata": {},
   "outputs": [],
   "source": [
    "# Check if cluster_centers of different bitmaps can be used to compute support (AND operation)"
   ]
  },
  {
   "cell_type": "code",
   "execution_count": null,
   "id": "19281c82-0d0a-445b-9974-39e2e328343b",
   "metadata": {},
   "outputs": [],
   "source": []
  }
 ],
 "metadata": {
  "kernelspec": {
   "display_name": "Python 3 (ipykernel)",
   "language": "python",
   "name": "python3"
  },
  "language_info": {
   "codemirror_mode": {
    "name": "ipython",
    "version": 3
   },
   "file_extension": ".py",
   "mimetype": "text/x-python",
   "name": "python",
   "nbconvert_exporter": "python",
   "pygments_lexer": "ipython3",
   "version": "3.7.2"
  }
 },
 "nbformat": 4,
 "nbformat_minor": 5
}
