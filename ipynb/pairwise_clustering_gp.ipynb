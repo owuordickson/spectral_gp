{
 "cells": [
  {
   "cell_type": "markdown",
   "id": "2ce64c88",
   "metadata": {},
   "source": [
    "# Agenda\n",
    "Classification of GPs' bitmaps.\n",
    "\n"
   ]
  },
  {
   "cell_type": "code",
   "execution_count": 1,
   "id": "72bb0e00",
   "metadata": {},
   "outputs": [],
   "source": [
    "# Installing Libraries (if not installed)\n",
    "#!pip3 install jupyterlab-git\n",
    "#!pip3 install voila\n",
    "#!pip3 install matplotlib\n",
    "#!pip3 install scikit-learn\n",
    "#!pip3 install seaborn\n",
    "#!pip3 install numpy\n",
    "#!pip3 install pandas\n",
    "#!pip3 install so4gp\n",
    "#!pip3 install scipy\n",
    "#!pip3 install sympy\n",
    "#!pip3 install networkx"
   ]
  },
  {
   "cell_type": "markdown",
   "id": "caa30d2f",
   "metadata": {},
   "source": [
    "# Import libraries <a name=\"lib-import\"></a>"
   ]
  },
  {
   "cell_type": "code",
   "execution_count": 1,
   "id": "2ef53478",
   "metadata": {},
   "outputs": [],
   "source": [
    "# Importing Libraries\n",
    "import pandas as pd\n",
    "import numpy as np\n",
    "import scipy\n",
    "import math\n",
    "\n",
    "#from numpy import linalg as la\n",
    "import itertools\n",
    "import pylab as pl\n",
    "\n",
    "from sklearn import svm, linear_model#, cross_validation"
   ]
  },
  {
   "cell_type": "code",
   "execution_count": 2,
   "id": "8159986a-afaf-4623-9fe1-98151b317497",
   "metadata": {},
   "outputs": [],
   "source": [
    "import so4gp as sgp"
   ]
  },
  {
   "cell_type": "markdown",
   "id": "3c1313c7-a9b5-4a5b-a1e0-09cc0402ac54",
   "metadata": {},
   "source": [
    "# Data set\n",
    "Retrieving data set and the features"
   ]
  },
  {
   "cell_type": "code",
   "execution_count": 4,
   "id": "6e01fe3c-0727-4474-ab13-170b58e76e26",
   "metadata": {},
   "outputs": [
    {
     "data": {
      "text/plain": [
       "array([[30.,  3.,  1., 10.,  2.,  4.],\n",
       "       [35.,  2.,  2.,  8.,  2.,  4.],\n",
       "       [40.,  4.,  2.,  7.,  2.,  4.],\n",
       "       [50.,  1.,  1.,  6.,  2.,  4.],\n",
       "       [52.,  7.,  1.,  2.,  2.,  4.]])"
      ]
     },
     "execution_count": 4,
     "metadata": {},
     "output_type": "execute_result"
    }
   ],
   "source": [
    "ds = sgp.DataGP('../data/DATASET.csv')\n",
    "#ds = sgp.DataGP('../data/c2k_02k.csv')\n",
    "#ds = sgp.DataGP('../data/breast_cancer.csv')\n",
    "\n",
    "\n",
    "data_size = ds.row_count\n",
    "feature_size = ds.col_count\n",
    "features = np.array(ds.data, dtype=np.float64)\n",
    "features"
   ]
  },
  {
   "cell_type": "code",
   "execution_count": 5,
   "id": "d3874209-a95c-4880-9ab1-0ae352221a87",
   "metadata": {},
   "outputs": [
    {
     "data": {
      "text/plain": [
       "'{\"Algorithm\": \"GRAANK\", \"Patterns\": [[[\"Insulin+\", \"BMI+\"], 0.612], [[\"BMI+\", \"HOMA+\"], 0.614], [[\"BMI+\", \"Leptin+\"], 0.732], [[\"Insulin-\", \"BMI-\"], 0.612], [[\"HOMA-\", \"BMI-\"], 0.614], [[\"Leptin-\", \"BMI-\"], 0.732], [[\"Insulin+\", \"Glucose+\"], 0.637], [[\"HOMA+\", \"Glucose+\"], 0.697], [[\"Glucose-\", \"Insulin-\"], 0.637], [[\"HOMA-\", \"Glucose-\"], 0.697], [[\"Insulin+\", \"HOMA+\"], 0.94], [[\"Insulin+\", \"Leptin+\"], 0.659], [[\"HOMA-\", \"Insulin-\"], 0.94], [[\"Leptin-\", \"Insulin-\"], 0.659], [[\"HOMA+\", \"Leptin+\"], 0.659], [[\"HOMA-\", \"Leptin-\"], 0.659], [[\"MCP.1+\", \"Resistin+\"], 0.672], [[\"Resistin-\", \"MCP.1-\"], 0.672], [[\"Insulin+\", \"HOMA+\", \"Glucose+\"], 0.637], [[\"HOMA-\", \"Glucose-\", \"Insulin-\"], 0.637], [[\"Insulin+\", \"HOMA+\", \"Leptin+\"], 0.629], [[\"HOMA-\", \"Leptin-\", \"Insulin-\"], 0.629]]}'"
      ]
     },
     "execution_count": 5,
     "metadata": {},
     "output_type": "execute_result"
    }
   ],
   "source": [
    "sgp.graank('../data/breast_cancer.csv', min_sup=0.6)"
   ]
  },
  {
   "cell_type": "code",
   "execution_count": 3,
   "id": "95e0ba5b-67cb-4499-bada-99cf62e6ec2a",
   "metadata": {},
   "outputs": [
    {
     "data": {
      "text/plain": [
       "array([[ 3., 10.],\n",
       "       [ 2.,  8.],\n",
       "       [ 4.,  7.],\n",
       "       [ 1.,  6.],\n",
       "       [ 7.,  2.]])"
      ]
     },
     "execution_count": 5,
     "metadata": {},
     "output_type": "execute_result"
    }
   ],
   "source": [
    "feature_X = features[:, [1,3]]\n",
    "feature_X"
   ]
  },
  {
   "cell_type": "markdown",
   "id": "fa870f0f-2b14-4721-8e14-c32724d962cb",
   "metadata": {},
   "source": [
    "# Pairwise Clustering\n",
    "\n",
    "According to the work of R. Srikant, it is possible to cluster users based on incomplete information on their purchasing preferences. They achieve this by converting an (Mx2) matrix about the choices of users over products into an (M) 'net wins matrix'.\n",
    "\n",
    "For instance assume we have 4 products (r1, r2, r3, r4) and 3 users (u1, u2, u3). We use the following encoding: if a user picks r1 over r2 (r1 > r2) then (r1,r2)=1 and (r2,r1)=-1; if we do not have a preferred choice (this accounts for incomplete information) between r3 and r4 then the encoding is (r3,r4)=0. \n",
    "\n"
   ]
  },
  {
   "cell_type": "code",
   "execution_count": null,
   "id": "4bb346a7-a61d-4934-816d-569250aa5d1b",
   "metadata": {},
   "outputs": [],
   "source": []
  }
 ],
 "metadata": {
  "kernelspec": {
   "display_name": "Python 3 (ipykernel)",
   "language": "python",
   "name": "python3"
  },
  "language_info": {
   "codemirror_mode": {
    "name": "ipython",
    "version": 3
   },
   "file_extension": ".py",
   "mimetype": "text/x-python",
   "name": "python",
   "nbconvert_exporter": "python",
   "pygments_lexer": "ipython3",
   "version": "3.9.10"
  }
 },
 "nbformat": 4,
 "nbformat_minor": 5
}
