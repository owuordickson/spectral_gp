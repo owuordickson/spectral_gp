{
 "cells": [
  {
   "cell_type": "markdown",
   "id": "fa870f0f-2b14-4721-8e14-c32724d962cb",
   "metadata": {},
   "source": [
    "# Clustering Using Pairwise Comparison\n",
    "\n",
    "Clustering GP bitmaps\n",
    "\n",
    "## Application to Preference Shopping\n",
    "\n",
    "According to the work of R. Srikant, it is possible to cluster users based on incomplete information on their purchasing preferences. They achieve this by converting an (Mx2) matrix about the choices of users over products into an (M) 'net wins matrix'.\n",
    "\n",
    "For instance assume we have 4 products (r1, r2, r3, r4) and 3 users (u1, u2, u3). We use the following encoding: if a user picks r1 over r2 (r1 > r2) then (r1,r2)=1 and (r2,r1)=-1; if we do not have a preferred choice (this accounts for incomplete information) between r3 and r4 then the encoding is (r3,r4)=0.\n",
    "\n",
    "A sample matrix may take the form:\n",
    "\n",
    "| u |(r1,r2) | (r1,r3) | (r1,r4) | (r2,r3) | (r2,r4) | (r3,r4) |\n",
    "| :--- | :---: | :---: | :---: | :---: | :---: | :---: |\n",
    "| u1 | 1 | 0 | 0 | -1 | 1 | 0 |\n",
    "| u2 | 0 | 1 | 0 | -1 | 0 | 0 |\n",
    "| u3 | 1 | -1 | 0 | 0 | 1 | 0 |\n",
    "\n",
    "\n",
    "Using the available preference information, we can convert this matric into a 'net wins matrix' as shown below (i.e., for each item if it has more wins than losses then it is 1; if it has more losses than wins then it is -1; if the losses and equal to wins then it is 0; if it has no information then it is 0)\n",
    "\n",
    "| u | r1 | r2 | r3 | r4 |\n",
    "| --- | --- | --- | --- | --- |\n",
    "| u1 | 1 | -1 | 1 | -1 |\n",
    "| u2 | 1 | -1 | 0 | 0 |\n",
    "| u3 | 0 | 0 | 1 | -1 |\n",
    "\n",
    "We can use this new matrix to cluster users based on their purchase preferences using spectral clustering."
   ]
  },
  {
   "cell_type": "markdown",
   "id": "8bd7a8f4-0183-4752-bee9-ead7d94863a9",
   "metadata": {},
   "source": [
    "## Application to GP Mining\n",
    "\n",
    "In order to mine for GPs, each feature has to construct a bitmap matrix comparing each row to each other (i.e., (r1,r2), (r1,r3), (r1,r4), (r2,r3), (r2,r4), (r3,r4)).\n",
    "\n",
    "We can apply the same approach here, such that, we only construct the bitmap matrix with a handful of rows then convert them into 'net wins matrices'. Finally, we apply spectral clustering to determine which features belong to the same group based on the similarity of gradual dependency."
   ]
  },
  {
   "cell_type": "markdown",
   "id": "2ce64c88",
   "metadata": {},
   "source": [
    "# Install Libraries"
   ]
  },
  {
   "cell_type": "code",
   "execution_count": 1,
   "id": "72bb0e00",
   "metadata": {},
   "outputs": [],
   "source": [
    "# Installing Libraries (if not installed)\n",
    "#!pip3 install jupyterlab-git\n",
    "#!pip3 install voila\n",
    "#!pip3 install matplotlib\n",
    "#!pip3 install scikit-learn\n",
    "#!pip3 install seaborn\n",
    "#!pip3 install numpy\n",
    "#!pip3 install pandas\n",
    "#!pip3 install so4gp\n",
    "#!pip3 install scipy\n",
    "#!pip3 install sympy\n",
    "#!pip3 install networkx"
   ]
  },
  {
   "cell_type": "markdown",
   "id": "caa30d2f",
   "metadata": {},
   "source": [
    "# Import libraries <a name=\"lib-import\"></a>"
   ]
  },
  {
   "cell_type": "code",
   "execution_count": 69,
   "id": "2ef53478",
   "metadata": {},
   "outputs": [],
   "source": [
    "# Importing Libraries\n",
    "import numpy as np\n",
    "import matplotlib.pyplot as plt\n",
    "\n",
    "from numpy.linalg import svd\n",
    "from sklearn.cluster import KMeans\n"
   ]
  },
  {
   "cell_type": "code",
   "execution_count": 55,
   "id": "8159986a-afaf-4623-9fe1-98151b317497",
   "metadata": {},
   "outputs": [],
   "source": [
    "import so4gp as sgp"
   ]
  },
  {
   "cell_type": "markdown",
   "id": "3c1313c7-a9b5-4a5b-a1e0-09cc0402ac54",
   "metadata": {},
   "source": [
    "# Data set\n",
    "Retrieving data set and the features"
   ]
  },
  {
   "cell_type": "code",
   "execution_count": 56,
   "id": "6e01fe3c-0727-4474-ab13-170b58e76e26",
   "metadata": {},
   "outputs": [],
   "source": [
    "ds = sgp.DataGP('../data/DATASET.csv')\n",
    "#ds = sgp.DataGP('../data/c2k_02k.csv')\n",
    "#ds = sgp.DataGP('../data/breast_cancer.csv')\n",
    "\n",
    "\n",
    "data_size = ds.row_count\n",
    "feature_size = ds.col_count\n",
    "features = np.array(ds.data, dtype=np.float64)\n",
    "#features"
   ]
  },
  {
   "cell_type": "code",
   "execution_count": 57,
   "id": "d3874209-a95c-4880-9ab1-0ae352221a87",
   "metadata": {},
   "outputs": [],
   "source": [
    "# Mine GPs using existing GRAANK algorithm\n",
    "#sgp.graank('../data/breast_cancer.csv', min_sup=0.6)"
   ]
  },
  {
   "cell_type": "markdown",
   "id": "09e75786-0fb2-49ee-93ea-af9e160961cd",
   "metadata": {},
   "source": [
    "# Clustering GPs using Gradual Pairs\n",
    "\n",
    "## a. Constructing Pair Matrix\n",
    "We construct gradual pairs using the following encoding:\n",
    "\n",
    "if r1 > r2, then (r1,r2) = 1\n",
    "\n",
    "if r1 < r2 then (r1,r2) = -1\n",
    "\n",
    "if r1 == r2 then (r1,r2) = 0\n"
   ]
  },
  {
   "cell_type": "code",
   "execution_count": 58,
   "id": "999c317f-7316-4bb6-9177-6735b6e8c0cc",
   "metadata": {},
   "outputs": [],
   "source": [
    "# Function for constructing GP pairs for Mx2 matrix\n",
    "\n",
    "def construct_pairs():\n",
    "    X = []\n",
    "    for i in range(data_size):\n",
    "        for j in range(i+1, data_size):\n",
    "            x = []\n",
    "            for k in range(feature_size):\n",
    "                if features[j][k] > features[i][k]:\n",
    "                    encoding = 1\n",
    "                elif features[j][k] < features[i][k]:\n",
    "                    encoding = -1\n",
    "                else:\n",
    "                    encoding = 0\n",
    "                x.append(encoding)\n",
    "            X.append(x)\n",
    "    return np.array(X, dtype=float).T\n",
    "\n",
    "def construct_bm_pairs():\n",
    "    attr_data = features.T\n",
    "    bm_data = []\n",
    "    for c_data in attr_data:\n",
    "        col_data = np.array(c_data, dtype=float)\n",
    "        pair_bitmap = np.where(col_data > col_data[:, np.newaxis], 1, np.where(col_data < col_data[:, np.newaxis], -1, 0))\n",
    "        bm_data.append(pair_bitmap)\n",
    "    return bm_data"
   ]
  },
  {
   "cell_type": "code",
   "execution_count": 59,
   "id": "356d5aaf-10ab-4c36-856a-fd95888c5d21",
   "metadata": {},
   "outputs": [
    {
     "name": "stdout",
     "output_type": "stream",
     "text": [
      "[[ 1.  1.  1.  1.  1.  1.  1.  1.  1.  1.]\n",
      " [-1.  1. -1.  1.  1. -1.  1. -1.  1.  1.]\n",
      " [ 1.  1.  0.  0.  0. -1. -1. -1. -1.  0.]\n",
      " [-1. -1. -1. -1. -1. -1. -1. -1. -1. -1.]\n",
      " [ 0.  0.  0.  0.  0.  0.  0.  0.  0.  0.]\n",
      " [ 0.  0.  0.  0.  0.  0.  0.  0.  0.  0.]]\n"
     ]
    },
    {
     "data": {
      "text/plain": [
       "[array([[ 0,  1,  1,  1,  1],\n",
       "        [-1,  0,  1,  1,  1],\n",
       "        [-1, -1,  0,  1,  1],\n",
       "        [-1, -1, -1,  0,  1],\n",
       "        [-1, -1, -1, -1,  0]]),\n",
       " array([[ 0, -1,  1, -1,  1],\n",
       "        [ 1,  0,  1, -1,  1],\n",
       "        [-1, -1,  0, -1,  1],\n",
       "        [ 1,  1,  1,  0,  1],\n",
       "        [-1, -1, -1, -1,  0]]),\n",
       " array([[ 0,  1,  1,  0,  0],\n",
       "        [-1,  0,  0, -1, -1],\n",
       "        [-1,  0,  0, -1, -1],\n",
       "        [ 0,  1,  1,  0,  0],\n",
       "        [ 0,  1,  1,  0,  0]]),\n",
       " array([[ 0, -1, -1, -1, -1],\n",
       "        [ 1,  0, -1, -1, -1],\n",
       "        [ 1,  1,  0, -1, -1],\n",
       "        [ 1,  1,  1,  0, -1],\n",
       "        [ 1,  1,  1,  1,  0]]),\n",
       " array([[0, 0, 0, 0, 0],\n",
       "        [0, 0, 0, 0, 0],\n",
       "        [0, 0, 0, 0, 0],\n",
       "        [0, 0, 0, 0, 0],\n",
       "        [0, 0, 0, 0, 0]]),\n",
       " array([[0, 0, 0, 0, 0],\n",
       "        [0, 0, 0, 0, 0],\n",
       "        [0, 0, 0, 0, 0],\n",
       "        [0, 0, 0, 0, 0],\n",
       "        [0, 0, 0, 0, 0]])]"
      ]
     },
     "execution_count": 59,
     "metadata": {},
     "output_type": "execute_result"
    }
   ],
   "source": [
    "M = construct_pairs()\n",
    "print(M)\n",
    "\n",
    "Mp = construct_bm_pairs()\n",
    "Mp"
   ]
  },
  {
   "cell_type": "markdown",
   "id": "0ae67029-a264-43a6-9251-7fce8be485ff",
   "metadata": {},
   "source": [
    "## b. Bulding the Net Wins Matrix\n",
    "\n",
    "We construct a Net Wins matrix as follows"
   ]
  },
  {
   "cell_type": "code",
   "execution_count": 60,
   "id": "e488e286-a1c1-4738-a702-257aa2013874",
   "metadata": {},
   "outputs": [],
   "source": [
    "def construct_net_wins(M):\n",
    "    N = []\n",
    "    for bm in M:\n",
    "        R = []\n",
    "        for r in bm:\n",
    "            s = np.sum(r)\n",
    "            if s > 0:\n",
    "                s = 1\n",
    "            elif s < 0:\n",
    "                s = -1\n",
    "            R.append(s)\n",
    "        N.append(R)\n",
    "    return np.array(N)"
   ]
  },
  {
   "cell_type": "code",
   "execution_count": 104,
   "id": "67215c89-1bf2-48dd-b858-da40a6b6dc7d",
   "metadata": {},
   "outputs": [
    {
     "data": {
      "text/plain": [
       "array([[ 1,  1,  0, -1, -1],\n",
       "       [ 0,  1, -1,  1, -1],\n",
       "       [ 1, -1, -1,  1,  1],\n",
       "       [-1, -1,  0,  1,  1]])"
      ]
     },
     "execution_count": 104,
     "metadata": {},
     "output_type": "execute_result"
    }
   ],
   "source": [
    "N = construct_net_wins(Mp)\n",
    "N = N[0:4]\n",
    "N"
   ]
  },
  {
   "cell_type": "markdown",
   "id": "dddc5eca-4df9-4bfa-98a5-50abd70b6f54",
   "metadata": {},
   "source": [
    "## c. Compute Singular Value Decomposition values"
   ]
  },
  {
   "cell_type": "code",
   "execution_count": 105,
   "id": "2ce2dab0-cd20-42a5-974f-45041d1b5983",
   "metadata": {},
   "outputs": [
    {
     "name": "stdout",
     "output_type": "stream",
     "text": [
      "[3.15462523e+00 2.06739929e+00 1.66559292e+00 1.29844125e-16]\n"
     ]
    },
    {
     "data": {
      "image/png": "[encoded data removed]",
      "text/plain": [
       "<Figure size 432x288 with 1 Axes>"
      ]
     },
     "metadata": {
      "needs_background": "light"
     },
     "output_type": "display_data"
    }
   ],
   "source": [
    "# Perform single value distribution to determine the independent rows\n",
    "U, S, VT = svd(N)\n",
    "print(S)\n",
    "\n",
    "plt.figure(1)\n",
    "plt.plot(S)\n",
    "plt.title('Singular Values')\n",
    "plt.show()"
   ]
  },
  {
   "cell_type": "code",
   "execution_count": 113,
   "id": "7e576f89-7766-4352-be50-3dfccda3b7b6",
   "metadata": {},
   "outputs": [
    {
     "data": {
      "text/plain": [
       "array([[3.15462523, 0.        ],\n",
       "       [0.        , 2.06739929],\n",
       "       [0.        , 0.        ],\n",
       "       [0.        , 0.        ]])"
      ]
     },
     "execution_count": 113,
     "metadata": {},
     "output_type": "execute_result"
    }
   ],
   "source": [
    "# Select the r independent rows\n",
    "r = 2\n",
    "for index, value in enumerate(S):\n",
    "    if index >= r:\n",
    "        S[index] = 0\n",
    "\n",
    "# Retain only r singular values and set the rest equal to zero\n",
    "Sn = np.diag(S)\n",
    "Sr = Sn[0:r, :]\n",
    "Sr"
   ]
  },
  {
   "cell_type": "markdown",
   "id": "51830e2f-5d28-428e-ba52-07a65810a8d5",
   "metadata": {},
   "source": [
    "## d. Spectral Clustering\n",
    "\n",
    "Cluster the rows of the rank r projection using K-Means algorithm\n"
   ]
  },
  {
   "cell_type": "code",
   "execution_count": 114,
   "id": "a160d799-78d9-4921-a1fb-cf16dc7657d4",
   "metadata": {},
   "outputs": [
    {
     "data": {
      "text/plain": [
       "array([0, 1, 1, 1], dtype=int32)"
      ]
     },
     "execution_count": 114,
     "metadata": {},
     "output_type": "execute_result"
    }
   ],
   "source": [
    "kmeans = KMeans(n_clusters=r, random_state=0)\n",
    "y_pred = kmeans.fit_predict(Sr.T)\n",
    "y_pred"
   ]
  },
  {
   "cell_type": "code",
   "execution_count": 117,
   "id": "499099b1-a3d1-4433-8d2f-fd3a857114ce",
   "metadata": {},
   "outputs": [
    {
     "data": {
      "image/png": "[encoded data removed]",
      "text/plain": [
       "<Figure size 432x288 with 1 Axes>"
      ]
     },
     "metadata": {
      "needs_background": "light"
     },
     "output_type": "display_data"
    }
   ],
   "source": [
    "\n",
    "plt.figure(1)\n",
    "plt.scatter(N[:,0], N[:,1], c=y_pred)\n",
    "#plt.scatter(kmeans.cluster_centers_[:, 1], kmeans.cluster_centers_[:, 0], c='red', marker='x')\n",
    "plt.title('Scatter Plot')\n",
    "plt.show()"
   ]
  },
  {
   "cell_type": "code",
   "execution_count": null,
   "id": "d98538cf-c676-4cca-b12f-5646c05dd80d",
   "metadata": {},
   "outputs": [],
   "source": []
  }
 ],
 "metadata": {
  "kernelspec": {
   "display_name": "Python 3 (ipykernel)",
   "language": "python",
   "name": "python3"
  },
  "language_info": {
   "codemirror_mode": {
    "name": "ipython",
    "version": 3
   },
   "file_extension": ".py",
   "mimetype": "text/x-python",
   "name": "python",
   "nbconvert_exporter": "python",
   "pygments_lexer": "ipython3",
   "version": "3.9.10"
  }
 },
 "nbformat": 4,
 "nbformat_minor": 5
}
