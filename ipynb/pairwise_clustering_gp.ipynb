{
 "cells": [
  {
   "cell_type": "markdown",
   "id": "fa870f0f-2b14-4721-8e14-c32724d962cb",
   "metadata": {},
   "source": [
    "# Clustering Using Pairwise Comparison\n",
    "\n",
    "Clustering GP bitmaps\n",
    "\n",
    "## Application to Preference Shopping\n",
    "\n",
    "According to the work of R. Srikant, it is possible to cluster users based on incomplete information on their purchasing preferences. They achieve this by converting an (Mx2) matrix about the choices of users over products into an (M) 'net wins matrix'.\n",
    "\n",
    "For instance assume we have 4 products (r1, r2, r3, r4) and 3 users (u1, u2, u3). We use the following encoding: if a user picks r1 over r2 (r1 > r2) then (r1,r2)=1 and (r2,r1)=-1; if we do not have a preferred choice (this accounts for incomplete information) between r3 and r4 then the encoding is (r3,r4)=0.\n",
    "\n",
    "A sample matrix may take the form:\n",
    "\n",
    "| u |(r1,r2) | (r1,r3) | (r1,r4) | (r2,r3) | (r2,r4) | (r3,r4) |\n",
    "| :--- | :---: | :---: | :---: | :---: | :---: | :---: |\n",
    "| u1 | 1 | 0 | 0 | -1 | 1 | 0 |\n",
    "| u2 | 0 | 1 | 0 | -1 | 0 | 0 |\n",
    "| u3 | 1 | -1 | 0 | 0 | 1 | 0 |\n",
    "\n",
    "\n",
    "Using the available preference information, we can convert this matric into a 'net wins matrix' as shown below (i.e., for each item if it has more wins than losses then it is 1; if it has more losses than wins then it is -1; if the losses and equal to wins then it is 0; if it has no information then it is 0)\n",
    "\n",
    "| u | r1 | r2 | r3 | r4 |\n",
    "| --- | --- | --- | --- | --- |\n",
    "| u1 | 1 | -1 | 1 | -1 |\n",
    "| u2 | 1 | -1 | 0 | 0 |\n",
    "| u3 | 0 | 0 | 1 | -1 |\n",
    "\n",
    "We can use this new matrix to cluster users based on their purchase preferences using spectral clustering. Users in the same cluster have the same **score vector**"
   ]
  },
  {
   "cell_type": "markdown",
   "id": "8bd7a8f4-0183-4752-bee9-ead7d94863a9",
   "metadata": {},
   "source": [
    "## Application to GP Mining\n",
    "\n",
    "In order to mine for GPs, each feature has to construct a bitmap matrix comparing each row to each other (i.e., (r1,r2), (r1,r3), (r1,r4), (r2,r3), (r2,r4), (r3,r4)).\n",
    "\n",
    "We can apply the same approach here, such that, we only construct the bitmap matrix with a handful of rows then convert them into 'net wins matrices'. Finally, we apply spectral clustering to determine which features belong to the same group based on the similarity of gradual dependency.\n",
    "\n",
    "Gradual items in the same cluster have the same **score vector** (i.e., similar net wins matrices - at this point we do not know if the matrices yield a support that exceeds minimum threshold)."
   ]
  },
  {
   "cell_type": "markdown",
   "id": "2ce64c88",
   "metadata": {},
   "source": [
    "# Install Libraries"
   ]
  },
  {
   "cell_type": "code",
   "execution_count": 1,
   "id": "72bb0e00",
   "metadata": {},
   "outputs": [],
   "source": [
    "# Installing Libraries (if not installed)\n",
    "#!pip3 install jupyterlab-git\n",
    "#!pip3 install voila\n",
    "#!pip3 install matplotlib\n",
    "#!pip3 install scikit-learn\n",
    "#!pip3 install seaborn\n",
    "#!pip3 install numpy\n",
    "#!pip3 install pandas\n",
    "#!pip3 install so4gp\n",
    "#!pip3 install scipy\n",
    "#!pip3 install sympy\n",
    "#!pip3 install networkx"
   ]
  },
  {
   "cell_type": "markdown",
   "id": "caa30d2f",
   "metadata": {},
   "source": [
    "# Import libraries <a name=\"lib-import\"></a>"
   ]
  },
  {
   "cell_type": "code",
   "execution_count": 2,
   "id": "2ef53478",
   "metadata": {},
   "outputs": [],
   "source": [
    "# Importing Libraries\n",
    "import json\n",
    "import numpy as np\n",
    "import matplotlib.pyplot as plt\n",
    "\n",
    "from numpy.linalg import svd\n",
    "from sklearn.cluster import KMeans, SpectralClustering, MiniBatchKMeans, Birch, AgglomerativeClustering\n"
   ]
  },
  {
   "cell_type": "code",
   "execution_count": 3,
   "id": "8159986a-afaf-4623-9fe1-98151b317497",
   "metadata": {},
   "outputs": [],
   "source": [
    "import so4gp as sgp"
   ]
  },
  {
   "cell_type": "markdown",
   "id": "3c1313c7-a9b5-4a5b-a1e0-09cc0402ac54",
   "metadata": {},
   "source": [
    "# Data set\n",
    "Retrieving data set and the features"
   ]
  },
  {
   "cell_type": "code",
   "execution_count": 33,
   "id": "6e01fe3c-0727-4474-ab13-170b58e76e26",
   "metadata": {},
   "outputs": [
    {
     "data": {
      "text/plain": [
       "array([[ 48.        ,  23.5       ,  70.        , ...,   7.99585   ,\n",
       "        417.114     ,   1.        ],\n",
       "       [ 83.        ,  20.69049454,  92.        , ...,   4.06405   ,\n",
       "        468.786     ,   1.        ],\n",
       "       [ 82.        ,  23.12467037,  91.        , ...,   9.27715   ,\n",
       "        554.697     ,   1.        ],\n",
       "       ...,\n",
       "       [ 65.        ,  32.05      ,  97.        , ...,  10.33      ,\n",
       "        314.05      ,   2.        ],\n",
       "       [ 72.        ,  25.59      ,  82.        , ...,   3.27      ,\n",
       "        392.46      ,   2.        ],\n",
       "       [ 86.        ,  27.18      , 138.        , ...,   4.35      ,\n",
       "         90.09      ,   2.        ]])"
      ]
     },
     "execution_count": 33,
     "metadata": {},
     "output_type": "execute_result"
    }
   ],
   "source": [
    "ds = sgp.DataGP('../data/DATASET.csv', min_sup=0.5)\n",
    "#ds = sgp.DataGP('../data/c2k_02k.csv')\n",
    "ds = sgp.DataGP('../data/breast_cancer.csv', min_sup=0.5)\n",
    "\n",
    "\n",
    "data_size = ds.row_count\n",
    "feature_size = ds.col_count\n",
    "features = np.array(ds.data, dtype=np.float64)\n",
    "features"
   ]
  },
  {
   "cell_type": "markdown",
   "id": "09e75786-0fb2-49ee-93ea-af9e160961cd",
   "metadata": {},
   "source": [
    "# Clustering GPs using Gradual Pairs\n",
    "\n",
    "## a. Constructing Pair Matrix\n",
    "We construct gradual pairs using the following encoding:\n",
    "\n",
    "if r1 > r2, then (r1,r2) = 1\n",
    "\n",
    "if r1 < r2 then (r1,r2) = -1\n",
    "\n",
    "if r1 == r2 then (r1,r2) = 0\n"
   ]
  },
  {
   "cell_type": "code",
   "execution_count": 36,
   "id": "999c317f-7316-4bb6-9177-6735b6e8c0cc",
   "metadata": {},
   "outputs": [],
   "source": [
    "# Function for constructing GP pairs for Mx2 matrix\n",
    "\n",
    "def construct_net_wins():\n",
    "    net_wins = []\n",
    "    win_cols = []\n",
    "    attr_data = features.T\n",
    "    n = ds.row_count\n",
    "    for col in ds.attr_cols:\n",
    "        col_data = np.array(attr_data[col], dtype=float)\n",
    "        incr = np.array((col, '+'), dtype='i, S1')\n",
    "        decr = np.array((col, '-'), dtype='i, S1')\n",
    "        \n",
    "        bitmap_pos_gp = np.where(col_data > col_data[:, np.newaxis], 1, np.where(col_data < col_data[:, np.newaxis], -1, 0))\n",
    "        # Remove invalid candidates\n",
    "        supp = float(np.sum(bitmap_pos_gp[bitmap_pos_gp==1])) / float(n * (n - 1.0) / 2.0)\n",
    "        if supp >= ds.thd_supp:\n",
    "            print(bitmap_pos_gp)\n",
    "            row_sum = np.sum(bitmap_pos_gp, axis=1)\n",
    "            row_sum[row_sum > 0] = 1\n",
    "            row_sum[row_sum < 0] = -1\n",
    "\n",
    "            #if (not np.all(row_sum == 0)): # Ignore net-win rows with all 0s\n",
    "            net_wins.append(row_sum)\n",
    "            win_cols.append(incr)\n",
    "\n",
    "            net_wins.append(-row_sum)\n",
    "            win_cols.append(decr)\n",
    "    return np.array(win_cols), np.array(net_wins)"
   ]
  },
  {
   "cell_type": "markdown",
   "id": "0ae67029-a264-43a6-9251-7fce8be485ff",
   "metadata": {},
   "source": [
    "## b. Bulding the Net Wins Matrix\n",
    "\n",
    "We construct a Net Wins matrix as follows"
   ]
  },
  {
   "cell_type": "code",
   "execution_count": 37,
   "id": "67215c89-1bf2-48dd-b858-da40a6b6dc7d",
   "metadata": {},
   "outputs": [
    {
     "name": "stdout",
     "output_type": "stream",
     "text": [
      "[[ 0  1  1 ...  1  1  1]\n",
      " [-1  0 -1 ... -1 -1  1]\n",
      " [-1  1  0 ... -1 -1  1]\n",
      " ...\n",
      " [-1  1  1 ...  0  1  1]\n",
      " [-1  1  1 ... -1  0  1]\n",
      " [-1 -1 -1 ... -1 -1  0]]\n",
      "[[ 0 -1 -1 ...  1  1  1]\n",
      " [ 1  0  1 ...  1  1  1]\n",
      " [ 1 -1  0 ...  1  1  1]\n",
      " ...\n",
      " [-1 -1 -1 ...  0 -1 -1]\n",
      " [-1 -1 -1 ...  1  0  1]\n",
      " [-1 -1 -1 ...  1 -1  0]]\n",
      "[[ 0  1  1 ...  1  1  1]\n",
      " [-1  0 -1 ...  1 -1  1]\n",
      " [-1  1  0 ...  1 -1  1]\n",
      " ...\n",
      " [-1 -1 -1 ...  0 -1  1]\n",
      " [-1  1  1 ...  1  0  1]\n",
      " [-1 -1 -1 ... -1 -1  0]]\n",
      "[[ 0  1  1 ...  1  1  1]\n",
      " [-1  0  1 ...  1 -1  1]\n",
      " [-1 -1  0 ...  1 -1  1]\n",
      " ...\n",
      " [-1 -1 -1 ...  0 -1  1]\n",
      " [-1  1  1 ...  1  0  1]\n",
      " [-1 -1 -1 ... -1 -1  0]]\n",
      "[[ 0  1  1 ...  1  1  1]\n",
      " [-1  0  1 ...  1 -1  1]\n",
      " [-1 -1  0 ...  1 -1  1]\n",
      " ...\n",
      " [-1 -1 -1 ...  0 -1  1]\n",
      " [-1  1  1 ...  1  0  1]\n",
      " [-1 -1 -1 ... -1 -1  0]]\n",
      "[[ 0  1  1 ...  1  1  1]\n",
      " [-1  0  1 ...  1  1  1]\n",
      " [-1 -1  0 ...  1  1  1]\n",
      " ...\n",
      " [-1 -1 -1 ...  0 -1  1]\n",
      " [-1 -1 -1 ...  1  0  1]\n",
      " [-1 -1 -1 ... -1 -1  0]]\n",
      "[[ 0 -1  1 ...  1  1  1]\n",
      " [ 1  0  1 ...  1  1  1]\n",
      " [-1 -1  0 ...  1  1 -1]\n",
      " ...\n",
      " [-1 -1 -1 ...  0  1 -1]\n",
      " [-1 -1 -1 ... -1  0 -1]\n",
      " [-1 -1  1 ...  1  1  0]]\n",
      "[[ 0 -1  1 ...  1 -1 -1]\n",
      " [ 1  0  1 ...  1 -1  1]\n",
      " [-1 -1  0 ...  1 -1 -1]\n",
      " ...\n",
      " [-1 -1 -1 ...  0 -1 -1]\n",
      " [ 1  1  1 ...  1  0  1]\n",
      " [ 1 -1  1 ...  1 -1  0]]\n",
      "[[ 0  1  1 ... -1 -1 -1]\n",
      " [-1  0  1 ... -1 -1 -1]\n",
      " [-1 -1  0 ... -1 -1 -1]\n",
      " ...\n",
      " [ 1  1  1 ...  0  1 -1]\n",
      " [ 1  1  1 ... -1  0 -1]\n",
      " [ 1  1  1 ...  1  1  0]]\n",
      "Dimensions of net wins matrix: (18, 116)\n",
      "Rank of the matrix: 9\n"
     ]
    },
    {
     "data": {
      "text/plain": [
       "array([[ 1, -1, -1, ..., -1, -1, -1],\n",
       "       [-1,  1,  1, ...,  1,  1,  1],\n",
       "       [ 1,  1,  1, ..., -1,  1,  1],\n",
       "       ...,\n",
       "       [-1, -1, -1, ..., -1, -1, -1],\n",
       "       [ 1,  1, -1, ...,  1,  1,  1],\n",
       "       [-1, -1,  1, ..., -1, -1, -1]])"
      ]
     },
     "execution_count": 37,
     "metadata": {},
     "output_type": "execute_result"
    }
   ],
   "source": [
    "f, N = construct_net_wins()\n",
    "#print(f)\n",
    "print(\"Dimensions of net wins matrix: \" + str(N.shape))\n",
    "print('Rank of the matrix:', np.linalg.matrix_rank(N))\n",
    "N"
   ]
  },
  {
   "cell_type": "markdown",
   "id": "dddc5eca-4df9-4bfa-98a5-50abd70b6f54",
   "metadata": {},
   "source": [
    "## c. Spectral Clustering Using SVD and KMeans Algorithm\n",
    "\n",
    "### i. Low Rank r approximation using SVD\n",
    "\n",
    "We compute singular value decomposition (SVD) values in order to determine the number of clusters - approximately equal to the number of the ranks (or real vectors whose values are very large compared to the rest). This is known *rank r approximation*.\n",
    "\n",
    "Tutorial: [nla.skoltech.ru](https://nla.skoltech.ru/lectures/html/08%2004%20Matrix%20rank,%20low-rank%20approximation,%20SVD.html)"
   ]
  },
  {
   "cell_type": "code",
   "execution_count": 38,
   "id": "2ce2dab0-cd20-42a5-974f-45041d1b5983",
   "metadata": {},
   "outputs": [
    {
     "data": {
      "image/png": "[encoded data removed]",
      "text/plain": [
       "<Figure size 432x288 with 1 Axes>"
      ]
     },
     "metadata": {
      "needs_background": "light"
     },
     "output_type": "display_data"
    }
   ],
   "source": [
    "# Perform single value distribution to determine the independent rows\n",
    "U, S, VT = svd(N)\n",
    "Sd = np.diag(S)\n",
    "#print(S)\n",
    "\n",
    "plt.figure(1)\n",
    "#plt.plot(S)\n",
    "plt.semilogy(S/S[0])\n",
    "plt.title('Singular Value Distribution')\n",
    "plt.show()"
   ]
  },
  {
   "cell_type": "code",
   "execution_count": 39,
   "id": "c5e15ae3-6180-42f5-a0b4-f50b73808508",
   "metadata": {},
   "outputs": [
    {
     "data": {
      "text/plain": [
       "9"
      ]
     },
     "execution_count": 39,
     "metadata": {},
     "output_type": "execute_result"
    }
   ],
   "source": [
    "r = np.linalg.matrix_rank(N)\n",
    "r"
   ]
  },
  {
   "cell_type": "code",
   "execution_count": 40,
   "id": "0bbcc10c-6fed-4551-b98b-56227386f4da",
   "metadata": {},
   "outputs": [
    {
     "name": "stdout",
     "output_type": "stream",
     "text": [
      "Dimensions of net wins matrix: (18, 116)\n",
      "Rank of the matrix: 9\n",
      "Error: 9.180503580041698e-16\n"
     ]
    },
    {
     "data": {
      "text/plain": [
       "array([[ 1., -1., -1., ..., -1., -1., -1.],\n",
       "       [-1.,  1.,  1., ...,  1.,  1.,  1.],\n",
       "       [ 1.,  1.,  1., ..., -1.,  1.,  1.],\n",
       "       ...,\n",
       "       [-1., -1., -1., ..., -1., -1., -1.],\n",
       "       [ 1.,  1., -1., ...,  1.,  1.,  1.],\n",
       "       [-1., -1.,  1., ..., -1., -1., -1.]])"
      ]
     },
     "execution_count": 40,
     "metadata": {},
     "output_type": "execute_result"
    }
   ],
   "source": [
    "Napprox = U[:,:r] @ np.diag(S[:r]) @ VT[:r,:]  # r rank approximation\n",
    "er = np.linalg.norm(Napprox - N, 'fro') / np.linalg.norm(N, 'fro')\n",
    "\n",
    "print(\"Dimensions of net wins matrix: \" + str(Napprox.shape))\n",
    "print('Rank of the matrix:', np.linalg.matrix_rank(Napprox))\n",
    "print(\"Error: \"+str(er))\n",
    "\n",
    "Napprox"
   ]
  },
  {
   "cell_type": "markdown",
   "id": "51830e2f-5d28-428e-ba52-07a65810a8d5",
   "metadata": {},
   "source": [
    "### ii. Clustering using KMeans algorithm\n",
    "\n",
    "Cluster the rows of the rank r projection using K-Means algorithm\n"
   ]
  },
  {
   "cell_type": "code",
   "execution_count": 41,
   "id": "e7b355bc-f7c9-46af-bd4b-71dc683cd50c",
   "metadata": {},
   "outputs": [
    {
     "name": "stdout",
     "output_type": "stream",
     "text": [
      "Clusters predicted using original Net Matrix: [5 8 1 6 3 2 3 4 3 4 1 6 0 1 7 0 7 5]\n"
     ]
    }
   ],
   "source": [
    "# Using normal KMeans and N\n",
    "\n",
    "kmeans = KMeans(n_clusters=r, random_state=0)\n",
    "y_pred_N = kmeans.fit_predict(N)\n",
    "print(\"Clusters predicted using original Net Matrix: \" + str(y_pred_N))"
   ]
  },
  {
   "cell_type": "code",
   "execution_count": 42,
   "id": "a160d799-78d9-4921-a1fb-cf16dc7657d4",
   "metadata": {},
   "outputs": [
    {
     "name": "stdout",
     "output_type": "stream",
     "text": [
      "Clusters predicted using approximated Net Matrix: [5 8 1 6 3 2 3 4 3 4 1 6 0 7 7 0 7 5]\n"
     ]
    }
   ],
   "source": [
    "# Using normal KMeans and Napprox\n",
    "\n",
    "kmeans = KMeans(n_clusters=r, random_state=0)\n",
    "y_pred_km = kmeans.fit_predict(Napprox)\n",
    "print(\"Clusters predicted using approximated Net Matrix: \" + str(y_pred_km))"
   ]
  },
  {
   "cell_type": "code",
   "execution_count": 43,
   "id": "512d3861-c5f7-4206-aa56-4a04038fb6a7",
   "metadata": {},
   "outputs": [
    {
     "name": "stdout",
     "output_type": "stream",
     "text": [
      "Clusters predicted using approximated Net Matrix: [6 3 4 2 1 8 1 8 1 8 4 2 2 4 7 6 0 6]\n"
     ]
    }
   ],
   "source": [
    "# Using MiniBatchKMeans and Napprox\n",
    "\n",
    "kmeans = MiniBatchKMeans(n_clusters=r)\n",
    "y_pred_mbkm = kmeans.fit_predict(Napprox)\n",
    "print(\"Clusters predicted using approximated Net Matrix: \" + str(y_pred_mbkm))"
   ]
  },
  {
   "cell_type": "code",
   "execution_count": 44,
   "id": "499099b1-a3d1-4433-8d2f-fd3a857114ce",
   "metadata": {},
   "outputs": [],
   "source": [
    "# Create scatter plot\n",
    "\n",
    "#clusters = np.unique(y_pred_km)\n",
    "#plt.figure(1)\n",
    "#for cluster in clusters:\n",
    "#    row_ix = np.where(y_pred_km == cluster)\n",
    "#    plt.scatter(Napprox[row_ix,1], Napprox[row_ix, 1])\n",
    "#plt.title('Scatter Plot')\n",
    "#plt.show()"
   ]
  },
  {
   "cell_type": "markdown",
   "id": "57a32c52-d3ef-4c16-9c84-be9eb38687e9",
   "metadata": {},
   "source": [
    "### iii. Clustering using Spectral Clustering\n"
   ]
  },
  {
   "cell_type": "code",
   "execution_count": 45,
   "id": "2f623c33-ecba-4200-bceb-f7f3efc6a8f6",
   "metadata": {},
   "outputs": [
    {
     "name": "stdout",
     "output_type": "stream",
     "text": [
      "Clusters predicted using approximated Net Matrix: [2 1 0 0 0 0 0 0 0 0 0 0 5 6 4 3 8 7]\n"
     ]
    }
   ],
   "source": [
    "# Using Spectral Clustering and Napprox\n",
    "\n",
    "spectral_model = SpectralClustering(n_clusters=r)\n",
    "y_pred_sc = spectral_model.fit_predict(Napprox)\n",
    "print(\"Clusters predicted using approximated Net Matrix: \" + str(y_pred_sc))"
   ]
  },
  {
   "cell_type": "markdown",
   "id": "b1656507-62e4-4043-89ae-62632487127f",
   "metadata": {},
   "source": [
    "### iv. Other Clustering Techniques"
   ]
  },
  {
   "cell_type": "code",
   "execution_count": 46,
   "id": "71a0ae90-75e7-4d2b-b6c8-c5a995589fd7",
   "metadata": {},
   "outputs": [
    {
     "name": "stdout",
     "output_type": "stream",
     "text": [
      "Clusters predicted using approximated Net Matrix: [1 5 6 7 3 4 3 4 3 4 6 7 0 8 2 0 2 1]\n"
     ]
    }
   ],
   "source": [
    "# Using Agglomerative Clustering and Napprox\n",
    "\n",
    "model = AgglomerativeClustering(n_clusters=r)\n",
    "y_pred_ac = model.fit_predict(Napprox)\n",
    "print(\"Clusters predicted using approximated Net Matrix: \" + str(y_pred_ac))"
   ]
  },
  {
   "cell_type": "code",
   "execution_count": 47,
   "id": "50cf9334-b0dd-465f-88b0-5b2fc4caba71",
   "metadata": {},
   "outputs": [
    {
     "name": "stdout",
     "output_type": "stream",
     "text": [
      "Clusters predicted using approximated Net Matrix: [1 5 6 7 3 4 3 4 3 4 6 7 0 8 2 0 2 1]\n"
     ]
    }
   ],
   "source": [
    "# Using Birch Clustering and Napprox\n",
    "\n",
    "model = Birch(threshold=0.01, n_clusters=r)\n",
    "y_pred_bc = model.fit_predict(Napprox)\n",
    "print(\"Clusters predicted using approximated Net Matrix: \" + str(y_pred_bc))"
   ]
  },
  {
   "cell_type": "markdown",
   "id": "315cc88b-c5ea-47bf-a1b0-680bfc0f80ce",
   "metadata": {},
   "source": [
    "### v. Infering GPs from clusters\n",
    "\n",
    "We use the clusters to infer GPs"
   ]
  },
  {
   "cell_type": "code",
   "execution_count": 48,
   "id": "218853fa-6461-4c6b-abc8-54d0250d7e65",
   "metadata": {},
   "outputs": [
    {
     "name": "stdout",
     "output_type": "stream",
     "text": [
      "Clusters: \n"
     ]
    },
    {
     "data": {
      "text/plain": [
       "[array([12, 15]),\n",
       " array([ 2, 10]),\n",
       " array([5]),\n",
       " array([4, 6, 8]),\n",
       " array([7, 9]),\n",
       " array([ 0, 17]),\n",
       " array([ 3, 11]),\n",
       " array([13, 14, 16]),\n",
       " array([1])]"
      ]
     },
     "execution_count": 48,
     "metadata": {},
     "output_type": "execute_result"
    }
   ],
   "source": [
    "y_pred = y_pred_km\n",
    "idx_grp = [np.where(y_pred == element)[0] for element in np.unique(y_pred)]\n",
    "print(\"Clusters: \")\n",
    "idx_grp"
   ]
  },
  {
   "cell_type": "code",
   "execution_count": 49,
   "id": "d98538cf-c676-4cca-b12f-5646c05dd80d",
   "metadata": {},
   "outputs": [
    {
     "name": "stdout",
     "output_type": "stream",
     "text": [
      "['Adiponectin+', 'Resistin-']\n",
      "['BMI+', 'Leptin+']\n",
      "['Glucose+', 'Insulin+', 'HOMA+']\n",
      "['Insulin-', 'HOMA-']\n",
      "['Age+', 'MCP.1-']\n",
      "['BMI-', 'Leptin-']\n",
      "['Adiponectin-', 'Resistin+', 'MCP.1+']\n"
     ]
    }
   ],
   "source": [
    "# Infer GPs from the clusters\n",
    "for grp in idx_grp:\n",
    "    if grp.size > 1:\n",
    "        gis = f[grp]\n",
    "        gp = sgp.GP()\n",
    "        for obj in gis:\n",
    "            gi = sgp.GI(obj[0], obj[1].decode())\n",
    "            gp.add_gradual_item(gi)\n",
    "        print(gp.print(ds.titles)[0])\n"
   ]
  },
  {
   "cell_type": "markdown",
   "id": "774421cd-dfcf-4cfb-ac28-c3be5c2b6293",
   "metadata": {},
   "source": [
    "### iv. Compare with actual GPs\n",
    "\n",
    "We mine the actual GPs using GRAANK algorithm and compare our results. We set the minimum support threshold to 0.5"
   ]
  },
  {
   "cell_type": "code",
   "execution_count": 52,
   "id": "d3874209-a95c-4880-9ab1-0ae352221a87",
   "metadata": {
    "tags": []
   },
   "outputs": [
    {
     "data": {
      "text/plain": [
       "{'Algorithm': 'GRAANK',\n",
       " 'Patterns': [[['BMI+', 'Age+'], 0.488],\n",
       "  [['BMI-', 'Age+'], 0.493],\n",
       "  [['Glucose+', 'Age+'], 0.544],\n",
       "  [['Glucose-', 'Age+'], 0.417],\n",
       "  [['Insulin+', 'Age+'], 0.497],\n",
       "  [['Insulin-', 'Age+'], 0.484],\n",
       "  [['HOMA+', 'Age+'], 0.507],\n",
       "  [['HOMA-', 'Age+'], 0.474],\n",
       "  [['Leptin+', 'Age+'], 0.509],\n",
       "  [['Leptin-', 'Age+'], 0.472],\n",
       "  [['Adiponectin+', 'Age+'], 0.442],\n",
       "  [['Adiponectin-', 'Age+'], 0.539],\n",
       "  [['Resistin+', 'Age+'], 0.458],\n",
       "  [['Resistin-', 'Age+'], 0.523],\n",
       "  [['MCP.1+', 'Age+'], 0.468],\n",
       "  [['MCP.1-', 'Age+'], 0.513],\n",
       "  [['BMI+', 'Age-'], 0.493],\n",
       "  [['BMI-', 'Age-'], 0.488],\n",
       "  [['Glucose+', 'Age-'], 0.417],\n",
       "  [['Glucose-', 'Age-'], 0.544],\n",
       "  [['Age-', 'Insulin+'], 0.484],\n",
       "  [['Age-', 'Insulin-'], 0.497],\n",
       "  [['HOMA+', 'Age-'], 0.474],\n",
       "  [['HOMA-', 'Age-'], 0.507],\n",
       "  [['Leptin+', 'Age-'], 0.472],\n",
       "  [['Leptin-', 'Age-'], 0.509],\n",
       "  [['Age-', 'Adiponectin+'], 0.539],\n",
       "  [['Age-', 'Adiponectin-'], 0.442],\n",
       "  [['Resistin+', 'Age-'], 0.523],\n",
       "  [['Resistin-', 'Age-'], 0.458],\n",
       "  [['MCP.1+', 'Age-'], 0.513],\n",
       "  [['MCP.1-', 'Age-'], 0.468],\n",
       "  [['BMI+', 'Glucose+'], 0.525],\n",
       "  [['BMI+', 'Glucose-'], 0.454],\n",
       "  [['BMI+', 'Insulin+'], 0.612],\n",
       "  [['BMI+', 'HOMA+'], 0.614],\n",
       "  [['BMI+', 'Leptin+'], 0.732],\n",
       "  [['BMI+', 'Adiponectin+'], 0.418],\n",
       "  [['BMI+', 'Adiponectin-'], 0.581],\n",
       "  [['BMI+', 'Resistin+'], 0.561],\n",
       "  [['BMI+', 'Resistin-'], 0.438],\n",
       "  [['BMI+', 'MCP.1+'], 0.587],\n",
       "  [['BMI+', 'MCP.1-'], 0.411],\n",
       "  [['BMI-', 'Glucose+'], 0.454],\n",
       "  [['BMI-', 'Glucose-'], 0.525],\n",
       "  [['BMI-', 'Insulin-'], 0.612],\n",
       "  [['BMI-', 'HOMA-'], 0.614],\n",
       "  [['BMI-', 'Leptin-'], 0.732],\n",
       "  [['BMI-', 'Adiponectin+'], 0.581],\n",
       "  [['BMI-', 'Adiponectin-'], 0.418],\n",
       "  [['BMI-', 'Resistin+'], 0.438],\n",
       "  [['BMI-', 'Resistin-'], 0.561],\n",
       "  [['BMI-', 'MCP.1+'], 0.411],\n",
       "  [['BMI-', 'MCP.1-'], 0.587],\n",
       "  [['Glucose+', 'Insulin+'], 0.637],\n",
       "  [['HOMA+', 'Glucose+'], 0.697],\n",
       "  [['Leptin+', 'Glucose+'], 0.562],\n",
       "  [['Glucose+', 'Leptin-'], 0.417],\n",
       "  [['Glucose+', 'Adiponectin+'], 0.47],\n",
       "  [['Glucose+', 'Adiponectin-'], 0.508],\n",
       "  [['Resistin+', 'Glucose+'], 0.52],\n",
       "  [['Resistin-', 'Glucose+'], 0.459],\n",
       "  [['Glucose+', 'MCP.1+'], 0.473],\n",
       "  [['Glucose+', 'MCP.1-'], 0.505],\n",
       "  [['Glucose-', 'Insulin-'], 0.637],\n",
       "  [['HOMA-', 'Glucose-'], 0.697],\n",
       "  [['Leptin+', 'Glucose-'], 0.417],\n",
       "  [['Glucose-', 'Leptin-'], 0.562],\n",
       "  [['Glucose-', 'Adiponectin+'], 0.508],\n",
       "  [['Glucose-', 'Adiponectin-'], 0.47],\n",
       "  [['Resistin+', 'Glucose-'], 0.459],\n",
       "  [['Resistin-', 'Glucose-'], 0.52],\n",
       "  [['Glucose-', 'MCP.1+'], 0.505],\n",
       "  [['Glucose-', 'MCP.1-'], 0.473],\n",
       "  [['HOMA+', 'Insulin+'], 0.94],\n",
       "  [['Leptin+', 'Insulin+'], 0.659],\n",
       "  [['Adiponectin+', 'Insulin+'], 0.472],\n",
       "  [['Adiponectin-', 'Insulin+'], 0.527],\n",
       "  [['Resistin+', 'Insulin+'], 0.548],\n",
       "  [['Resistin-', 'Insulin+'], 0.452],\n",
       "  [['MCP.1+', 'Insulin+'], 0.536],\n",
       "  [['MCP.1-', 'Insulin+'], 0.462],\n",
       "  [['HOMA-', 'Insulin-'], 0.94],\n",
       "  [['Leptin-', 'Insulin-'], 0.659],\n",
       "  [['Adiponectin+', 'Insulin-'], 0.527],\n",
       "  [['Adiponectin-', 'Insulin-'], 0.472],\n",
       "  [['Resistin+', 'Insulin-'], 0.452],\n",
       "  [['Resistin-', 'Insulin-'], 0.548],\n",
       "  [['MCP.1+', 'Insulin-'], 0.462],\n",
       "  [['MCP.1-', 'Insulin-'], 0.536],\n",
       "  [['HOMA+', 'Leptin+'], 0.659],\n",
       "  [['HOMA+', 'Adiponectin+'], 0.472],\n",
       "  [['HOMA+', 'Adiponectin-'], 0.528],\n",
       "  [['HOMA+', 'Resistin+'], 0.543],\n",
       "  [['HOMA+', 'Resistin-'], 0.457],\n",
       "  [['HOMA+', 'MCP.1+'], 0.533],\n",
       "  [['HOMA+', 'MCP.1-'], 0.466],\n",
       "  [['HOMA-', 'Leptin-'], 0.659],\n",
       "  [['HOMA-', 'Adiponectin+'], 0.528],\n",
       "  [['HOMA-', 'Adiponectin-'], 0.472],\n",
       "  [['HOMA-', 'Resistin+'], 0.457],\n",
       "  [['HOMA-', 'Resistin-'], 0.543],\n",
       "  [['HOMA-', 'MCP.1+'], 0.466],\n",
       "  [['HOMA-', 'MCP.1-'], 0.533],\n",
       "  [['Leptin+', 'Adiponectin+'], 0.468],\n",
       "  [['Leptin+', 'Adiponectin-'], 0.532],\n",
       "  [['Resistin+', 'Leptin+'], 0.548],\n",
       "  [['Resistin-', 'Leptin+'], 0.452],\n",
       "  [['Leptin+', 'MCP.1+'], 0.53],\n",
       "  [['Leptin+', 'MCP.1-'], 0.469],\n",
       "  [['Leptin-', 'Adiponectin+'], 0.532],\n",
       "  [['Leptin-', 'Adiponectin-'], 0.468],\n",
       "  [['Resistin+', 'Leptin-'], 0.452],\n",
       "  [['Resistin-', 'Leptin-'], 0.548],\n",
       "  [['Leptin-', 'MCP.1+'], 0.469],\n",
       "  [['Leptin-', 'MCP.1-'], 0.53],\n",
       "  [['Resistin+', 'Adiponectin+'], 0.407],\n",
       "  [['Resistin-', 'Adiponectin+'], 0.593],\n",
       "  [['MCP.1+', 'Adiponectin+'], 0.424],\n",
       "  [['MCP.1-', 'Adiponectin+'], 0.575],\n",
       "  [['Resistin+', 'Adiponectin-'], 0.593],\n",
       "  [['Resistin-', 'Adiponectin-'], 0.407],\n",
       "  [['MCP.1+', 'Adiponectin-'], 0.575],\n",
       "  [['MCP.1-', 'Adiponectin-'], 0.424],\n",
       "  [['Resistin+', 'MCP.1+'], 0.672],\n",
       "  [['Resistin-', 'MCP.1-'], 0.672],\n",
       "  [['HOMA+', 'Insulin+', 'Age+'], 0.473],\n",
       "  [['Insulin-', 'HOMA-', 'Age+'], 0.449],\n",
       "  [['HOMA+', 'Age-', 'Insulin+'], 0.449],\n",
       "  [['HOMA-', 'Age-', 'Insulin-'], 0.473],\n",
       "  [['BMI+', 'HOMA+', 'Glucose+'], 0.422],\n",
       "  [['BMI+', 'Leptin+', 'Glucose+'], 0.412],\n",
       "  [['BMI+', 'HOMA+', 'Insulin+'], 0.583],\n",
       "  [['BMI+', 'Leptin+', 'Insulin+'], 0.502],\n",
       "  [['BMI+', 'HOMA+', 'Leptin+'], 0.503],\n",
       "  [['BMI+', 'Leptin+', 'Adiponectin-'], 0.423],\n",
       "  [['BMI+', 'Resistin+', 'Leptin+'], 0.42],\n",
       "  [['BMI+', 'Leptin+', 'MCP.1+'], 0.425],\n",
       "  [['BMI+', 'Resistin+', 'MCP.1+'], 0.41],\n",
       "  [['BMI-', 'HOMA-', 'Glucose-'], 0.422],\n",
       "  [['BMI-', 'Glucose-', 'Leptin-'], 0.412],\n",
       "  [['BMI-', 'HOMA-', 'Insulin-'], 0.583],\n",
       "  [['BMI-', 'Leptin-', 'Insulin-'], 0.502],\n",
       "  [['BMI-', 'HOMA-', 'Leptin-'], 0.503],\n",
       "  [['BMI-', 'Leptin-', 'Adiponectin+'], 0.423],\n",
       "  [['BMI-', 'Resistin-', 'Leptin-'], 0.42],\n",
       "  [['BMI-', 'Leptin-', 'MCP.1-'], 0.425],\n",
       "  [['BMI-', 'Resistin-', 'MCP.1-'], 0.41],\n",
       "  [['HOMA+', 'Glucose+', 'Insulin+'], 0.637],\n",
       "  [['Leptin+', 'Glucose+', 'Insulin+'], 0.434],\n",
       "  [['HOMA+', 'Leptin+', 'Glucose+'], 0.464],\n",
       "  [['HOMA-', 'Glucose-', 'Insulin-'], 0.637],\n",
       "  [['Glucose-', 'Leptin-', 'Insulin-'], 0.434],\n",
       "  [['HOMA-', 'Glucose-', 'Leptin-'], 0.464],\n",
       "  [['HOMA+', 'Leptin+', 'Insulin+'], 0.629],\n",
       "  [['HOMA+', 'Adiponectin+', 'Insulin+'], 0.442],\n",
       "  [['Adiponectin-', 'HOMA+', 'Insulin+'], 0.498],\n",
       "  [['HOMA+', 'Resistin+', 'Insulin+'], 0.516],\n",
       "  [['HOMA+', 'Resistin-', 'Insulin+'], 0.424],\n",
       "  [['HOMA+', 'MCP.1+', 'Insulin+'], 0.505],\n",
       "  [['HOMA+', 'MCP.1-', 'Insulin+'], 0.434],\n",
       "  [['HOMA-', 'Leptin-', 'Insulin-'], 0.629],\n",
       "  [['HOMA-', 'Adiponectin+', 'Insulin-'], 0.498],\n",
       "  [['Adiponectin-', 'HOMA-', 'Insulin-'], 0.442],\n",
       "  [['HOMA-', 'Resistin+', 'Insulin-'], 0.424],\n",
       "  [['HOMA-', 'Resistin-', 'Insulin-'], 0.516],\n",
       "  [['HOMA-', 'MCP.1+', 'Insulin-'], 0.434],\n",
       "  [['HOMA-', 'MCP.1-', 'Insulin-'], 0.505],\n",
       "  [['Resistin-', 'MCP.1-', 'Adiponectin+'], 0.42],\n",
       "  [['Resistin+', 'MCP.1+', 'Adiponectin-'], 0.42],\n",
       "  [['BMI+', 'HOMA+', 'Insulin+', 'Leptin+'], 0.482],\n",
       "  [['Leptin-', 'BMI-', 'HOMA-', 'Insulin-'], 0.482],\n",
       "  [['HOMA+', 'Glucose+', 'Insulin+', 'Leptin+'], 0.434],\n",
       "  [['Leptin-', 'HOMA-', 'Glucose-', 'Insulin-'], 0.434]]}"
      ]
     },
     "execution_count": 52,
     "metadata": {},
     "output_type": "execute_result"
    }
   ],
   "source": [
    "# Mine GPs using existing GRAANK algorithm\n",
    "json.loads(sgp.graank('../data/breast_cancer.csv', min_sup=0.4))\n",
    "#json.loads(sgp.graank('../data/c2k_02k.csv', min_sup=0.5))\n",
    "#json.loads(sgp.graank('../data/DATASET.csv', min_sup=0.5))"
   ]
  },
  {
   "cell_type": "markdown",
   "id": "256ee32a-d2df-4bd8-9bba-e4dea0d61dbf",
   "metadata": {},
   "source": [
    "### Vi. Discussions\n",
    "\n",
    "So far, KMeans gives the best results.\n",
    "\n",
    "#### Mis-clustered GPs\n",
    "We compare the GPs obtained through clustering and the actual GPs. And these 2 GPs are mis-clustered:\n",
    "\n",
    "* 'Resistin+', 'Classification+'\n",
    "* 'Glucose-', 'Classification-'"
   ]
  },
  {
   "cell_type": "code",
   "execution_count": null,
   "id": "72860ecc-9d33-455f-a770-364c3acc4df4",
   "metadata": {},
   "outputs": [],
   "source": []
  }
 ],
 "metadata": {
  "kernelspec": {
   "display_name": "Python 3 (ipykernel)",
   "language": "python",
   "name": "python3"
  },
  "language_info": {
   "codemirror_mode": {
    "name": "ipython",
    "version": 3
   },
   "file_extension": ".py",
   "mimetype": "text/x-python",
   "name": "python",
   "nbconvert_exporter": "python",
   "pygments_lexer": "ipython3",
   "version": "3.9.10"
  }
 },
 "nbformat": 4,
 "nbformat_minor": 5
}
