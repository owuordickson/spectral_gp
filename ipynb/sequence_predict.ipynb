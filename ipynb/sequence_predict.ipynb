{
 "cells": [
  {
   "cell_type": "code",
   "execution_count": null,
   "id": "2478ee67-a352-4afa-82f0-8c7da34f7514",
   "metadata": {},
   "outputs": [],
   "source": [
    "# Predict the sequence of a GP Precedence Graph using DRL or state theory \n",
    "# (e.g. one step look ahead evaluation)\n",
    "\n",
    "# 1. Sort in ascending order\n",
    "# 2. One step look-ahead to determine the next node. For first node (of a document of n rows), it means it has n possible steps)\n",
    "# \n",
    "\n",
    "# May help in solving the recursive problem of find root-node."
   ]
  }
 ],
 "metadata": {
  "kernelspec": {
   "display_name": "Python 3 (ipykernel)",
   "language": "python",
   "name": "python3"
  },
  "language_info": {
   "codemirror_mode": {
    "name": "ipython",
    "version": 3
   },
   "file_extension": ".py",
   "mimetype": "text/x-python",
   "name": "python",
   "nbconvert_exporter": "python",
   "pygments_lexer": "ipython3",
   "version": "3.9.10"
  }
 },
 "nbformat": 4,
 "nbformat_minor": 5
}
