{
 "cells": [
  {
   "cell_type": "code",
   "execution_count": null,
   "id": "2478ee67-a352-4afa-82f0-8c7da34f7514",
   "metadata": {},
   "outputs": [],
   "source": [
    "# Predict the sequence of a GP Precedence Graph using DRL or state theory \n",
    "# (e.g. one step look ahead evaluation)"
   ]
  }
 ],
 "metadata": {
  "kernelspec": {
   "display_name": "Python 3 (ipykernel)",
   "language": "python",
   "name": "python3"
  },
  "language_info": {
   "codemirror_mode": {
    "name": "ipython",
    "version": 3
   },
   "file_extension": ".py",
   "mimetype": "text/x-python",
   "name": "python",
   "nbconvert_exporter": "python",
   "pygments_lexer": "ipython3",
   "version": "3.7.2"
  }
 },
 "nbformat": 4,
 "nbformat_minor": 5
}
