{
 "cells": [
  {
   "cell_type": "markdown",
   "id": "2ce64c88",
   "metadata": {},
   "source": [
    "# Agenda\n",
    "Using SVD to condese GP bitmaps.\n",
    "\n"
   ]
  },
  {
   "cell_type": "code",
   "execution_count": 1,
   "id": "72bb0e00",
   "metadata": {},
   "outputs": [],
   "source": [
    "# Installing Libraries (if not installed)\n",
    "#!pip3 install matplotlib\n",
    "#!pip3 install scikit-learn\n",
    "#!pip3 install seaborn\n",
    "#!pip3 install numpy\n",
    "#!pip3 install pandas\n",
    "#!pip3 install so4gp\n",
    "#!pip3 install scipy\n",
    "#!pip3 install sympy"
   ]
  },
  {
   "cell_type": "markdown",
   "id": "caa30d2f",
   "metadata": {},
   "source": [
    "## 1.2 Import libraries <a name=\"lib-import\"></a>"
   ]
  },
  {
   "cell_type": "code",
   "execution_count": 2,
   "id": "2ef53478",
   "metadata": {},
   "outputs": [],
   "source": [
    "# Importing Libraries\n",
    "import pandas as pd\n",
    "import numpy as np\n",
    "from numpy.linalg import svd\n",
    "import matplotlib.pyplot as plt\n",
    "import seaborn as sns\n",
    "import networkx as nx\n",
    "import sympy\n",
    "import scipy\n",
    "\n",
    "\n",
    "from scipy.sparse import csgraph, csr_matrix\n",
    "from scipy.spatial.distance import pdist, squareform\n",
    "from sklearn.decomposition import TruncatedSVD as tsvd\n",
    "from sklearn.cluster import KMeans\n",
    "from sklearn.neighbors import kneighbors_graph\n",
    "from sklearn.metrics import homogeneity_score, completeness_score,v_measure_score\n",
    "from numpy import linalg as la"
   ]
  },
  {
   "cell_type": "code",
   "execution_count": 3,
   "id": "8159986a-afaf-4623-9fe1-98151b317497",
   "metadata": {},
   "outputs": [],
   "source": [
    "import so4gp as sgp"
   ]
  },
  {
   "cell_type": "code",
   "execution_count": 4,
   "id": "962e99d5-8a2e-4622-9cf3-96b49441222c",
   "metadata": {
    "tags": []
   },
   "outputs": [
    {
     "name": "stdout",
     "output_type": "stream",
     "text": [
      "[[0 0 0 0 0]\n",
      " [1 0 0 0 0]\n",
      " [1 1 0 0 0]\n",
      " [1 1 1 0 0]\n",
      " [1 1 1 1 0]]\n",
      "[[0 1 0 1 0]\n",
      " [0 0 0 1 0]\n",
      " [1 1 0 1 0]\n",
      " [0 0 0 0 0]\n",
      " [1 1 1 1 0]]\n"
     ]
    }
   ],
   "source": [
    "ds = sgp.DataGP('.\\data\\DATASET.csv')\n",
    "#gp_map = so.get_bin_arr(ds, 0)\n",
    "X0 = sgp.gibitmap(ds, 0)\n",
    "X1 = sgp.gibitmap(ds, 1)\n",
    "X2 = sgp.gibitmap(ds, 2)\n",
    "X3 = sgp.gibitmap(ds, 3)\n",
    "\n",
    "print(X0)\n",
    "print(X1)"
   ]
  },
  {
   "cell_type": "code",
   "execution_count": 42,
   "id": "61337d0b-cf40-4440-ab66-5386c989ae7e",
   "metadata": {},
   "outputs": [],
   "source": [
    "bm_matrix = []\n",
    "for i in ds.attr_cols:\n",
    "    bm = sgp.gibitmap(ds, i)\n",
    "    bm_matrix.append(bm)\n",
    "    \n",
    "bm_matrix = np.array(bm_matrix, dtype=int)"
   ]
  },
  {
   "cell_type": "code",
   "execution_count": 5,
   "id": "c7fbf240-5907-4981-b738-ff99f851c60e",
   "metadata": {},
   "outputs": [
    {
     "name": "stdout",
     "output_type": "stream",
     "text": [
      "[2.87938524 1.         0.65270364 0.53208889 0.        ]\n"
     ]
    }
   ],
   "source": [
    "U0, S0, VT0 = svd(X0)\n",
    "U1, S1, VT1 = svd(X1)\n",
    "print(S0)"
   ]
  },
  {
   "cell_type": "code",
   "execution_count": 6,
   "id": "7c8ab041-d739-471c-826f-07efb19909f3",
   "metadata": {},
   "outputs": [
    {
     "name": "stdout",
     "output_type": "stream",
     "text": [
      "[2.87938524 1.         0.65270364 0.53208889 0.        ]\n"
     ]
    }
   ],
   "source": [
    "print(S1)"
   ]
  },
  {
   "cell_type": "code",
   "execution_count": 7,
   "id": "05fe1114-bcc9-49dc-b063-5feb97340960",
   "metadata": {},
   "outputs": [
    {
     "data": {
      "text/plain": [
       "(5, 5)"
      ]
     },
     "execution_count": 7,
     "metadata": {},
     "output_type": "execute_result"
    }
   ],
   "source": [
    "U1.shape"
   ]
  },
  {
   "cell_type": "code",
   "execution_count": 8,
   "id": "7f4d819a-3ffa-4a2c-98ab-252d5829541c",
   "metadata": {},
   "outputs": [
    {
     "data": {
      "image/png": "[encoded data removed]",
      "text/plain": [
       "<Figure size 432x288 with 1 Axes>"
      ]
     },
     "metadata": {
      "needs_background": "light"
     },
     "output_type": "display_data"
    }
   ],
   "source": [
    "plt.figure(1)\n",
    "plt.plot(S0)\n",
    "plt.plot(S1)\n",
    "plt.title('Singular Values')\n",
    "plt.show()"
   ]
  },
  {
   "cell_type": "code",
   "execution_count": 9,
   "id": "b0768b69-2378-4fa6-a9d4-3daae37a720b",
   "metadata": {},
   "outputs": [
    {
     "data": {
      "text/plain": [
       "(5, 3)"
      ]
     },
     "execution_count": 9,
     "metadata": {},
     "output_type": "execute_result"
    }
   ],
   "source": [
    "U1approx = U1[:,:3] \n",
    "U1approx.shape\n"
   ]
  },
  {
   "cell_type": "code",
   "execution_count": 10,
   "id": "de46c424-75be-481e-a5c8-28d5810e53d4",
   "metadata": {},
   "outputs": [
    {
     "data": {
      "text/plain": [
       "(3, 3)"
      ]
     },
     "execution_count": 10,
     "metadata": {},
     "output_type": "execute_result"
    }
   ],
   "source": [
    "S1approx = np.diag(S1)[0:3,:3]\n",
    "S1approx.shape\n"
   ]
  },
  {
   "cell_type": "code",
   "execution_count": 11,
   "id": "7d9ad7bd-7460-4e36-bd18-e27992528bc4",
   "metadata": {},
   "outputs": [
    {
     "data": {
      "text/plain": [
       "(3, 5)"
      ]
     },
     "execution_count": 11,
     "metadata": {},
     "output_type": "execute_result"
    }
   ],
   "source": [
    "VT1approx = VT1[:3,:]\n",
    "VT1approx.shape\n"
   ]
  },
  {
   "cell_type": "code",
   "execution_count": 12,
   "id": "36056903-0646-4a78-b9a5-eb2fcd7c23cb",
   "metadata": {},
   "outputs": [
    {
     "name": "stdout",
     "output_type": "stream",
     "text": [
      "[[ 0.22935309  0.79831028 -0.1496996 ]\n",
      " [-0.1496996   0.13164361  0.09770947]\n",
      " [ 0.79831028  1.17736296  0.13164361]]\n",
      "[[-7.08655335e-17  5.22968647e-17  5.27030230e-17 -2.74204222e-17\n",
      "   0.00000000e+00]\n",
      " [ 9.48009876e-01  1.31643615e-01 -1.49699595e-01  9.77094713e-02\n",
      "   0.00000000e+00]\n",
      " [ 1.07965349e+00  7.98310281e-01  2.29353086e-01 -1.49699595e-01\n",
      "   0.00000000e+00]\n",
      " [ 9.29953896e-01  1.17736296e+00  7.98310281e-01  1.31643615e-01\n",
      "   0.00000000e+00]\n",
      " [ 1.02766337e+00  9.29953896e-01  1.07965349e+00  9.48009876e-01\n",
      "   0.00000000e+00]]\n"
     ]
    }
   ],
   "source": [
    "Xapprox = U1[0:3,:3] @ np.diag(S1)[0:3,:3] @ VT1[:3,:3]  # 3x3 Matirx\n",
    "X0approx = U0[:,:3] @ np.diag(S0)[0:3,:3] @ VT0[:3,:]\n",
    "X1approx = U1[:,:3] @ np.diag(S1)[0:3,:3] @ VT1[:3,:]\n",
    "print(Xapprox)\n",
    "print(X0approx)"
   ]
  },
  {
   "cell_type": "code",
   "execution_count": 13,
   "id": "b3030bbd-92f8-4dec-aa3b-76b70d79c5d4",
   "metadata": {},
   "outputs": [
    {
     "name": "stdout",
     "output_type": "stream",
     "text": [
      "[[ 0.22935309  0.79831028 -0.1496996   1.07965349  0.        ]\n",
      " [-0.1496996   0.13164361  0.09770947  0.94800988  0.        ]\n",
      " [ 0.79831028  1.17736296  0.13164361  0.9299539   0.        ]\n",
      " [ 0.          0.          0.          0.          0.        ]\n",
      " [ 1.07965349  0.9299539   0.94800988  1.02766337  0.        ]]\n"
     ]
    }
   ],
   "source": [
    "print(X1approx)"
   ]
  },
  {
   "cell_type": "code",
   "execution_count": 14,
   "id": "a8b11d64-8065-4c31-8029-d12fd467813d",
   "metadata": {},
   "outputs": [
    {
     "data": {
      "text/plain": [
       "TruncatedSVD(n_components=3)"
      ]
     },
     "execution_count": 14,
     "metadata": {},
     "output_type": "execute_result"
    }
   ],
   "source": [
    "U = tsvd(n_components=3)\n",
    "R = U.fit(X0)\n",
    "R"
   ]
  },
  {
   "cell_type": "code",
   "execution_count": 15,
   "id": "0f03a062-870b-4542-837a-e0fc24997da0",
   "metadata": {},
   "outputs": [
    {
     "data": {
      "text/plain": [
       "array([[ 0.00000000e+00,  0.00000000e+00,  0.00000000e+00],\n",
       "       [ 6.56538502e-01,  5.77350269e-01,  4.28525073e-01],\n",
       "       [ 1.23388877e+00,  5.77350269e-01, -1.48825196e-01],\n",
       "       [ 1.66241384e+00,  2.22044605e-16, -3.76838625e-01],\n",
       "       [ 1.89042727e+00, -5.77350269e-01,  2.79699877e-01]])"
      ]
     },
     "execution_count": 15,
     "metadata": {},
     "output_type": "execute_result"
    }
   ],
   "source": [
    "R = U.fit_transform(X0)\n",
    "R"
   ]
  },
  {
   "cell_type": "markdown",
   "id": "2cceaf32-1f78-41d8-abab-7977edbb8a87",
   "metadata": {},
   "source": [
    "# Bitmap to Grayscale/RGB Image"
   ]
  },
  {
   "cell_type": "code",
   "execution_count": 16,
   "id": "35b02615-8551-4c90-ac4e-6bb64b5010d5",
   "metadata": {},
   "outputs": [
    {
     "data": {
      "image/png": "[encoded data removed]",
      "text/plain": [
       "<PIL.Image.Image image mode=RGB size=241x241 at 0x221D3608B70>"
      ]
     },
     "execution_count": 16,
     "metadata": {},
     "output_type": "execute_result"
    }
   ],
   "source": [
    "from PIL import Image\n",
    "\n",
    "size=241\n",
    "arr = np.zeros((size,size,3))\n",
    "arr\n",
    "\n",
    "arr[:,:,0] = [[255]*size]*size\n",
    "arr[:,:,1] = [[255]*size]*size\n",
    "arr[:,:,2] = [[0]*size]*size\n",
    "\n",
    "img = Image.fromarray(arr.astype(int), 'RGB')\n",
    "img"
   ]
  },
  {
   "cell_type": "code",
   "execution_count": 17,
   "id": "7d103b60-acf3-44c7-9a0e-18686133805e",
   "metadata": {},
   "outputs": [
    {
     "data": {
      "image/png": "[encoded data removed]",
      "text/plain": [
       "<PIL.Image.Image image mode=I size=5x5 at 0x221D3608A58>"
      ]
     },
     "execution_count": 17,
     "metadata": {},
     "output_type": "execute_result"
    }
   ],
   "source": [
    "im = Image.fromarray((X1*255).astype(int))\n",
    "im"
   ]
  },
  {
   "cell_type": "code",
   "execution_count": 18,
   "id": "299d77bf-7e5f-4e8f-bf9f-fb3498af2445",
   "metadata": {},
   "outputs": [
    {
     "data": {
      "text/plain": [
       "(241, 241)"
      ]
     },
     "execution_count": 18,
     "metadata": {},
     "output_type": "execute_result"
    }
   ],
   "source": [
    "a = [[255]*size]*size\n",
    "a = np.array(a)\n",
    "a.shape"
   ]
  },
  {
   "cell_type": "code",
   "execution_count": 19,
   "id": "2859310c-76de-4243-bf18-ce90bd5827f6",
   "metadata": {},
   "outputs": [
    {
     "data": {
      "text/plain": [
       "<matplotlib.image.AxesImage at 0x221d37a88d0>"
      ]
     },
     "execution_count": 19,
     "metadata": {},
     "output_type": "execute_result"
    },
    {
     "data": {
      "image/png": "[encoded data removed]",
      "text/plain": [
       "<Figure size 432x288 with 1 Axes>"
      ]
     },
     "metadata": {
      "needs_background": "light"
     },
     "output_type": "display_data"
    }
   ],
   "source": [
    "from matplotlib.image import imread\n",
    "A = imread('data/dog.jpg')\n",
    "A.shape\n",
    "\n",
    "X = np.mean(A, -1)  # Convert from RGB to Grayscale\n",
    "X.shape\n",
    "img = plt.imshow(X1)\n",
    "img.set_cmap('gray')\n",
    "img"
   ]
  },
  {
   "cell_type": "code",
   "execution_count": 20,
   "id": "ed6f284e-39d6-4d26-8ae4-901af3b060db",
   "metadata": {},
   "outputs": [
    {
     "data": {
      "text/plain": [
       "<matplotlib.image.AxesImage at 0x221d38192e8>"
      ]
     },
     "execution_count": 20,
     "metadata": {},
     "output_type": "execute_result"
    },
    {
     "data": {
      "image/png": "[encoded data removed]",
      "text/plain": [
       "<Figure size 432x288 with 1 Axes>"
      ]
     },
     "metadata": {
      "needs_background": "light"
     },
     "output_type": "display_data"
    }
   ],
   "source": [
    "U, S, VT = svd(X)\n",
    "# S = np.diag(S)\n",
    "Xapprox = U[:,:10] @ np.diag(S)[0:10,:10] @ VT[:10,:]\n",
    "\n",
    "\n",
    "img = plt.imshow(X1approx)\n",
    "img.set_cmap('gray')\n",
    "img"
   ]
  },
  {
   "cell_type": "markdown",
   "id": "ce24182f-6fa3-4aee-9c39-2918a568b33a",
   "metadata": {},
   "source": [
    "# Similarity Functions\n",
    "\n",
    "# Gaussian Similarity Function"
   ]
  },
  {
   "cell_type": "code",
   "execution_count": 21,
   "id": "83f49a21-8b99-4907-94f6-93ead72eec87",
   "metadata": {},
   "outputs": [
    {
     "data": {
      "text/plain": [
       "array([[1.00000000e+00, 0.00000000e+00, 0.00000000e+00, 0.00000000e+00,\n",
       "        0.00000000e+00, 0.00000000e+00],\n",
       "       [0.00000000e+00, 1.00000000e+00, 7.78113224e-20, 2.89464031e-63,\n",
       "        3.44247711e-14, 1.02618796e-10],\n",
       "       [0.00000000e+00, 7.78113224e-20, 1.00000000e+00, 1.09276566e-73,\n",
       "        4.97870684e-02, 6.30511676e-16],\n",
       "       [0.00000000e+00, 2.89464031e-63, 1.09276566e-73, 1.00000000e+00,\n",
       "        5.81404049e-62, 1.08063928e-30],\n",
       "       [0.00000000e+00, 3.44247711e-14, 4.97870684e-02, 5.81404049e-62,\n",
       "        1.00000000e+00, 2.06115362e-09],\n",
       "       [0.00000000e+00, 1.02618796e-10, 6.30511676e-16, 1.08063928e-30,\n",
       "        2.06115362e-09, 1.00000000e+00]])"
      ]
     },
     "execution_count": 21,
     "metadata": {},
     "output_type": "execute_result"
    }
   ],
   "source": [
    "# this is an NxD matrix, where N is number of items and D its dimensionalites\n",
    "size = 5\n",
    "s = 1  # sigma\n",
    "#X = np.array(ds.data.T[0], dtype=int)\n",
    "X = np.array(ds.data.T, dtype=int)\n",
    "#X = X1 #np.zeros((size,size))\n",
    "pairwise_dists = squareform(pdist(X, 'euclidean'))\n",
    "K = np.exp(-pairwise_dists ** 2 / s ** 2)\n",
    "K"
   ]
  },
  {
   "cell_type": "code",
   "execution_count": 22,
   "id": "2f2322f7-37aa-4847-9d4a-568dc98e856c",
   "metadata": {},
   "outputs": [
    {
     "name": "stdout",
     "output_type": "stream",
     "text": [
      "[[0 1 0 1 0]\n",
      " [0 0 0 1 0]\n",
      " [1 1 0 1 0]\n",
      " [0 0 0 0 0]\n",
      " [1 1 1 1 0]]\n"
     ]
    }
   ],
   "source": [
    "print(X1)"
   ]
  },
  {
   "cell_type": "code",
   "execution_count": 23,
   "id": "77bfc7ea-bcaa-4ca5-b617-ff915ca7879c",
   "metadata": {},
   "outputs": [
    {
     "data": {
      "text/plain": [
       "array([[30,  0,  0,  0,  0],\n",
       "       [ 0, 35,  0,  0,  0],\n",
       "       [ 0,  0, 40,  0,  0],\n",
       "       [ 0,  0,  0, 50,  0],\n",
       "       [ 0,  0,  0,  0, 52]])"
      ]
     },
     "execution_count": 23,
     "metadata": {},
     "output_type": "execute_result"
    }
   ],
   "source": [
    "D = np.array(ds.data.T, dtype=int)\n",
    "X = np.array(np.diag(ds.data.T[0]), dtype=int)\n",
    "X"
   ]
  },
  {
   "cell_type": "markdown",
   "id": "0a62603a-c012-4760-bfde-16d3a6f91358",
   "metadata": {},
   "source": [
    "# Row Reduced Echelon Form (RREF)\n",
    "* You need to perform *gaussian elimination* before deriving the RREF"
   ]
  },
  {
   "cell_type": "code",
   "execution_count": 24,
   "id": "cc5d755e-5b8c-4953-a3bb-113ef1dfa306",
   "metadata": {},
   "outputs": [
    {
     "data": {
      "text/plain": [
       "array([[30, 35, 40, 50, 52],\n",
       "       [ 3,  2,  4,  1,  7],\n",
       "       [ 1,  2,  2,  1,  1],\n",
       "       [10,  8,  7,  6,  2],\n",
       "       [ 2,  2,  2,  2,  2],\n",
       "       [ 4,  4,  4,  4,  4]])"
      ]
     },
     "execution_count": 24,
     "metadata": {},
     "output_type": "execute_result"
    }
   ],
   "source": [
    "X = X1 \n",
    "X = D\n",
    "X"
   ]
  },
  {
   "cell_type": "code",
   "execution_count": 25,
   "id": "1a01a9ae-1d6b-4e10-8296-9fcb39043b27",
   "metadata": {},
   "outputs": [
    {
     "name": "stdout",
     "output_type": "stream",
     "text": [
      "(Matrix([\n",
      "[1, 0, 0, 0, 0],\n",
      "[0, 1, 0, 0, 0],\n",
      "[0, 0, 1, 0, 0],\n",
      "[0, 0, 0, 1, 0],\n",
      "[0, 0, 0, 0, 1],\n",
      "[0, 0, 0, 0, 0]]), (0, 1, 2, 3, 4))\n"
     ]
    }
   ],
   "source": [
    "# find the reduced row echelon form\n",
    "#X = [[4,0,1],[2,0,2],[3,0,3]]\n",
    "r = sympy.Matrix(X).rref()\n",
    "print(r)  "
   ]
  },
  {
   "cell_type": "code",
   "execution_count": 26,
   "id": "204eaad0-27de-4cd7-b16e-3453aae62f33",
   "metadata": {},
   "outputs": [
    {
     "name": "stdout",
     "output_type": "stream",
     "text": [
      "Rank of matrix : 5\n"
     ]
    }
   ],
   "source": [
    "\n",
    "# find the rank of matrix\n",
    "print(\"Rank of matrix :\",sympy.Matrix(X).rank())"
   ]
  },
  {
   "cell_type": "markdown",
   "id": "0cebc2cc-ded4-45f9-9c4e-d040efef230e",
   "metadata": {},
   "source": [
    "# Constructing K-nearest neighbors graph of GP Bitmaps"
   ]
  },
  {
   "cell_type": "code",
   "execution_count": 27,
   "id": "4aae3567-e141-402a-a29b-d529fd63c2f4",
   "metadata": {},
   "outputs": [
    {
     "data": {
      "text/plain": [
       "matrix([[0., 1., 1., 0., 0.],\n",
       "        [1., 0., 1., 0., 0.],\n",
       "        [0., 1., 0., 1., 0.],\n",
       "        [0., 0., 1., 0., 1.],\n",
       "        [0., 0., 1., 1., 0.]])"
      ]
     },
     "execution_count": 27,
     "metadata": {},
     "output_type": "execute_result"
    }
   ],
   "source": [
    "# Constructing K-nearest neighbors graph\n",
    "X = X0\n",
    "n_neighbors = 2\n",
    "knn_dist_graph = kneighbors_graph(X=X,\n",
    "                                 n_neighbors=n_neighbors,\n",
    "                                 mode='connectivity')\n",
    "knn_dist_graph.todense()#[0][:,:50]"
   ]
  },
  {
   "cell_type": "markdown",
   "id": "55bf286d-d986-4bd1-b0de-68bf7a4b2c62",
   "metadata": {},
   "source": [
    "## Computing Similarity\n",
    "Based on connectivity (0 or 1)"
   ]
  },
  {
   "cell_type": "code",
   "execution_count": 28,
   "id": "acab35fd-fba5-4bbf-934e-796f3f2a67a1",
   "metadata": {},
   "outputs": [
    {
     "name": "stderr",
     "output_type": "stream",
     "text": [
      "C:\\Users\\dowuor\\AppData\\Local\\Programs\\Python\\Python37\\lib\\site-packages\\scipy\\sparse\\_index.py:125: SparseEfficiencyWarning: Changing the sparsity structure of a csr_matrix is expensive. lil_matrix is more efficient.\n",
      "  self._set_arrayXarray(i, j, x)\n"
     ]
    },
    {
     "data": {
      "text/plain": [
       "matrix([[0.        , 0.60653066, 0.30326533, 0.        , 0.        ],\n",
       "        [0.60653066, 0.        , 0.60653066, 0.        , 0.        ],\n",
       "        [0.30326533, 0.60653066, 0.        , 0.60653066, 0.30326533],\n",
       "        [0.        , 0.        , 0.60653066, 0.        , 0.60653066],\n",
       "        [0.        , 0.        , 0.30326533, 0.60653066, 0.        ]])"
      ]
     },
     "execution_count": 28,
     "metadata": {},
     "output_type": "execute_result"
    }
   ],
   "source": [
    "# Similarity graph\n",
    "\n",
    "sigma = 1\n",
    "similarity_graph = csr_matrix(knn_dist_graph.shape)\n",
    "nonzeroindices = knn_dist_graph.nonzero()\n",
    "similarity_graph[nonzeroindices] = np.exp( -np.asarray(knn_dist_graph[nonzeroindices])**2 / 2.0 * sigma**2)\n",
    "similarity_graph = 0.5 * (similarity_graph + similarity_graph.T)\n",
    "similarity_graph.todense()#[0][:,:5]"
   ]
  },
  {
   "cell_type": "markdown",
   "id": "3c1313c7-a9b5-4a5b-a1e0-09cc0402ac54",
   "metadata": {
    "jp-MarkdownHeadingCollapsed": true,
    "tags": []
   },
   "source": [
    "# Spectral Clustering\n",
    "\n",
    "Data set is the GP bitmaps (X0, X1, ..., Xn). Each attribute generates a GP bitmap."
   ]
  },
  {
   "cell_type": "markdown",
   "id": "8f25dfbd-dabf-4375-a1f6-d17a12985fe3",
   "metadata": {},
   "source": [
    "# Laplacian Matrix (L)\n",
    "\n",
    "L = D - W\n",
    "\n",
    "where D is a diagonal matirx di = sum(Wij)"
   ]
  },
  {
   "cell_type": "code",
   "execution_count": 29,
   "id": "93449858-27d4-48c7-a366-96155358f2bc",
   "metadata": {},
   "outputs": [
    {
     "data": {
      "text/plain": [
       "array([[0, 0, 0, 0, 0],\n",
       "       [1, 0, 0, 1, 1],\n",
       "       [1, 0, 0, 1, 1],\n",
       "       [0, 0, 0, 0, 0],\n",
       "       [0, 0, 0, 0, 0]])"
      ]
     },
     "execution_count": 29,
     "metadata": {},
     "output_type": "execute_result"
    }
   ],
   "source": [
    "W = X2\n",
    "W"
   ]
  },
  {
   "cell_type": "code",
   "execution_count": 30,
   "id": "48d1ab5c-9d93-4b86-a31f-bd4a6a1ea306",
   "metadata": {},
   "outputs": [
    {
     "data": {
      "text/plain": [
       "array([[0, 0, 0, 0, 0],\n",
       "       [0, 3, 0, 0, 0],\n",
       "       [0, 0, 3, 0, 0],\n",
       "       [0, 0, 0, 0, 0],\n",
       "       [0, 0, 0, 0, 0]])"
      ]
     },
     "execution_count": 30,
     "metadata": {},
     "output_type": "execute_result"
    }
   ],
   "source": [
    "# Sum of rows\n",
    "#D = []\n",
    "#for r in W:\n",
    "#    d = np.sum(r)\n",
    "#    D.append(d)\n",
    "#D = np.diag(D)\n",
    "#D\n",
    "\n",
    "# strength diagonal matrix\n",
    "D = np.diag(np.sum(W,axis=1))\n",
    "D"
   ]
  },
  {
   "cell_type": "code",
   "execution_count": 31,
   "id": "6fef1d80-dfb2-4515-8188-2b79be3ef1c1",
   "metadata": {},
   "outputs": [
    {
     "data": {
      "text/plain": [
       "array([[ 0,  0,  0,  0,  0],\n",
       "       [-1,  3,  0, -1, -1],\n",
       "       [-1,  0,  3, -1, -1],\n",
       "       [ 0,  0,  0,  0,  0],\n",
       "       [ 0,  0,  0,  0,  0]])"
      ]
     },
     "execution_count": 31,
     "metadata": {},
     "output_type": "execute_result"
    }
   ],
   "source": [
    "# Laplacian Matrix\n",
    "\n",
    "L = D - W\n",
    "L"
   ]
  },
  {
   "cell_type": "code",
   "execution_count": 32,
   "id": "3b7e8f09-39be-44a8-8dcb-12746aeff525",
   "metadata": {},
   "outputs": [
    {
     "data": {
      "text/plain": [
       "array([[ 2,  0,  0,  0,  0],\n",
       "       [-1,  0,  0, -1, -1],\n",
       "       [-1,  0,  0, -1, -1],\n",
       "       [ 0,  0,  0,  2,  0],\n",
       "       [ 0,  0,  0,  0,  2]])"
      ]
     },
     "execution_count": 32,
     "metadata": {},
     "output_type": "execute_result"
    }
   ],
   "source": [
    "L = csgraph.laplacian(W, normed=False)\n",
    "L"
   ]
  },
  {
   "cell_type": "code",
   "execution_count": 33,
   "id": "1d586cd0-2c3a-407c-a9c1-965c365e0e3b",
   "metadata": {},
   "outputs": [
    {
     "data": {
      "text/plain": [
       "array([[ 1.        , -0.        , -0.        , -0.        , -0.        ],\n",
       "       [-0.70710678,  0.        , -0.        , -0.70710678, -0.70710678],\n",
       "       [-0.70710678, -0.        ,  0.        , -0.70710678, -0.70710678],\n",
       "       [-0.        , -0.        , -0.        ,  1.        , -0.        ],\n",
       "       [-0.        , -0.        , -0.        , -0.        ,  1.        ]])"
      ]
     },
     "execution_count": 33,
     "metadata": {},
     "output_type": "execute_result"
    }
   ],
   "source": [
    "# Normalized Laplacian Matirx: \n",
    "\n",
    "# identity\n",
    "#I = np.identity(W.shape[0])\n",
    "# D^{-1/2} matrix\n",
    "#D_inv_sqrt = la.inv(np.sqrt(D))\n",
    "#L_norm = I - np.dot(D_inv_sqrt, W).dot(D_inv_sqrt)\n",
    "#L_norm\n",
    "\n",
    "L_norm = csgraph.laplacian(W, normed=True)\n",
    "L_norm"
   ]
  },
  {
   "cell_type": "code",
   "execution_count": 34,
   "id": "59694dba-cb4f-4cc6-b866-15fef4b6a8ed",
   "metadata": {},
   "outputs": [
    {
     "data": {
      "text/plain": [
       "[[0, 0.25, 0.2, 0.2, 0.25, 0, 0, 0, 0, 0],\n",
       " [0.25, 0, 0.2, 0.2, 0.25, 0, 0, 0, 0, 0],\n",
       " [0.2, 0.2, 0, 0.17, 0.2, 0.17, 0.17, 0, 0, 0],\n",
       " [0.2, 0.2, 0.17, 0, 0.2, 0.17, 0.17, 0, 0, 0],\n",
       " [0.25, 0.25, 0.2, 0.2, 0, 0, 0, 0, 0, 0],\n",
       " [0, 0, 0.17, 0.17, 0, 0, 0.17, 0.2, 0.2, 0.2],\n",
       " [0, 0, 0.17, 0.17, 0, 0.17, 0, 0.2, 0.2, 0.2],\n",
       " [0, 0, 0, 0, 0, 0.2, 0.2, 0, 0.25, 0.25],\n",
       " [0, 0, 0, 0, 0, 0.2, 0.2, 0.25, 0, 0.25],\n",
       " [0, 0, 0, 0, 0, 0.2, 0.2, 0.25, 0.25, 0]]"
      ]
     },
     "execution_count": 34,
     "metadata": {},
     "output_type": "execute_result"
    }
   ],
   "source": [
    "L1_norm = [[0,0.25,0.2,0.2,0.25,0,0,0,0,0],\n",
    "      [0.25,0,0.2,0.2,0.25,0,0,0,0,0],\n",
    "      [0.2,0.2,0,0.17,0.2,0.17,0.17,0,0,0],\n",
    "      [0.2,0.2,0.17,0,0.2,0.17,0.17,0,0,0],\n",
    "      [0.25,0.25,0.2,0.2,0,0,0,0,0,0],\n",
    "      [0,0,0.17,0.17,0,0,0.17,0.2,0.2,0.2],\n",
    "      [0,0,0.17,0.17,0,0.17,0,0.2,0.2,0.2],\n",
    "      [0,0,0,0,0,0.2,0.2,0,0.25,0.25],\n",
    "      [0,0,0,0,0,0.2,0.2,0.25,0,0.25],\n",
    "      [0,0,0,0,0,0.2,0.2,0.25,0.25,0]]\n",
    "L1_norn = np.array(L1_norm)\n",
    "L1_norm"
   ]
  },
  {
   "cell_type": "code",
   "execution_count": 35,
   "id": "f5e1ef59-5a62-43fe-a2e5-79ac4cf81d79",
   "metadata": {},
   "outputs": [
    {
     "data": {
      "text/plain": [
       "array([0., 0., 1., 1., 1.])"
      ]
     },
     "execution_count": 35,
     "metadata": {},
     "output_type": "execute_result"
    }
   ],
   "source": [
    "# Compute eigenvalues: w-eigenvalues, v-eigenvector\n",
    "w, v = la.eig(L)\n",
    "w, v = la.eig(L_norm)\n",
    "w"
   ]
  },
  {
   "cell_type": "code",
   "execution_count": 36,
   "id": "ccfff691-d26d-42e0-86c9-4c873014c58c",
   "metadata": {},
   "outputs": [
    {
     "data": {
      "text/plain": [
       "array([[ 0.        ,  0.        ,  0.70710678,  0.        ,  0.        ],\n",
       "       [ 0.        ,  1.        , -0.5       , -0.5       , -0.5       ],\n",
       "       [ 1.        ,  0.        , -0.5       , -0.5       , -0.5       ],\n",
       "       [ 0.        ,  0.        ,  0.        ,  0.70710678,  0.        ],\n",
       "       [ 0.        ,  0.        ,  0.        ,  0.        ,  0.70710678]])"
      ]
     },
     "execution_count": 36,
     "metadata": {},
     "output_type": "execute_result"
    }
   ],
   "source": [
    "v"
   ]
  },
  {
   "cell_type": "code",
   "execution_count": 37,
   "id": "1c500ce7-4b92-48ba-8900-e2cbe852cf62",
   "metadata": {},
   "outputs": [
    {
     "data": {
      "text/plain": [
       "array([[0., 0.],\n",
       "       [0., 1.],\n",
       "       [1., 0.],\n",
       "       [0., 0.],\n",
       "       [0., 0.]])"
      ]
     },
     "execution_count": 37,
     "metadata": {},
     "output_type": "execute_result"
    }
   ],
   "source": [
    "# KMeans of first 2 largest u1, u2\n",
    "k = 2\n",
    "U12 = v[:, 0:k]\n",
    "U12"
   ]
  },
  {
   "cell_type": "code",
   "execution_count": 38,
   "id": "845a21f8-6132-4ed2-b310-67a235c1063a",
   "metadata": {},
   "outputs": [
    {
     "data": {
      "text/plain": [
       "array([0, 0, 1, 0, 0])"
      ]
     },
     "execution_count": 38,
     "metadata": {},
     "output_type": "execute_result"
    }
   ],
   "source": [
    "kmeans = KMeans(n_clusters=k, random_state=0)\n",
    "y_pred = kmeans.fit_predict(U12)\n",
    "y_pred"
   ]
  },
  {
   "cell_type": "code",
   "execution_count": 39,
   "id": "b3ffff1b-35d4-4dc2-a999-d0a8e2a16213",
   "metadata": {},
   "outputs": [
    {
     "data": {
      "image/png": "[encoded data removed]",
      "text/plain": [
       "<Figure size 432x288 with 1 Axes>"
      ]
     },
     "metadata": {
      "needs_background": "light"
     },
     "output_type": "display_data"
    },
    {
     "data": {
      "text/plain": [
       "array([[0.  , 0.25],\n",
       "       [1.  , 0.  ]])"
      ]
     },
     "execution_count": 39,
     "metadata": {},
     "output_type": "execute_result"
    }
   ],
   "source": [
    "x1 = W[:, 0]\n",
    "x2 = W[:, 1]\n",
    "#x3 = U12[:, 2]\n",
    "\n",
    "plt.figure(1)\n",
    "#plt.ylim(-0.5, 2)\n",
    "#plt.xlim(-0.5, 2)\n",
    "plt.scatter(x2, x1, c=y_pred)\n",
    "#plt.scatter(x2, x3, s=2)\n",
    "#plt.scatter(U12[:, 2], y, c=y_pred)\n",
    "#plt.scatter(U12[:, 3], y, c=y_pred)\n",
    "#plt.scatter(kmeans.cluster_centers_[:, 1], kmeans.cluster_centers_[:, 0], c='red', marker='x')\n",
    "plt.title('Scatter')\n",
    "plt.show()\n",
    "\n",
    "kmeans.cluster_centers_\n"
   ]
  },
  {
   "cell_type": "code",
   "execution_count": 40,
   "id": "d4358ccc-788e-45c3-804d-b7de5792990d",
   "metadata": {},
   "outputs": [],
   "source": [
    "# Check if cluster_centers of different bitmaps can be used to compute support (AND operation)"
   ]
  },
  {
   "cell_type": "code",
   "execution_count": null,
   "id": "fbb2afee-29b9-46c1-b239-a9cbc19e16b8",
   "metadata": {},
   "outputs": [],
   "source": []
  },
  {
   "cell_type": "code",
   "execution_count": 92,
   "id": "b7577ba1-aee9-4fc1-9a80-de3cc94aae31",
   "metadata": {},
   "outputs": [
    {
     "name": "stdout",
     "output_type": "stream",
     "text": [
      "[1. 1. 2. 2. 1. 1. 2. 1. 1. 2. 1. 2. 1. 1. 1. 2. 1. 2. 1. 1. 2. 2. 1. 2.\n",
      " 1. 2. 1. 2. 1. 2. 2. 1. 2. 2. 2. 1. 1. 2. 1. 1. 2. 1. 2. 2. 1. 1. 2. 1.\n",
      " 1. 1. 2. 2. 2. 1. 1. 1. 2. 1. 2. 1. 2. 1. 1. 2. 2. 2. 1. 2. 1. 2. 1. 1.\n",
      " 1. 2. 2. 1. 2. 1. 2. 2. 1. 1. 2. 1. 1. 1. 2. 2. 1. 2. 1. 1. 2. 1. 2. 2.\n",
      " 1. 1. 2. 2. 2. 1. 1. 2. 2. 1. 2. 1. 2. 1. 1. 2. 1. 1. 2. 2. 1. 2. 2. 1.\n",
      " 1. 2. 1. 2. 1. 2. 2. 1. 1. 2. 2. 1. 1. 2. 2. 1. 2. 2. 1. 2. 1. 2. 1. 2.\n",
      " 1. 2. 1. 2. 1. 1. 1. 2. 1. 1. 2. 2. 2. 1. 2. 2. 1. 2. 2. 2. 1. 2. 2. 1.\n",
      " 1. 2. 2. 2. 1. 2. 1. 2. 1. 2. 2. 1. 1. 2. 2. 1. 1. 2. 1. 1. 2. 2. 1. 1.\n",
      " 2. 2. 2. 1. 2. 2. 1. 1.]\n"
     ]
    },
    {
     "data": {
      "text/plain": [
       "array([[0., 1., 1., ..., 1., 1., 1.],\n",
       "       [1., 0., 2., ..., 1., 1., 1.],\n",
       "       [1., 2., 0., ..., 1., 1., 1.],\n",
       "       ...,\n",
       "       [1., 1., 1., ..., 0., 1., 1.],\n",
       "       [1., 1., 1., ..., 1., 0., 1.],\n",
       "       [1., 1., 1., ..., 1., 1., 0.]])"
      ]
     },
     "execution_count": 92,
     "metadata": {},
     "output_type": "execute_result"
    }
   ],
   "source": [
    "# X (2 features at a time)\n",
    "X = np.zeros((data_size, data_size))\n",
    "y  = np.zeros((data_size,))\n",
    "enc = {\"upup\": 1, \"updown\": 2}\n",
    "\n",
    "for i in range(data_size):\n",
    "    for j in range(data_size):\n",
    "        x_i = feature_X[i]\n",
    "        x_j = feature_X[j]\n",
    "        if i == j:\n",
    "            pass\n",
    "        elif (x_i[0] > x_j[0]) and (x_i[1] > x_j[1]):\n",
    "            X[i][j] = enc[\"upup\"]\n",
    "            X[j][i] = enc[\"upup\"]\n",
    "        elif (x_i[0] > x_j[0]) and (x_i[1] < x_j[1]):\n",
    "            X[i][j] = enc[\"updown\"]\n",
    "            X[j][i] = enc[\"updown\"]\n",
    "\n",
    "cols = np.arange(data_size)\n",
    "rows = np.arange(data_size)\n",
    "longest_path = []\n",
    "longest_path_val = 0\n",
    "# print (rows)\n",
    "for i in cols:\n",
    "    # Column i, Row j\n",
    "    path = []\n",
    "    path_val = 0\n",
    "    j = compute_nz(X[i],i)\n",
    "    if j > 0:\n",
    "        if (y[i] == 0) or (y[i] == X[i][j]):\n",
    "            y[i] = X[i][j]\n",
    "        y[j] = X[i][j]\n",
    "        #print(str(i) + ', ' + str(j))\n",
    "\n",
    "print(y)\n",
    "X"
   ]
  }
 ],
 "metadata": {
  "kernelspec": {
   "display_name": "Python 3 (ipykernel)",
   "language": "python",
   "name": "python3"
  },
  "language_info": {
   "codemirror_mode": {
    "name": "ipython",
    "version": 3
   },
   "file_extension": ".py",
   "mimetype": "text/x-python",
   "name": "python",
   "nbconvert_exporter": "python",
   "pygments_lexer": "ipython3",
   "version": "3.7.2"
  }
 },
 "nbformat": 4,
 "nbformat_minor": 5
}
