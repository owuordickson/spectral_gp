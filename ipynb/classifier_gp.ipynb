{
 "cells": [
  {
   "cell_type": "markdown",
   "id": "2ce64c88",
   "metadata": {},
   "source": [
    "# Agenda\n",
    "Spectral clustering of GPs' bitmaps.\n",
    "\n"
   ]
  },
  {
   "cell_type": "code",
   "execution_count": 1,
   "id": "72bb0e00",
   "metadata": {},
   "outputs": [],
   "source": [
    "# Installing Libraries (if not installed)\n",
    "#!pip3 install jupyterlab-git\n",
    "#!pip3 install matplotlib\n",
    "#!pip3 install scikit-learn\n",
    "#!pip3 install seaborn\n",
    "#!pip3 install numpy\n",
    "#!pip3 install pandas\n",
    "#!pip3 install so4gp\n",
    "#!pip3 install scipy\n",
    "#!pip3 install sympy"
   ]
  },
  {
   "cell_type": "markdown",
   "id": "caa30d2f",
   "metadata": {},
   "source": [
    "# Import libraries <a name=\"lib-import\"></a>"
   ]
  },
  {
   "cell_type": "code",
   "execution_count": 2,
   "id": "2ef53478",
   "metadata": {},
   "outputs": [],
   "source": [
    "# Importing Libraries\n",
    "import pandas as pd\n",
    "import numpy as np\n",
    "from numpy.linalg import svd\n",
    "import matplotlib.pyplot as plt\n",
    "import seaborn as sns\n",
    "import networkx as nx\n",
    "import sympy\n",
    "import scipy\n",
    "import math\n",
    "\n",
    "\n",
    "from scipy.sparse import csgraph, csr_matrix\n",
    "from scipy.spatial.distance import pdist, squareform\n",
    "from sklearn.cluster import KMeans\n",
    "from sklearn.neighbors import KNeighborsClassifier\n",
    "from sklearn.neighbors import kneighbors_graph\n",
    "from sklearn.model_selection import train_test_split\n",
    "from sklearn.preprocessing import StandardScaler\n",
    "from sklearn.metrics import homogeneity_score, completeness_score,v_measure_score, confusion_matrix, accuracy_score\n",
    "from numpy import linalg as la"
   ]
  },
  {
   "cell_type": "code",
   "execution_count": 3,
   "id": "8159986a-afaf-4623-9fe1-98151b317497",
   "metadata": {},
   "outputs": [],
   "source": [
    "import so4gp as sgp"
   ]
  },
  {
   "cell_type": "markdown",
   "id": "3c1313c7-a9b5-4a5b-a1e0-09cc0402ac54",
   "metadata": {},
   "source": [
    "## Data set\n",
    "Retrieving data set and the features"
   ]
  },
  {
   "cell_type": "code",
   "execution_count": 122,
   "id": "6e01fe3c-0727-4474-ab13-170b58e76e26",
   "metadata": {},
   "outputs": [
    {
     "data": {
      "text/plain": [
       "array([[ 48.        ,  23.5       ,  70.        , ...,   7.99585   ,\n",
       "        417.114     ,   1.        ],\n",
       "       [ 83.        ,  20.69049454,  92.        , ...,   4.06405   ,\n",
       "        468.786     ,   1.        ],\n",
       "       [ 82.        ,  23.12467037,  91.        , ...,   9.27715   ,\n",
       "        554.697     ,   1.        ],\n",
       "       ...,\n",
       "       [ 65.        ,  32.05      ,  97.        , ...,  10.33      ,\n",
       "        314.05      ,   2.        ],\n",
       "       [ 72.        ,  25.59      ,  82.        , ...,   3.27      ,\n",
       "        392.46      ,   2.        ],\n",
       "       [ 86.        ,  27.18      , 138.        , ...,   4.35      ,\n",
       "         90.09      ,   2.        ]])"
      ]
     },
     "execution_count": 122,
     "metadata": {},
     "output_type": "execute_result"
    }
   ],
   "source": [
    "ds = sgp.DataGP('../data/DATASET.csv')\n",
    "#ds = sgp.DataGP('../data/c2k_02k.csv')\n",
    "ds = sgp.DataGP('../data/breast_cancer.csv')\n",
    "\n",
    "\n",
    "data_size = ds.row_count\n",
    "features = np.array(ds.data, dtype=np.float64)\n",
    "features"
   ]
  },
  {
   "cell_type": "code",
   "execution_count": 123,
   "id": "d3874209-a95c-4880-9ab1-0ae352221a87",
   "metadata": {},
   "outputs": [],
   "source": [
    "#sgp.graank('../data/breast_cancer.csv', min_sup=0.6)"
   ]
  },
  {
   "cell_type": "code",
   "execution_count": 124,
   "id": "95e0ba5b-67cb-4499-bada-99cf62e6ec2a",
   "metadata": {},
   "outputs": [
    {
     "data": {
      "text/plain": [
       "array([[48.        , 23.5       ],\n",
       "       [83.        , 20.69049454],\n",
       "       [82.        , 23.12467037],\n",
       "       [68.        , 21.36752137],\n",
       "       [86.        , 21.11111111],\n",
       "       [49.        , 22.85445769],\n",
       "       [89.        , 22.7       ],\n",
       "       [76.        , 23.8       ],\n",
       "       [73.        , 22.        ],\n",
       "       [75.        , 23.        ],\n",
       "       [34.        , 21.47      ],\n",
       "       [29.        , 23.01      ],\n",
       "       [25.        , 22.86      ],\n",
       "       [24.        , 18.67      ],\n",
       "       [38.        , 23.34      ],\n",
       "       [44.        , 20.76      ],\n",
       "       [47.        , 22.03      ],\n",
       "       [61.        , 32.03895937],\n",
       "       [64.        , 34.5297228 ],\n",
       "       [32.        , 36.51263743],\n",
       "       [36.        , 28.57667585],\n",
       "       [34.        , 31.97501487],\n",
       "       [29.        , 32.27078777],\n",
       "       [35.        , 30.27681661],\n",
       "       [54.        , 30.48315806],\n",
       "       [45.        , 37.03560819],\n",
       "       [50.        , 38.57875854],\n",
       "       [66.        , 31.44654088],\n",
       "       [35.        , 35.2507611 ],\n",
       "       [36.        , 34.17489   ],\n",
       "       [66.        , 36.21227888],\n",
       "       [53.        , 36.7901662 ],\n",
       "       [28.        , 35.85581466],\n",
       "       [43.        , 34.42217362],\n",
       "       [51.        , 27.68877813],\n",
       "       [67.        , 29.60676726],\n",
       "       [66.        , 31.2385898 ],\n",
       "       [69.        , 35.09270153],\n",
       "       [60.        , 26.34929208],\n",
       "       [77.        , 35.58792924],\n",
       "       [76.        , 29.2184076 ],\n",
       "       [76.        , 27.2       ],\n",
       "       [75.        , 27.3       ],\n",
       "       [69.        , 32.5       ],\n",
       "       [71.        , 30.3       ],\n",
       "       [66.        , 27.7       ],\n",
       "       [75.        , 25.7       ],\n",
       "       [78.        , 25.3       ],\n",
       "       [69.        , 29.4       ],\n",
       "       [85.        , 26.6       ],\n",
       "       [76.        , 27.1       ],\n",
       "       [77.        , 25.9       ],\n",
       "       [45.        , 21.30394858],\n",
       "       [45.        , 20.82999519],\n",
       "       [49.        , 20.9566075 ],\n",
       "       [34.        , 24.24242424],\n",
       "       [42.        , 21.35991456],\n",
       "       [68.        , 21.08281329],\n",
       "       [51.        , 19.13265306],\n",
       "       [62.        , 22.65625   ],\n",
       "       [38.        , 22.4996371 ],\n",
       "       [69.        , 21.51385851],\n",
       "       [49.        , 21.36752137],\n",
       "       [51.        , 22.89281998],\n",
       "       [59.        , 22.83287935],\n",
       "       [45.        , 23.14049587],\n",
       "       [54.        , 24.21875   ],\n",
       "       [64.        , 22.22222222],\n",
       "       [46.        , 20.83      ],\n",
       "       [44.        , 19.56      ],\n",
       "       [45.        , 20.26      ],\n",
       "       [44.        , 24.74      ],\n",
       "       [51.        , 18.37      ],\n",
       "       [72.        , 23.62      ],\n",
       "       [46.        , 22.21      ],\n",
       "       [43.        , 26.5625    ],\n",
       "       [55.        , 31.97501487],\n",
       "       [43.        , 31.25      ],\n",
       "       [86.        , 26.66666667],\n",
       "       [41.        , 26.6727633 ],\n",
       "       [59.        , 28.67262608],\n",
       "       [81.        , 31.64036818],\n",
       "       [48.        , 32.46191136],\n",
       "       [71.        , 25.51020408],\n",
       "       [42.        , 29.296875  ],\n",
       "       [65.        , 29.666548  ],\n",
       "       [48.        , 28.125     ],\n",
       "       [85.        , 27.68877813],\n",
       "       [48.        , 31.25      ],\n",
       "       [58.        , 29.15451895],\n",
       "       [40.        , 30.83653053],\n",
       "       [82.        , 31.21748179],\n",
       "       [52.        , 30.8012487 ],\n",
       "       [49.        , 32.46191136],\n",
       "       [60.        , 31.23140988],\n",
       "       [49.        , 29.77777778],\n",
       "       [44.        , 27.88761707],\n",
       "       [40.        , 27.63605442],\n",
       "       [71.        , 27.91551882],\n",
       "       [69.        , 28.44444444],\n",
       "       [74.        , 28.65013774],\n",
       "       [66.        , 26.5625    ],\n",
       "       [65.        , 30.91557669],\n",
       "       [72.        , 29.13631634],\n",
       "       [57.        , 34.83814777],\n",
       "       [73.        , 37.109375  ],\n",
       "       [45.        , 29.38475666],\n",
       "       [46.        , 33.18      ],\n",
       "       [68.        , 35.56      ],\n",
       "       [75.        , 30.48      ],\n",
       "       [54.        , 36.05      ],\n",
       "       [45.        , 26.85      ],\n",
       "       [62.        , 26.84      ],\n",
       "       [65.        , 32.05      ],\n",
       "       [72.        , 25.59      ],\n",
       "       [86.        , 27.18      ]])"
      ]
     },
     "execution_count": 124,
     "metadata": {},
     "output_type": "execute_result"
    }
   ],
   "source": [
    "feature_X = features[:, [0,1]]\n",
    "feature_X"
   ]
  },
  {
   "cell_type": "markdown",
   "id": "fa870f0f-2b14-4721-8e14-c32724d962cb",
   "metadata": {},
   "source": [
    "## Train similirity labels\n",
    "\n",
    "### a. Retrieving training data set (X, y)"
   ]
  },
  {
   "cell_type": "code",
   "execution_count": 125,
   "id": "c27c3814-03b1-4b0a-ba0b-d55491049c26",
   "metadata": {},
   "outputs": [],
   "source": [
    "def compute_nz(row, i, val=0):\n",
    "    #print(row[i:])\n",
    "    nz = np.nonzero(row)\n",
    "    for k in range(nz[0].size):\n",
    "        if nz[0].size > 0:\n",
    "            j = nz[0][k]\n",
    "            if (j > i) and (val == 0):\n",
    "                return j\n",
    "            elif (j > i) and (row[j] == val):\n",
    "                return j\n",
    "    return 0"
   ]
  },
  {
   "cell_type": "code",
   "execution_count": 126,
   "id": "4c85b4f0-df8f-4d02-a99a-a2ea3d0e7f10",
   "metadata": {},
   "outputs": [],
   "source": [
    "def compute_path(j, X, path, path_val):\n",
    "    if type(path) != list:\n",
    "        # 1st iteration\n",
    "        return compute_path(j, X, [path, j], path_val)\n",
    "    \n",
    "    k = compute_nz(X[j],j,val=path_val)\n",
    "    j += 1\n",
    "    if k > 0:\n",
    "        path.append(k)\n",
    "        if k < data_size:\n",
    "            return compute_path(k, X, path, path_val)\n",
    "    elif j < data_size:\n",
    "        return compute_path(j, X, path, path_val)\n",
    "    else:\n",
    "        return path\n",
    "    "
   ]
  },
  {
   "cell_type": "code",
   "execution_count": 127,
   "id": "edaa5b18-0f9d-4780-b8c2-fb3c8af51084",
   "metadata": {},
   "outputs": [
    {
     "name": "stdout",
     "output_type": "stream",
     "text": [
      "[0, 1, 2, 4, 5, 6, 7, 17, 19, 20, 21, 22, 23, 32, 33, 34, 38, 46, 47, 48, 49, 50, 51, 75, 79, 83, 84, 86, 87, 88, 89, 90, 92, 93, 94, 98, 99, 102, 103, 104, 109, 110, 112, 114]\n",
      "\n",
      "\n"
     ]
    },
    {
     "data": {
      "text/plain": [
       "array([[0., 2., 2., ..., 1., 1., 1.],\n",
       "       [2., 0., 2., ..., 2., 2., 1.],\n",
       "       [2., 2., 0., ..., 2., 2., 1.],\n",
       "       ...,\n",
       "       [1., 2., 2., ..., 0., 2., 2.],\n",
       "       [1., 2., 2., ..., 2., 0., 1.],\n",
       "       [1., 1., 1., ..., 2., 1., 0.]])"
      ]
     },
     "execution_count": 127,
     "metadata": {},
     "output_type": "execute_result"
    }
   ],
   "source": [
    "# X (2 features at a time)\n",
    "X = np.zeros((data_size, data_size))\n",
    "y  = np.zeros((data_size,))\n",
    "\n",
    "for i in range(data_size):\n",
    "    for j in range(data_size):\n",
    "        x_i = feature_X[i]\n",
    "        x_j = feature_X[j]\n",
    "        if i == j:\n",
    "            pass\n",
    "        elif (x_i[0] > x_j[0]) and (x_i[1] > x_j[1]):\n",
    "            X[i][j] = enc[\"upup\"]\n",
    "            X[j][i] = enc[\"upup\"]\n",
    "        elif (x_i[0] > x_j[0]) and (x_i[1] < x_j[1]):\n",
    "            X[i][j] = enc[\"updown\"]\n",
    "            X[j][i] = enc[\"updown\"]\n",
    "\n",
    "longest_path = []\n",
    "longest_path_val = 0\n",
    "\n",
    "for i in range(data_size):\n",
    "    # Column i, Row j\n",
    "    path_val = enc[\"updown\"]\n",
    "    #path_val = enc[\"updown\"]\n",
    "    j = compute_nz(X[i],i, val=path_val)\n",
    "    if j > 0:\n",
    "        # path_val = X[i][j]\n",
    "        path = compute_path(j, X, i, path_val)\n",
    "        if len(path) > len(longest_path):\n",
    "            longest_path = path\n",
    "            longest_path_val = path_val\n",
    "y[longest_path] = longest_path_val\n",
    "\n",
    "print(longest_path)\n",
    "print(\"\\n\")\n",
    "X"
   ]
  },
  {
   "cell_type": "code",
   "execution_count": 128,
   "id": "04ffba06-b77a-456d-b6a3-cf14af0b695b",
   "metadata": {},
   "outputs": [
    {
     "name": "stdout",
     "output_type": "stream",
     "text": [
      "[2. 2. 2. 0. 2. 2. 2. 2. 0. 0. 0. 0. 0. 0. 0. 0. 0. 2. 0. 2. 2. 2. 2. 2.\n",
      " 0. 0. 0. 0. 0. 0. 0. 0. 2. 2. 2. 0. 0. 0. 2. 0. 0. 0. 0. 0. 0. 0. 2. 2.\n",
      " 2. 2. 2. 2. 0. 0. 0. 0. 0. 0. 0. 0. 0. 0. 0. 0. 0. 0. 0. 0. 0. 0. 0. 0.\n",
      " 0. 0. 0. 2. 0. 0. 0. 2. 0. 0. 0. 2. 2. 0. 2. 2. 2. 2. 2. 0. 2. 2. 2. 0.\n",
      " 0. 0. 2. 2. 0. 0. 2. 2. 2. 0. 0. 0. 0. 2. 2. 0. 2. 0. 2. 0.]\n"
     ]
    }
   ],
   "source": [
    "#y  = np.array([2,2,2,2,2], dtype=int)\n",
    "print(y)"
   ]
  },
  {
   "cell_type": "markdown",
   "id": "8e7ef33a-a797-4653-b7c6-cb16df59bdea",
   "metadata": {},
   "source": [
    "### b. Constructing KNN Classifier\n",
    "\n",
    "Using supervised learning\n",
    "\n",
    "Adopted from [Analyticsvidhya](https://www.analyticsvidhya.com/blog/2021/01/a-quick-introduction-to-k-nearest-neighbor-knn-classification-using-python/)"
   ]
  },
  {
   "cell_type": "code",
   "execution_count": 129,
   "id": "8f962585-e667-434a-a9b6-0bf4701d3be3",
   "metadata": {},
   "outputs": [],
   "source": [
    "# Splitting the dataset into the Training set (0.5 of data set sample) and Test set (0.5 of sample size)\n",
    "X_train, X_test, y_train, y_test = train_test_split(X, y, test_size = 0.2, random_state = 0)\n",
    "#X_train, X_test, y_train, y_test = train_test_split(feature_X, y, test_size = 0.50, random_state = 0)\n"
   ]
  },
  {
   "cell_type": "code",
   "execution_count": 130,
   "id": "210c715b-207b-4fd1-b433-90ac4ac2abc5",
   "metadata": {},
   "outputs": [],
   "source": [
    "# Feature Scaling (if you have large values otherwise skip)\n",
    "\n",
    "sc = StandardScaler()\n",
    "X_train = sc.fit_transform(X_train)\n",
    "X_test = sc.transform(X_test)"
   ]
  },
  {
   "cell_type": "code",
   "execution_count": 131,
   "id": "53a02db4-da41-46bb-b171-2f2545df4c12",
   "metadata": {},
   "outputs": [
    {
     "data": {
      "text/plain": [
       "array([0., 0., 0., 2., 2., 2., 0., 2., 0., 0., 0., 2., 0., 2., 0., 0., 0.,\n",
       "       2., 0., 0., 0., 0., 0., 0.])"
      ]
     },
     "execution_count": 131,
     "metadata": {},
     "output_type": "execute_result"
    }
   ],
   "source": [
    "# Training the K-NN model on the Training set\n",
    "n = int(math.sqrt(data_size))\n",
    "classifier = KNeighborsClassifier(n_neighbors = n, metric = 'minkowski', p = 2)  # default parameters\n",
    "classifier.fit(X_train, y_train)\n",
    "\n",
    "# Predicting the Test set results\n",
    "y_pred = classifier.predict(X_test)\n",
    "y_pred"
   ]
  },
  {
   "cell_type": "code",
   "execution_count": 132,
   "id": "1fbb106e-a22c-4236-a3ee-693267b29179",
   "metadata": {},
   "outputs": [
    {
     "data": {
      "text/plain": [
       "(array([[13,  2],\n",
       "        [ 4,  5]], dtype=int64),\n",
       " 0.75)"
      ]
     },
     "execution_count": 132,
     "metadata": {},
     "output_type": "execute_result"
    }
   ],
   "source": [
    "# Making the Confusion Matrix\n",
    "confusion_matrix(y_test, y_pred), accuracy_score(y_test, y_pred)"
   ]
  },
  {
   "cell_type": "markdown",
   "id": "8af3e587-078d-49b8-9bff-3034782c0757",
   "metadata": {},
   "source": [
    "## Proposed Approach\n",
    "1. We will have to decompose superset GPs into their individual 2x2 subsets and compute their supports through clustering. \n",
    "\n",
    "2. Then, we apply antimonotonicity principle to infer the support of the superset."
   ]
  },
  {
   "cell_type": "markdown",
   "id": "1416e081-0aae-4893-9e45-89760e7affb9",
   "metadata": {},
   "source": [
    "## a. KMeans Clustering\n",
    "Produces labels that are not very accurate in partitioning data points."
   ]
  },
  {
   "cell_type": "code",
   "execution_count": 137,
   "id": "57d5f6b7-1c3c-4771-acf4-1bb50d13eed1",
   "metadata": {},
   "outputs": [
    {
     "name": "stdout",
     "output_type": "stream",
     "text": [
      "(array([0., 2.]), array([  3, 113], dtype=int64))\n",
      "[2. 2. 2. 0. 2. 2. 2. 2. 2. 2. 2. 2. 2. 2. 2. 2. 2. 2. 2. 2. 2. 2. 2. 2.\n",
      " 2. 2. 2. 2. 2. 2. 2. 2. 2. 2. 2. 2. 2. 2. 2. 2. 2. 2. 2. 2. 2. 2. 2. 2.\n",
      " 2. 2. 2. 2. 2. 2. 2. 2. 2. 0. 2. 2. 2. 0. 2. 2. 2. 2. 2. 2. 2. 2. 2. 2.\n",
      " 2. 2. 2. 2. 2. 2. 2. 2. 2. 2. 2. 2. 2. 2. 2. 2. 2. 2. 2. 2. 2. 2. 2. 2.\n",
      " 2. 2. 2. 2. 2. 2. 2. 2. 2. 2. 2. 2. 2. 2. 2. 2. 2. 2. 2. 2.]\n"
     ]
    },
    {
     "data": {
      "image/png": "[encoded data removed]",
      "text/plain": [
       "<Figure size 432x288 with 1 Axes>"
      ]
     },
     "metadata": {
      "needs_background": "light"
     },
     "output_type": "display_data"
    }
   ],
   "source": [
    "# Training\n",
    "# Using KMeans clustering (NOT VERY  ACCURATE)\n",
    "\n",
    "kmean_labels = classifier.predict(X)\n",
    "print(np.unique(kmean_labels, return_counts=True))\n",
    "print(kmean_labels)\n",
    "\n",
    "plt.scatter(feature_X[:,0], feature_X[:,1], c=kmean_labels)\n",
    "#plt.scatter(feature_X[:,0], feature_X[:,1], c=y )\n",
    "\n",
    "plt.show()"
   ]
  },
  {
   "cell_type": "code",
   "execution_count": 138,
   "id": "e47dc58d-bdae-4963-9b85-55639d7066bb",
   "metadata": {},
   "outputs": [
    {
     "data": {
      "text/plain": [
       "(0.01889837803273618,\n",
       " 0.10448424615445376,\n",
       " 0.03200746937099652,\n",
       " 0.4051724137931034)"
      ]
     },
     "execution_count": 138,
     "metadata": {},
     "output_type": "execute_result"
    }
   ],
   "source": [
    "# Evaluation of clustering result of KMeans (true_labels, predicted_labels)\n",
    "homogeneity_score(y, kmean_labels), completeness_score(y, kmean_labels), v_measure_score(y, kmean_labels), accuracy_score(y, kmean_labels)#, confusion_matrix(y, kmean_labels)"
   ]
  },
  {
   "cell_type": "code",
   "execution_count": null,
   "id": "21dc14fd-9d05-4c0c-9f56-12807758495e",
   "metadata": {},
   "outputs": [],
   "source": []
  },
  {
   "cell_type": "code",
   "execution_count": null,
   "id": "a5ff46bc-140f-4292-915b-34e4e61a6114",
   "metadata": {},
   "outputs": [],
   "source": []
  }
 ],
 "metadata": {
  "kernelspec": {
   "display_name": "Python 3 (ipykernel)",
   "language": "python",
   "name": "python3"
  },
  "language_info": {
   "codemirror_mode": {
    "name": "ipython",
    "version": 3
   },
   "file_extension": ".py",
   "mimetype": "text/x-python",
   "name": "python",
   "nbconvert_exporter": "python",
   "pygments_lexer": "ipython3",
   "version": "3.7.2"
  }
 },
 "nbformat": 4,
 "nbformat_minor": 5
}
