{
 "cells": [
  {
   "cell_type": "markdown",
   "id": "2ce64c88",
   "metadata": {},
   "source": [
    "# Agenda\n",
    "Spectral clustering of GPs' bitmaps.\n",
    "\n"
   ]
  },
  {
   "cell_type": "code",
   "execution_count": 1,
   "id": "72bb0e00",
   "metadata": {},
   "outputs": [],
   "source": [
    "# Installing Libraries (if not installed)\n",
    "#!pip3 install jupyterlab-git\n",
    "#!pip3 install matplotlib\n",
    "#!pip3 install scikit-learn\n",
    "#!pip3 install seaborn\n",
    "#!pip3 install numpy\n",
    "#!pip3 install pandas\n",
    "#!pip3 install so4gp\n",
    "#!pip3 install scipy\n",
    "#!pip3 install sympy"
   ]
  },
  {
   "cell_type": "markdown",
   "id": "caa30d2f",
   "metadata": {},
   "source": [
    "# Import libraries <a name=\"lib-import\"></a>"
   ]
  },
  {
   "cell_type": "code",
   "execution_count": 2,
   "id": "2ef53478",
   "metadata": {},
   "outputs": [],
   "source": [
    "# Importing Libraries\n",
    "import pandas as pd\n",
    "import numpy as np\n",
    "from numpy.linalg import svd\n",
    "import matplotlib.pyplot as plt\n",
    "import seaborn as sns\n",
    "import networkx as nx\n",
    "import sympy\n",
    "import scipy\n",
    "import math\n",
    "\n",
    "\n",
    "from scipy.sparse import csgraph, csr_matrix\n",
    "from scipy.spatial.distance import pdist, squareform\n",
    "from sklearn.cluster import KMeans\n",
    "from sklearn.neighbors import KNeighborsClassifier\n",
    "from sklearn.neighbors import kneighbors_graph\n",
    "from sklearn.naive_bayes import CategoricalNB\n",
    "from sklearn.model_selection import train_test_split\n",
    "from sklearn.preprocessing import StandardScaler\n",
    "from sklearn.metrics import homogeneity_score, completeness_score,v_measure_score, confusion_matrix, accuracy_score\n",
    "from numpy import linalg as la"
   ]
  },
  {
   "cell_type": "code",
   "execution_count": 3,
   "id": "8159986a-afaf-4623-9fe1-98151b317497",
   "metadata": {},
   "outputs": [],
   "source": [
    "import so4gp as sgp"
   ]
  },
  {
   "cell_type": "markdown",
   "id": "3c1313c7-a9b5-4a5b-a1e0-09cc0402ac54",
   "metadata": {},
   "source": [
    "## Data set\n",
    "Retrieving data set and the features"
   ]
  },
  {
   "cell_type": "code",
   "execution_count": 4,
   "id": "6e01fe3c-0727-4474-ab13-170b58e76e26",
   "metadata": {},
   "outputs": [
    {
     "data": {
      "text/plain": [
       "array([[ 48.        ,  23.5       ,  70.        , ...,   7.99585   ,\n",
       "        417.114     ,   1.        ],\n",
       "       [ 83.        ,  20.69049454,  92.        , ...,   4.06405   ,\n",
       "        468.786     ,   1.        ],\n",
       "       [ 82.        ,  23.12467037,  91.        , ...,   9.27715   ,\n",
       "        554.697     ,   1.        ],\n",
       "       ...,\n",
       "       [ 65.        ,  32.05      ,  97.        , ...,  10.33      ,\n",
       "        314.05      ,   2.        ],\n",
       "       [ 72.        ,  25.59      ,  82.        , ...,   3.27      ,\n",
       "        392.46      ,   2.        ],\n",
       "       [ 86.        ,  27.18      , 138.        , ...,   4.35      ,\n",
       "         90.09      ,   2.        ]])"
      ]
     },
     "execution_count": 4,
     "metadata": {},
     "output_type": "execute_result"
    }
   ],
   "source": [
    "#ds = sgp.DataGP('../data/DATASET.csv')\n",
    "#ds = sgp.DataGP('../data/c2k_02k.csv')\n",
    "ds = sgp.DataGP('../data/breast_cancer.csv')\n",
    "\n",
    "\n",
    "data_size = ds.row_count\n",
    "features = np.array(ds.data, dtype=np.float64)\n",
    "features"
   ]
  },
  {
   "cell_type": "code",
   "execution_count": 5,
   "id": "d3874209-a95c-4880-9ab1-0ae352221a87",
   "metadata": {},
   "outputs": [
    {
     "data": {
      "text/plain": [
       "'{\"Algorithm\": \"GRAANK\", \"Patterns\": [[[\"BMI+\", \"Insulin+\"], 0.612], [[\"BMI+\", \"HOMA+\"], 0.614], [[\"BMI+\", \"Leptin+\"], 0.732], [[\"BMI-\", \"Insulin-\"], 0.612], [[\"BMI-\", \"HOMA-\"], 0.614], [[\"Leptin-\", \"BMI-\"], 0.732], [[\"Insulin+\", \"Glucose+\"], 0.637], [[\"HOMA+\", \"Glucose+\"], 0.697], [[\"Glucose-\", \"Insulin-\"], 0.637], [[\"Glucose-\", \"HOMA-\"], 0.697], [[\"HOMA+\", \"Insulin+\"], 0.94], [[\"Insulin+\", \"Leptin+\"], 0.659], [[\"HOMA-\", \"Insulin-\"], 0.94], [[\"Leptin-\", \"Insulin-\"], 0.659], [[\"HOMA+\", \"Leptin+\"], 0.659], [[\"Leptin-\", \"HOMA-\"], 0.659], [[\"MCP.1+\", \"Resistin+\"], 0.672], [[\"MCP.1-\", \"Resistin-\"], 0.672], [[\"HOMA+\", \"Insulin+\", \"Glucose+\"], 0.637], [[\"Glucose-\", \"HOMA-\", \"Insulin-\"], 0.637], [[\"HOMA+\", \"Insulin+\", \"Leptin+\"], 0.629], [[\"Leptin-\", \"HOMA-\", \"Insulin-\"], 0.629]]}'"
      ]
     },
     "execution_count": 5,
     "metadata": {},
     "output_type": "execute_result"
    }
   ],
   "source": [
    "sgp.graank('../data/breast_cancer.csv', min_sup=0.6)"
   ]
  },
  {
   "cell_type": "code",
   "execution_count": 6,
   "id": "95e0ba5b-67cb-4499-bada-99cf62e6ec2a",
   "metadata": {},
   "outputs": [
    {
     "data": {
      "text/plain": [
       "array([[23.5       ,  2.707     ],\n",
       "       [20.69049454,  3.115     ],\n",
       "       [23.12467037,  4.498     ],\n",
       "       [21.36752137,  3.226     ],\n",
       "       [21.11111111,  3.549     ],\n",
       "       [22.85445769,  3.226     ],\n",
       "       [22.7       ,  4.69      ],\n",
       "       [23.8       ,  6.47      ],\n",
       "       [22.        ,  3.35      ],\n",
       "       [23.        ,  4.952     ],\n",
       "       [21.47      ,  3.469     ],\n",
       "       [23.01      ,  5.663     ],\n",
       "       [22.86      ,  4.09      ],\n",
       "       [18.67      ,  6.107     ],\n",
       "       [23.34      ,  5.782     ],\n",
       "       [20.76      ,  7.553     ],\n",
       "       [22.03      ,  2.869     ],\n",
       "       [32.03895937, 18.077     ],\n",
       "       [34.5297228 ,  4.427     ],\n",
       "       [36.51263743, 14.026     ],\n",
       "       [28.57667585,  4.345     ],\n",
       "       [31.97501487,  4.53      ],\n",
       "       [32.27078777,  5.81      ],\n",
       "       [30.27681661,  4.376     ],\n",
       "       [30.48315806,  5.537     ],\n",
       "       [37.03560819,  6.76      ],\n",
       "       [38.57875854,  6.703     ],\n",
       "       [31.44654088,  9.245     ],\n",
       "       [35.2507611 ,  6.817     ],\n",
       "       [34.17489   ,  6.59      ],\n",
       "       [36.21227888, 15.533     ],\n",
       "       [36.7901662 , 10.175     ],\n",
       "       [35.85581466,  8.576     ],\n",
       "       [34.42217362, 23.194     ],\n",
       "       [27.68877813,  3.855     ],\n",
       "       [29.60676726,  5.819     ],\n",
       "       [31.2385898 ,  4.181     ],\n",
       "       [35.09270153,  5.646     ],\n",
       "       [26.34929208,  5.138     ],\n",
       "       [35.58792924,  3.881     ],\n",
       "       [29.2184076 ,  5.376     ],\n",
       "       [27.2       , 14.07      ],\n",
       "       [27.3       ,  5.197     ],\n",
       "       [32.5       ,  5.43      ],\n",
       "       [30.3       ,  8.34      ],\n",
       "       [27.7       ,  6.042     ],\n",
       "       [25.7       ,  8.079     ],\n",
       "       [25.3       ,  3.508     ],\n",
       "       [29.4       , 10.704     ],\n",
       "       [26.6       ,  4.462     ],\n",
       "       [27.1       , 26.211     ],\n",
       "       [25.9       ,  4.58      ],\n",
       "       [21.30394858, 13.852     ],\n",
       "       [20.82999519,  4.56      ],\n",
       "       [20.9566075 , 12.305     ],\n",
       "       [24.24242424, 21.699     ],\n",
       "       [21.35991456,  2.999     ],\n",
       "       [21.08281329,  6.2       ],\n",
       "       [19.13265306,  4.364     ],\n",
       "       [22.65625   ,  3.482     ],\n",
       "       [22.4996371 ,  5.261     ],\n",
       "       [21.51385851,  6.683     ],\n",
       "       [21.36752137,  2.64      ],\n",
       "       [22.89281998,  2.74      ],\n",
       "       [22.83287935,  6.862     ],\n",
       "       [23.14049587,  4.902     ],\n",
       "       [24.21875   ,  3.73      ],\n",
       "       [22.22222222,  5.7       ],\n",
       "       [20.83      ,  3.42      ],\n",
       "       [19.56      , 15.89      ],\n",
       "       [20.26      ,  3.44      ],\n",
       "       [24.74      , 58.46      ],\n",
       "       [18.37      ,  6.03      ],\n",
       "       [23.62      ,  4.42      ],\n",
       "       [22.21      , 36.94      ],\n",
       "       [26.5625    , 10.555     ],\n",
       "       [31.97501487, 16.635     ],\n",
       "       [31.25      ,  4.328     ],\n",
       "       [26.66666667, 41.611     ],\n",
       "       [26.6727633 , 22.033     ],\n",
       "       [28.67262608,  3.188     ],\n",
       "       [31.64036818,  9.669     ],\n",
       "       [32.46191136, 28.677     ],\n",
       "       [25.51020408, 10.395     ],\n",
       "       [29.296875  ,  4.172     ],\n",
       "       [29.666548  , 14.649     ],\n",
       "       [28.125     ,  2.54      ],\n",
       "       [27.68877813, 51.814     ],\n",
       "       [31.25      , 12.162     ],\n",
       "       [29.15451895, 16.582     ],\n",
       "       [30.83653053, 41.894     ],\n",
       "       [31.21748179, 18.077     ],\n",
       "       [30.8012487 , 30.212     ],\n",
       "       [32.46191136, 24.887     ],\n",
       "       [31.23140988, 30.13      ],\n",
       "       [29.77777778,  8.396     ],\n",
       "       [27.88761707,  9.208     ],\n",
       "       [27.63605442,  2.432     ],\n",
       "       [27.91551882, 18.2       ],\n",
       "       [28.44444444,  8.808     ],\n",
       "       [28.65013774,  3.012     ],\n",
       "       [26.5625    ,  6.524     ],\n",
       "       [30.91557669, 10.491     ],\n",
       "       [29.13631634, 10.949     ],\n",
       "       [34.83814777, 12.548     ],\n",
       "       [37.109375  ,  5.636     ],\n",
       "       [29.38475666,  4.713     ],\n",
       "       [33.18      ,  5.75      ],\n",
       "       [35.56      ,  8.15      ],\n",
       "       [30.48      ,  7.01      ],\n",
       "       [36.05      , 11.91      ],\n",
       "       [26.85      ,  3.33      ],\n",
       "       [26.84      ,  4.53      ],\n",
       "       [32.05      ,  5.73      ],\n",
       "       [25.59      ,  2.82      ],\n",
       "       [27.18      , 19.91      ]])"
      ]
     },
     "execution_count": 6,
     "metadata": {},
     "output_type": "execute_result"
    }
   ],
   "source": [
    "feature_X = features[:, [1,3]]\n",
    "feature_X"
   ]
  },
  {
   "cell_type": "markdown",
   "id": "fa870f0f-2b14-4721-8e14-c32724d962cb",
   "metadata": {},
   "source": [
    "## Semi-Supervised Learning\n",
    "\n",
    "Train similirity labels\n",
    "\n",
    "### a. Retrieving training data set (X, y)"
   ]
  },
  {
   "cell_type": "code",
   "execution_count": 7,
   "id": "c27c3814-03b1-4b0a-ba0b-d55491049c26",
   "metadata": {},
   "outputs": [],
   "source": [
    "def compute_nz(row, i, val=0):\n",
    "    #print(row[i:])\n",
    "    nz = np.nonzero(row)\n",
    "    for k in range(nz[0].size):\n",
    "        if nz[0].size > 0:\n",
    "            j = nz[0][k]\n",
    "            if (j > i) and (val == 0):\n",
    "                return j\n",
    "            elif (j > i) and (row[j] == val):\n",
    "                return j\n",
    "    return 0"
   ]
  },
  {
   "cell_type": "code",
   "execution_count": 8,
   "id": "4c85b4f0-df8f-4d02-a99a-a2ea3d0e7f10",
   "metadata": {},
   "outputs": [],
   "source": [
    "def compute_path(j, X, path, path_val):\n",
    "    if type(path) != list:\n",
    "        # 1st iteration\n",
    "        return compute_path(j, X, [path, j], path_val)\n",
    "    \n",
    "    k = compute_nz(X[j],j,val=path_val)\n",
    "    j += 1\n",
    "    if k > 0:\n",
    "        path.append(k)\n",
    "        if k < data_size:\n",
    "            return compute_path(k, X, path, path_val)\n",
    "    elif j < data_size:\n",
    "        return compute_path(j, X, path, path_val)\n",
    "    else:\n",
    "        return path\n",
    "    "
   ]
  },
  {
   "cell_type": "code",
   "execution_count": 21,
   "id": "edaa5b18-0f9d-4780-b8c2-fb3c8af51084",
   "metadata": {},
   "outputs": [
    {
     "name": "stdout",
     "output_type": "stream",
     "text": [
      "[1, 2, 3, 6, 7, 8, 9, 10, 11, 12, 14, 16, 17, 20, 21, 22, 23, 24, 25, 29, 30, 32, 34, 35, 38, 40, 42, 43, 47, 48, 49, 50, 51, 53, 54, 55, 56, 59, 62, 63, 65, 68, 71, 72, 74, 78, 83, 85, 86, 88, 93, 95, 97, 98, 101, 102, 104, 106, 107, 108, 109, 110, 111, 113, 114, 115]\n",
      "\n",
      "\n"
     ]
    },
    {
     "data": {
      "text/plain": [
       "array([[0., 2., 2., ..., 1., 1., 1.],\n",
       "       [2., 0., 1., ..., 1., 2., 1.],\n",
       "       [2., 1., 0., ..., 1., 2., 1.],\n",
       "       ...,\n",
       "       [1., 1., 1., ..., 0., 1., 2.],\n",
       "       [1., 2., 2., ..., 1., 0., 1.],\n",
       "       [1., 1., 1., ..., 2., 1., 0.]])"
      ]
     },
     "execution_count": 21,
     "metadata": {},
     "output_type": "execute_result"
    }
   ],
   "source": [
    "# X (2 features at a time)\n",
    "X = np.zeros((data_size, data_size))\n",
    "y  = np.zeros((data_size,))\n",
    "enc = {\"upup\": 1, \"updown\": 2}\n",
    "\n",
    "for i in range(data_size):\n",
    "    for j in range(data_size):\n",
    "        x_i = feature_X[i]\n",
    "        x_j = feature_X[j]\n",
    "        if i == j:\n",
    "            pass\n",
    "        elif (x_i[0] > x_j[0]) and (x_i[1] > x_j[1]):\n",
    "            X[i][j] = enc[\"upup\"]\n",
    "            X[j][i] = enc[\"upup\"]\n",
    "        elif (x_i[0] > x_j[0]) and (x_i[1] < x_j[1]):\n",
    "            X[i][j] = enc[\"updown\"]\n",
    "            X[j][i] = enc[\"updown\"]\n",
    "\n",
    "longest_path = []\n",
    "longest_path_val = 0\n",
    "\n",
    "for i in range(data_size):\n",
    "    # Column i, Row j\n",
    "    path_val = enc[\"upup\"]\n",
    "    #path_val = enc[\"updown\"]\n",
    "    j = compute_nz(X[i],i, val=path_val)\n",
    "    if j > 0:\n",
    "        # path_val = X[i][j]\n",
    "        path = compute_path(j, X, i, path_val)\n",
    "        if len(path) > len(longest_path):\n",
    "            longest_path = path\n",
    "            longest_path_val = path_val\n",
    "y[longest_path] = longest_path_val\n",
    "\n",
    "print(longest_path)\n",
    "print(\"\\n\")\n",
    "X"
   ]
  },
  {
   "cell_type": "code",
   "execution_count": 22,
   "id": "04ffba06-b77a-456d-b6a3-cf14af0b695b",
   "metadata": {},
   "outputs": [
    {
     "name": "stdout",
     "output_type": "stream",
     "text": [
      "[0. 1. 1. 1. 0. 0. 1. 1. 1. 1. 1. 1. 1. 0. 1. 0. 1. 1. 0. 0. 1. 1. 1. 1.\n",
      " 1. 1. 0. 0. 0. 1. 1. 0. 1. 0. 1. 1. 0. 0. 1. 0. 1. 0. 1. 1. 0. 0. 0. 1.\n",
      " 1. 1. 1. 1. 0. 1. 1. 1. 1. 0. 0. 1. 0. 0. 1. 1. 0. 1. 0. 0. 1. 0. 0. 1.\n",
      " 1. 0. 1. 0. 0. 0. 1. 0. 0. 0. 0. 1. 0. 1. 1. 0. 1. 0. 0. 0. 0. 1. 0. 1.\n",
      " 0. 1. 1. 0. 0. 1. 1. 0. 1. 0. 1. 1. 1. 1. 1. 1. 0. 1. 1. 1.]\n"
     ]
    }
   ],
   "source": [
    "#y  = np.array([2,2,2,2,2], dtype=int)\n",
    "print(y)"
   ]
  },
  {
   "cell_type": "markdown",
   "id": "333822d3-dc73-4fb8-8f6f-a5070cbe6a56",
   "metadata": {},
   "source": [
    "### b. Splitting Samples\n",
    "\n",
    "Splitting test (20%) and train samples (80%) "
   ]
  },
  {
   "cell_type": "code",
   "execution_count": 23,
   "id": "8f962585-e667-434a-a9b6-0bf4701d3be3",
   "metadata": {},
   "outputs": [],
   "source": [
    "# Splitting the dataset into the Training set (0.5 of data set sample) and Test set (0.5 of sample size)\n",
    "X_train, X_test, y_train, y_test = train_test_split(X, y, test_size = 0.2, random_state = 0)\n",
    "#X_train, X_test, y_train, y_test = train_test_split(feature_X, y, test_size = 0.50, random_state = 0)\n"
   ]
  },
  {
   "cell_type": "code",
   "execution_count": 24,
   "id": "210c715b-207b-4fd1-b433-90ac4ac2abc5",
   "metadata": {},
   "outputs": [],
   "source": [
    "# Feature Scaling (if you have large values otherwise skip)\n",
    "\n",
    "#sc = StandardScaler()\n",
    "#X_train = sc.fit_transform(X_train)\n",
    "#X_test = sc.transform(X_test)"
   ]
  },
  {
   "cell_type": "markdown",
   "id": "8e7ef33a-a797-4653-b7c6-cb16df59bdea",
   "metadata": {},
   "source": [
    "### c. Constructing KNN Classifier\n",
    "\n",
    "Using supervised learning\n",
    "\n",
    "Adopted from [Analyticsvidhya](https://www.analyticsvidhya.com/blog/2021/01/a-quick-introduction-to-k-nearest-neighbor-knn-classification-using-python/)"
   ]
  },
  {
   "cell_type": "code",
   "execution_count": 25,
   "id": "53a02db4-da41-46bb-b171-2f2545df4c12",
   "metadata": {},
   "outputs": [
    {
     "data": {
      "text/plain": [
       "array([1., 0., 1., 1., 1., 0., 0., 0., 1., 1., 0., 1., 0., 1., 1., 1., 1.,\n",
       "       1., 1., 1., 1., 0., 1., 1.])"
      ]
     },
     "execution_count": 25,
     "metadata": {},
     "output_type": "execute_result"
    }
   ],
   "source": [
    "# Training the K-NN model on the Training set\n",
    "n = int(math.sqrt(data_size))\n",
    "knn_classifier = KNeighborsClassifier(n_neighbors = n, metric = 'minkowski', p = 2)  # default parameters\n",
    "knn_classifier.fit(X_train, y_train)\n",
    "\n",
    "# Predicting the Test set results\n",
    "y_pred = knn_classifier.predict(X_test)\n",
    "y_pred"
   ]
  },
  {
   "cell_type": "code",
   "execution_count": 26,
   "id": "1fbb106e-a22c-4236-a3ee-693267b29179",
   "metadata": {},
   "outputs": [
    {
     "data": {
      "text/plain": [
       "(array([[ 4,  5],\n",
       "        [ 3, 12]], dtype=int64),\n",
       " 0.6666666666666666)"
      ]
     },
     "execution_count": 26,
     "metadata": {},
     "output_type": "execute_result"
    }
   ],
   "source": [
    "# Making the Confusion Matrix\n",
    "confusion_matrix(y_test, y_pred), accuracy_score(y_test, y_pred)"
   ]
  },
  {
   "cell_type": "markdown",
   "id": "215e04f5-d628-4d9f-a9b4-387c5fa5a3da",
   "metadata": {},
   "source": [
    "### d. Constructing Naive Bayes Classifier"
   ]
  },
  {
   "cell_type": "code",
   "execution_count": 27,
   "id": "3bd969a6-dbe4-41cb-a042-84d3f9b0906e",
   "metadata": {},
   "outputs": [
    {
     "data": {
      "text/plain": [
       "array([1., 0., 1., 1., 1., 0., 0., 0., 1., 1., 1., 1., 0., 1., 1., 1., 1.,\n",
       "       1., 1., 1., 1., 0., 0., 1.])"
      ]
     },
     "execution_count": 27,
     "metadata": {},
     "output_type": "execute_result"
    }
   ],
   "source": [
    "# Training the NB model on the Training set\n",
    "nb_classifier = CategoricalNB()\n",
    "nb_classifier.fit(X_train, y_train)\n",
    "\n",
    "# Predicting the Test set results\n",
    "y_pred = nb_classifier.predict(X_test)\n",
    "y_pred"
   ]
  },
  {
   "cell_type": "code",
   "execution_count": 28,
   "id": "1b21bf7b-4daa-4a3d-95e3-64a6f1439850",
   "metadata": {},
   "outputs": [
    {
     "data": {
      "text/plain": [
       "(array([[ 5,  4],\n",
       "        [ 2, 13]], dtype=int64),\n",
       " 0.75)"
      ]
     },
     "execution_count": 28,
     "metadata": {},
     "output_type": "execute_result"
    }
   ],
   "source": [
    "# Making the Confusion Matrix\n",
    "confusion_matrix(y_test, y_pred), accuracy_score(y_test, y_pred)"
   ]
  },
  {
   "cell_type": "markdown",
   "id": "8af3e587-078d-49b8-9bff-3034782c0757",
   "metadata": {},
   "source": [
    "## Proposed Approach\n",
    "1. We will have to decompose superset GPs into their individual 2x2 subsets and compute their supports through clustering. \n",
    "\n",
    "2. Then, we apply antimonotonicity principle to infer the support of the superset."
   ]
  },
  {
   "cell_type": "markdown",
   "id": "1416e081-0aae-4893-9e45-89760e7affb9",
   "metadata": {},
   "source": [
    "## a. KMeans Classification\n",
    "Produces labels that are not very accurate in partitioning data points."
   ]
  },
  {
   "cell_type": "code",
   "execution_count": 29,
   "id": "57d5f6b7-1c3c-4771-acf4-1bb50d13eed1",
   "metadata": {},
   "outputs": [
    {
     "name": "stdout",
     "output_type": "stream",
     "text": [
      "(array([0., 1.]), array([48, 68], dtype=int64))\n",
      "[1. 1. 1. 1. 1. 1. 1. 1. 1. 1. 1. 1. 1. 0. 1. 0. 1. 0. 0. 1. 1. 1. 1. 1.\n",
      " 1. 1. 1. 0. 1. 1. 0. 1. 1. 0. 1. 1. 1. 1. 1. 0. 1. 0. 1. 1. 0. 1. 0. 1.\n",
      " 0. 1. 0. 1. 0. 0. 0. 1. 1. 0. 1. 1. 1. 0. 1. 1. 0. 1. 1. 1. 1. 0. 1. 1.\n",
      " 0. 1. 0. 0. 0. 0. 0. 0. 1. 0. 0. 0. 1. 0. 1. 0. 1. 0. 0. 0. 0. 0. 0. 0.\n",
      " 0. 1. 0. 0. 1. 1. 1. 0. 0. 0. 1. 1. 1. 0. 0. 1. 1. 1. 1. 0.]\n"
     ]
    },
    {
     "data": {
      "image/png": "[encoded data removed]",
      "text/plain": [
       "<Figure size 432x288 with 1 Axes>"
      ]
     },
     "metadata": {
      "needs_background": "light"
     },
     "output_type": "display_data"
    }
   ],
   "source": [
    "# Validation\n",
    "# Using KMeans classification (NOT VERY  ACCURATE)\n",
    "\n",
    "kmean_labels = knn_classifier.predict(X)\n",
    "print(np.unique(kmean_labels, return_counts=True))\n",
    "print(kmean_labels)\n",
    "\n",
    "plt.scatter(feature_X[:,0], feature_X[:,1], c=kmean_labels)\n",
    "#plt.scatter(feature_X[:,0], feature_X[:,1], c=y )\n",
    "\n",
    "plt.show()"
   ]
  },
  {
   "cell_type": "code",
   "execution_count": 30,
   "id": "e47dc58d-bdae-4963-9b85-55639d7066bb",
   "metadata": {},
   "outputs": [
    {
     "data": {
      "text/plain": [
       "(0.0800628718783907,\n",
       " 0.08069974268041899,\n",
       " 0.08038004577834133,\n",
       " 0.6724137931034483)"
      ]
     },
     "execution_count": 30,
     "metadata": {},
     "output_type": "execute_result"
    }
   ],
   "source": [
    "# Evaluation of clustering result of KMeans (true_labels, predicted_labels)\n",
    "homogeneity_score(y, kmean_labels), completeness_score(y, kmean_labels), v_measure_score(y, kmean_labels), accuracy_score(y, kmean_labels)#, confusion_matrix(y, kmean_labels)"
   ]
  },
  {
   "cell_type": "markdown",
   "id": "738356a8-ed5f-4fc9-be05-f8878bf1905b",
   "metadata": {},
   "source": [
    "## Naive Bayes Classification\n",
    "\n",
    "Produces labels"
   ]
  },
  {
   "cell_type": "code",
   "execution_count": 31,
   "id": "a5ff46bc-140f-4292-915b-34e4e61a6114",
   "metadata": {},
   "outputs": [
    {
     "name": "stdout",
     "output_type": "stream",
     "text": [
      "(array([0., 1.]), array([52, 64], dtype=int64))\n",
      "[1. 1. 1. 1. 1. 1. 1. 1. 1. 1. 1. 1. 1. 0. 1. 0. 1. 0. 0. 1. 1. 0. 1. 1.\n",
      " 1. 0. 0. 0. 1. 1. 1. 1. 1. 0. 1. 1. 0. 0. 1. 0. 1. 0. 1. 1. 0. 1. 0. 1.\n",
      " 0. 1. 0. 1. 0. 1. 0. 0. 1. 0. 1. 1. 1. 0. 1. 1. 0. 1. 1. 1. 1. 0. 1. 0.\n",
      " 0. 1. 0. 0. 0. 0. 0. 0. 1. 0. 0. 0. 1. 0. 1. 0. 0. 0. 0. 0. 0. 0. 0. 0.\n",
      " 0. 1. 0. 0. 1. 1. 0. 0. 1. 0. 1. 1. 1. 1. 1. 1. 1. 1. 1. 0.]\n"
     ]
    },
    {
     "data": {
      "image/png": "[encoded data removed]",
      "text/plain": [
       "<Figure size 432x288 with 1 Axes>"
      ]
     },
     "metadata": {
      "needs_background": "light"
     },
     "output_type": "display_data"
    }
   ],
   "source": [
    "# Validation\n",
    "# Using Naive Bayes classification\n",
    "\n",
    "nb_labels = nb_classifier.predict(X)\n",
    "print(np.unique(nb_labels, return_counts=True))\n",
    "print(nb_labels)\n",
    "\n",
    "plt.scatter(feature_X[:,0], feature_X[:,1], c=nb_labels)\n",
    "#plt.scatter(feature_X[:,0], feature_X[:,1], c=y )\n",
    "\n",
    "plt.show()"
   ]
  },
  {
   "cell_type": "code",
   "execution_count": 32,
   "id": "810b5abb-74eb-4e15-a401-0e7adf70bbc2",
   "metadata": {},
   "outputs": [
    {
     "data": {
      "text/plain": [
       "(0.10234245958001503,\n",
       " 0.10172010165271804,\n",
       " 0.10203033157067355,\n",
       " 0.6896551724137931)"
      ]
     },
     "execution_count": 32,
     "metadata": {},
     "output_type": "execute_result"
    }
   ],
   "source": [
    "# Evaluation of clustering result of KMeans (true_labels, predicted_labels)\n",
    "homogeneity_score(y, nb_labels), completeness_score(y, nb_labels), v_measure_score(y, nb_labels), accuracy_score(y, nb_labels)#, confusion_matrix(y, kmean_labels)"
   ]
  },
  {
   "cell_type": "code",
   "execution_count": null,
   "id": "fae79ad6-fa7c-49d9-839c-ff508dc5b085",
   "metadata": {},
   "outputs": [],
   "source": []
  }
 ],
 "metadata": {
  "kernelspec": {
   "display_name": "Python 3 (ipykernel)",
   "language": "python",
   "name": "python3"
  },
  "language_info": {
   "codemirror_mode": {
    "name": "ipython",
    "version": 3
   },
   "file_extension": ".py",
   "mimetype": "text/x-python",
   "name": "python",
   "nbconvert_exporter": "python",
   "pygments_lexer": "ipython3",
   "version": "3.7.2"
  }
 },
 "nbformat": 4,
 "nbformat_minor": 5
}
