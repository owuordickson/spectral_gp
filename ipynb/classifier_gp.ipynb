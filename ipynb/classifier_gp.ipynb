{
 "cells": [
  {
   "cell_type": "markdown",
   "id": "2ce64c88",
   "metadata": {},
   "source": [
    "# Agenda\n",
    "Spectral clustering of GPs' bitmaps.\n",
    "\n"
   ]
  },
  {
   "cell_type": "code",
   "execution_count": 1,
   "id": "72bb0e00",
   "metadata": {},
   "outputs": [],
   "source": [
    "# Installing Libraries (if not installed)\n",
    "#!pip3 install jupyterlab-git\n",
    "#!pip3 install matplotlib\n",
    "#!pip3 install scikit-learn\n",
    "#!pip3 install seaborn\n",
    "#!pip3 install numpy\n",
    "#!pip3 install pandas\n",
    "#!pip3 install so4gp\n",
    "#!pip3 install scipy\n",
    "#!pip3 install sympy"
   ]
  },
  {
   "cell_type": "markdown",
   "id": "caa30d2f",
   "metadata": {},
   "source": [
    "# Import libraries <a name=\"lib-import\"></a>"
   ]
  },
  {
   "cell_type": "code",
   "execution_count": 2,
   "id": "2ef53478",
   "metadata": {},
   "outputs": [],
   "source": [
    "# Importing Libraries\n",
    "import pandas as pd\n",
    "import numpy as np\n",
    "from numpy.linalg import svd\n",
    "import matplotlib.pyplot as plt\n",
    "import seaborn as sns\n",
    "import networkx as nx\n",
    "import sympy\n",
    "import scipy\n",
    "import math\n",
    "\n",
    "\n",
    "from scipy.sparse import csgraph, csr_matrix\n",
    "from scipy.spatial.distance import pdist, squareform\n",
    "from sklearn.cluster import KMeans\n",
    "from sklearn.neighbors import KNeighborsClassifier\n",
    "from sklearn.neighbors import kneighbors_graph\n",
    "from sklearn.model_selection import train_test_split\n",
    "from sklearn.preprocessing import StandardScaler\n",
    "from sklearn.metrics import homogeneity_score, completeness_score,v_measure_score, confusion_matrix, accuracy_score\n",
    "from numpy import linalg as la"
   ]
  },
  {
   "cell_type": "code",
   "execution_count": 3,
   "id": "8159986a-afaf-4623-9fe1-98151b317497",
   "metadata": {},
   "outputs": [],
   "source": [
    "import so4gp as sgp"
   ]
  },
  {
   "cell_type": "markdown",
   "id": "3c1313c7-a9b5-4a5b-a1e0-09cc0402ac54",
   "metadata": {},
   "source": [
    "## Data set\n",
    "Retrieving data set and the features"
   ]
  },
  {
   "cell_type": "code",
   "execution_count": 6,
   "id": "6e01fe3c-0727-4474-ab13-170b58e76e26",
   "metadata": {},
   "outputs": [
    {
     "data": {
      "text/plain": [
       "array([[30.,  3.,  1., 10.,  2.,  4.],\n",
       "       [35.,  2.,  2.,  8.,  2.,  4.],\n",
       "       [40.,  4.,  2.,  7.,  2.,  4.],\n",
       "       [50.,  1.,  1.,  6.,  2.,  4.],\n",
       "       [52.,  7.,  1.,  2.,  2.,  4.]])"
      ]
     },
     "execution_count": 6,
     "metadata": {},
     "output_type": "execute_result"
    }
   ],
   "source": [
    "ds = sgp.DataGP('../data/DATASET.csv')\n",
    "#ds = sgp.DataGP('./data/c2k_02k.csv')\n",
    "#ds = sgp.DataGP('../data/breast_cancer.csv')\n",
    "\n",
    "\n",
    "data_size = ds.row_count\n",
    "features = np.array(ds.data, dtype=np.float64)\n",
    "features"
   ]
  },
  {
   "cell_type": "code",
   "execution_count": 8,
   "id": "d3874209-a95c-4880-9ab1-0ae352221a87",
   "metadata": {},
   "outputs": [],
   "source": [
    "#sgp.graank('../data/breast_cancer.csv', min_sup=0.6)"
   ]
  },
  {
   "cell_type": "code",
   "execution_count": 10,
   "id": "95e0ba5b-67cb-4499-bada-99cf62e6ec2a",
   "metadata": {},
   "outputs": [
    {
     "data": {
      "text/plain": [
       "array([[30.,  3.],\n",
       "       [35.,  2.],\n",
       "       [40.,  4.],\n",
       "       [50.,  1.],\n",
       "       [52.,  7.]])"
      ]
     },
     "execution_count": 10,
     "metadata": {},
     "output_type": "execute_result"
    }
   ],
   "source": [
    "feature_X = features[:, [0,1]]\n",
    "feature_X"
   ]
  },
  {
   "cell_type": "markdown",
   "id": "fa870f0f-2b14-4721-8e14-c32724d962cb",
   "metadata": {},
   "source": [
    "## Train similirity labels\n",
    "\n",
    "### a. Retrieving training data set (X, y)"
   ]
  },
  {
   "cell_type": "code",
   "execution_count": 55,
   "id": "c27c3814-03b1-4b0a-ba0b-d55491049c26",
   "metadata": {},
   "outputs": [],
   "source": [
    "def compute_nz(row, i, val=0):\n",
    "    #print(row[i:])\n",
    "    nz = np.nonzero(row)\n",
    "    for k in range(nz[0].size):\n",
    "        if nz[0].size > 0:\n",
    "            j = nz[0][k]\n",
    "            if (j > i) and (val == 0):\n",
    "                return j\n",
    "            elif (j > i) and (row[j] == val):\n",
    "                return j\n",
    "    return 0"
   ]
  },
  {
   "cell_type": "code",
   "execution_count": 91,
   "id": "b8feda9d-9082-46ec-9cff-a53082f9d886",
   "metadata": {},
   "outputs": [
    {
     "name": "stdout",
     "output_type": "stream",
     "text": [
      "0, 1\n",
      "1, 2\n",
      "2, 3\n",
      "3, 4\n",
      "[2. 2. 1. 2. 1.]\n"
     ]
    },
    {
     "data": {
      "text/plain": [
       "array([[0., 2., 1., 2., 1.],\n",
       "       [2., 0., 1., 2., 1.],\n",
       "       [1., 1., 0., 2., 1.],\n",
       "       [2., 2., 2., 0., 1.],\n",
       "       [1., 1., 1., 1., 0.]])"
      ]
     },
     "execution_count": 91,
     "metadata": {},
     "output_type": "execute_result"
    }
   ],
   "source": [
    "# X (2 features at a time)\n",
    "X = np.zeros((data_size, data_size))\n",
    "y  = np.zeros((data_size,))\n",
    "enc = {\"upup\": 1, \"updown\": 2}\n",
    "\n",
    "for i in range(data_size):\n",
    "    for j in range(data_size):\n",
    "        x_i = feature_X[i]\n",
    "        x_j = feature_X[j]\n",
    "        if i == j:\n",
    "            pass\n",
    "        elif (x_i[0] > x_j[0]) and (x_i[1] > x_j[1]):\n",
    "            X[i][j] = enc[\"upup\"]\n",
    "            X[j][i] = enc[\"upup\"]\n",
    "        elif (x_i[0] > x_j[0]) and (x_i[1] < x_j[1]):\n",
    "            X[i][j] = enc[\"updown\"]\n",
    "            X[j][i] = enc[\"updown\"]\n",
    "\n",
    "cols = np.arange(data_size)\n",
    "rows = np.arange(data_size)\n",
    "longest_path = []\n",
    "longest_path_val = 0\n",
    "# print (rows)\n",
    "for i in cols:\n",
    "    # Column i, Row j\n",
    "    path = []\n",
    "    path_val = 0\n",
    "    j = compute_nz(X[i],i)\n",
    "    if j > 0:\n",
    "        if (y[i] == 0) or (y[i] == X[i][j]):\n",
    "            y[i] = X[i][j]\n",
    "        y[j] = X[i][j]\n",
    "        print(str(i) + ', ' + str(j))\n",
    "\n",
    "print(y)\n",
    "X"
   ]
  },
  {
   "cell_type": "code",
   "execution_count": 92,
   "id": "4c85b4f0-df8f-4d02-a99a-a2ea3d0e7f10",
   "metadata": {},
   "outputs": [],
   "source": [
    "def compute_path(j, X, path, path_val):\n",
    "    k = compute_nz(X[j],j,val=path_val)\n",
    "    j += 1\n",
    "    if k > 0:\n",
    "        path.append(k)\n",
    "        if k < data_size:\n",
    "            return compute_path(k, X, path, path_val)\n",
    "    elif j < data_size:\n",
    "        return compute_path(j, X, path, path_val)\n",
    "    else:\n",
    "        print(\"j is \" + str(j))\n",
    "        return path\n",
    "    "
   ]
  },
  {
   "cell_type": "code",
   "execution_count": 93,
   "id": "edaa5b18-0f9d-4780-b8c2-fb3c8af51084",
   "metadata": {},
   "outputs": [
    {
     "name": "stdout",
     "output_type": "stream",
     "text": [
      "j is 5\n",
      "[0, 1, 3]\n",
      "2.0\n",
      "\n",
      "\n",
      "[0. 0. 0. 0. 0.]\n"
     ]
    },
    {
     "data": {
      "text/plain": [
       "array([[0., 2., 1., 2., 1.],\n",
       "       [2., 0., 1., 2., 1.],\n",
       "       [1., 1., 0., 2., 1.],\n",
       "       [2., 2., 2., 0., 1.],\n",
       "       [1., 1., 1., 1., 0.]])"
      ]
     },
     "execution_count": 93,
     "metadata": {},
     "output_type": "execute_result"
    }
   ],
   "source": [
    "# X (2 features at a time)\n",
    "X = np.zeros((data_size, data_size))\n",
    "y  = np.zeros((data_size,))\n",
    "\n",
    "for i in range(data_size):\n",
    "    for j in range(data_size):\n",
    "        x_i = feature_X[i]\n",
    "        x_j = feature_X[j]\n",
    "        if i == j:\n",
    "            pass\n",
    "        elif (x_i[0] > x_j[0]) and (x_i[1] > x_j[1]):\n",
    "            X[i][j] = enc[\"upup\"]\n",
    "            X[j][i] = enc[\"upup\"]\n",
    "        elif (x_i[0] > x_j[0]) and (x_i[1] < x_j[1]):\n",
    "            X[i][j] = enc[\"updown\"]\n",
    "            X[j][i] = enc[\"updown\"]\n",
    "\n",
    "#cols = [0] #np.arange(data_size)\n",
    "\n",
    "longest_path = []\n",
    "longest_path_val = 0\n",
    "# print (rows)\n",
    "for i in range(1):\n",
    "    # Column i, Row j\n",
    "    j = compute_nz(X[i],i)\n",
    "    if j > 0:\n",
    "        path = [i,j]\n",
    "        path_val = X[i][j]\n",
    "        path = compute_path(j, X, path, path_val)\n",
    "        \n",
    "\n",
    "print(path)\n",
    "print(path_val)\n",
    "\n",
    "print(\"\\n\")\n",
    "print(y)\n",
    "X"
   ]
  },
  {
   "cell_type": "code",
   "execution_count": 89,
   "id": "04ffba06-b77a-456d-b6a3-cf14af0b695b",
   "metadata": {},
   "outputs": [
    {
     "name": "stdout",
     "output_type": "stream",
     "text": [
      "[0. 0. 0. 0. 0.]\n"
     ]
    }
   ],
   "source": [
    "#y  = np.array([2,2,2,2,2], dtype=int)\n",
    "print(y)"
   ]
  },
  {
   "cell_type": "markdown",
   "id": "8e7ef33a-a797-4653-b7c6-cb16df59bdea",
   "metadata": {},
   "source": [
    "### b. Constructing KNN Classifier\n",
    "\n",
    "Using supervised learning\n",
    "\n",
    "Adopted from [Analyticsvidhya](https://www.analyticsvidhya.com/blog/2021/01/a-quick-introduction-to-k-nearest-neighbor-knn-classification-using-python/)"
   ]
  },
  {
   "cell_type": "code",
   "execution_count": 90,
   "id": "8f962585-e667-434a-a9b6-0bf4701d3be3",
   "metadata": {},
   "outputs": [],
   "source": [
    "# Splitting the dataset into the Training set (0.5 of data set sample) and Test set (0.5 of sample size)\n",
    "X_train, X_test, y_train, y_test = train_test_split(X, y, test_size = 0.5, random_state = 0)\n",
    "#X_train, X_test, y_train, y_test = train_test_split(feature_X, y, test_size = 0.50, random_state = 0)\n"
   ]
  },
  {
   "cell_type": "code",
   "execution_count": 23,
   "id": "210c715b-207b-4fd1-b433-90ac4ac2abc5",
   "metadata": {},
   "outputs": [],
   "source": [
    "# Feature Scaling (if you have large values otherwise skip)\n",
    "\n",
    "sc = StandardScaler()\n",
    "X_train = sc.fit_transform(X_train)\n",
    "X_test = sc.transform(X_test)"
   ]
  },
  {
   "cell_type": "code",
   "execution_count": 24,
   "id": "53a02db4-da41-46bb-b171-2f2545df4c12",
   "metadata": {},
   "outputs": [
    {
     "data": {
      "text/plain": [
       "KNeighborsClassifier(n_neighbors=2)"
      ]
     },
     "execution_count": 24,
     "metadata": {},
     "output_type": "execute_result"
    }
   ],
   "source": [
    "# Training the K-NN model on the Training set\n",
    "n = int(math.sqrt(data_size))\n",
    "classifier = KNeighborsClassifier(n_neighbors = n, metric = 'minkowski', p = 2)  # default parameters\n",
    "classifier.fit(X_train, y_train)\n"
   ]
  },
  {
   "cell_type": "code",
   "execution_count": 25,
   "id": "134f532c-6805-45a4-932b-027bc2dadc80",
   "metadata": {},
   "outputs": [
    {
     "data": {
      "text/plain": [
       "array([1., 1., 1.])"
      ]
     },
     "execution_count": 25,
     "metadata": {},
     "output_type": "execute_result"
    }
   ],
   "source": [
    "# Predicting the Test set results\n",
    "y_pred = classifier.predict(X_test)\n",
    "y_pred"
   ]
  },
  {
   "cell_type": "code",
   "execution_count": 26,
   "id": "1fbb106e-a22c-4236-a3ee-693267b29179",
   "metadata": {},
   "outputs": [
    {
     "data": {
      "text/plain": [
       "(array([[1, 0],\n",
       "        [2, 0]], dtype=int64),\n",
       " 0.3333333333333333)"
      ]
     },
     "execution_count": 26,
     "metadata": {},
     "output_type": "execute_result"
    }
   ],
   "source": [
    "# Making the Confusion Matrix\n",
    "confusion_matrix(y_test, y_pred), accuracy_score(y_test, y_pred)"
   ]
  },
  {
   "cell_type": "markdown",
   "id": "8af3e587-078d-49b8-9bff-3034782c0757",
   "metadata": {},
   "source": [
    "## Proposed Approach\n",
    "1. We will have to decompose superset GPs into their individual 2x2 subsets and compute their supports through clustering. \n",
    "\n",
    "2. Then, we apply antimonotonicity principle to infer the support of the superset."
   ]
  },
  {
   "cell_type": "markdown",
   "id": "1416e081-0aae-4893-9e45-89760e7affb9",
   "metadata": {},
   "source": [
    "## a. KMeans Clustering\n",
    "Produces labels that are not very accurate in partitioning data points."
   ]
  },
  {
   "cell_type": "code",
   "execution_count": 30,
   "id": "57d5f6b7-1c3c-4771-acf4-1bb50d13eed1",
   "metadata": {},
   "outputs": [
    {
     "name": "stdout",
     "output_type": "stream",
     "text": [
      "(array([1.]), array([5], dtype=int64))\n",
      "[1. 1. 1. 1. 1.]\n"
     ]
    },
    {
     "data": {
      "image/png": "[encoded data removed]",
      "text/plain": [
       "<Figure size 432x288 with 1 Axes>"
      ]
     },
     "metadata": {
      "needs_background": "light"
     },
     "output_type": "display_data"
    }
   ],
   "source": [
    "# Training\n",
    "# Using KMeans clustering (NOT VERY  ACCURATE)\n",
    "\n",
    "kmean_labels = classifier.predict(X)\n",
    "print(np.unique(kmean_labels, return_counts=True))\n",
    "print(kmean_labels)\n",
    "\n",
    "plt.scatter(feature_X[:,0], feature_X[:,1], c=kmean_labels)\n",
    "#plt.scatter(feature_X[:,0], feature_X[:,1], c=y )\n",
    "\n",
    "plt.show()"
   ]
  },
  {
   "cell_type": "code",
   "execution_count": 22,
   "id": "e47dc58d-bdae-4963-9b85-55639d7066bb",
   "metadata": {},
   "outputs": [
    {
     "data": {
      "text/plain": [
       "(0.0, 1.0, 0.0, 0.4)"
      ]
     },
     "execution_count": 22,
     "metadata": {},
     "output_type": "execute_result"
    }
   ],
   "source": [
    "# Evaluation of clustering result of KMeans (true_labels, predicted_labels)\n",
    "homogeneity_score(y, kmean_labels), completeness_score(y, kmean_labels), v_measure_score(y, kmean_labels), accuracy_score(y, kmean_labels)#, confusion_matrix(y, kmean_labels)"
   ]
  },
  {
   "cell_type": "code",
   "execution_count": null,
   "id": "21dc14fd-9d05-4c0c-9f56-12807758495e",
   "metadata": {},
   "outputs": [],
   "source": []
  }
 ],
 "metadata": {
  "kernelspec": {
   "display_name": "Python 3 (ipykernel)",
   "language": "python",
   "name": "python3"
  },
  "language_info": {
   "codemirror_mode": {
    "name": "ipython",
    "version": 3
   },
   "file_extension": ".py",
   "mimetype": "text/x-python",
   "name": "python",
   "nbconvert_exporter": "python",
   "pygments_lexer": "ipython3",
   "version": "3.7.2"
  }
 },
 "nbformat": 4,
 "nbformat_minor": 5
}
