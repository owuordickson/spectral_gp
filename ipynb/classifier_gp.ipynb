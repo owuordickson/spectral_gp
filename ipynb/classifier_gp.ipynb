{
 "cells": [
  {
   "cell_type": "markdown",
   "id": "2ce64c88",
   "metadata": {},
   "source": [
    "# Agenda\n",
    "Classification of GPs' bitmaps.\n",
    "\n"
   ]
  },
  {
   "cell_type": "code",
   "execution_count": 80,
   "id": "72bb0e00",
   "metadata": {},
   "outputs": [],
   "source": [
    "# Installing Libraries (if not installed)\n",
    "#!pip3 install jupyterlab-git\n",
    "#!pip3 install matplotlib\n",
    "#!pip3 install scikit-learn\n",
    "#!pip3 install seaborn\n",
    "#!pip3 install numpy\n",
    "#!pip3 install pandas\n",
    "#!pip3 install so4gp\n",
    "#!pip3 install scipy\n",
    "#!pip3 install sympy"
   ]
  },
  {
   "cell_type": "markdown",
   "id": "caa30d2f",
   "metadata": {},
   "source": [
    "# Import libraries <a name=\"lib-import\"></a>"
   ]
  },
  {
   "cell_type": "code",
   "execution_count": 81,
   "id": "2ef53478",
   "metadata": {},
   "outputs": [],
   "source": [
    "# Importing Libraries\n",
    "import pandas as pd\n",
    "import numpy as np\n",
    "from numpy.linalg import svd\n",
    "import matplotlib.pyplot as plt\n",
    "import seaborn as sns\n",
    "import networkx as nx\n",
    "import sympy\n",
    "import scipy\n",
    "import math\n",
    "\n",
    "\n",
    "from scipy.sparse import csgraph, csr_matrix\n",
    "from scipy.spatial.distance import pdist, squareform\n",
    "from sklearn.cluster import KMeans\n",
    "from sklearn.neighbors import KNeighborsClassifier\n",
    "from sklearn.neighbors import kneighbors_graph\n",
    "from sklearn.naive_bayes import CategoricalNB, GaussianNB\n",
    "from sklearn.svm import SVC\n",
    "from sklearn.model_selection import train_test_split\n",
    "from sklearn.preprocessing import StandardScaler\n",
    "from sklearn.metrics import homogeneity_score, completeness_score,v_measure_score, confusion_matrix, accuracy_score\n",
    "from numpy import linalg as la"
   ]
  },
  {
   "cell_type": "code",
   "execution_count": 82,
   "id": "8159986a-afaf-4623-9fe1-98151b317497",
   "metadata": {},
   "outputs": [],
   "source": [
    "import so4gp as sgp"
   ]
  },
  {
   "cell_type": "markdown",
   "id": "3c1313c7-a9b5-4a5b-a1e0-09cc0402ac54",
   "metadata": {},
   "source": [
    "# Data set\n",
    "Retrieving data set and the features"
   ]
  },
  {
   "cell_type": "code",
   "execution_count": 234,
   "id": "6e01fe3c-0727-4474-ab13-170b58e76e26",
   "metadata": {},
   "outputs": [
    {
     "data": {
      "text/plain": [
       "array([[30.,  3.,  1., 10.,  2.,  4.],\n",
       "       [35.,  2.,  2.,  8.,  2.,  4.],\n",
       "       [40.,  4.,  2.,  7.,  2.,  4.],\n",
       "       [50.,  1.,  1.,  6.,  2.,  4.],\n",
       "       [52.,  7.,  1.,  2.,  2.,  4.]])"
      ]
     },
     "execution_count": 234,
     "metadata": {},
     "output_type": "execute_result"
    }
   ],
   "source": [
    "ds = sgp.DataGP('../data/DATASET.csv')\n",
    "#ds = sgp.DataGP('../data/c2k_02k.csv')\n",
    "#ds = sgp.DataGP('../data/breast_cancer.csv')\n",
    "\n",
    "\n",
    "data_size = ds.row_count\n",
    "feature_size = ds.col_count\n",
    "features = np.array(ds.data, dtype=np.float64)\n",
    "features"
   ]
  },
  {
   "cell_type": "code",
   "execution_count": 84,
   "id": "d3874209-a95c-4880-9ab1-0ae352221a87",
   "metadata": {},
   "outputs": [
    {
     "data": {
      "text/plain": [
       "'{\"Algorithm\": \"GRAANK\", \"Patterns\": [[[\"Insulin+\", \"BMI+\"], 0.612], [[\"HOMA+\", \"BMI+\"], 0.614], [[\"Leptin+\", \"BMI+\"], 0.732], [[\"Insulin-\", \"BMI-\"], 0.612], [[\"BMI-\", \"HOMA-\"], 0.614], [[\"BMI-\", \"Leptin-\"], 0.732], [[\"Insulin+\", \"Glucose+\"], 0.637], [[\"HOMA+\", \"Glucose+\"], 0.697], [[\"Insulin-\", \"Glucose-\"], 0.637], [[\"Glucose-\", \"HOMA-\"], 0.697], [[\"Insulin+\", \"HOMA+\"], 0.94], [[\"Leptin+\", \"Insulin+\"], 0.659], [[\"Insulin-\", \"HOMA-\"], 0.94], [[\"Insulin-\", \"Leptin-\"], 0.659], [[\"Leptin+\", \"HOMA+\"], 0.659], [[\"Leptin-\", \"HOMA-\"], 0.659], [[\"MCP.1+\", \"Resistin+\"], 0.672], [[\"MCP.1-\", \"Resistin-\"], 0.672], [[\"Insulin+\", \"HOMA+\", \"Glucose+\"], 0.637], [[\"Insulin-\", \"Glucose-\", \"HOMA-\"], 0.637], [[\"Leptin+\", \"Insulin+\", \"HOMA+\"], 0.629], [[\"Insulin-\", \"Leptin-\", \"HOMA-\"], 0.629]]}'"
      ]
     },
     "execution_count": 84,
     "metadata": {},
     "output_type": "execute_result"
    }
   ],
   "source": [
    "sgp.graank('../data/breast_cancer.csv', min_sup=0.6)"
   ]
  },
  {
   "cell_type": "code",
   "execution_count": 235,
   "id": "95e0ba5b-67cb-4499-bada-99cf62e6ec2a",
   "metadata": {},
   "outputs": [
    {
     "data": {
      "text/plain": [
       "array([[ 3., 10.],\n",
       "       [ 2.,  8.],\n",
       "       [ 4.,  7.],\n",
       "       [ 1.,  6.],\n",
       "       [ 7.,  2.]])"
      ]
     },
     "execution_count": 235,
     "metadata": {},
     "output_type": "execute_result"
    }
   ],
   "source": [
    "feature_X = features[:, [1,3]]\n",
    "feature_X"
   ]
  },
  {
   "cell_type": "markdown",
   "id": "fa870f0f-2b14-4721-8e14-c32724d962cb",
   "metadata": {},
   "source": [
    "# Semi-Supervised Learning\n",
    "\n",
    "Train similirity labels\n",
    "\n",
    "## a. Retrieving training data set (X, y)"
   ]
  },
  {
   "cell_type": "code",
   "execution_count": 204,
   "id": "c27c3814-03b1-4b0a-ba0b-d55491049c26",
   "metadata": {},
   "outputs": [],
   "source": [
    "def compute_nz(row, i, val=0):\n",
    "    #print(row[i:])\n",
    "    nz = np.nonzero(row)\n",
    "    for k in range(nz[0].size):\n",
    "        if nz[0].size > 0:\n",
    "            j = nz[0][k]\n",
    "            if (j > i) and (val == 0):\n",
    "                return j\n",
    "            elif (j > i) and (row[j] == val):\n",
    "                return j\n",
    "    return 0"
   ]
  },
  {
   "cell_type": "code",
   "execution_count": 205,
   "id": "4c85b4f0-df8f-4d02-a99a-a2ea3d0e7f10",
   "metadata": {},
   "outputs": [],
   "source": [
    "def compute_path(j, X, path, path_val):\n",
    "    if type(path) != list:\n",
    "        # 1st iteration\n",
    "        # print(\"Print Once: \" + str(j))\n",
    "        return compute_path(j, X, [path, j], path_val)\n",
    "    \n",
    "    k = compute_nz(X[j],j,val=path_val)\n",
    "    j += 1\n",
    "    if k > 0:\n",
    "        path.append(k)\n",
    "        if k < data_size:\n",
    "            return compute_path(k, X, path, path_val)\n",
    "    elif j < data_size:\n",
    "        return compute_path(j, X, path, path_val)\n",
    "    else:\n",
    "        return path\n",
    "    "
   ]
  },
  {
   "cell_type": "code",
   "execution_count": 237,
   "id": "4ed8b5fb-1f42-44c3-a633-a9fc589ce1e2",
   "metadata": {},
   "outputs": [],
   "source": [
    "def construct_pairs():\n",
    "    X = []\n",
    "    for i in range(data_size):\n",
    "        for j in range(i+1, data_size):\n",
    "            x = []\n",
    "            for k in range(feature_size):\n",
    "                #temp = [features[i][k], features[j][k]]\n",
    "                #x.append(temp)\n",
    "                x.append(features[j][k] - features[i][k])\n",
    "            X.append(x)\n",
    "    return np.array(X, dtype=float)"
   ]
  },
  {
   "cell_type": "code",
   "execution_count": 232,
   "id": "edaa5b18-0f9d-4780-b8c2-fb3c8af51084",
   "metadata": {},
   "outputs": [
    {
     "name": "stdout",
     "output_type": "stream",
     "text": [
      "[1, 2, 3, 6, 7, 8, 9, 10, 11, 12, 14, 16, 17, 20, 21, 22, 23, 24, 25, 29, 30, 32, 34, 35, 38, 40, 42, 43, 47, 48, 49, 50, 51, 53, 54, 55, 56, 59, 62, 63, 65, 68, 71, 72, 74, 78, 83, 85, 86, 88, 93, 95, 97, 98, 101, 102, 104, 106, 107, 108, 109, 110, 111, 113, 114, 115]\n",
      "\n",
      "\n"
     ]
    },
    {
     "data": {
      "text/plain": [
       "array([[0., 2., 2., ..., 1., 1., 1.],\n",
       "       [2., 0., 1., ..., 1., 2., 1.],\n",
       "       [2., 1., 0., ..., 1., 2., 1.],\n",
       "       ...,\n",
       "       [1., 1., 1., ..., 0., 1., 2.],\n",
       "       [1., 2., 2., ..., 1., 0., 1.],\n",
       "       [1., 1., 1., ..., 2., 1., 0.]])"
      ]
     },
     "execution_count": 232,
     "metadata": {},
     "output_type": "execute_result"
    }
   ],
   "source": [
    "# X (2 features at a time)\n",
    "X = np.zeros((data_size, data_size))\n",
    "y  = np.zeros((data_size,))\n",
    "enc = {\"upup\": 1, \"updown\": 2}\n",
    "\n",
    "for i in range(data_size):\n",
    "    for j in range(data_size):\n",
    "        x_i = feature_X[i]\n",
    "        x_j = feature_X[j]\n",
    "        if i == j:\n",
    "            pass\n",
    "        elif (x_i[0] > x_j[0]) and (x_i[1] > x_j[1]):\n",
    "            X[i][j] = enc[\"upup\"]\n",
    "            X[j][i] = enc[\"upup\"]\n",
    "        elif (x_i[0] > x_j[0]) and (x_i[1] < x_j[1]):\n",
    "            X[i][j] = enc[\"updown\"]\n",
    "            X[j][i] = enc[\"updown\"]\n",
    "\n",
    "longest_path = []\n",
    "longest_path_val = 0\n",
    "\n",
    "for i in range(data_size):\n",
    "    # Column i, Row j\n",
    "    path_val = enc[\"upup\"]\n",
    "    #path_val = enc[\"updown\"]\n",
    "    j = compute_nz(X[i],i, val=path_val)\n",
    "    if j > 0:\n",
    "        # path_val = X[i][j]\n",
    "        # print(str(i) + ' ' + str(j))\n",
    "        path = compute_path(j, X, i, path_val)\n",
    "        if len(path) > len(longest_path):\n",
    "            longest_path = path\n",
    "            longest_path_val = path_val\n",
    "y[longest_path] = longest_path_val\n",
    "\n",
    "print(longest_path)\n",
    "print(\"\\n\")\n",
    "X"
   ]
  },
  {
   "cell_type": "code",
   "execution_count": 239,
   "id": "14f39555-3f47-47d2-b298-8c6e333c0a63",
   "metadata": {},
   "outputs": [
    {
     "name": "stdout",
     "output_type": "stream",
     "text": [
      "[[ 5. -1.  1. -2.  0.  0.]\n",
      " [10.  1.  1. -3.  0.  0.]\n",
      " [20. -2.  0. -4.  0.  0.]\n",
      " [22.  4.  0. -8.  0.  0.]\n",
      " [ 5.  2.  0. -1.  0.  0.]\n",
      " [15. -1. -1. -2.  0.  0.]\n",
      " [17.  5. -1. -6.  0.  0.]\n",
      " [10. -3. -1. -1.  0.  0.]\n",
      " [12.  3. -1. -5.  0.  0.]\n",
      " [ 2.  6.  0. -4.  0.  0.]]\n"
     ]
    },
    {
     "data": {
      "text/plain": [
       "array([[ 5., -1.],\n",
       "       [10.,  1.],\n",
       "       [20., -2.],\n",
       "       [22.,  4.],\n",
       "       [ 5.,  2.],\n",
       "       [15., -1.],\n",
       "       [17.,  5.],\n",
       "       [10., -3.],\n",
       "       [12.,  3.],\n",
       "       [ 2.,  6.]])"
      ]
     },
     "execution_count": 239,
     "metadata": {},
     "output_type": "execute_result"
    }
   ],
   "source": [
    "# Using a modified data set\n",
    "\n",
    "Xp = construct_pairs()\n",
    "print(Xp)\n",
    "Xp[:, 0:2]"
   ]
  },
  {
   "cell_type": "code",
   "execution_count": 209,
   "id": "04ffba06-b77a-456d-b6a3-cf14af0b695b",
   "metadata": {},
   "outputs": [
    {
     "name": "stdout",
     "output_type": "stream",
     "text": [
      "[2, 1, 2, 1, 1, 2, 1, 2, 1, 1]\n"
     ]
    }
   ],
   "source": [
    "yp = [2, 1, 2, 1, 1, 2, 1, 2, 1, 1]\n",
    "print(yp)"
   ]
  },
  {
   "cell_type": "markdown",
   "id": "333822d3-dc73-4fb8-8f6f-a5070cbe6a56",
   "metadata": {},
   "source": [
    "## b. Splitting Samples\n",
    "\n",
    "Splitting test (20%) and train samples (80%) "
   ]
  },
  {
   "cell_type": "code",
   "execution_count": 210,
   "id": "8f962585-e667-434a-a9b6-0bf4701d3be3",
   "metadata": {},
   "outputs": [],
   "source": [
    "# Splitting the dataset into the Training set (0.5 of data set sample) and Test set (0.5 of sample size)\n",
    "#X_train, X_test, y_train, y_test = train_test_split(Xp[:, 0:4], yp, test_size = 0.2, random_state = 0)\n",
    "X_train, X_test, y_train, y_test = train_test_split(X, y, test_size = 0.2, random_state = 0)\n"
   ]
  },
  {
   "cell_type": "code",
   "execution_count": 211,
   "id": "210c715b-207b-4fd1-b433-90ac4ac2abc5",
   "metadata": {},
   "outputs": [],
   "source": [
    "# Feature Scaling (if you have large values otherwise skip)\n",
    "\n",
    "#sc = StandardScaler()\n",
    "#X_train = sc.fit_transform(X_train)\n",
    "#X_test = sc.transform(X_test)"
   ]
  },
  {
   "cell_type": "markdown",
   "id": "8e7ef33a-a797-4653-b7c6-cb16df59bdea",
   "metadata": {},
   "source": [
    "## c. Training Classifiers\n",
    "\n",
    "### 1. KNN Classifier\n",
    "\n",
    "Using supervised learning\n",
    "\n",
    "Adopted from [Analyticsvidhya](https://www.analyticsvidhya.com/blog/2021/01/a-quick-introduction-to-k-nearest-neighbor-knn-classification-using-python/)"
   ]
  },
  {
   "cell_type": "code",
   "execution_count": 212,
   "id": "53a02db4-da41-46bb-b171-2f2545df4c12",
   "metadata": {},
   "outputs": [
    {
     "data": {
      "text/plain": [
       "array([1., 0., 1., 1., 1., 0., 0., 0., 1., 1., 0., 1., 0., 1., 1., 1., 1.,\n",
       "       1., 1., 1., 1., 0., 1., 1.])"
      ]
     },
     "execution_count": 212,
     "metadata": {},
     "output_type": "execute_result"
    }
   ],
   "source": [
    "# Training the K-NN model on the Training set\n",
    "n = int(math.sqrt(data_size))\n",
    "knn_classifier = KNeighborsClassifier(n_neighbors = n, metric = 'minkowski', p = 2)  # default parameters\n",
    "knn_classifier.fit(X_train, y_train)\n",
    "\n",
    "# Predicting the Test set results\n",
    "y_pred = knn_classifier.predict(X_test)\n",
    "y_pred"
   ]
  },
  {
   "cell_type": "code",
   "execution_count": 213,
   "id": "1fbb106e-a22c-4236-a3ee-693267b29179",
   "metadata": {},
   "outputs": [
    {
     "data": {
      "text/plain": [
       "(array([[ 4,  5],\n",
       "        [ 3, 12]], dtype=int64),\n",
       " 0.6666666666666666)"
      ]
     },
     "execution_count": 213,
     "metadata": {},
     "output_type": "execute_result"
    }
   ],
   "source": [
    "# Making the Confusion Matrix\n",
    "confusion_matrix(y_test, y_pred), accuracy_score(y_test, y_pred)"
   ]
  },
  {
   "cell_type": "markdown",
   "id": "215e04f5-d628-4d9f-a9b4-387c5fa5a3da",
   "metadata": {},
   "source": [
    "### 2. Naive Bayes Classifier"
   ]
  },
  {
   "cell_type": "code",
   "execution_count": 214,
   "id": "3bd969a6-dbe4-41cb-a042-84d3f9b0906e",
   "metadata": {},
   "outputs": [
    {
     "data": {
      "text/plain": [
       "array([1., 0., 1., 1., 1., 0., 0., 0., 1., 1., 1., 1., 0., 1., 1., 1., 1.,\n",
       "       1., 1., 1., 1., 0., 0., 1.])"
      ]
     },
     "execution_count": 214,
     "metadata": {},
     "output_type": "execute_result"
    }
   ],
   "source": [
    "# Training the NB model on the Training set\n",
    "nb_classifier = GaussianNB()\n",
    "nb_classifier.fit(X_train, y_train)\n",
    "\n",
    "# Predicting the Test set results\n",
    "y_pred = nb_classifier.predict(X_test)\n",
    "y_pred"
   ]
  },
  {
   "cell_type": "code",
   "execution_count": 215,
   "id": "1b21bf7b-4daa-4a3d-95e3-64a6f1439850",
   "metadata": {},
   "outputs": [
    {
     "data": {
      "text/plain": [
       "(array([[ 5,  4],\n",
       "        [ 2, 13]], dtype=int64),\n",
       " 0.75)"
      ]
     },
     "execution_count": 215,
     "metadata": {},
     "output_type": "execute_result"
    }
   ],
   "source": [
    "# Making the Confusion Matrix\n",
    "confusion_matrix(y_test, y_pred), accuracy_score(y_test, y_pred)"
   ]
  },
  {
   "cell_type": "markdown",
   "id": "a75b4da2-b6b1-4956-bd74-09a730b5383e",
   "metadata": {},
   "source": [
    "### 3. SVM Classifier"
   ]
  },
  {
   "cell_type": "code",
   "execution_count": 216,
   "id": "ebcf02c5-4033-4489-acc0-f8eccf3d11f1",
   "metadata": {},
   "outputs": [
    {
     "data": {
      "text/plain": [
       "array([1., 0., 1., 1., 1., 1., 0., 0., 1., 1., 1., 1., 0., 1., 0., 1., 1.,\n",
       "       1., 1., 1., 1., 0., 1., 1.])"
      ]
     },
     "execution_count": 216,
     "metadata": {},
     "output_type": "execute_result"
    }
   ],
   "source": [
    "# Training the SVC model on the Training set\n",
    "svm_classifier = SVC()\n",
    "svm_classifier.fit(X_train, y_train)\n",
    "\n",
    "# Predicting the Test set results\n",
    "y_pred = svm_classifier.predict(X_test)\n",
    "y_pred"
   ]
  },
  {
   "cell_type": "code",
   "execution_count": 217,
   "id": "f7c60306-18cc-49cd-9536-4abfd7d7b9f2",
   "metadata": {},
   "outputs": [
    {
     "data": {
      "text/plain": [
       "(array([[ 4,  5],\n",
       "        [ 2, 13]], dtype=int64),\n",
       " 0.7083333333333334)"
      ]
     },
     "execution_count": 217,
     "metadata": {},
     "output_type": "execute_result"
    }
   ],
   "source": [
    "# Making the Confusion Matrix\n",
    "confusion_matrix(y_test, y_pred), accuracy_score(y_test, y_pred)"
   ]
  },
  {
   "cell_type": "markdown",
   "id": "8af3e587-078d-49b8-9bff-3034782c0757",
   "metadata": {},
   "source": [
    "## d. Testing Classifiers of Real Data\n"
   ]
  },
  {
   "cell_type": "code",
   "execution_count": 218,
   "id": "c2db1aee-c267-4c70-a3de-1e84c725d11a",
   "metadata": {},
   "outputs": [
    {
     "data": {
      "text/plain": [
       "(array([0., 1.]), array([50, 66], dtype=int64))"
      ]
     },
     "execution_count": 218,
     "metadata": {},
     "output_type": "execute_result"
    }
   ],
   "source": [
    "# True labels (y)\n",
    "np.unique(y, return_counts=True)"
   ]
  },
  {
   "cell_type": "markdown",
   "id": "1416e081-0aae-4893-9e45-89760e7affb9",
   "metadata": {},
   "source": [
    "### 1. KMeans Classification\n",
    "Produces labels that are not very accurate in partitioning data points."
   ]
  },
  {
   "cell_type": "code",
   "execution_count": 229,
   "id": "57d5f6b7-1c3c-4771-acf4-1bb50d13eed1",
   "metadata": {},
   "outputs": [
    {
     "name": "stdout",
     "output_type": "stream",
     "text": [
      "(array([0., 1.]), array([48, 68], dtype=int64))\n",
      "[1. 1. 1. 1. 1. 1. 1. 1. 1. 1. 1. 1. 1. 0. 1. 0. 1. 0. 0. 1. 1. 1. 1. 1.\n",
      " 1. 1. 1. 0. 1. 1. 0. 1. 1. 0. 1. 1. 1. 1. 1. 0. 1. 0. 1. 1. 0. 1. 0. 1.\n",
      " 0. 1. 0. 1. 0. 0. 0. 1. 1. 0. 1. 1. 1. 0. 1. 1. 0. 1. 1. 1. 1. 0. 1. 1.\n",
      " 0. 1. 0. 0. 0. 0. 0. 0. 1. 0. 0. 0. 1. 0. 1. 0. 1. 0. 0. 0. 0. 0. 0. 0.\n",
      " 0. 1. 0. 0. 1. 1. 1. 0. 0. 0. 1. 1. 1. 0. 0. 1. 1. 1. 1. 0.]\n"
     ]
    },
    {
     "data": {
      "image/png": "[encoded data removed]",
      "text/plain": [
       "<Figure size 432x288 with 1 Axes>"
      ]
     },
     "metadata": {
      "needs_background": "light"
     },
     "output_type": "display_data"
    }
   ],
   "source": [
    "# Validation\n",
    "# Using KMeans classification (NOT VERY  ACCURATE)\n",
    "\n",
    "kmean_labels = knn_classifier.predict(X)\n",
    "#kmean_labels = knn_classifier.predict(Xp[:, 0:4])\n",
    "print(np.unique(kmean_labels, return_counts=True))\n",
    "print(kmean_labels)\n",
    "\n",
    "plt.scatter(feature_X[:,0], feature_X[:,1], c=kmean_labels)\n",
    "#plt.scatter(feature_X[:,0], feature_X[:,1], c=y )\n",
    "\n",
    "plt.show()"
   ]
  },
  {
   "cell_type": "code",
   "execution_count": 230,
   "id": "e47dc58d-bdae-4963-9b85-55639d7066bb",
   "metadata": {},
   "outputs": [
    {
     "data": {
      "text/plain": [
       "(0.0800628718783907,\n",
       " 0.08069974268041899,\n",
       " 0.08038004577834133,\n",
       " 0.6724137931034483)"
      ]
     },
     "execution_count": 230,
     "metadata": {},
     "output_type": "execute_result"
    }
   ],
   "source": [
    "# Evaluation of clustering result of KMeans (true_labels, predicted_labels)\n",
    "homogeneity_score(y, kmean_labels), completeness_score(y, kmean_labels), v_measure_score(y, kmean_labels), accuracy_score(y, kmean_labels)#, confusion_matrix(y, kmean_labels)\n",
    "#accuracy_score(yp, kmean_labels)"
   ]
  },
  {
   "cell_type": "markdown",
   "id": "738356a8-ed5f-4fc9-be05-f8878bf1905b",
   "metadata": {},
   "source": [
    "### 2. Naive Bayes Classification\n",
    "\n",
    "Produces labels"
   ]
  },
  {
   "cell_type": "code",
   "execution_count": 221,
   "id": "a5ff46bc-140f-4292-915b-34e4e61a6114",
   "metadata": {},
   "outputs": [
    {
     "name": "stdout",
     "output_type": "stream",
     "text": [
      "(array([0., 1.]), array([51, 65], dtype=int64))\n",
      "[1. 1. 1. 1. 1. 1. 1. 1. 1. 1. 1. 1. 1. 0. 1. 0. 1. 0. 0. 1. 1. 0. 1. 1.\n",
      " 1. 0. 0. 0. 1. 1. 1. 0. 1. 0. 1. 1. 0. 0. 1. 0. 1. 0. 1. 1. 0. 1. 0. 1.\n",
      " 0. 1. 0. 1. 0. 1. 0. 0. 1. 0. 1. 1. 1. 0. 1. 1. 0. 1. 1. 1. 1. 0. 1. 0.\n",
      " 0. 1. 0. 0. 0. 0. 0. 0. 1. 0. 0. 0. 1. 0. 1. 0. 0. 0. 0. 0. 0. 0. 0. 1.\n",
      " 0. 1. 0. 0. 1. 1. 1. 0. 1. 0. 1. 1. 1. 1. 1. 1. 1. 1. 1. 0.]\n"
     ]
    },
    {
     "data": {
      "image/png": "[encoded data removed]",
      "text/plain": [
       "<Figure size 432x288 with 1 Axes>"
      ]
     },
     "metadata": {
      "needs_background": "light"
     },
     "output_type": "display_data"
    }
   ],
   "source": [
    "# Validation\n",
    "# Using Naive Bayes classification\n",
    "\n",
    "nb_labels = nb_classifier.predict(X)\n",
    "print(np.unique(nb_labels, return_counts=True))\n",
    "print(nb_labels)\n",
    "\n",
    "plt.scatter(feature_X[:,0], feature_X[:,1], c=nb_labels)\n",
    "#plt.scatter(feature_X[:,0], feature_X[:,1], c=y )\n",
    "\n",
    "plt.show()"
   ]
  },
  {
   "cell_type": "code",
   "execution_count": 222,
   "id": "810b5abb-74eb-4e15-a401-0e7adf70bbc2",
   "metadata": {},
   "outputs": [
    {
     "data": {
      "text/plain": [
       "(0.1331850082613277,\n",
       " 0.13274961352069742,\n",
       " 0.1329669544714932,\n",
       " 0.7155172413793104)"
      ]
     },
     "execution_count": 222,
     "metadata": {},
     "output_type": "execute_result"
    }
   ],
   "source": [
    "# Evaluation of clustering result of KMeans (true_labels, predicted_labels)\n",
    "homogeneity_score(y, nb_labels), completeness_score(y, nb_labels), v_measure_score(y, nb_labels), accuracy_score(y, nb_labels)#, confusion_matrix(y, kmean_labels)"
   ]
  },
  {
   "cell_type": "markdown",
   "id": "deca5c41-29ad-4013-a4cf-25450208c744",
   "metadata": {},
   "source": [
    "### 3. SVM Classification\n",
    "\n",
    "Produces labels"
   ]
  },
  {
   "cell_type": "code",
   "execution_count": 223,
   "id": "b7f82cd4-3dc4-48ed-8217-7ebbf7054b7a",
   "metadata": {},
   "outputs": [
    {
     "name": "stdout",
     "output_type": "stream",
     "text": [
      "(array([0., 1.]), array([42, 74], dtype=int64))\n",
      "[1. 1. 1. 1. 1. 1. 1. 1. 1. 1. 1. 1. 1. 0. 1. 0. 1. 0. 0. 1. 1. 1. 1. 1.\n",
      " 1. 1. 1. 0. 1. 1. 1. 1. 1. 0. 1. 1. 0. 0. 1. 0. 1. 0. 1. 0. 1. 0. 0. 1.\n",
      " 1. 1. 1. 1. 0. 1. 0. 1. 1. 0. 0. 1. 1. 0. 1. 1. 0. 1. 1. 0. 1. 0. 1. 1.\n",
      " 0. 1. 0. 0. 0. 0. 1. 1. 0. 0. 0. 0. 1. 1. 1. 0. 1. 0. 0. 0. 0. 0. 0. 1.\n",
      " 0. 1. 1. 0. 0. 1. 1. 0. 1. 0. 1. 1. 1. 1. 1. 1. 1. 1. 1. 1.]\n"
     ]
    },
    {
     "data": {
      "image/png": "[encoded data removed]",
      "text/plain": [
       "<Figure size 432x288 with 1 Axes>"
      ]
     },
     "metadata": {
      "needs_background": "light"
     },
     "output_type": "display_data"
    }
   ],
   "source": [
    "# Validation\n",
    "# Using Naive Bayes classification\n",
    "\n",
    "svm_labels = svm_classifier.predict(X)\n",
    "print(np.unique(svm_labels, return_counts=True))\n",
    "print(svm_labels)\n",
    "\n",
    "plt.scatter(feature_X[:,0], feature_X[:,1], c=svm_labels)\n",
    "#plt.scatter(feature_X[:,0], feature_X[:,1], c=y )\n",
    "\n",
    "plt.show()"
   ]
  },
  {
   "cell_type": "code",
   "execution_count": 224,
   "id": "5318fef8-9ed1-4b6d-abe0-6bcde8347e9b",
   "metadata": {},
   "outputs": [
    {
     "data": {
      "text/plain": [
       "(0.2909171061340377, 0.3038075024666748, 0.297222607443013, 0.8103448275862069)"
      ]
     },
     "execution_count": 224,
     "metadata": {},
     "output_type": "execute_result"
    }
   ],
   "source": [
    "# Evaluation of clustering result of KMeans (true_labels, predicted_labels)\n",
    "homogeneity_score(y, svm_labels), completeness_score(y, svm_labels), v_measure_score(y, svm_labels), accuracy_score(y, svm_labels)#, confusion_matrix(y, kmean_labels)"
   ]
  },
  {
   "cell_type": "code",
   "execution_count": null,
   "id": "4bb346a7-a61d-4934-816d-569250aa5d1b",
   "metadata": {},
   "outputs": [],
   "source": []
  }
 ],
 "metadata": {
  "kernelspec": {
   "display_name": "Python 3 (ipykernel)",
   "language": "python",
   "name": "python3"
  },
  "language_info": {
   "codemirror_mode": {
    "name": "ipython",
    "version": 3
   },
   "file_extension": ".py",
   "mimetype": "text/x-python",
   "name": "python",
   "nbconvert_exporter": "python",
   "pygments_lexer": "ipython3",
   "version": "3.7.2"
  }
 },
 "nbformat": 4,
 "nbformat_minor": 5
}
