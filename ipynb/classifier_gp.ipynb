{
 "cells": [
  {
   "cell_type": "markdown",
   "id": "2ce64c88",
   "metadata": {},
   "source": [
    "# Agenda\n",
    "Spectral clustering of GPs' bitmaps.\n",
    "\n"
   ]
  },
  {
   "cell_type": "code",
   "execution_count": 1,
   "id": "72bb0e00",
   "metadata": {},
   "outputs": [],
   "source": [
    "# Installing Libraries (if not installed)\n",
    "#!pip3 install jupyterlab-git\n",
    "#!pip3 install matplotlib\n",
    "#!pip3 install scikit-learn\n",
    "#!pip3 install seaborn\n",
    "#!pip3 install numpy\n",
    "#!pip3 install pandas\n",
    "#!pip3 install so4gp\n",
    "#!pip3 install scipy\n",
    "#!pip3 install sympy"
   ]
  },
  {
   "cell_type": "markdown",
   "id": "caa30d2f",
   "metadata": {},
   "source": [
    "# Import libraries <a name=\"lib-import\"></a>"
   ]
  },
  {
   "cell_type": "code",
   "execution_count": 2,
   "id": "2ef53478",
   "metadata": {},
   "outputs": [],
   "source": [
    "# Importing Libraries\n",
    "import pandas as pd\n",
    "import numpy as np\n",
    "from numpy.linalg import svd\n",
    "import matplotlib.pyplot as plt\n",
    "import seaborn as sns\n",
    "import networkx as nx\n",
    "import sympy\n",
    "import scipy\n",
    "import math\n",
    "\n",
    "\n",
    "from scipy.sparse import csgraph, csr_matrix\n",
    "from scipy.spatial.distance import pdist, squareform\n",
    "from sklearn.cluster import KMeans\n",
    "from sklearn.neighbors import KNeighborsClassifier\n",
    "from sklearn.neighbors import kneighbors_graph\n",
    "from sklearn.model_selection import train_test_split\n",
    "from sklearn.preprocessing import StandardScaler\n",
    "from sklearn.metrics import homogeneity_score, completeness_score,v_measure_score, confusion_matrix, accuracy_score\n",
    "from numpy import linalg as la"
   ]
  },
  {
   "cell_type": "code",
   "execution_count": 3,
   "id": "8159986a-afaf-4623-9fe1-98151b317497",
   "metadata": {},
   "outputs": [],
   "source": [
    "import so4gp as sgp"
   ]
  },
  {
   "cell_type": "markdown",
   "id": "3c1313c7-a9b5-4a5b-a1e0-09cc0402ac54",
   "metadata": {},
   "source": [
    "## Data set\n",
    "Retrieving data set and the features"
   ]
  },
  {
   "cell_type": "code",
   "execution_count": 80,
   "id": "6e01fe3c-0727-4474-ab13-170b58e76e26",
   "metadata": {},
   "outputs": [
    {
     "data": {
      "text/plain": [
       "array([[0.0000e+00, 5.1820e+03, 1.9900e+02, ..., 4.3400e+02, 1.0000e+00,\n",
       "        2.0000e+00],\n",
       "       [1.0000e+00, 6.5230e+03, 8.4400e+02, ..., 4.4500e+02, 1.0000e+00,\n",
       "        2.0000e+00],\n",
       "       [2.0000e+00, 5.8780e+03, 4.3800e+03, ..., 1.5200e+03, 1.0000e+00,\n",
       "        1.0000e+00],\n",
       "       ...,\n",
       "       [1.9700e+02, 9.4380e+03, 1.6300e+02, ..., 7.5000e+01, 1.0000e+00,\n",
       "        1.0000e+00],\n",
       "       [1.9800e+02, 1.3343e+04, 3.4850e+03, ..., 9.6100e+02, 2.0000e+00,\n",
       "        1.0000e+00],\n",
       "       [1.9900e+02, 1.4337e+04, 6.9100e+02, ..., 8.9400e+02, 2.0000e+00,\n",
       "        2.0000e+00]])"
      ]
     },
     "execution_count": 80,
     "metadata": {},
     "output_type": "execute_result"
    }
   ],
   "source": [
    "ds = sgp.DataGP('../data/DATASET.csv')\n",
    "ds = sgp.DataGP('../data/c2k_02k.csv')\n",
    "#ds = sgp.DataGP('../data/breast_cancer.csv')\n",
    "\n",
    "\n",
    "data_size = ds.row_count\n",
    "features = np.array(ds.data, dtype=np.float64)\n",
    "features"
   ]
  },
  {
   "cell_type": "code",
   "execution_count": 81,
   "id": "d3874209-a95c-4880-9ab1-0ae352221a87",
   "metadata": {},
   "outputs": [],
   "source": [
    "#sgp.graank('../data/breast_cancer.csv', min_sup=0.6)"
   ]
  },
  {
   "cell_type": "code",
   "execution_count": 82,
   "id": "95e0ba5b-67cb-4499-bada-99cf62e6ec2a",
   "metadata": {},
   "outputs": [
    {
     "data": {
      "text/plain": [
       "array([[0.0000e+00, 5.1820e+03],\n",
       "       [1.0000e+00, 6.5230e+03],\n",
       "       [2.0000e+00, 5.8780e+03],\n",
       "       [3.0000e+00, 1.2750e+03],\n",
       "       [4.0000e+00, 8.1170e+03],\n",
       "       [5.0000e+00, 9.8890e+03],\n",
       "       [6.0000e+00, 3.9970e+03],\n",
       "       [7.0000e+00, 7.1250e+03],\n",
       "       [8.0000e+00, 1.0481e+04],\n",
       "       [9.0000e+00, 3.2120e+03],\n",
       "       [1.0000e+01, 1.2343e+04],\n",
       "       [1.1000e+01, 8.4730e+03],\n",
       "       [1.2000e+01, 9.9310e+03],\n",
       "       [1.3000e+01, 1.2666e+04],\n",
       "       [1.4000e+01, 1.4132e+04],\n",
       "       [1.5000e+01, 1.3119e+04],\n",
       "       [1.6000e+01, 1.3572e+04],\n",
       "       [1.7000e+01, 1.3880e+03],\n",
       "       [1.8000e+01, 4.6970e+03],\n",
       "       [1.9000e+01, 1.3297e+04],\n",
       "       [2.0000e+01, 9.4810e+03],\n",
       "       [2.1000e+01, 5.8380e+03],\n",
       "       [2.2000e+01, 1.0613e+04],\n",
       "       [2.3000e+01, 1.3630e+03],\n",
       "       [2.4000e+01, 4.0380e+03],\n",
       "       [2.5000e+01, 3.0910e+03],\n",
       "       [2.6000e+01, 1.3510e+04],\n",
       "       [2.7000e+01, 4.9910e+03],\n",
       "       [2.8000e+01, 1.1674e+04],\n",
       "       [2.9000e+01, 7.1080e+03],\n",
       "       [3.0000e+01, 3.9400e+02],\n",
       "       [3.1000e+01, 1.3559e+04],\n",
       "       [3.2000e+01, 1.1152e+04],\n",
       "       [3.3000e+01, 1.0315e+04],\n",
       "       [3.4000e+01, 3.1040e+03],\n",
       "       [3.5000e+01, 3.4910e+03],\n",
       "       [3.6000e+01, 4.5350e+03],\n",
       "       [3.7000e+01, 2.1720e+03],\n",
       "       [3.8000e+01, 1.1135e+04],\n",
       "       [3.9000e+01, 1.3641e+04],\n",
       "       [4.0000e+01, 1.0206e+04],\n",
       "       [4.1000e+01, 1.1942e+04],\n",
       "       [4.2000e+01, 9.1530e+03],\n",
       "       [4.3000e+01, 2.3150e+03],\n",
       "       [4.4000e+01, 8.2510e+03],\n",
       "       [4.5000e+01, 9.9620e+03],\n",
       "       [4.6000e+01, 5.6100e+02],\n",
       "       [4.7000e+01, 8.2800e+02],\n",
       "       [4.8000e+01, 4.5620e+03],\n",
       "       [4.9000e+01, 1.3455e+04],\n",
       "       [5.0000e+01, 8.2830e+03],\n",
       "       [5.1000e+01, 8.1680e+03],\n",
       "       [5.2000e+01, 3.2310e+03],\n",
       "       [5.3000e+01, 5.0250e+03],\n",
       "       [5.4000e+01, 7.4980e+03],\n",
       "       [5.5000e+01, 1.1109e+04],\n",
       "       [5.6000e+01, 8.6790e+03],\n",
       "       [5.7000e+01, 1.1694e+04],\n",
       "       [5.8000e+01, 4.6130e+03],\n",
       "       [5.9000e+01, 1.0507e+04],\n",
       "       [6.0000e+01, 2.3400e+02],\n",
       "       [6.1000e+01, 8.5850e+03],\n",
       "       [6.2000e+01, 1.2419e+04],\n",
       "       [6.3000e+01, 1.2117e+04],\n",
       "       [6.4000e+01, 9.4490e+03],\n",
       "       [6.5000e+01, 7.5640e+03],\n",
       "       [6.6000e+01, 1.0705e+04],\n",
       "       [6.7000e+01, 8.4250e+03],\n",
       "       [6.8000e+01, 1.1901e+04],\n",
       "       [6.9000e+01, 6.7770e+03],\n",
       "       [7.0000e+01, 1.2335e+04],\n",
       "       [7.1000e+01, 1.3171e+04],\n",
       "       [7.2000e+01, 1.3743e+04],\n",
       "       [7.3000e+01, 1.1804e+04],\n",
       "       [7.4000e+01, 6.5310e+03],\n",
       "       [7.5000e+01, 1.1836e+04],\n",
       "       [7.6000e+01, 1.0419e+04],\n",
       "       [7.7000e+01, 1.2361e+04],\n",
       "       [7.8000e+01, 9.0730e+03],\n",
       "       [7.9000e+01, 1.0250e+03],\n",
       "       [8.0000e+01, 5.2800e+03],\n",
       "       [8.1000e+01, 1.2379e+04],\n",
       "       [8.2000e+01, 7.1700e+02],\n",
       "       [8.3000e+01, 2.1590e+03],\n",
       "       [8.4000e+01, 9.7160e+03],\n",
       "       [8.5000e+01, 1.4178e+04],\n",
       "       [8.6000e+01, 4.4440e+03],\n",
       "       [8.7000e+01, 3.3730e+03],\n",
       "       [8.8000e+01, 1.1163e+04],\n",
       "       [8.9000e+01, 4.9880e+03],\n",
       "       [9.0000e+01, 5.6070e+03],\n",
       "       [9.1000e+01, 1.2714e+04],\n",
       "       [9.2000e+01, 5.0160e+03],\n",
       "       [9.3000e+01, 1.2338e+04],\n",
       "       [9.4000e+01, 2.4480e+03],\n",
       "       [9.5000e+01, 1.0000e+03],\n",
       "       [9.6000e+01, 1.3841e+04],\n",
       "       [9.7000e+01, 1.4190e+04],\n",
       "       [9.8000e+01, 1.1016e+04],\n",
       "       [9.9000e+01, 7.1430e+03],\n",
       "       [1.0000e+02, 7.1600e+02],\n",
       "       [1.0100e+02, 3.4140e+03],\n",
       "       [1.0200e+02, 1.1718e+04],\n",
       "       [1.0300e+02, 6.9950e+03],\n",
       "       [1.0400e+02, 4.1090e+03],\n",
       "       [1.0500e+02, 1.2780e+04],\n",
       "       [1.0600e+02, 9.5600e+02],\n",
       "       [1.0700e+02, 5.7320e+03],\n",
       "       [1.0800e+02, 4.5860e+03],\n",
       "       [1.0900e+02, 9.6410e+03],\n",
       "       [1.1000e+02, 1.3017e+04],\n",
       "       [1.1100e+02, 3.4340e+03],\n",
       "       [1.1200e+02, 4.2690e+03],\n",
       "       [1.1300e+02, 9.5330e+03],\n",
       "       [1.1400e+02, 7.3880e+03],\n",
       "       [1.1500e+02, 2.2000e+01],\n",
       "       [1.1600e+02, 1.3477e+04],\n",
       "       [1.1700e+02, 1.3308e+04],\n",
       "       [1.1800e+02, 2.5930e+03],\n",
       "       [1.1900e+02, 8.6210e+03],\n",
       "       [1.2000e+02, 1.3024e+04],\n",
       "       [1.2100e+02, 1.0389e+04],\n",
       "       [1.2200e+02, 1.2816e+04],\n",
       "       [1.2300e+02, 2.9010e+03],\n",
       "       [1.2400e+02, 1.2211e+04],\n",
       "       [1.2500e+02, 6.6710e+03],\n",
       "       [1.2600e+02, 1.2100e+02],\n",
       "       [1.2700e+02, 8.8020e+03],\n",
       "       [1.2800e+02, 1.0852e+04],\n",
       "       [1.2900e+02, 9.0060e+03],\n",
       "       [1.3000e+02, 4.0080e+03],\n",
       "       [1.3100e+02, 6.6100e+03],\n",
       "       [1.3200e+02, 1.3042e+04],\n",
       "       [1.3300e+02, 1.1874e+04],\n",
       "       [1.3400e+02, 6.2140e+03],\n",
       "       [1.3500e+02, 1.4611e+04],\n",
       "       [1.3600e+02, 1.1030e+04],\n",
       "       [1.3700e+02, 8.6600e+02],\n",
       "       [1.3800e+02, 1.3201e+04],\n",
       "       [1.3900e+02, 3.0500e+02],\n",
       "       [1.4000e+02, 7.4270e+03],\n",
       "       [1.4100e+02, 5.6020e+03],\n",
       "       [1.4200e+02, 1.2468e+04],\n",
       "       [1.4300e+02, 7.9700e+02],\n",
       "       [1.4400e+02, 8.5040e+03],\n",
       "       [1.4500e+02, 5.0860e+03],\n",
       "       [1.4600e+02, 1.0725e+04],\n",
       "       [1.4700e+02, 2.3290e+03],\n",
       "       [1.4800e+02, 3.0390e+03],\n",
       "       [1.4900e+02, 1.0466e+04],\n",
       "       [1.5000e+02, 1.2309e+04],\n",
       "       [1.5100e+02, 1.1100e+02],\n",
       "       [1.5200e+02, 1.1240e+04],\n",
       "       [1.5300e+02, 1.2289e+04],\n",
       "       [1.5400e+02, 9.3430e+03],\n",
       "       [1.5500e+02, 4.9920e+03],\n",
       "       [1.5600e+02, 2.2000e+02],\n",
       "       [1.5700e+02, 8.2200e+03],\n",
       "       [1.5800e+02, 7.1820e+03],\n",
       "       [1.5900e+02, 4.4100e+02],\n",
       "       [1.6000e+02, 1.4042e+04],\n",
       "       [1.6100e+02, 1.2535e+04],\n",
       "       [1.6200e+02, 9.7610e+03],\n",
       "       [1.6300e+02, 8.4490e+03],\n",
       "       [1.6400e+02, 1.2873e+04],\n",
       "       [1.6500e+02, 1.2655e+04],\n",
       "       [1.6600e+02, 1.7370e+03],\n",
       "       [1.6700e+02, 7.5690e+03],\n",
       "       [1.6800e+02, 1.1094e+04],\n",
       "       [1.6900e+02, 8.4460e+03],\n",
       "       [1.7000e+02, 7.9990e+03],\n",
       "       [1.7100e+02, 5.8360e+03],\n",
       "       [1.7200e+02, 1.3582e+04],\n",
       "       [1.7300e+02, 7.6700e+02],\n",
       "       [1.7400e+02, 2.6980e+03],\n",
       "       [1.7500e+02, 2.5840e+03],\n",
       "       [1.7600e+02, 1.3546e+04],\n",
       "       [1.7700e+02, 4.9950e+03],\n",
       "       [1.7800e+02, 2.9300e+02],\n",
       "       [1.7900e+02, 7.8440e+03],\n",
       "       [1.8000e+02, 1.4335e+04],\n",
       "       [1.8100e+02, 1.0269e+04],\n",
       "       [1.8200e+02, 3.8840e+03],\n",
       "       [1.8300e+02, 5.3910e+03],\n",
       "       [1.8400e+02, 9.6560e+03],\n",
       "       [1.8500e+02, 3.2200e+03],\n",
       "       [1.8600e+02, 5.6550e+03],\n",
       "       [1.8700e+02, 9.7410e+03],\n",
       "       [1.8800e+02, 6.3330e+03],\n",
       "       [1.8900e+02, 1.3830e+03],\n",
       "       [1.9000e+02, 4.5980e+03],\n",
       "       [1.9100e+02, 1.2642e+04],\n",
       "       [1.9200e+02, 1.0241e+04],\n",
       "       [1.9300e+02, 8.6710e+03],\n",
       "       [1.9400e+02, 8.5470e+03],\n",
       "       [1.9500e+02, 1.3540e+04],\n",
       "       [1.9600e+02, 1.2639e+04],\n",
       "       [1.9700e+02, 9.4380e+03],\n",
       "       [1.9800e+02, 1.3343e+04],\n",
       "       [1.9900e+02, 1.4337e+04]])"
      ]
     },
     "execution_count": 82,
     "metadata": {},
     "output_type": "execute_result"
    }
   ],
   "source": [
    "feature_X = features[:, [0,1]]\n",
    "feature_X"
   ]
  },
  {
   "cell_type": "markdown",
   "id": "fa870f0f-2b14-4721-8e14-c32724d962cb",
   "metadata": {},
   "source": [
    "## Train similirity labels\n",
    "\n",
    "### a. Retrieving training data set (X, y)"
   ]
  },
  {
   "cell_type": "code",
   "execution_count": 83,
   "id": "c27c3814-03b1-4b0a-ba0b-d55491049c26",
   "metadata": {},
   "outputs": [],
   "source": [
    "def compute_nz(row, i, val=0):\n",
    "    #print(row[i:])\n",
    "    nz = np.nonzero(row)\n",
    "    for k in range(nz[0].size):\n",
    "        if nz[0].size > 0:\n",
    "            j = nz[0][k]\n",
    "            if (j > i) and (val == 0):\n",
    "                return j\n",
    "            elif (j > i) and (row[j] == val):\n",
    "                return j\n",
    "    return 0"
   ]
  },
  {
   "cell_type": "code",
   "execution_count": 93,
   "id": "4c85b4f0-df8f-4d02-a99a-a2ea3d0e7f10",
   "metadata": {},
   "outputs": [],
   "source": [
    "def compute_path(j, X, path, path_val):\n",
    "    k = compute_nz(X[j],j,val=path_val)\n",
    "    j += 1\n",
    "    if k > 0:\n",
    "        path.append(k)\n",
    "        if k < data_size:\n",
    "            return compute_path(k, X, path, path_val)\n",
    "    elif j < data_size:\n",
    "        return compute_path(j, X, path, path_val)\n",
    "    else:\n",
    "        return path\n",
    "    "
   ]
  },
  {
   "cell_type": "code",
   "execution_count": 94,
   "id": "edaa5b18-0f9d-4780-b8c2-fb3c8af51084",
   "metadata": {},
   "outputs": [
    {
     "name": "stdout",
     "output_type": "stream",
     "text": [
      "[0, 1, 4, 5, 8, 10, 13, 14, 85, 97, 135, 138, 160, 180, 199]\n",
      "\n",
      "\n"
     ]
    },
    {
     "data": {
      "text/plain": [
       "array([[0., 1., 1., ..., 1., 1., 1.],\n",
       "       [1., 0., 2., ..., 1., 1., 1.],\n",
       "       [1., 2., 0., ..., 1., 1., 1.],\n",
       "       ...,\n",
       "       [1., 1., 1., ..., 0., 1., 1.],\n",
       "       [1., 1., 1., ..., 1., 0., 1.],\n",
       "       [1., 1., 1., ..., 1., 1., 0.]])"
      ]
     },
     "execution_count": 94,
     "metadata": {},
     "output_type": "execute_result"
    }
   ],
   "source": [
    "# X (2 features at a time)\n",
    "X = np.zeros((data_size, data_size))\n",
    "y  = np.zeros((data_size,))\n",
    "\n",
    "for i in range(data_size):\n",
    "    for j in range(data_size):\n",
    "        x_i = feature_X[i]\n",
    "        x_j = feature_X[j]\n",
    "        if i == j:\n",
    "            pass\n",
    "        elif (x_i[0] > x_j[0]) and (x_i[1] > x_j[1]):\n",
    "            X[i][j] = enc[\"upup\"]\n",
    "            X[j][i] = enc[\"upup\"]\n",
    "        elif (x_i[0] > x_j[0]) and (x_i[1] < x_j[1]):\n",
    "            X[i][j] = enc[\"updown\"]\n",
    "            X[j][i] = enc[\"updown\"]\n",
    "\n",
    "#cols = [0] #np.arange(data_size)\n",
    "\n",
    "longest_path = []\n",
    "longest_path_val = 0\n",
    "\n",
    "for i in range(1):\n",
    "    # Column i, Row j\n",
    "    path_val = enc[\"upup\"]\n",
    "    #path_val = enc[\"updown\"]\n",
    "    j = compute_nz(X[i],i, val=path_val)\n",
    "    if j > 0:\n",
    "        path = [i,j]\n",
    "        # path_val = X[i][j]\n",
    "        path = compute_path(j, X, path, path_val)\n",
    "        if len(path) > len(longest_path):\n",
    "            longest_path = path\n",
    "            longest_path_val = path_val\n",
    "        \n",
    "\n",
    "y[longest_path] = longest_path_val\n",
    "print(longest_path)\n",
    "\n",
    "print(\"\\n\")\n",
    "X"
   ]
  },
  {
   "cell_type": "code",
   "execution_count": 95,
   "id": "04ffba06-b77a-456d-b6a3-cf14af0b695b",
   "metadata": {},
   "outputs": [
    {
     "name": "stdout",
     "output_type": "stream",
     "text": [
      "[1. 1. 0. 0. 1. 1. 0. 0. 1. 0. 1. 0. 0. 1. 1. 0. 0. 0. 0. 0. 0. 0. 0. 0.\n",
      " 0. 0. 0. 0. 0. 0. 0. 0. 0. 0. 0. 0. 0. 0. 0. 0. 0. 0. 0. 0. 0. 0. 0. 0.\n",
      " 0. 0. 0. 0. 0. 0. 0. 0. 0. 0. 0. 0. 0. 0. 0. 0. 0. 0. 0. 0. 0. 0. 0. 0.\n",
      " 0. 0. 0. 0. 0. 0. 0. 0. 0. 0. 0. 0. 0. 1. 0. 0. 0. 0. 0. 0. 0. 0. 0. 0.\n",
      " 0. 1. 0. 0. 0. 0. 0. 0. 0. 0. 0. 0. 0. 0. 0. 0. 0. 0. 0. 0. 0. 0. 0. 0.\n",
      " 0. 0. 0. 0. 0. 0. 0. 0. 0. 0. 0. 0. 0. 0. 0. 1. 0. 0. 1. 0. 0. 0. 0. 0.\n",
      " 0. 0. 0. 0. 0. 0. 0. 0. 0. 0. 0. 0. 0. 0. 0. 0. 1. 0. 0. 0. 0. 0. 0. 0.\n",
      " 0. 0. 0. 0. 0. 0. 0. 0. 0. 0. 0. 0. 1. 0. 0. 0. 0. 0. 0. 0. 0. 0. 0. 0.\n",
      " 0. 0. 0. 0. 0. 0. 0. 1.]\n"
     ]
    }
   ],
   "source": [
    "#y  = np.array([2,2,2,2,2], dtype=int)\n",
    "print(y)"
   ]
  },
  {
   "cell_type": "markdown",
   "id": "8e7ef33a-a797-4653-b7c6-cb16df59bdea",
   "metadata": {},
   "source": [
    "### b. Constructing KNN Classifier\n",
    "\n",
    "Using supervised learning\n",
    "\n",
    "Adopted from [Analyticsvidhya](https://www.analyticsvidhya.com/blog/2021/01/a-quick-introduction-to-k-nearest-neighbor-knn-classification-using-python/)"
   ]
  },
  {
   "cell_type": "code",
   "execution_count": 88,
   "id": "8f962585-e667-434a-a9b6-0bf4701d3be3",
   "metadata": {},
   "outputs": [],
   "source": [
    "# Splitting the dataset into the Training set (0.5 of data set sample) and Test set (0.5 of sample size)\n",
    "X_train, X_test, y_train, y_test = train_test_split(X, y, test_size = 0.2, random_state = 0)\n",
    "#X_train, X_test, y_train, y_test = train_test_split(feature_X, y, test_size = 0.50, random_state = 0)\n"
   ]
  },
  {
   "cell_type": "code",
   "execution_count": 89,
   "id": "210c715b-207b-4fd1-b433-90ac4ac2abc5",
   "metadata": {},
   "outputs": [],
   "source": [
    "# Feature Scaling (if you have large values otherwise skip)\n",
    "\n",
    "sc = StandardScaler()\n",
    "X_train = sc.fit_transform(X_train)\n",
    "X_test = sc.transform(X_test)"
   ]
  },
  {
   "cell_type": "code",
   "execution_count": 90,
   "id": "53a02db4-da41-46bb-b171-2f2545df4c12",
   "metadata": {},
   "outputs": [
    {
     "data": {
      "text/plain": [
       "array([0., 0., 0., 0., 0., 0., 0., 0., 0., 0., 0., 0., 0., 0., 0., 0., 0.,\n",
       "       0., 0., 0., 0., 0., 0., 0., 0., 0., 0., 0., 0., 0., 0., 0., 0., 0.,\n",
       "       0., 0., 0., 0., 0., 0.])"
      ]
     },
     "execution_count": 90,
     "metadata": {},
     "output_type": "execute_result"
    }
   ],
   "source": [
    "# Training the K-NN model on the Training set\n",
    "n = int(math.sqrt(data_size))\n",
    "classifier = KNeighborsClassifier(n_neighbors = n, metric = 'minkowski', p = 2)  # default parameters\n",
    "classifier.fit(X_train, y_train)\n",
    "\n",
    "# Predicting the Test set results\n",
    "y_pred = classifier.predict(X_test)\n",
    "y_pred"
   ]
  },
  {
   "cell_type": "code",
   "execution_count": 91,
   "id": "1fbb106e-a22c-4236-a3ee-693267b29179",
   "metadata": {},
   "outputs": [
    {
     "data": {
      "text/plain": [
       "(array([[37,  0],\n",
       "        [ 3,  0]], dtype=int64),\n",
       " 0.925)"
      ]
     },
     "execution_count": 91,
     "metadata": {},
     "output_type": "execute_result"
    }
   ],
   "source": [
    "# Making the Confusion Matrix\n",
    "confusion_matrix(y_test, y_pred), accuracy_score(y_test, y_pred)"
   ]
  },
  {
   "cell_type": "markdown",
   "id": "8af3e587-078d-49b8-9bff-3034782c0757",
   "metadata": {},
   "source": [
    "## Proposed Approach\n",
    "1. We will have to decompose superset GPs into their individual 2x2 subsets and compute their supports through clustering. \n",
    "\n",
    "2. Then, we apply antimonotonicity principle to infer the support of the superset."
   ]
  },
  {
   "cell_type": "markdown",
   "id": "1416e081-0aae-4893-9e45-89760e7affb9",
   "metadata": {},
   "source": [
    "## a. KMeans Clustering\n",
    "Produces labels that are not very accurate in partitioning data points."
   ]
  },
  {
   "cell_type": "code",
   "execution_count": 79,
   "id": "57d5f6b7-1c3c-4771-acf4-1bb50d13eed1",
   "metadata": {},
   "outputs": [
    {
     "name": "stdout",
     "output_type": "stream",
     "text": [
      "(array([0.]), array([5], dtype=int64))\n",
      "[0. 0. 0. 0. 0.]\n"
     ]
    },
    {
     "data": {
      "image/png": "[encoded data removed]",
      "text/plain": [
       "<Figure size 432x288 with 1 Axes>"
      ]
     },
     "metadata": {
      "needs_background": "light"
     },
     "output_type": "display_data"
    }
   ],
   "source": [
    "# Training\n",
    "# Using KMeans clustering (NOT VERY  ACCURATE)\n",
    "\n",
    "kmean_labels = classifier.predict(X)\n",
    "print(np.unique(kmean_labels, return_counts=True))\n",
    "print(kmean_labels)\n",
    "\n",
    "plt.scatter(feature_X[:,0], feature_X[:,1], c=kmean_labels)\n",
    "#plt.scatter(feature_X[:,0], feature_X[:,1], c=y )\n",
    "\n",
    "plt.show()"
   ]
  },
  {
   "cell_type": "code",
   "execution_count": 60,
   "id": "e47dc58d-bdae-4963-9b85-55639d7066bb",
   "metadata": {},
   "outputs": [
    {
     "data": {
      "text/plain": [
       "(0.0, 1.0, 0.0, 0.5862068965517241)"
      ]
     },
     "execution_count": 60,
     "metadata": {},
     "output_type": "execute_result"
    }
   ],
   "source": [
    "# Evaluation of clustering result of KMeans (true_labels, predicted_labels)\n",
    "homogeneity_score(y, kmean_labels), completeness_score(y, kmean_labels), v_measure_score(y, kmean_labels), accuracy_score(y, kmean_labels)#, confusion_matrix(y, kmean_labels)"
   ]
  },
  {
   "cell_type": "code",
   "execution_count": null,
   "id": "21dc14fd-9d05-4c0c-9f56-12807758495e",
   "metadata": {},
   "outputs": [],
   "source": []
  },
  {
   "cell_type": "code",
   "execution_count": null,
   "id": "a5ff46bc-140f-4292-915b-34e4e61a6114",
   "metadata": {},
   "outputs": [],
   "source": []
  }
 ],
 "metadata": {
  "kernelspec": {
   "display_name": "Python 3 (ipykernel)",
   "language": "python",
   "name": "python3"
  },
  "language_info": {
   "codemirror_mode": {
    "name": "ipython",
    "version": 3
   },
   "file_extension": ".py",
   "mimetype": "text/x-python",
   "name": "python",
   "nbconvert_exporter": "python",
   "pygments_lexer": "ipython3",
   "version": "3.7.2"
  }
 },
 "nbformat": 4,
 "nbformat_minor": 5
}
