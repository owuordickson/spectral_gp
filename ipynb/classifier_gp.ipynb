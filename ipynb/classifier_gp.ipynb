{
 "cells": [
  {
   "cell_type": "markdown",
   "id": "2ce64c88",
   "metadata": {},
   "source": [
    "# Agenda\n",
    "Classification of GPs' bitmaps.\n",
    "\n"
   ]
  },
  {
   "cell_type": "code",
   "execution_count": 1,
   "id": "72bb0e00",
   "metadata": {},
   "outputs": [],
   "source": [
    "# Installing Libraries (if not installed)\n",
    "#!pip3 install jupyterlab-git\n",
    "#!pip3 install matplotlib\n",
    "#!pip3 install scikit-learn\n",
    "#!pip3 install seaborn\n",
    "#!pip3 install numpy\n",
    "#!pip3 install pandas\n",
    "#!pip3 install so4gp\n",
    "#!pip3 install scipy\n",
    "#!pip3 install sympy"
   ]
  },
  {
   "cell_type": "markdown",
   "id": "caa30d2f",
   "metadata": {},
   "source": [
    "# Import libraries <a name=\"lib-import\"></a>"
   ]
  },
  {
   "cell_type": "code",
   "execution_count": 41,
   "id": "2ef53478",
   "metadata": {},
   "outputs": [],
   "source": [
    "# Importing Libraries\n",
    "import pandas as pd\n",
    "import numpy as np\n",
    "from numpy.linalg import svd\n",
    "import matplotlib.pyplot as plt\n",
    "import seaborn as sns\n",
    "import networkx as nx\n",
    "import sympy\n",
    "import scipy\n",
    "import math\n",
    "\n",
    "\n",
    "from scipy.sparse import csgraph, csr_matrix\n",
    "from scipy.spatial.distance import pdist, squareform\n",
    "from sklearn.cluster import KMeans\n",
    "from sklearn.neighbors import KNeighborsClassifier\n",
    "from sklearn.neighbors import kneighbors_graph\n",
    "from sklearn.naive_bayes import CategoricalNB, GaussianNB\n",
    "from sklearn.svm import SVC\n",
    "from sklearn.model_selection import train_test_split\n",
    "from sklearn.preprocessing import StandardScaler\n",
    "from sklearn.metrics import homogeneity_score, completeness_score,v_measure_score, confusion_matrix, accuracy_score\n",
    "from numpy import linalg as la"
   ]
  },
  {
   "cell_type": "code",
   "execution_count": 3,
   "id": "8159986a-afaf-4623-9fe1-98151b317497",
   "metadata": {},
   "outputs": [],
   "source": [
    "import so4gp as sgp"
   ]
  },
  {
   "cell_type": "markdown",
   "id": "3c1313c7-a9b5-4a5b-a1e0-09cc0402ac54",
   "metadata": {},
   "source": [
    "# Data set\n",
    "Retrieving data set and the features"
   ]
  },
  {
   "cell_type": "code",
   "execution_count": 4,
   "id": "6e01fe3c-0727-4474-ab13-170b58e76e26",
   "metadata": {},
   "outputs": [
    {
     "data": {
      "text/plain": [
       "array([[ 48.        ,  23.5       ,  70.        , ...,   7.99585   ,\n",
       "        417.114     ,   1.        ],\n",
       "       [ 83.        ,  20.69049454,  92.        , ...,   4.06405   ,\n",
       "        468.786     ,   1.        ],\n",
       "       [ 82.        ,  23.12467037,  91.        , ...,   9.27715   ,\n",
       "        554.697     ,   1.        ],\n",
       "       ...,\n",
       "       [ 65.        ,  32.05      ,  97.        , ...,  10.33      ,\n",
       "        314.05      ,   2.        ],\n",
       "       [ 72.        ,  25.59      ,  82.        , ...,   3.27      ,\n",
       "        392.46      ,   2.        ],\n",
       "       [ 86.        ,  27.18      , 138.        , ...,   4.35      ,\n",
       "         90.09      ,   2.        ]])"
      ]
     },
     "execution_count": 4,
     "metadata": {},
     "output_type": "execute_result"
    }
   ],
   "source": [
    "#ds = sgp.DataGP('../data/DATASET.csv')\n",
    "#ds = sgp.DataGP('../data/c2k_02k.csv')\n",
    "ds = sgp.DataGP('../data/breast_cancer.csv')\n",
    "\n",
    "\n",
    "data_size = ds.row_count\n",
    "features = np.array(ds.data, dtype=np.float64)\n",
    "features"
   ]
  },
  {
   "cell_type": "code",
   "execution_count": 5,
   "id": "d3874209-a95c-4880-9ab1-0ae352221a87",
   "metadata": {},
   "outputs": [
    {
     "data": {
      "text/plain": [
       "'{\"Algorithm\": \"GRAANK\", \"Patterns\": [[[\"BMI+\", \"Insulin+\"], 0.612], [[\"BMI+\", \"HOMA+\"], 0.614], [[\"BMI+\", \"Leptin+\"], 0.732], [[\"BMI-\", \"Insulin-\"], 0.612], [[\"BMI-\", \"HOMA-\"], 0.614], [[\"Leptin-\", \"BMI-\"], 0.732], [[\"Insulin+\", \"Glucose+\"], 0.637], [[\"HOMA+\", \"Glucose+\"], 0.697], [[\"Glucose-\", \"Insulin-\"], 0.637], [[\"Glucose-\", \"HOMA-\"], 0.697], [[\"HOMA+\", \"Insulin+\"], 0.94], [[\"Insulin+\", \"Leptin+\"], 0.659], [[\"HOMA-\", \"Insulin-\"], 0.94], [[\"Leptin-\", \"Insulin-\"], 0.659], [[\"HOMA+\", \"Leptin+\"], 0.659], [[\"Leptin-\", \"HOMA-\"], 0.659], [[\"MCP.1+\", \"Resistin+\"], 0.672], [[\"MCP.1-\", \"Resistin-\"], 0.672], [[\"HOMA+\", \"Insulin+\", \"Glucose+\"], 0.637], [[\"Glucose-\", \"HOMA-\", \"Insulin-\"], 0.637], [[\"HOMA+\", \"Insulin+\", \"Leptin+\"], 0.629], [[\"Leptin-\", \"HOMA-\", \"Insulin-\"], 0.629]]}'"
      ]
     },
     "execution_count": 5,
     "metadata": {},
     "output_type": "execute_result"
    }
   ],
   "source": [
    "sgp.graank('../data/breast_cancer.csv', min_sup=0.6)"
   ]
  },
  {
   "cell_type": "code",
   "execution_count": 106,
   "id": "95e0ba5b-67cb-4499-bada-99cf62e6ec2a",
   "metadata": {},
   "outputs": [
    {
     "data": {
      "text/plain": [
       "array([[ 70.        ,   0.46740867],\n",
       "       [ 92.        ,   0.70689733],\n",
       "       [ 91.        ,   1.00965107],\n",
       "       [ 77.        ,   0.61272493],\n",
       "       [ 92.        ,   0.8053864 ],\n",
       "       [ 92.        ,   0.73208693],\n",
       "       [ 77.        ,   0.89078733],\n",
       "       [118.        ,   1.88320133],\n",
       "       [ 97.        ,   0.80154333],\n",
       "       [ 83.        ,   1.01383947],\n",
       "       [ 78.        ,   0.6674356 ],\n",
       "       [ 82.        ,   1.14543613],\n",
       "       [ 82.        ,   0.82727067],\n",
       "       [ 88.        ,   1.33      ],\n",
       "       [ 75.        ,   1.06967   ],\n",
       "       [ 86.        ,   1.6       ],\n",
       "       [ 84.        ,   0.59      ],\n",
       "       [ 85.        ,   3.79014433],\n",
       "       [ 95.        ,   1.03739367],\n",
       "       [ 87.        ,   3.0099796 ],\n",
       "       [ 86.        ,   0.92171933],\n",
       "       [ 87.        ,   0.972138  ],\n",
       "       [ 84.        ,   1.203832  ],\n",
       "       [ 84.        ,   0.9067072 ],\n",
       "       [ 90.        ,   1.229214  ],\n",
       "       [ 83.        ,   1.38399733],\n",
       "       [106.        ,   1.75261107],\n",
       "       [ 90.        ,   2.05239   ],\n",
       "       [ 90.        ,   1.513374  ],\n",
       "       [ 80.        ,   1.30042667],\n",
       "       [101.        ,   3.86978807],\n",
       "       [101.        ,   2.53493167],\n",
       "       [ 87.        ,   1.8404096 ],\n",
       "       [ 89.        ,   5.09185613],\n",
       "       [ 77.        ,   0.732193  ],\n",
       "       [ 79.        ,   1.13392913],\n",
       "       [ 82.        ,   0.84567693],\n",
       "       [101.        ,   1.4066068 ],\n",
       "       [103.        ,   1.30539453],\n",
       "       [ 76.        ,   0.72755813],\n",
       "       [ 83.        ,   1.1006464 ],\n",
       "       [ 94.        ,   3.262364  ],\n",
       "       [ 85.        ,   1.08963767],\n",
       "       [ 93.        ,   1.245642  ],\n",
       "       [102.        ,   2.098344  ],\n",
       "       [ 90.        ,   1.341324  ],\n",
       "       [ 94.        ,   1.8732508 ],\n",
       "       [ 60.        ,   0.519184  ],\n",
       "       [ 89.        ,   2.3498848 ],\n",
       "       [ 96.        ,   1.0566016 ],\n",
       "       [110.        ,   7.111918  ],\n",
       "       [ 85.        ,   0.96027333],\n",
       "       [102.        ,   3.4851632 ],\n",
       "       [ 74.        ,   0.832352  ],\n",
       "       [ 94.        ,   2.85311933],\n",
       "       [ 92.        ,   4.9242264 ],\n",
       "       [ 93.        ,   0.6879706 ],\n",
       "       [102.        ,   1.55992   ],\n",
       "       [ 93.        ,   1.0011016 ],\n",
       "       [ 92.        ,   0.79018187],\n",
       "       [ 95.        ,   1.23282767],\n",
       "       [112.        ,   1.84629013],\n",
       "       [ 78.        ,   0.507936  ],\n",
       "       [103.        ,   0.69614267],\n",
       "       [ 98.        ,   1.65877413],\n",
       "       [116.        ,   1.4026256 ],\n",
       "       [ 86.        ,   0.79125733],\n",
       "       [ 98.        ,   1.37788   ],\n",
       "       [ 88.        ,   0.742368  ],\n",
       "       [114.        ,   4.468268  ],\n",
       "       [ 92.        ,   0.78065067],\n",
       "       [106.        ,  15.28534133],\n",
       "       [105.        ,   1.56177   ],\n",
       "       [105.        ,   1.14478   ],\n",
       "       [ 86.        ,   7.83620533],\n",
       "       [101.        ,   2.62960233],\n",
       "       [ 92.        ,   3.775036  ],\n",
       "       [103.        ,   1.09960053],\n",
       "       [201.        ,  20.6307338 ],\n",
       "       [ 97.        ,   5.27176247],\n",
       "       [ 77.        ,   0.60550747],\n",
       "       [100.        ,   2.38502   ],\n",
       "       [ 99.        ,   7.0029234 ],\n",
       "       [112.        ,   2.871792  ],\n",
       "       [ 98.        ,   1.00851147],\n",
       "       [ 85.        ,   3.071407  ],\n",
       "       [ 90.        ,   0.56388   ],\n",
       "       [196.        ,  25.05034187],\n",
       "       [199.        ,   5.9699204 ],\n",
       "       [139.        ,   5.68541507],\n",
       "       [128.        ,  13.22733227],\n",
       "       [100.        ,   4.45899333],\n",
       "       [ 87.        ,   6.4834952 ],\n",
       "       [134.        ,   8.22598307],\n",
       "       [131.        ,   9.73600733],\n",
       "       [ 70.        ,   1.44970933],\n",
       "       [ 99.        ,   2.2485936 ],\n",
       "       [103.        ,   0.61789013],\n",
       "       [104.        ,   4.66890667],\n",
       "       [108.        ,   2.3464512 ],\n",
       "       [ 88.        ,   0.6538048 ],\n",
       "       [ 89.        ,   1.43223547],\n",
       "       [ 97.        ,   2.5101466 ],\n",
       "       [ 83.        ,   2.24162527],\n",
       "       [ 95.        ,   2.94041467],\n",
       "       [134.        ,   1.86288587],\n",
       "       [ 90.        ,   1.046286  ],\n",
       "       [ 92.        ,   1.30486667],\n",
       "       [131.        ,   2.63353667],\n",
       "       [152.        ,   2.62828267],\n",
       "       [119.        ,   3.495982  ],\n",
       "       [ 92.        ,   0.755688  ],\n",
       "       [100.        ,   1.1174    ],\n",
       "       [ 97.        ,   1.370998  ],\n",
       "       [ 82.        ,   0.570392  ],\n",
       "       [138.        ,   6.777364  ]])"
      ]
     },
     "execution_count": 106,
     "metadata": {},
     "output_type": "execute_result"
    }
   ],
   "source": [
    "feature_X = features[:, [2,4]]\n",
    "feature_X"
   ]
  },
  {
   "cell_type": "markdown",
   "id": "fa870f0f-2b14-4721-8e14-c32724d962cb",
   "metadata": {},
   "source": [
    "# Semi-Supervised Learning\n",
    "\n",
    "Train similirity labels\n",
    "\n",
    "## a. Retrieving training data set (X, y)"
   ]
  },
  {
   "cell_type": "code",
   "execution_count": 107,
   "id": "c27c3814-03b1-4b0a-ba0b-d55491049c26",
   "metadata": {},
   "outputs": [],
   "source": [
    "def compute_nz(row, i, val=0):\n",
    "    #print(row[i:])\n",
    "    nz = np.nonzero(row)\n",
    "    for k in range(nz[0].size):\n",
    "        if nz[0].size > 0:\n",
    "            j = nz[0][k]\n",
    "            if (j > i) and (val == 0):\n",
    "                return j\n",
    "            elif (j > i) and (row[j] == val):\n",
    "                return j\n",
    "    return 0"
   ]
  },
  {
   "cell_type": "code",
   "execution_count": 108,
   "id": "4c85b4f0-df8f-4d02-a99a-a2ea3d0e7f10",
   "metadata": {},
   "outputs": [],
   "source": [
    "def compute_path(j, X, path, path_val):\n",
    "    if type(path) != list:\n",
    "        # 1st iteration\n",
    "        return compute_path(j, X, [path, j], path_val)\n",
    "    \n",
    "    k = compute_nz(X[j],j,val=path_val)\n",
    "    j += 1\n",
    "    if k > 0:\n",
    "        path.append(k)\n",
    "        if k < data_size:\n",
    "            return compute_path(k, X, path, path_val)\n",
    "    elif j < data_size:\n",
    "        return compute_path(j, X, path, path_val)\n",
    "    else:\n",
    "        return path\n",
    "    "
   ]
  },
  {
   "cell_type": "code",
   "execution_count": 120,
   "id": "edaa5b18-0f9d-4780-b8c2-fb3c8af51084",
   "metadata": {},
   "outputs": [
    {
     "name": "stdout",
     "output_type": "stream",
     "text": [
      "[0, 1, 3, 4, 7, 8, 10, 11, 13, 14, 15, 16, 17, 22, 24, 26, 28, 29, 30, 32, 33, 34, 35, 37, 39, 40, 41, 42, 43, 44, 45, 46, 47, 48, 50, 51, 52, 53, 54, 56, 57, 58, 59, 60, 61, 62, 63, 65, 66, 67, 68, 69, 70, 71, 72, 77, 78, 79, 80, 81, 83, 84, 86, 87, 89, 91, 93, 95, 96, 98, 100, 101, 102, 103, 104, 106, 107, 108, 111, 112, 114, 115]\n",
      "\n",
      "\n"
     ]
    },
    {
     "data": {
      "text/plain": [
       "array([[0., 1., 1., ..., 1., 1., 1.],\n",
       "       [1., 0., 2., ..., 1., 1., 1.],\n",
       "       [1., 2., 0., ..., 1., 1., 1.],\n",
       "       ...,\n",
       "       [1., 1., 1., ..., 0., 1., 1.],\n",
       "       [1., 1., 1., ..., 1., 0., 1.],\n",
       "       [1., 1., 1., ..., 1., 1., 0.]])"
      ]
     },
     "execution_count": 120,
     "metadata": {},
     "output_type": "execute_result"
    }
   ],
   "source": [
    "# X (2 features at a time)\n",
    "X = np.zeros((data_size, data_size))\n",
    "y  = np.zeros((data_size,))\n",
    "enc = {\"upup\": 1, \"updown\": 2}\n",
    "\n",
    "for i in range(data_size):\n",
    "    for j in range(data_size):\n",
    "        x_i = feature_X[i]\n",
    "        x_j = feature_X[j]\n",
    "        if i == j:\n",
    "            pass\n",
    "        elif (x_i[0] > x_j[0]) and (x_i[1] > x_j[1]):\n",
    "            X[i][j] = enc[\"upup\"]\n",
    "            X[j][i] = enc[\"upup\"]\n",
    "        elif (x_i[0] > x_j[0]) and (x_i[1] < x_j[1]):\n",
    "            X[i][j] = enc[\"updown\"]\n",
    "            X[j][i] = enc[\"updown\"]\n",
    "\n",
    "longest_path = []\n",
    "longest_path_val = 0\n",
    "\n",
    "for i in range(data_size):\n",
    "    # Column i, Row j\n",
    "    path_val = enc[\"upup\"]\n",
    "    #path_val = enc[\"updown\"]\n",
    "    j = compute_nz(X[i],i, val=path_val)\n",
    "    if j > 0:\n",
    "        # path_val = X[i][j]\n",
    "        path = compute_path(j, X, i, path_val)\n",
    "        if len(path) > len(longest_path):\n",
    "            longest_path = path\n",
    "            longest_path_val = path_val\n",
    "y[longest_path] = longest_path_val\n",
    "\n",
    "print(longest_path)\n",
    "print(\"\\n\")\n",
    "X"
   ]
  },
  {
   "cell_type": "code",
   "execution_count": 117,
   "id": "04ffba06-b77a-456d-b6a3-cf14af0b695b",
   "metadata": {},
   "outputs": [
    {
     "name": "stdout",
     "output_type": "stream",
     "text": [
      "[1. 1. 0. 1. 1. 0. 0. 1. 1. 0. 1. 1. 0. 1. 1. 1. 1. 1. 0. 0. 0. 0. 1. 0.\n",
      " 1. 0. 1. 0. 1. 1. 1. 0. 1. 1. 1. 1. 0. 1. 0. 1. 1. 1. 1. 1. 1. 1. 1. 1.\n",
      " 1. 0. 1. 1. 1. 1. 1. 0. 1. 1. 1. 1. 1. 1. 1. 1. 0. 1. 1. 1. 1. 1. 1. 1.\n",
      " 1. 0. 0. 0. 0. 1. 1. 1. 1. 1. 0. 1. 1. 0. 1. 1. 0. 1. 0. 1. 0. 1. 0. 1.\n",
      " 1. 0. 1. 0. 1. 1. 1. 1. 1. 0. 1. 1. 1. 0. 0. 1. 1. 0. 1. 1.]\n"
     ]
    }
   ],
   "source": [
    "print(y)"
   ]
  },
  {
   "cell_type": "markdown",
   "id": "333822d3-dc73-4fb8-8f6f-a5070cbe6a56",
   "metadata": {},
   "source": [
    "## b. Splitting Samples\n",
    "\n",
    "Splitting test (20%) and train samples (80%) "
   ]
  },
  {
   "cell_type": "code",
   "execution_count": 92,
   "id": "8f962585-e667-434a-a9b6-0bf4701d3be3",
   "metadata": {},
   "outputs": [],
   "source": [
    "# Splitting the dataset into the Training set (0.5 of data set sample) and Test set (0.5 of sample size)\n",
    "X_train, X_test, y_train, y_test = train_test_split(X, y, test_size = 0.2, random_state = 0)\n",
    "#X_train, X_test, y_train, y_test = train_test_split(feature_X, y, test_size = 0.2, random_state = 0)\n"
   ]
  },
  {
   "cell_type": "code",
   "execution_count": 93,
   "id": "210c715b-207b-4fd1-b433-90ac4ac2abc5",
   "metadata": {},
   "outputs": [],
   "source": [
    "# Feature Scaling (if you have large values otherwise skip)\n",
    "\n",
    "#sc = StandardScaler()\n",
    "#X_train = sc.fit_transform(X_train)\n",
    "#X_test = sc.transform(X_test)"
   ]
  },
  {
   "cell_type": "markdown",
   "id": "8e7ef33a-a797-4653-b7c6-cb16df59bdea",
   "metadata": {},
   "source": [
    "## c. Training Classifiers\n",
    "\n",
    "### 1. KNN Classifier\n",
    "\n",
    "Using supervised learning\n",
    "\n",
    "Adopted from [Analyticsvidhya](https://www.analyticsvidhya.com/blog/2021/01/a-quick-introduction-to-k-nearest-neighbor-knn-classification-using-python/)"
   ]
  },
  {
   "cell_type": "code",
   "execution_count": 94,
   "id": "53a02db4-da41-46bb-b171-2f2545df4c12",
   "metadata": {},
   "outputs": [
    {
     "data": {
      "text/plain": [
       "array([1., 0., 1., 1., 1., 0., 0., 0., 1., 1., 0., 1., 0., 1., 1., 1., 1.,\n",
       "       1., 1., 1., 1., 0., 1., 1.])"
      ]
     },
     "execution_count": 94,
     "metadata": {},
     "output_type": "execute_result"
    }
   ],
   "source": [
    "# Training the K-NN model on the Training set\n",
    "n = int(math.sqrt(data_size))\n",
    "knn_classifier = KNeighborsClassifier(n_neighbors = n, metric = 'minkowski', p = 2)  # default parameters\n",
    "knn_classifier.fit(X_train, y_train)\n",
    "\n",
    "# Predicting the Test set results\n",
    "y_pred = knn_classifier.predict(X_test)\n",
    "y_pred"
   ]
  },
  {
   "cell_type": "code",
   "execution_count": 95,
   "id": "1fbb106e-a22c-4236-a3ee-693267b29179",
   "metadata": {},
   "outputs": [
    {
     "data": {
      "text/plain": [
       "(array([[ 4,  5],\n",
       "        [ 3, 12]], dtype=int64),\n",
       " 0.6666666666666666)"
      ]
     },
     "execution_count": 95,
     "metadata": {},
     "output_type": "execute_result"
    }
   ],
   "source": [
    "# Making the Confusion Matrix\n",
    "confusion_matrix(y_test, y_pred), accuracy_score(y_test, y_pred)"
   ]
  },
  {
   "cell_type": "markdown",
   "id": "215e04f5-d628-4d9f-a9b4-387c5fa5a3da",
   "metadata": {},
   "source": [
    "### 2. Naive Bayes Classifier"
   ]
  },
  {
   "cell_type": "code",
   "execution_count": 96,
   "id": "3bd969a6-dbe4-41cb-a042-84d3f9b0906e",
   "metadata": {},
   "outputs": [
    {
     "data": {
      "text/plain": [
       "array([1., 0., 1., 1., 1., 0., 0., 0., 1., 1., 1., 1., 0., 1., 1., 1., 1.,\n",
       "       1., 1., 1., 1., 0., 0., 1.])"
      ]
     },
     "execution_count": 96,
     "metadata": {},
     "output_type": "execute_result"
    }
   ],
   "source": [
    "# Training the NB model on the Training set\n",
    "nb_classifier = GaussianNB()\n",
    "nb_classifier.fit(X_train, y_train)\n",
    "\n",
    "# Predicting the Test set results\n",
    "y_pred = nb_classifier.predict(X_test)\n",
    "y_pred"
   ]
  },
  {
   "cell_type": "code",
   "execution_count": 97,
   "id": "1b21bf7b-4daa-4a3d-95e3-64a6f1439850",
   "metadata": {},
   "outputs": [
    {
     "data": {
      "text/plain": [
       "(array([[ 5,  4],\n",
       "        [ 2, 13]], dtype=int64),\n",
       " 0.75)"
      ]
     },
     "execution_count": 97,
     "metadata": {},
     "output_type": "execute_result"
    }
   ],
   "source": [
    "# Making the Confusion Matrix\n",
    "confusion_matrix(y_test, y_pred), accuracy_score(y_test, y_pred)"
   ]
  },
  {
   "cell_type": "markdown",
   "id": "a75b4da2-b6b1-4956-bd74-09a730b5383e",
   "metadata": {},
   "source": [
    "### 3. SVM Classifier"
   ]
  },
  {
   "cell_type": "code",
   "execution_count": 98,
   "id": "ebcf02c5-4033-4489-acc0-f8eccf3d11f1",
   "metadata": {},
   "outputs": [
    {
     "data": {
      "text/plain": [
       "array([1., 0., 1., 1., 1., 1., 0., 0., 1., 1., 1., 1., 0., 1., 0., 1., 1.,\n",
       "       1., 1., 1., 1., 0., 1., 1.])"
      ]
     },
     "execution_count": 98,
     "metadata": {},
     "output_type": "execute_result"
    }
   ],
   "source": [
    "# Training the SVC model on the Training set\n",
    "svm_classifier = SVC()\n",
    "svm_classifier.fit(X_train, y_train)\n",
    "\n",
    "# Predicting the Test set results\n",
    "y_pred = svm_classifier.predict(X_test)\n",
    "y_pred"
   ]
  },
  {
   "cell_type": "code",
   "execution_count": 99,
   "id": "f7c60306-18cc-49cd-9536-4abfd7d7b9f2",
   "metadata": {},
   "outputs": [
    {
     "data": {
      "text/plain": [
       "(array([[ 4,  5],\n",
       "        [ 2, 13]], dtype=int64),\n",
       " 0.7083333333333334)"
      ]
     },
     "execution_count": 99,
     "metadata": {},
     "output_type": "execute_result"
    }
   ],
   "source": [
    "# Making the Confusion Matrix\n",
    "confusion_matrix(y_test, y_pred), accuracy_score(y_test, y_pred)"
   ]
  },
  {
   "cell_type": "markdown",
   "id": "8af3e587-078d-49b8-9bff-3034782c0757",
   "metadata": {},
   "source": [
    "## d. Testing Classifiers of Real Data\n"
   ]
  },
  {
   "cell_type": "code",
   "execution_count": 121,
   "id": "c2db1aee-c267-4c70-a3de-1e84c725d11a",
   "metadata": {},
   "outputs": [
    {
     "data": {
      "text/plain": [
       "(array([0., 1.]), array([34, 82], dtype=int64))"
      ]
     },
     "execution_count": 121,
     "metadata": {},
     "output_type": "execute_result"
    }
   ],
   "source": [
    "# True labels (y)\n",
    "np.unique(y, return_counts=True)"
   ]
  },
  {
   "cell_type": "markdown",
   "id": "1416e081-0aae-4893-9e45-89760e7affb9",
   "metadata": {},
   "source": [
    "### 1. KMeans Classification\n",
    "Produces labels that are not very accurate in partitioning data points."
   ]
  },
  {
   "cell_type": "code",
   "execution_count": 123,
   "id": "57d5f6b7-1c3c-4771-acf4-1bb50d13eed1",
   "metadata": {},
   "outputs": [
    {
     "name": "stdout",
     "output_type": "stream",
     "text": [
      "(array([0., 1.]), array([33, 83], dtype=int64))\n",
      "[0. 1. 0. 0. 0. 0. 1. 1. 0. 1. 1. 1. 1. 1. 1. 1. 1. 1. 1. 1. 1. 1. 1. 0.\n",
      " 1. 1. 1. 1. 1. 0. 1. 1. 1. 1. 0. 1. 1. 1. 1. 0. 1. 1. 1. 1. 1. 1. 1. 1.\n",
      " 1. 1. 1. 1. 0. 1. 1. 1. 0. 1. 0. 0. 1. 1. 1. 0. 1. 1. 1. 1. 0. 0. 0. 1.\n",
      " 1. 1. 0. 1. 1. 1. 1. 1. 0. 1. 1. 0. 0. 1. 1. 1. 0. 0. 1. 1. 0. 1. 1. 0.\n",
      " 1. 0. 0. 1. 1. 1. 1. 1. 1. 1. 0. 1. 1. 0. 0. 0. 0. 1. 1. 1.]\n"
     ]
    },
    {
     "data": {
      "image/png": "[encoded data removed]",
      "text/plain": [
       "<Figure size 432x288 with 1 Axes>"
      ]
     },
     "metadata": {
      "needs_background": "light"
     },
     "output_type": "display_data"
    }
   ],
   "source": [
    "# Validation\n",
    "# Using KMeans classification (NOT VERY  ACCURATE)\n",
    "\n",
    "kmean_labels = knn_classifier.predict(X)\n",
    "#kmean_labels = knn_classifier.predict(feature_X)\n",
    "print(np.unique(kmean_labels, return_counts=True))\n",
    "print(kmean_labels)\n",
    "\n",
    "plt.scatter(feature_X[:,0], feature_X[:,1], c=kmean_labels)\n",
    "#plt.scatter(feature_X[:,0], feature_X[:,1], c=y )\n",
    "\n",
    "plt.show()"
   ]
  },
  {
   "cell_type": "code",
   "execution_count": 112,
   "id": "e47dc58d-bdae-4963-9b85-55639d7066bb",
   "metadata": {},
   "outputs": [
    {
     "data": {
      "text/plain": [
       "(0.0006642432958514021,\n",
       " 0.0006728861361702225,\n",
       " 0.0006685367835283661,\n",
       " 0.5775862068965517)"
      ]
     },
     "execution_count": 112,
     "metadata": {},
     "output_type": "execute_result"
    }
   ],
   "source": [
    "# Evaluation of clustering result of KMeans (true_labels, predicted_labels)\n",
    "homogeneity_score(y, kmean_labels), completeness_score(y, kmean_labels), v_measure_score(y, kmean_labels), accuracy_score(y, kmean_labels)#, confusion_matrix(y, kmean_labels)"
   ]
  },
  {
   "cell_type": "markdown",
   "id": "738356a8-ed5f-4fc9-be05-f8878bf1905b",
   "metadata": {},
   "source": [
    "### 2. Naive Bayes Classification\n",
    "\n",
    "Produces labels"
   ]
  },
  {
   "cell_type": "code",
   "execution_count": 113,
   "id": "a5ff46bc-140f-4292-915b-34e4e61a6114",
   "metadata": {},
   "outputs": [
    {
     "name": "stdout",
     "output_type": "stream",
     "text": [
      "(array([0., 1.]), array([54, 62], dtype=int64))\n",
      "[1. 0. 0. 1. 0. 0. 1. 1. 0. 1. 1. 0. 1. 0. 0. 0. 1. 0. 0. 0. 0. 0. 1. 0.\n",
      " 0. 0. 1. 0. 0. 0. 1. 1. 0. 0. 1. 1. 1. 1. 1. 1. 1. 1. 0. 1. 0. 0. 1. 1.\n",
      " 0. 0. 1. 0. 0. 1. 1. 1. 0. 0. 0. 0. 0. 1. 1. 0. 1. 1. 0. 1. 0. 0. 0. 1.\n",
      " 1. 0. 0. 1. 1. 0. 1. 1. 1. 1. 1. 1. 0. 0. 0. 1. 1. 1. 1. 1. 0. 1. 1. 0.\n",
      " 1. 0. 1. 1. 0. 0. 1. 0. 1. 1. 0. 1. 1. 1. 1. 0. 0. 1. 1. 1.]\n"
     ]
    },
    {
     "data": {
      "image/png": "[encoded data removed]",
      "text/plain": [
       "<Figure size 432x288 with 1 Axes>"
      ]
     },
     "metadata": {
      "needs_background": "light"
     },
     "output_type": "display_data"
    }
   ],
   "source": [
    "# Validation\n",
    "# Using Naive Bayes classification\n",
    "\n",
    "nb_labels = nb_classifier.predict(X)\n",
    "print(np.unique(nb_labels, return_counts=True))\n",
    "print(nb_labels)\n",
    "\n",
    "plt.scatter(feature_X[:,0], feature_X[:,1], c=nb_labels)\n",
    "#plt.scatter(feature_X[:,0], feature_X[:,1], c=y )\n",
    "\n",
    "plt.show()"
   ]
  },
  {
   "cell_type": "code",
   "execution_count": 114,
   "id": "810b5abb-74eb-4e15-a401-0e7adf70bbc2",
   "metadata": {},
   "outputs": [
    {
     "data": {
      "text/plain": [
       "(0.000817430464216552, 0.0007158265910191162, 0.0007632620513268986, 0.5)"
      ]
     },
     "execution_count": 114,
     "metadata": {},
     "output_type": "execute_result"
    }
   ],
   "source": [
    "# Evaluation of clustering result of KMeans (true_labels, predicted_labels)\n",
    "homogeneity_score(y, nb_labels), completeness_score(y, nb_labels), v_measure_score(y, nb_labels), accuracy_score(y, nb_labels)#, confusion_matrix(y, kmean_labels)"
   ]
  },
  {
   "cell_type": "markdown",
   "id": "deca5c41-29ad-4013-a4cf-25450208c744",
   "metadata": {},
   "source": [
    "### 3. SVM Classification\n",
    "\n",
    "Produces labels"
   ]
  },
  {
   "cell_type": "code",
   "execution_count": 115,
   "id": "b7f82cd4-3dc4-48ed-8217-7ebbf7054b7a",
   "metadata": {},
   "outputs": [
    {
     "name": "stdout",
     "output_type": "stream",
     "text": [
      "(array([0., 1.]), array([30, 86], dtype=int64))\n",
      "[1. 0. 0. 1. 0. 0. 1. 1. 0. 1. 1. 1. 1. 1. 1. 1. 1. 0. 0. 1. 0. 1. 1. 0.\n",
      " 1. 1. 1. 1. 1. 1. 1. 1. 1. 1. 1. 1. 1. 1. 1. 1. 1. 1. 0. 1. 1. 1. 1. 1.\n",
      " 1. 0. 1. 0. 1. 1. 1. 1. 0. 1. 0. 0. 1. 1. 1. 0. 1. 1. 0. 1. 0. 1. 0. 1.\n",
      " 1. 1. 0. 1. 1. 0. 1. 1. 1. 1. 1. 1. 0. 0. 0. 1. 1. 1. 1. 1. 1. 1. 1. 0.\n",
      " 1. 0. 1. 1. 0. 1. 1. 1. 1. 1. 0. 1. 1. 1. 1. 0. 0. 1. 1. 1.]\n"
     ]
    },
    {
     "data": {
      "image/png": "[encoded data removed]",
      "text/plain": [
       "<Figure size 432x288 with 1 Axes>"
      ]
     },
     "metadata": {
      "needs_background": "light"
     },
     "output_type": "display_data"
    }
   ],
   "source": [
    "# Validation\n",
    "# Using Naive Bayes classification\n",
    "\n",
    "svm_labels = svm_classifier.predict(X)\n",
    "print(np.unique(svm_labels, return_counts=True))\n",
    "print(svm_labels)\n",
    "\n",
    "plt.scatter(feature_X[:,0], feature_X[:,1], c=svm_labels)\n",
    "#plt.scatter(feature_X[:,0], feature_X[:,1], c=y )\n",
    "\n",
    "plt.show()"
   ]
  },
  {
   "cell_type": "code",
   "execution_count": 116,
   "id": "5318fef8-9ed1-4b6d-abe0-6bcde8347e9b",
   "metadata": {},
   "outputs": [
    {
     "data": {
      "text/plain": [
       "(6.599549131218647e-05,\n",
       " 6.98399168924462e-05,\n",
       " 6.786330146813759e-05,\n",
       " 0.603448275862069)"
      ]
     },
     "execution_count": 116,
     "metadata": {},
     "output_type": "execute_result"
    }
   ],
   "source": [
    "# Evaluation of clustering result of KMeans (true_labels, predicted_labels)\n",
    "homogeneity_score(y, svm_labels), completeness_score(y, svm_labels), v_measure_score(y, svm_labels), accuracy_score(y, svm_labels)#, confusion_matrix(y, kmean_labels)"
   ]
  },
  {
   "cell_type": "code",
   "execution_count": null,
   "id": "3b1e8639-9cad-4a02-bded-71d38bb744cb",
   "metadata": {},
   "outputs": [],
   "source": []
  }
 ],
 "metadata": {
  "kernelspec": {
   "display_name": "Python 3 (ipykernel)",
   "language": "python",
   "name": "python3"
  },
  "language_info": {
   "codemirror_mode": {
    "name": "ipython",
    "version": 3
   },
   "file_extension": ".py",
   "mimetype": "text/x-python",
   "name": "python",
   "nbconvert_exporter": "python",
   "pygments_lexer": "ipython3",
   "version": "3.7.2"
  }
 },
 "nbformat": 4,
 "nbformat_minor": 5
}
