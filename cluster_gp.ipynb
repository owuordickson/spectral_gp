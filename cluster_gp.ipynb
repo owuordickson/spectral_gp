{
 "cells": [
  {
   "cell_type": "markdown",
   "id": "2ce64c88",
   "metadata": {},
   "source": [
    "# Agenda\n",
    "Spectral clustering of GPs' bitmaps.\n",
    "\n"
   ]
  },
  {
   "cell_type": "code",
   "execution_count": 1,
   "id": "72bb0e00",
   "metadata": {},
   "outputs": [],
   "source": [
    "# Installing Libraries (if not installed)\n",
    "#!pip3 install jupyterlab-git\n",
    "#!pip3 install matplotlib\n",
    "#!pip3 install scikit-learn\n",
    "#!pip3 install seaborn\n",
    "#!pip3 install numpy\n",
    "#!pip3 install pandas\n",
    "#!pip3 install so4gp\n",
    "#!pip3 install scipy\n",
    "#!pip3 install sympy"
   ]
  },
  {
   "cell_type": "markdown",
   "id": "caa30d2f",
   "metadata": {},
   "source": [
    "# Import libraries <a name=\"lib-import\"></a>"
   ]
  },
  {
   "cell_type": "code",
   "execution_count": 2,
   "id": "2ef53478",
   "metadata": {},
   "outputs": [],
   "source": [
    "# Importing Libraries\n",
    "import pandas as pd\n",
    "import numpy as np\n",
    "from numpy.linalg import svd\n",
    "import matplotlib.pyplot as plt\n",
    "import seaborn as sns\n",
    "import networkx as nx\n",
    "import sympy\n",
    "import scipy\n",
    "\n",
    "\n",
    "from scipy.sparse import csgraph, csr_matrix\n",
    "from scipy.spatial.distance import pdist, squareform\n",
    "from sklearn.cluster import KMeans\n",
    "from sklearn.neighbors import kneighbors_graph\n",
    "from sklearn.metrics import homogeneity_score, completeness_score,v_measure_score\n",
    "from numpy import linalg as la"
   ]
  },
  {
   "cell_type": "code",
   "execution_count": 3,
   "id": "8159986a-afaf-4623-9fe1-98151b317497",
   "metadata": {},
   "outputs": [],
   "source": [
    "import so4gp as sgp"
   ]
  },
  {
   "cell_type": "markdown",
   "id": "3c1313c7-a9b5-4a5b-a1e0-09cc0402ac54",
   "metadata": {},
   "source": [
    "## Data set\n",
    "Retrieving data set and the features"
   ]
  },
  {
   "cell_type": "code",
   "execution_count": 4,
   "id": "6e01fe3c-0727-4474-ab13-170b58e76e26",
   "metadata": {},
   "outputs": [
    {
     "data": {
      "text/plain": [
       "array([[30.,  3.,  1., 10.,  2.,  4.],\n",
       "       [35.,  2.,  2.,  8.,  2.,  4.],\n",
       "       [40.,  4.,  2.,  7.,  2.,  4.],\n",
       "       [50.,  1.,  1.,  6.,  2.,  4.],\n",
       "       [52.,  7.,  1.,  2.,  2.,  4.]])"
      ]
     },
     "execution_count": 4,
     "metadata": {},
     "output_type": "execute_result"
    }
   ],
   "source": [
    "ds = sgp.DataGP('data\\DATASET.csv')\n",
    "\n",
    "data_size = ds.row_count\n",
    "features = np.array(ds.data, dtype=np.float64)\n",
    "features"
   ]
  },
  {
   "cell_type": "code",
   "execution_count": 5,
   "id": "ff8be82a-3dc6-4de8-bde2-03289ee81fa8",
   "metadata": {},
   "outputs": [],
   "source": [
    "bm_matrix = []\n",
    "for i in ds.attr_cols:\n",
    "    bm = sgp.gibitmap(ds, i)\n",
    "    bm_matrix.append(bm)\n",
    "    \n",
    "bm_matrix = np.array(bm_matrix, dtype=int)"
   ]
  },
  {
   "cell_type": "code",
   "execution_count": 6,
   "id": "95e0ba5b-67cb-4499-bada-99cf62e6ec2a",
   "metadata": {},
   "outputs": [
    {
     "data": {
      "text/plain": [
       "array([[30., 10.],\n",
       "       [35.,  8.],\n",
       "       [40.,  7.],\n",
       "       [50.,  6.],\n",
       "       [52.,  2.]])"
      ]
     },
     "execution_count": 6,
     "metadata": {},
     "output_type": "execute_result"
    }
   ],
   "source": [
    "X = features[:, [0,3]]\n",
    "X"
   ]
  },
  {
   "cell_type": "markdown",
   "id": "fa870f0f-2b14-4721-8e14-c32724d962cb",
   "metadata": {},
   "source": [
    "## Train similirity labels"
   ]
  },
  {
   "cell_type": "code",
   "execution_count": 59,
   "id": "b8feda9d-9082-46ec-9cff-a53082f9d886",
   "metadata": {},
   "outputs": [
    {
     "name": "stdout",
     "output_type": "stream",
     "text": [
      "5\n",
      "4\n",
      "3\n",
      "3\n",
      "4\n"
     ]
    },
    {
     "data": {
      "text/plain": [
       "array([[ 0.,  0.,  0.,  0.,  0.],\n",
       "       [-1.,  0.,  0.,  0.,  0.],\n",
       "       [-1., -1.,  0.,  0.,  0.],\n",
       "       [-1., -1., -1.,  0.,  0.],\n",
       "       [-1., -1., -1., -1.,  0.]])"
      ]
     },
     "execution_count": 59,
     "metadata": {},
     "output_type": "execute_result"
    }
   ],
   "source": [
    "# X_train (2 features at a time)\n",
    "X_train = np.zeros((data_size, data_size))\n",
    "y_train_labels  = np.zeros((data_size,))\n",
    "\n",
    "for i in range(data_size):\n",
    "    for j in range(data_size):\n",
    "        if (X[i][0] == X[j][0]) or (X[i][1] == X[j][1]):\n",
    "            pass\n",
    "        elif (X[i][0] > X[j][0]) and (X[i][1] > X[j][1]):\n",
    "            X_train[i][j] = 1\n",
    "            X_train[j][i] = 1\n",
    "            #y_train_labels [i] = 1\n",
    "        elif (X[i][0] > X[j][0]) and (X[i][1] < X[j][1]):\n",
    "            X_train[i][j] = -1\n",
    "            X_train[i][j] = -1\n",
    "            #y_train_labels [i] = 2\n",
    "        #else:\n",
    "        #    y_train_labels [i] = 0\n",
    "    #u_count = np.unique(X_train[i], return_counts=True)\n",
    "    #print(u_count[1].max())\n",
    "    #y_train_labels[i] = (u_count[1].max() / (data_size-i))\n",
    "    \n",
    "X_train"
   ]
  },
  {
   "cell_type": "code",
   "execution_count": 61,
   "id": "04ffba06-b77a-456d-b6a3-cf14af0b695b",
   "metadata": {},
   "outputs": [
    {
     "name": "stdout",
     "output_type": "stream",
     "text": [
      "[2 2 2 2 2]\n"
     ]
    }
   ],
   "source": [
    "y_train_labels  = np.array([2,2,2,2,2], dtype=int)\n",
    "print(y_train_labels )"
   ]
  },
  {
   "cell_type": "markdown",
   "id": "8af3e587-078d-49b8-9bff-3034782c0757",
   "metadata": {},
   "source": [
    "## Proposed Approach\n",
    "1. We will have to decompose superset GPs into their individual 2x2 subsets and compute their supports through clustering. \n",
    "\n",
    "2. Then, we apply antimonotonicity principle to infer the support of the superset."
   ]
  },
  {
   "cell_type": "markdown",
   "id": "1416e081-0aae-4893-9e45-89760e7affb9",
   "metadata": {},
   "source": [
    "## a. KMeans Clustering\n",
    "Produces labels that are not very accurate in partitioning data points."
   ]
  },
  {
   "cell_type": "code",
   "execution_count": 9,
   "id": "57d5f6b7-1c3c-4771-acf4-1bb50d13eed1",
   "metadata": {},
   "outputs": [
    {
     "name": "stdout",
     "output_type": "stream",
     "text": [
      "[2 0 0 1 1]\n"
     ]
    },
    {
     "data": {
      "image/png": "[encoded data removed]",
      "text/plain": [
       "<Figure size 432x288 with 1 Axes>"
      ]
     },
     "metadata": {
      "needs_background": "light"
     },
     "output_type": "display_data"
    }
   ],
   "source": [
    "# Training\n",
    "# Using KMeans clustering (NOT VERY  ACCURATE)\n",
    "num_clusters = 3\n",
    "kmean_labels = KMeans(n_clusters=num_clusters).fit_predict(X_train)\n",
    "print(kmean_labels)\n",
    "\n",
    "plt.scatter(X[:,0], X[:,1], c=kmean_labels)\n",
    "#plt.scatter(X[:,0], X[:,1], c=y_train_labels )\n",
    "\n",
    "plt.show()"
   ]
  },
  {
   "cell_type": "code",
   "execution_count": 10,
   "id": "e47dc58d-bdae-4963-9b85-55639d7066bb",
   "metadata": {},
   "outputs": [
    {
     "data": {
      "text/plain": [
       "(1.0, 0.0, 0.0)"
      ]
     },
     "execution_count": 10,
     "metadata": {},
     "output_type": "execute_result"
    }
   ],
   "source": [
    "# Evaluation of clustering result of KMeans (true_labels, predicted_labels)\n",
    "homogeneity_score(y_train_labels, kmean_labels), completeness_score(y_train_labels , kmean_labels), v_measure_score(y_train_labels , kmean_labels)"
   ]
  },
  {
   "cell_type": "markdown",
   "id": "8357c94d-b50c-4eb7-9f2e-7b181ab40e19",
   "metadata": {},
   "source": [
    "## b. Spectral Clustering\n",
    "\n",
    "Adopted from: [Towards data science](https://towardsdatascience.com/graph-laplacian-and-its-application-in-machine-learning-7d9aab021d16)"
   ]
  },
  {
   "cell_type": "markdown",
   "id": "caf4204a-57ea-45c1-b2d5-5d6fd78651c5",
   "metadata": {},
   "source": [
    "### 1. Deriving Graph Laplacian representation\n",
    "L = D-W\n",
    "\n",
    "D: Degree matrix\n",
    "\n",
    "W: Similarity graph"
   ]
  },
  {
   "cell_type": "code",
   "execution_count": 33,
   "id": "e00c3d1b-001e-4b04-a71d-8ae0c6b3d788",
   "metadata": {},
   "outputs": [
    {
     "data": {
      "text/plain": [
       "array([[ 0.,  0.,  0.,  0.,  0.],\n",
       "       [ 0., -1.,  0.,  0.,  0.],\n",
       "       [ 0.,  0., -2.,  0.,  0.],\n",
       "       [ 0.,  0.,  0., -3.,  0.],\n",
       "       [ 0.,  0.,  0.,  0., -4.]])"
      ]
     },
     "execution_count": 33,
     "metadata": {},
     "output_type": "execute_result"
    }
   ],
   "source": [
    "# Degree Matrix\n",
    "\n",
    "W = X_train\n",
    "D = W.sum(axis=1)\n",
    "D = np.diag(np.asarray(D).reshape(data_size,))\n",
    "D"
   ]
  },
  {
   "cell_type": "code",
   "execution_count": 34,
   "id": "59493780-863f-43db-98e9-bdaff1af5eb3",
   "metadata": {},
   "outputs": [
    {
     "data": {
      "text/plain": [
       "array([[ 0.,  0.,  0.,  0.,  0.],\n",
       "       [ 1., -1.,  0.,  0.,  0.],\n",
       "       [ 1.,  1., -2.,  0.,  0.],\n",
       "       [ 1.,  1.,  1., -3.,  0.],\n",
       "       [ 1.,  1.,  1.,  1., -4.]])"
      ]
     },
     "execution_count": 34,
     "metadata": {},
     "output_type": "execute_result"
    }
   ],
   "source": [
    "# Laplacian Matrix\n",
    "L = D - W\n",
    "L"
   ]
  },
  {
   "cell_type": "code",
   "execution_count": 36,
   "id": "79c1d0ee-c581-4e6d-ae91-67fe7a9e117a",
   "metadata": {},
   "outputs": [
    {
     "data": {
      "text/plain": [
       "array([[-4., -0., -0., -0., -0.],\n",
       "       [ 1., -3., -0., -0., -0.],\n",
       "       [ 1.,  1., -2., -0., -0.],\n",
       "       [ 1.,  1.,  1., -1., -0.],\n",
       "       [ 1.,  1.,  1.,  1.,  0.]])"
      ]
     },
     "execution_count": 36,
     "metadata": {},
     "output_type": "execute_result"
    }
   ],
   "source": [
    "# Laplacian Matrix\n",
    "\n",
    "L = csgraph.laplacian(W, normed=False)\n",
    "L#.toarray()"
   ]
  },
  {
   "cell_type": "code",
   "execution_count": 37,
   "id": "1e853cef-e84c-45d5-8f54-f6afe416e784",
   "metadata": {
    "tags": []
   },
   "outputs": [
    {
     "name": "stderr",
     "output_type": "stream",
     "text": [
      "C:\\Users\\dowuor\\AppData\\Local\\Programs\\Python\\Python37\\lib\\site-packages\\scipy\\sparse\\csgraph\\_laplacian.py:118: RuntimeWarning: invalid value encountered in sqrt\n",
      "  w = np.where(isolated_node_mask, 1, np.sqrt(w))\n"
     ]
    },
    {
     "data": {
      "text/plain": [
       "array([[ 1., nan, nan, nan, nan],\n",
       "       [nan,  1., nan, nan, nan],\n",
       "       [nan, nan,  1., nan, nan],\n",
       "       [nan, nan, nan,  1., nan],\n",
       "       [nan, nan, nan, nan,  0.]])"
      ]
     },
     "execution_count": 37,
     "metadata": {},
     "output_type": "execute_result"
    }
   ],
   "source": [
    "# Normalized Laplacian Matirx: \n",
    "\n",
    "L_norm = csgraph.laplacian(W, normed=True)\n",
    "L_norm#.toarray()"
   ]
  },
  {
   "cell_type": "markdown",
   "id": "58d7d2a0-9a07-4d0c-85e7-544fa8230ccc",
   "metadata": {},
   "source": [
    "### 2. Computing eigenvalues"
   ]
  },
  {
   "cell_type": "code",
   "execution_count": 38,
   "id": "40c93d09-6b2b-4f23-bacc-78633fb7ffc0",
   "metadata": {},
   "outputs": [
    {
     "data": {
      "text/plain": [
       "(array([ 0., -1., -2., -3., -4.]),\n",
       " array([[ 0.        ,  0.        ,  0.        ,  0.        ,  0.70710678],\n",
       "        [ 0.        ,  0.        ,  0.        ,  0.70710678, -0.70710678],\n",
       "        [ 0.        ,  0.        ,  0.70710678, -0.70710678,  0.        ],\n",
       "        [ 0.        ,  0.70710678, -0.70710678,  0.        ,  0.        ],\n",
       "        [ 1.        , -0.70710678,  0.        ,  0.        ,  0.        ]]))"
      ]
     },
     "execution_count": 38,
     "metadata": {},
     "output_type": "execute_result"
    }
   ],
   "source": [
    "# Finding eigen values and eigen vectors\n",
    "e, evecs = la.eig(L)#.todense())\n",
    "e, evecs"
   ]
  },
  {
   "cell_type": "code",
   "execution_count": 39,
   "id": "a59d3a10-4472-4e22-933d-784d6f7a2670",
   "metadata": {},
   "outputs": [
    {
     "data": {
      "text/plain": [
       "array([ 0., -1., -2., -3., -4.])"
      ]
     },
     "execution_count": 39,
     "metadata": {},
     "output_type": "execute_result"
    }
   ],
   "source": [
    "# No. of eigen values equal to 0\n",
    "e_rounded_off = e.round(5)\n",
    "e_rounded_off[e_rounded_off == 0].shape\n",
    "e_rounded_off"
   ]
  },
  {
   "cell_type": "markdown",
   "id": "76d43626-22a2-47af-aabf-303c2674a4df",
   "metadata": {},
   "source": [
    "### 3. Partitioning data points"
   ]
  },
  {
   "cell_type": "code",
   "execution_count": 40,
   "id": "0828d3d4-ac2e-45ef-897b-9cf597f14d7a",
   "metadata": {},
   "outputs": [
    {
     "name": "stdout",
     "output_type": "stream",
     "text": [
      "[4 3 2 1 0]\n"
     ]
    },
    {
     "data": {
      "text/plain": [
       "array([1, 0], dtype=int64)"
      ]
     },
     "execution_count": 40,
     "metadata": {},
     "output_type": "execute_result"
    }
   ],
   "source": [
    "sorted_idxs = np.argsort(e_rounded_off)\n",
    "print(sorted_idxs)\n",
    "sorted_idxs[-2:]"
   ]
  },
  {
   "cell_type": "code",
   "execution_count": 41,
   "id": "b8e30d9d-9eca-4329-82e2-6bdefd8e3ce4",
   "metadata": {},
   "outputs": [
    {
     "name": "stdout",
     "output_type": "stream",
     "text": [
      "[0 0 0 2 1]\n"
     ]
    },
    {
     "data": {
      "image/png": "[encoded data removed]",
      "text/plain": [
       "<Figure size 432x288 with 1 Axes>"
      ]
     },
     "metadata": {
      "needs_background": "light"
     },
     "output_type": "display_data"
    }
   ],
   "source": [
    "num_clusters = 3\n",
    "evecs_last_2 = evecs[0:, sorted_idxs[-2:]]\n",
    "new_labels = KMeans(n_clusters=num_clusters).fit_predict(evecs_last_2)\n",
    "print(new_labels)\n",
    "\n",
    "# Plot cluster result\n",
    "plt.scatter(X[:,0], X[:,1], c=new_labels.astype(float))\n",
    "plt.title(\"Clusters plot\")\n",
    "plt.show()"
   ]
  },
  {
   "cell_type": "code",
   "execution_count": 42,
   "id": "8e229297-7b4d-4ed1-a683-a92f7d1a08bb",
   "metadata": {},
   "outputs": [
    {
     "data": {
      "text/plain": [
       "(1.0, 0.0, 0.0)"
      ]
     },
     "execution_count": 42,
     "metadata": {},
     "output_type": "execute_result"
    }
   ],
   "source": [
    "# Evaluation of clustering result of KMeans (true_labels, predicted_labels)\n",
    "homogeneity_score(y_train_labels , new_labels), completeness_score(y_train_labels , new_labels), v_measure_score(y_train_labels , new_labels)"
   ]
  },
  {
   "cell_type": "code",
   "execution_count": null,
   "id": "35441df3-7d50-4f99-8672-01bf0eb097be",
   "metadata": {},
   "outputs": [],
   "source": []
  }
 ],
 "metadata": {
  "kernelspec": {
   "display_name": "Python 3 (ipykernel)",
   "language": "python",
   "name": "python3"
  },
  "language_info": {
   "codemirror_mode": {
    "name": "ipython",
    "version": 3
   },
   "file_extension": ".py",
   "mimetype": "text/x-python",
   "name": "python",
   "nbconvert_exporter": "python",
   "pygments_lexer": "ipython3",
   "version": "3.7.2"
  }
 },
 "nbformat": 4,
 "nbformat_minor": 5
}
