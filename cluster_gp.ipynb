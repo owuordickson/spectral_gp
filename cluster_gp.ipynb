{
 "cells": [
  {
   "cell_type": "markdown",
   "id": "2ce64c88",
   "metadata": {},
   "source": [
    "# Agenda\n",
    "Spectral clustering of GPs' bitmaps.\n",
    "\n"
   ]
  },
  {
   "cell_type": "code",
   "execution_count": 1,
   "id": "72bb0e00",
   "metadata": {},
   "outputs": [],
   "source": [
    "# Installing Libraries (if not installed)\n",
    "#!pip3 install jupyterlab-git\n",
    "#!pip3 install matplotlib\n",
    "#!pip3 install scikit-learn\n",
    "#!pip3 install seaborn\n",
    "#!pip3 install numpy\n",
    "#!pip3 install pandas\n",
    "#!pip3 install so4gp\n",
    "#!pip3 install scipy\n",
    "#!pip3 install sympy"
   ]
  },
  {
   "cell_type": "markdown",
   "id": "caa30d2f",
   "metadata": {},
   "source": [
    "# Import libraries <a name=\"lib-import\"></a>"
   ]
  },
  {
   "cell_type": "code",
   "execution_count": 31,
   "id": "2ef53478",
   "metadata": {},
   "outputs": [],
   "source": [
    "# Importing Libraries\n",
    "import pandas as pd\n",
    "import numpy as np\n",
    "from numpy.linalg import svd\n",
    "import matplotlib.pyplot as plt\n",
    "import seaborn as sns\n",
    "import networkx as nx\n",
    "import sympy\n",
    "import scipy\n",
    "\n",
    "\n",
    "from scipy.sparse import csgraph, csr_matrix\n",
    "from scipy.spatial.distance import pdist, squareform\n",
    "from sklearn.cluster import KMeans\n",
    "from sklearn.neighbors import KNeighborsClassifier\n",
    "from sklearn.neighbors import kneighbors_graph\n",
    "from sklearn.model_selection import train_test_split\n",
    "from sklearn.preprocessing import StandardScaler\n",
    "from sklearn.metrics import homogeneity_score, completeness_score,v_measure_score, confusion_matrix, accuracy_score\n",
    "from numpy import linalg as la"
   ]
  },
  {
   "cell_type": "code",
   "execution_count": 21,
   "id": "8159986a-afaf-4623-9fe1-98151b317497",
   "metadata": {},
   "outputs": [],
   "source": [
    "import so4gp as sgp"
   ]
  },
  {
   "cell_type": "markdown",
   "id": "3c1313c7-a9b5-4a5b-a1e0-09cc0402ac54",
   "metadata": {},
   "source": [
    "## Data set\n",
    "Retrieving data set and the features"
   ]
  },
  {
   "cell_type": "code",
   "execution_count": 22,
   "id": "6e01fe3c-0727-4474-ab13-170b58e76e26",
   "metadata": {},
   "outputs": [
    {
     "data": {
      "text/plain": [
       "array([[30.,  3.,  1., 10.,  2.,  4.],\n",
       "       [35.,  2.,  2.,  8.,  2.,  4.],\n",
       "       [40.,  4.,  2.,  7.,  2.,  4.],\n",
       "       [50.,  1.,  1.,  6.,  2.,  4.],\n",
       "       [52.,  7.,  1.,  2.,  2.,  4.]])"
      ]
     },
     "execution_count": 22,
     "metadata": {},
     "output_type": "execute_result"
    }
   ],
   "source": [
    "ds = sgp.DataGP('data\\DATASET.csv')\n",
    "\n",
    "data_size = ds.row_count\n",
    "features = np.array(ds.data, dtype=np.float64)\n",
    "features"
   ]
  },
  {
   "cell_type": "code",
   "execution_count": 23,
   "id": "ff8be82a-3dc6-4de8-bde2-03289ee81fa8",
   "metadata": {},
   "outputs": [],
   "source": [
    "bm_matrix = []\n",
    "for i in ds.attr_cols:\n",
    "    bm = sgp.gibitmap(ds, i)\n",
    "    bm_matrix.append(bm)\n",
    "    \n",
    "bm_matrix = np.array(bm_matrix, dtype=int)"
   ]
  },
  {
   "cell_type": "code",
   "execution_count": 24,
   "id": "95e0ba5b-67cb-4499-bada-99cf62e6ec2a",
   "metadata": {},
   "outputs": [
    {
     "data": {
      "text/plain": [
       "array([[30., 10.],\n",
       "       [35.,  8.],\n",
       "       [40.,  7.],\n",
       "       [50.,  6.],\n",
       "       [52.,  2.]])"
      ]
     },
     "execution_count": 24,
     "metadata": {},
     "output_type": "execute_result"
    }
   ],
   "source": [
    "feature_X = features[:, [0,3]]\n",
    "feature_X"
   ]
  },
  {
   "cell_type": "markdown",
   "id": "fa870f0f-2b14-4721-8e14-c32724d962cb",
   "metadata": {},
   "source": [
    "## Train similirity labels\n",
    "\n",
    "### a. Retrieving training data set (X, y)"
   ]
  },
  {
   "cell_type": "code",
   "execution_count": 25,
   "id": "b8feda9d-9082-46ec-9cff-a53082f9d886",
   "metadata": {},
   "outputs": [
    {
     "data": {
      "text/plain": [
       "array([[ 0., -1., -1., -1., -1.],\n",
       "       [-1.,  0., -1., -1., -1.],\n",
       "       [-1., -1.,  0., -1., -1.],\n",
       "       [-1., -1., -1.,  0., -1.],\n",
       "       [-1., -1., -1., -1.,  0.]])"
      ]
     },
     "execution_count": 25,
     "metadata": {},
     "output_type": "execute_result"
    }
   ],
   "source": [
    "# X (2 features at a time)\n",
    "X = np.zeros((data_size, data_size))\n",
    "y  = np.zeros((data_size,))\n",
    "\n",
    "for i in range(data_size):\n",
    "    for j in range(data_size):\n",
    "        if (feature_X[i][0] == feature_X[j][0]) or (feature_X[i][1] == feature_X[j][1]):\n",
    "            pass\n",
    "        elif (feature_X[i][0] > feature_X[j][0]) and (feature_X[i][1] > feature_X[j][1]):\n",
    "            X[i][j] = 1\n",
    "            X[j][i] = 1\n",
    "            if y[i] == 0:\n",
    "                y[i] = 1\n",
    "            if y[j] == 0:\n",
    "                y[j] = 1\n",
    "        elif (feature_X[i][0] > feature_X[j][0]) and (feature_X[i][1] < feature_X[j][1]):\n",
    "            X[i][j] = -1\n",
    "            X[j][i] = -1\n",
    "            if y[i] == 0:\n",
    "                y[i] = -1\n",
    "            if y[j] == 0:\n",
    "                y[j] = -1\n",
    "#for i in range(data_size):\n",
    "#    u_count = np.unique(X[i], return_index=True, return_counts=True)\n",
    "#    print(u_count)\n",
    "#    i_max = u_count[2].argmax()\n",
    "#    y[i] = u_count[0][i_max] \n",
    "X"
   ]
  },
  {
   "cell_type": "code",
   "execution_count": 26,
   "id": "04ffba06-b77a-456d-b6a3-cf14af0b695b",
   "metadata": {},
   "outputs": [
    {
     "name": "stdout",
     "output_type": "stream",
     "text": [
      "[-1. -1. -1. -1. -1.]\n"
     ]
    }
   ],
   "source": [
    "#y  = np.array([2,2,2,2,2], dtype=int)\n",
    "print(y)"
   ]
  },
  {
   "cell_type": "markdown",
   "id": "8e7ef33a-a797-4653-b7c6-cb16df59bdea",
   "metadata": {},
   "source": [
    "### b. Constructing KNN Classifier\n",
    "\n",
    "Using supervised learning\n",
    "\n",
    "Adopted from [Analyticsvidhya](https://www.analyticsvidhya.com/blog/2021/01/a-quick-introduction-to-k-nearest-neighbor-knn-classification-using-python/)"
   ]
  },
  {
   "cell_type": "code",
   "execution_count": 32,
   "id": "8f962585-e667-434a-a9b6-0bf4701d3be3",
   "metadata": {},
   "outputs": [],
   "source": [
    "# Splitting the dataset into the Training set (0.5 od data set) and Test set (0.5 of data set)\n",
    "X_train, X_test, y_train, y_test = train_test_split(X, y, test_size = 0.50, random_state = 0)\n"
   ]
  },
  {
   "cell_type": "code",
   "execution_count": 33,
   "id": "210c715b-207b-4fd1-b433-90ac4ac2abc5",
   "metadata": {},
   "outputs": [],
   "source": [
    "# Feature Scaling (if you have large values otherwise skip)\n",
    "\n",
    "#sc = StandardScaler()\n",
    "#X_train = sc.fit_transform(X_train)\n",
    "#X_test = sc.transform(X_test)"
   ]
  },
  {
   "cell_type": "code",
   "execution_count": 36,
   "id": "53a02db4-da41-46bb-b171-2f2545df4c12",
   "metadata": {},
   "outputs": [
    {
     "data": {
      "text/plain": [
       "KNeighborsClassifier(n_neighbors=2)"
      ]
     },
     "execution_count": 36,
     "metadata": {},
     "output_type": "execute_result"
    }
   ],
   "source": [
    "# Training the K-NN model on the Training set\n",
    "classifier = KNeighborsClassifier(n_neighbors = 2, metric = 'minkowski', p = 2)\n",
    "classifier.fit(X_train, y_train)\n"
   ]
  },
  {
   "cell_type": "code",
   "execution_count": 37,
   "id": "134f532c-6805-45a4-932b-027bc2dadc80",
   "metadata": {},
   "outputs": [
    {
     "data": {
      "text/plain": [
       "array([-1., -1., -1.])"
      ]
     },
     "execution_count": 37,
     "metadata": {},
     "output_type": "execute_result"
    }
   ],
   "source": [
    "# Predicting the Test set results\n",
    "y_pred = classifier.predict(X_test)\n",
    "y_pred"
   ]
  },
  {
   "cell_type": "code",
   "execution_count": 39,
   "id": "1fbb106e-a22c-4236-a3ee-693267b29179",
   "metadata": {},
   "outputs": [
    {
     "data": {
      "text/plain": [
       "(array([[3]], dtype=int64), 1.0)"
      ]
     },
     "execution_count": 39,
     "metadata": {},
     "output_type": "execute_result"
    }
   ],
   "source": [
    "# Making the Confusion Matrix\n",
    "confusion_matrix(y_test, y_pred), accuracy_score(y_test, y_pred)"
   ]
  },
  {
   "cell_type": "markdown",
   "id": "8af3e587-078d-49b8-9bff-3034782c0757",
   "metadata": {},
   "source": [
    "## Proposed Approach\n",
    "1. We will have to decompose superset GPs into their individual 2x2 subsets and compute their supports through clustering. \n",
    "\n",
    "2. Then, we apply antimonotonicity principle to infer the support of the superset."
   ]
  },
  {
   "cell_type": "markdown",
   "id": "1416e081-0aae-4893-9e45-89760e7affb9",
   "metadata": {},
   "source": [
    "## a. KMeans Clustering\n",
    "Produces labels that are not very accurate in partitioning data points."
   ]
  },
  {
   "cell_type": "code",
   "execution_count": 9,
   "id": "57d5f6b7-1c3c-4771-acf4-1bb50d13eed1",
   "metadata": {},
   "outputs": [
    {
     "name": "stdout",
     "output_type": "stream",
     "text": [
      "[0 0 2 1 0]\n"
     ]
    },
    {
     "data": {
      "image/png": "[encoded data removed]",
      "text/plain": [
       "<Figure size 432x288 with 1 Axes>"
      ]
     },
     "metadata": {
      "needs_background": "light"
     },
     "output_type": "display_data"
    }
   ],
   "source": [
    "# Training\n",
    "# Using KMeans clustering (NOT VERY  ACCURATE)\n",
    "num_clusters = 3\n",
    "kmean_labels = KMeans(n_clusters=num_clusters).fit_predict(X)\n",
    "print(kmean_labels)\n",
    "\n",
    "plt.scatter(feature_X[:,0], feature_X[:,1], c=kmean_labels)\n",
    "#plt.scatter(feature_X[:,0], feature_X[:,1], c=y )\n",
    "\n",
    "plt.show()"
   ]
  },
  {
   "cell_type": "code",
   "execution_count": 10,
   "id": "e47dc58d-bdae-4963-9b85-55639d7066bb",
   "metadata": {},
   "outputs": [
    {
     "data": {
      "text/plain": [
       "(1.0, 0.0, 0.0)"
      ]
     },
     "execution_count": 10,
     "metadata": {},
     "output_type": "execute_result"
    }
   ],
   "source": [
    "# Evaluation of clustering result of KMeans (true_labels, predicted_labels)\n",
    "homogeneity_score(y, kmean_labels), completeness_score(y , kmean_labels), v_measure_score(y , kmean_labels)"
   ]
  },
  {
   "cell_type": "markdown",
   "id": "8357c94d-b50c-4eb7-9f2e-7b181ab40e19",
   "metadata": {},
   "source": [
    "## b. Spectral Clustering\n",
    "\n",
    "Adopted from: [Towards data science](https://towardsdatascience.com/graph-laplacian-and-its-application-in-machine-learning-7d9aab021d16)"
   ]
  },
  {
   "cell_type": "markdown",
   "id": "caf4204a-57ea-45c1-b2d5-5d6fd78651c5",
   "metadata": {},
   "source": [
    "### 1. Deriving Graph Laplacian representation\n",
    "L = D-W\n",
    "\n",
    "D: Degree matrix\n",
    "\n",
    "W: Similarity graph"
   ]
  },
  {
   "cell_type": "code",
   "execution_count": 11,
   "id": "e00c3d1b-001e-4b04-a71d-8ae0c6b3d788",
   "metadata": {},
   "outputs": [
    {
     "data": {
      "text/plain": [
       "array([[-4.,  0.,  0.,  0.,  0.],\n",
       "       [ 0., -4.,  0.,  0.,  0.],\n",
       "       [ 0.,  0., -4.,  0.,  0.],\n",
       "       [ 0.,  0.,  0., -4.,  0.],\n",
       "       [ 0.,  0.,  0.,  0., -4.]])"
      ]
     },
     "execution_count": 11,
     "metadata": {},
     "output_type": "execute_result"
    }
   ],
   "source": [
    "# Degree Matrix\n",
    "\n",
    "W = X\n",
    "D = W.sum(axis=1)\n",
    "D = np.diag(np.asarray(D).reshape(data_size,))\n",
    "D"
   ]
  },
  {
   "cell_type": "code",
   "execution_count": 12,
   "id": "59493780-863f-43db-98e9-bdaff1af5eb3",
   "metadata": {},
   "outputs": [
    {
     "data": {
      "text/plain": [
       "array([[-4.,  1.,  1.,  1.,  1.],\n",
       "       [ 1., -4.,  1.,  1.,  1.],\n",
       "       [ 1.,  1., -4.,  1.,  1.],\n",
       "       [ 1.,  1.,  1., -4.,  1.],\n",
       "       [ 1.,  1.,  1.,  1., -4.]])"
      ]
     },
     "execution_count": 12,
     "metadata": {},
     "output_type": "execute_result"
    }
   ],
   "source": [
    "# Laplacian Matrix\n",
    "L = D - W\n",
    "L"
   ]
  },
  {
   "cell_type": "code",
   "execution_count": 13,
   "id": "79c1d0ee-c581-4e6d-ae91-67fe7a9e117a",
   "metadata": {},
   "outputs": [
    {
     "data": {
      "text/plain": [
       "array([[-4.,  1.,  1.,  1.,  1.],\n",
       "       [ 1., -4.,  1.,  1.,  1.],\n",
       "       [ 1.,  1., -4.,  1.,  1.],\n",
       "       [ 1.,  1.,  1., -4.,  1.],\n",
       "       [ 1.,  1.,  1.,  1., -4.]])"
      ]
     },
     "execution_count": 13,
     "metadata": {},
     "output_type": "execute_result"
    }
   ],
   "source": [
    "# Laplacian Matrix\n",
    "\n",
    "L = csgraph.laplacian(W, normed=False)\n",
    "L#.toarray()"
   ]
  },
  {
   "cell_type": "code",
   "execution_count": 14,
   "id": "1e853cef-e84c-45d5-8f54-f6afe416e784",
   "metadata": {
    "tags": []
   },
   "outputs": [
    {
     "name": "stderr",
     "output_type": "stream",
     "text": [
      "C:\\Users\\dowuor\\AppData\\Local\\Programs\\Python\\Python37\\lib\\site-packages\\scipy\\sparse\\csgraph\\_laplacian.py:118: RuntimeWarning: invalid value encountered in sqrt\n",
      "  w = np.where(isolated_node_mask, 1, np.sqrt(w))\n"
     ]
    },
    {
     "data": {
      "text/plain": [
       "array([[ 1., nan, nan, nan, nan],\n",
       "       [nan,  1., nan, nan, nan],\n",
       "       [nan, nan,  1., nan, nan],\n",
       "       [nan, nan, nan,  1., nan],\n",
       "       [nan, nan, nan, nan,  1.]])"
      ]
     },
     "execution_count": 14,
     "metadata": {},
     "output_type": "execute_result"
    }
   ],
   "source": [
    "# Normalized Laplacian Matirx: \n",
    "\n",
    "L_norm = csgraph.laplacian(W, normed=True)\n",
    "L_norm#.toarray()"
   ]
  },
  {
   "cell_type": "markdown",
   "id": "58d7d2a0-9a07-4d0c-85e7-544fa8230ccc",
   "metadata": {},
   "source": [
    "### 2. Computing eigenvalues"
   ]
  },
  {
   "cell_type": "code",
   "execution_count": 15,
   "id": "40c93d09-6b2b-4f23-bacc-78633fb7ffc0",
   "metadata": {},
   "outputs": [
    {
     "data": {
      "text/plain": [
       "(array([-5.,  0., -5., -5., -5.]),\n",
       " array([[-0.89442719,  0.4472136 ,  0.        ,  0.        ,  0.        ],\n",
       "        [ 0.2236068 ,  0.4472136 ,  0.70710678,  0.24828177,  0.46829291],\n",
       "        [ 0.2236068 ,  0.4472136 , -0.47140452,  0.49656353,  0.18731716],\n",
       "        [ 0.2236068 ,  0.4472136 ,  0.23570226,  0.08276059, -0.84292723],\n",
       "        [ 0.2236068 ,  0.4472136 , -0.47140452, -0.82760589,  0.18731716]]))"
      ]
     },
     "execution_count": 15,
     "metadata": {},
     "output_type": "execute_result"
    }
   ],
   "source": [
    "# Finding eigen values and eigen vectors\n",
    "e, evecs = la.eig(L)#.todense())\n",
    "e, evecs"
   ]
  },
  {
   "cell_type": "code",
   "execution_count": 16,
   "id": "a59d3a10-4472-4e22-933d-784d6f7a2670",
   "metadata": {},
   "outputs": [
    {
     "data": {
      "text/plain": [
       "array([-5.,  0., -5., -5., -5.])"
      ]
     },
     "execution_count": 16,
     "metadata": {},
     "output_type": "execute_result"
    }
   ],
   "source": [
    "# No. of eigen values equal to 0\n",
    "e_rounded_off = e.round(5)\n",
    "e_rounded_off[e_rounded_off == 0].shape\n",
    "e_rounded_off"
   ]
  },
  {
   "cell_type": "markdown",
   "id": "76d43626-22a2-47af-aabf-303c2674a4df",
   "metadata": {},
   "source": [
    "### 3. Partitioning data points"
   ]
  },
  {
   "cell_type": "code",
   "execution_count": 17,
   "id": "0828d3d4-ac2e-45ef-897b-9cf597f14d7a",
   "metadata": {},
   "outputs": [
    {
     "name": "stdout",
     "output_type": "stream",
     "text": [
      "[0 2 3 4 1]\n"
     ]
    },
    {
     "data": {
      "text/plain": [
       "array([4, 1], dtype=int64)"
      ]
     },
     "execution_count": 17,
     "metadata": {},
     "output_type": "execute_result"
    }
   ],
   "source": [
    "sorted_idxs = np.argsort(e_rounded_off)\n",
    "print(sorted_idxs)\n",
    "sorted_idxs[-2:]"
   ]
  },
  {
   "cell_type": "code",
   "execution_count": 18,
   "id": "b8e30d9d-9eca-4329-82e2-6bdefd8e3ce4",
   "metadata": {},
   "outputs": [
    {
     "name": "stdout",
     "output_type": "stream",
     "text": [
      "[1 2 1 0 1]\n"
     ]
    },
    {
     "data": {
      "image/png": "[encoded data removed]",
      "text/plain": [
       "<Figure size 432x288 with 1 Axes>"
      ]
     },
     "metadata": {
      "needs_background": "light"
     },
     "output_type": "display_data"
    }
   ],
   "source": [
    "num_clusters = 3\n",
    "evecs_last_2 = evecs[0:, sorted_idxs[-2:]]\n",
    "new_labels = KMeans(n_clusters=num_clusters).fit_predict(evecs_last_2)\n",
    "print(new_labels)\n",
    "\n",
    "# Plot cluster result\n",
    "plt.scatter(feature_X[:,0], feature_X[:,1], c=new_labels.astype(float))\n",
    "plt.title(\"Clusters plot\")\n",
    "plt.show()"
   ]
  },
  {
   "cell_type": "code",
   "execution_count": 19,
   "id": "8e229297-7b4d-4ed1-a683-a92f7d1a08bb",
   "metadata": {},
   "outputs": [
    {
     "data": {
      "text/plain": [
       "(1.0, 0.0, 0.0)"
      ]
     },
     "execution_count": 19,
     "metadata": {},
     "output_type": "execute_result"
    }
   ],
   "source": [
    "# Evaluation of clustering result of KMeans (true_labels, predicted_labels)\n",
    "homogeneity_score(y , new_labels), completeness_score(y , new_labels), v_measure_score(y , new_labels)"
   ]
  },
  {
   "cell_type": "code",
   "execution_count": null,
   "id": "35441df3-7d50-4f99-8672-01bf0eb097be",
   "metadata": {},
   "outputs": [],
   "source": []
  },
  {
   "cell_type": "code",
   "execution_count": null,
   "id": "21dc14fd-9d05-4c0c-9f56-12807758495e",
   "metadata": {},
   "outputs": [],
   "source": []
  }
 ],
 "metadata": {
  "kernelspec": {
   "display_name": "Python 3 (ipykernel)",
   "language": "python",
   "name": "python3"
  },
  "language_info": {
   "codemirror_mode": {
    "name": "ipython",
    "version": 3
   },
   "file_extension": ".py",
   "mimetype": "text/x-python",
   "name": "python",
   "nbconvert_exporter": "python",
   "pygments_lexer": "ipython3",
   "version": "3.7.2"
  }
 },
 "nbformat": 4,
 "nbformat_minor": 5
}
