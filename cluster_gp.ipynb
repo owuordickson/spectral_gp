{
 "cells": [
  {
   "cell_type": "markdown",
   "id": "2ce64c88",
   "metadata": {},
   "source": [
    "# Agenda\n",
    "Spectral clustering of GPs' bitmaps.\n",
    "\n"
   ]
  },
  {
   "cell_type": "code",
   "execution_count": 1,
   "id": "72bb0e00",
   "metadata": {},
   "outputs": [],
   "source": [
    "# Installing Libraries (if not installed)\n",
    "#!pip3 install jupyterlab-git\n",
    "#!pip3 install matplotlib\n",
    "#!pip3 install scikit-learn\n",
    "#!pip3 install seaborn\n",
    "#!pip3 install numpy\n",
    "#!pip3 install pandas\n",
    "#!pip3 install so4gp\n",
    "#!pip3 install scipy\n",
    "#!pip3 install sympy"
   ]
  },
  {
   "cell_type": "markdown",
   "id": "caa30d2f",
   "metadata": {},
   "source": [
    "# Import libraries <a name=\"lib-import\"></a>"
   ]
  },
  {
   "cell_type": "code",
   "execution_count": 41,
   "id": "2ef53478",
   "metadata": {},
   "outputs": [],
   "source": [
    "# Importing Libraries\n",
    "import pandas as pd\n",
    "import numpy as np\n",
    "from numpy.linalg import svd\n",
    "import matplotlib.pyplot as plt\n",
    "import seaborn as sns\n",
    "import networkx as nx\n",
    "import sympy\n",
    "import scipy\n",
    "import math\n",
    "\n",
    "\n",
    "from scipy.sparse import csgraph, csr_matrix\n",
    "from scipy.spatial.distance import pdist, squareform\n",
    "from sklearn.cluster import KMeans\n",
    "from sklearn.neighbors import KNeighborsClassifier\n",
    "from sklearn.neighbors import kneighbors_graph\n",
    "from sklearn.model_selection import train_test_split\n",
    "from sklearn.preprocessing import StandardScaler\n",
    "from sklearn.metrics import homogeneity_score, completeness_score,v_measure_score, confusion_matrix, accuracy_score\n",
    "from numpy import linalg as la"
   ]
  },
  {
   "cell_type": "code",
   "execution_count": 21,
   "id": "8159986a-afaf-4623-9fe1-98151b317497",
   "metadata": {},
   "outputs": [],
   "source": [
    "import so4gp as sgp"
   ]
  },
  {
   "cell_type": "markdown",
   "id": "3c1313c7-a9b5-4a5b-a1e0-09cc0402ac54",
   "metadata": {},
   "source": [
    "## Data set\n",
    "Retrieving data set and the features"
   ]
  },
  {
   "cell_type": "code",
   "execution_count": 78,
   "id": "6e01fe3c-0727-4474-ab13-170b58e76e26",
   "metadata": {},
   "outputs": [
    {
     "data": {
      "text/plain": [
       "array([[0.0000e+00, 5.1820e+03, 1.9900e+02, ..., 4.3400e+02, 1.0000e+00,\n",
       "        2.0000e+00],\n",
       "       [1.0000e+00, 6.5230e+03, 8.4400e+02, ..., 4.4500e+02, 1.0000e+00,\n",
       "        2.0000e+00],\n",
       "       [2.0000e+00, 5.8780e+03, 4.3800e+03, ..., 1.5200e+03, 1.0000e+00,\n",
       "        1.0000e+00],\n",
       "       ...,\n",
       "       [1.9700e+02, 9.4380e+03, 1.6300e+02, ..., 7.5000e+01, 1.0000e+00,\n",
       "        1.0000e+00],\n",
       "       [1.9800e+02, 1.3343e+04, 3.4850e+03, ..., 9.6100e+02, 2.0000e+00,\n",
       "        1.0000e+00],\n",
       "       [1.9900e+02, 1.4337e+04, 6.9100e+02, ..., 8.9400e+02, 2.0000e+00,\n",
       "        2.0000e+00]])"
      ]
     },
     "execution_count": 78,
     "metadata": {},
     "output_type": "execute_result"
    }
   ],
   "source": [
    "ds = sgp.DataGP('data\\DATASET.csv')\n",
    "ds = sgp.DataGP('data\\c2k_02k.csv')\n",
    "\n",
    "data_size = ds.row_count\n",
    "features = np.array(ds.data, dtype=np.float64)\n",
    "features"
   ]
  },
  {
   "cell_type": "code",
   "execution_count": 79,
   "id": "ff8be82a-3dc6-4de8-bde2-03289ee81fa8",
   "metadata": {},
   "outputs": [],
   "source": [
    "bm_matrix = []\n",
    "for i in ds.attr_cols:\n",
    "    bm = sgp.gibitmap(ds, i)\n",
    "    bm_matrix.append(bm)\n",
    "    \n",
    "bm_matrix = np.array(bm_matrix, dtype=int)"
   ]
  },
  {
   "cell_type": "code",
   "execution_count": 80,
   "id": "95e0ba5b-67cb-4499-bada-99cf62e6ec2a",
   "metadata": {},
   "outputs": [
    {
     "data": {
      "text/plain": [
       "array([[0.0000e+00, 5.1820e+03],\n",
       "       [1.0000e+00, 6.5230e+03],\n",
       "       [2.0000e+00, 5.8780e+03],\n",
       "       [3.0000e+00, 1.2750e+03],\n",
       "       [4.0000e+00, 8.1170e+03],\n",
       "       [5.0000e+00, 9.8890e+03],\n",
       "       [6.0000e+00, 3.9970e+03],\n",
       "       [7.0000e+00, 7.1250e+03],\n",
       "       [8.0000e+00, 1.0481e+04],\n",
       "       [9.0000e+00, 3.2120e+03],\n",
       "       [1.0000e+01, 1.2343e+04],\n",
       "       [1.1000e+01, 8.4730e+03],\n",
       "       [1.2000e+01, 9.9310e+03],\n",
       "       [1.3000e+01, 1.2666e+04],\n",
       "       [1.4000e+01, 1.4132e+04],\n",
       "       [1.5000e+01, 1.3119e+04],\n",
       "       [1.6000e+01, 1.3572e+04],\n",
       "       [1.7000e+01, 1.3880e+03],\n",
       "       [1.8000e+01, 4.6970e+03],\n",
       "       [1.9000e+01, 1.3297e+04],\n",
       "       [2.0000e+01, 9.4810e+03],\n",
       "       [2.1000e+01, 5.8380e+03],\n",
       "       [2.2000e+01, 1.0613e+04],\n",
       "       [2.3000e+01, 1.3630e+03],\n",
       "       [2.4000e+01, 4.0380e+03],\n",
       "       [2.5000e+01, 3.0910e+03],\n",
       "       [2.6000e+01, 1.3510e+04],\n",
       "       [2.7000e+01, 4.9910e+03],\n",
       "       [2.8000e+01, 1.1674e+04],\n",
       "       [2.9000e+01, 7.1080e+03],\n",
       "       [3.0000e+01, 3.9400e+02],\n",
       "       [3.1000e+01, 1.3559e+04],\n",
       "       [3.2000e+01, 1.1152e+04],\n",
       "       [3.3000e+01, 1.0315e+04],\n",
       "       [3.4000e+01, 3.1040e+03],\n",
       "       [3.5000e+01, 3.4910e+03],\n",
       "       [3.6000e+01, 4.5350e+03],\n",
       "       [3.7000e+01, 2.1720e+03],\n",
       "       [3.8000e+01, 1.1135e+04],\n",
       "       [3.9000e+01, 1.3641e+04],\n",
       "       [4.0000e+01, 1.0206e+04],\n",
       "       [4.1000e+01, 1.1942e+04],\n",
       "       [4.2000e+01, 9.1530e+03],\n",
       "       [4.3000e+01, 2.3150e+03],\n",
       "       [4.4000e+01, 8.2510e+03],\n",
       "       [4.5000e+01, 9.9620e+03],\n",
       "       [4.6000e+01, 5.6100e+02],\n",
       "       [4.7000e+01, 8.2800e+02],\n",
       "       [4.8000e+01, 4.5620e+03],\n",
       "       [4.9000e+01, 1.3455e+04],\n",
       "       [5.0000e+01, 8.2830e+03],\n",
       "       [5.1000e+01, 8.1680e+03],\n",
       "       [5.2000e+01, 3.2310e+03],\n",
       "       [5.3000e+01, 5.0250e+03],\n",
       "       [5.4000e+01, 7.4980e+03],\n",
       "       [5.5000e+01, 1.1109e+04],\n",
       "       [5.6000e+01, 8.6790e+03],\n",
       "       [5.7000e+01, 1.1694e+04],\n",
       "       [5.8000e+01, 4.6130e+03],\n",
       "       [5.9000e+01, 1.0507e+04],\n",
       "       [6.0000e+01, 2.3400e+02],\n",
       "       [6.1000e+01, 8.5850e+03],\n",
       "       [6.2000e+01, 1.2419e+04],\n",
       "       [6.3000e+01, 1.2117e+04],\n",
       "       [6.4000e+01, 9.4490e+03],\n",
       "       [6.5000e+01, 7.5640e+03],\n",
       "       [6.6000e+01, 1.0705e+04],\n",
       "       [6.7000e+01, 8.4250e+03],\n",
       "       [6.8000e+01, 1.1901e+04],\n",
       "       [6.9000e+01, 6.7770e+03],\n",
       "       [7.0000e+01, 1.2335e+04],\n",
       "       [7.1000e+01, 1.3171e+04],\n",
       "       [7.2000e+01, 1.3743e+04],\n",
       "       [7.3000e+01, 1.1804e+04],\n",
       "       [7.4000e+01, 6.5310e+03],\n",
       "       [7.5000e+01, 1.1836e+04],\n",
       "       [7.6000e+01, 1.0419e+04],\n",
       "       [7.7000e+01, 1.2361e+04],\n",
       "       [7.8000e+01, 9.0730e+03],\n",
       "       [7.9000e+01, 1.0250e+03],\n",
       "       [8.0000e+01, 5.2800e+03],\n",
       "       [8.1000e+01, 1.2379e+04],\n",
       "       [8.2000e+01, 7.1700e+02],\n",
       "       [8.3000e+01, 2.1590e+03],\n",
       "       [8.4000e+01, 9.7160e+03],\n",
       "       [8.5000e+01, 1.4178e+04],\n",
       "       [8.6000e+01, 4.4440e+03],\n",
       "       [8.7000e+01, 3.3730e+03],\n",
       "       [8.8000e+01, 1.1163e+04],\n",
       "       [8.9000e+01, 4.9880e+03],\n",
       "       [9.0000e+01, 5.6070e+03],\n",
       "       [9.1000e+01, 1.2714e+04],\n",
       "       [9.2000e+01, 5.0160e+03],\n",
       "       [9.3000e+01, 1.2338e+04],\n",
       "       [9.4000e+01, 2.4480e+03],\n",
       "       [9.5000e+01, 1.0000e+03],\n",
       "       [9.6000e+01, 1.3841e+04],\n",
       "       [9.7000e+01, 1.4190e+04],\n",
       "       [9.8000e+01, 1.1016e+04],\n",
       "       [9.9000e+01, 7.1430e+03],\n",
       "       [1.0000e+02, 7.1600e+02],\n",
       "       [1.0100e+02, 3.4140e+03],\n",
       "       [1.0200e+02, 1.1718e+04],\n",
       "       [1.0300e+02, 6.9950e+03],\n",
       "       [1.0400e+02, 4.1090e+03],\n",
       "       [1.0500e+02, 1.2780e+04],\n",
       "       [1.0600e+02, 9.5600e+02],\n",
       "       [1.0700e+02, 5.7320e+03],\n",
       "       [1.0800e+02, 4.5860e+03],\n",
       "       [1.0900e+02, 9.6410e+03],\n",
       "       [1.1000e+02, 1.3017e+04],\n",
       "       [1.1100e+02, 3.4340e+03],\n",
       "       [1.1200e+02, 4.2690e+03],\n",
       "       [1.1300e+02, 9.5330e+03],\n",
       "       [1.1400e+02, 7.3880e+03],\n",
       "       [1.1500e+02, 2.2000e+01],\n",
       "       [1.1600e+02, 1.3477e+04],\n",
       "       [1.1700e+02, 1.3308e+04],\n",
       "       [1.1800e+02, 2.5930e+03],\n",
       "       [1.1900e+02, 8.6210e+03],\n",
       "       [1.2000e+02, 1.3024e+04],\n",
       "       [1.2100e+02, 1.0389e+04],\n",
       "       [1.2200e+02, 1.2816e+04],\n",
       "       [1.2300e+02, 2.9010e+03],\n",
       "       [1.2400e+02, 1.2211e+04],\n",
       "       [1.2500e+02, 6.6710e+03],\n",
       "       [1.2600e+02, 1.2100e+02],\n",
       "       [1.2700e+02, 8.8020e+03],\n",
       "       [1.2800e+02, 1.0852e+04],\n",
       "       [1.2900e+02, 9.0060e+03],\n",
       "       [1.3000e+02, 4.0080e+03],\n",
       "       [1.3100e+02, 6.6100e+03],\n",
       "       [1.3200e+02, 1.3042e+04],\n",
       "       [1.3300e+02, 1.1874e+04],\n",
       "       [1.3400e+02, 6.2140e+03],\n",
       "       [1.3500e+02, 1.4611e+04],\n",
       "       [1.3600e+02, 1.1030e+04],\n",
       "       [1.3700e+02, 8.6600e+02],\n",
       "       [1.3800e+02, 1.3201e+04],\n",
       "       [1.3900e+02, 3.0500e+02],\n",
       "       [1.4000e+02, 7.4270e+03],\n",
       "       [1.4100e+02, 5.6020e+03],\n",
       "       [1.4200e+02, 1.2468e+04],\n",
       "       [1.4300e+02, 7.9700e+02],\n",
       "       [1.4400e+02, 8.5040e+03],\n",
       "       [1.4500e+02, 5.0860e+03],\n",
       "       [1.4600e+02, 1.0725e+04],\n",
       "       [1.4700e+02, 2.3290e+03],\n",
       "       [1.4800e+02, 3.0390e+03],\n",
       "       [1.4900e+02, 1.0466e+04],\n",
       "       [1.5000e+02, 1.2309e+04],\n",
       "       [1.5100e+02, 1.1100e+02],\n",
       "       [1.5200e+02, 1.1240e+04],\n",
       "       [1.5300e+02, 1.2289e+04],\n",
       "       [1.5400e+02, 9.3430e+03],\n",
       "       [1.5500e+02, 4.9920e+03],\n",
       "       [1.5600e+02, 2.2000e+02],\n",
       "       [1.5700e+02, 8.2200e+03],\n",
       "       [1.5800e+02, 7.1820e+03],\n",
       "       [1.5900e+02, 4.4100e+02],\n",
       "       [1.6000e+02, 1.4042e+04],\n",
       "       [1.6100e+02, 1.2535e+04],\n",
       "       [1.6200e+02, 9.7610e+03],\n",
       "       [1.6300e+02, 8.4490e+03],\n",
       "       [1.6400e+02, 1.2873e+04],\n",
       "       [1.6500e+02, 1.2655e+04],\n",
       "       [1.6600e+02, 1.7370e+03],\n",
       "       [1.6700e+02, 7.5690e+03],\n",
       "       [1.6800e+02, 1.1094e+04],\n",
       "       [1.6900e+02, 8.4460e+03],\n",
       "       [1.7000e+02, 7.9990e+03],\n",
       "       [1.7100e+02, 5.8360e+03],\n",
       "       [1.7200e+02, 1.3582e+04],\n",
       "       [1.7300e+02, 7.6700e+02],\n",
       "       [1.7400e+02, 2.6980e+03],\n",
       "       [1.7500e+02, 2.5840e+03],\n",
       "       [1.7600e+02, 1.3546e+04],\n",
       "       [1.7700e+02, 4.9950e+03],\n",
       "       [1.7800e+02, 2.9300e+02],\n",
       "       [1.7900e+02, 7.8440e+03],\n",
       "       [1.8000e+02, 1.4335e+04],\n",
       "       [1.8100e+02, 1.0269e+04],\n",
       "       [1.8200e+02, 3.8840e+03],\n",
       "       [1.8300e+02, 5.3910e+03],\n",
       "       [1.8400e+02, 9.6560e+03],\n",
       "       [1.8500e+02, 3.2200e+03],\n",
       "       [1.8600e+02, 5.6550e+03],\n",
       "       [1.8700e+02, 9.7410e+03],\n",
       "       [1.8800e+02, 6.3330e+03],\n",
       "       [1.8900e+02, 1.3830e+03],\n",
       "       [1.9000e+02, 4.5980e+03],\n",
       "       [1.9100e+02, 1.2642e+04],\n",
       "       [1.9200e+02, 1.0241e+04],\n",
       "       [1.9300e+02, 8.6710e+03],\n",
       "       [1.9400e+02, 8.5470e+03],\n",
       "       [1.9500e+02, 1.3540e+04],\n",
       "       [1.9600e+02, 1.2639e+04],\n",
       "       [1.9700e+02, 9.4380e+03],\n",
       "       [1.9800e+02, 1.3343e+04],\n",
       "       [1.9900e+02, 1.4337e+04]])"
      ]
     },
     "execution_count": 80,
     "metadata": {},
     "output_type": "execute_result"
    }
   ],
   "source": [
    "feature_X = features[:, [0,1]]\n",
    "feature_X"
   ]
  },
  {
   "cell_type": "markdown",
   "id": "fa870f0f-2b14-4721-8e14-c32724d962cb",
   "metadata": {},
   "source": [
    "## Train similirity labels\n",
    "\n",
    "### a. Retrieving training data set (X, y)"
   ]
  },
  {
   "cell_type": "code",
   "execution_count": 81,
   "id": "b8feda9d-9082-46ec-9cff-a53082f9d886",
   "metadata": {},
   "outputs": [
    {
     "data": {
      "text/plain": [
       "array([[ 0.,  1.,  1., ...,  1.,  1.,  1.],\n",
       "       [ 1.,  0., -1., ...,  1.,  1.,  1.],\n",
       "       [ 1., -1.,  0., ...,  1.,  1.,  1.],\n",
       "       ...,\n",
       "       [ 1.,  1.,  1., ...,  0.,  1.,  1.],\n",
       "       [ 1.,  1.,  1., ...,  1.,  0.,  1.],\n",
       "       [ 1.,  1.,  1., ...,  1.,  1.,  0.]])"
      ]
     },
     "execution_count": 81,
     "metadata": {},
     "output_type": "execute_result"
    }
   ],
   "source": [
    "# X (2 features at a time)\n",
    "X = np.zeros((data_size, data_size))\n",
    "y  = np.zeros((data_size,))\n",
    "\n",
    "for i in range(data_size):\n",
    "    for j in range(data_size):\n",
    "        if (feature_X[i][0] == feature_X[j][0]) or (feature_X[i][1] == feature_X[j][1]):\n",
    "            pass\n",
    "        elif (feature_X[i][0] > feature_X[j][0]) and (feature_X[i][1] > feature_X[j][1]):\n",
    "            X[i][j] = 1\n",
    "            X[j][i] = 1\n",
    "            if y[i] == 0:\n",
    "                y[i] = 1\n",
    "            if y[j] == 0:\n",
    "                y[j] = 1\n",
    "        elif (feature_X[i][0] > feature_X[j][0]) and (feature_X[i][1] < feature_X[j][1]):\n",
    "            X[i][j] = -1\n",
    "            X[j][i] = -1\n",
    "            if y[i] == 0:\n",
    "                y[i] = -1\n",
    "            if y[j] == 0:\n",
    "                y[j] = -1\n",
    "#for i in range(data_size):\n",
    "#    u_count = np.unique(X[i], return_index=True, return_counts=True)\n",
    "#    print(u_count)\n",
    "#    i_max = u_count[2].argmax()\n",
    "#    y[i] = u_count[0][i_max] \n",
    "X"
   ]
  },
  {
   "cell_type": "code",
   "execution_count": 82,
   "id": "04ffba06-b77a-456d-b6a3-cf14af0b695b",
   "metadata": {},
   "outputs": [
    {
     "name": "stdout",
     "output_type": "stream",
     "text": [
      "[ 1.  1.  1. -1.  1.  1. -1.  1.  1. -1.  1.  1.  1.  1.  1.  1.  1. -1.\n",
      " -1.  1.  1.  1.  1. -1. -1. -1.  1. -1.  1.  1. -1.  1.  1.  1. -1. -1.\n",
      " -1. -1.  1.  1.  1.  1.  1. -1.  1.  1. -1. -1. -1.  1.  1.  1. -1. -1.\n",
      "  1.  1.  1.  1. -1.  1. -1.  1.  1.  1.  1.  1.  1.  1.  1.  1.  1.  1.\n",
      "  1.  1.  1.  1.  1.  1.  1. -1.  1.  1. -1. -1.  1.  1. -1. -1.  1. -1.\n",
      "  1.  1. -1.  1. -1. -1.  1.  1.  1.  1. -1. -1.  1.  1. -1.  1. -1.  1.\n",
      " -1.  1.  1. -1. -1.  1.  1. -1.  1.  1. -1.  1.  1.  1.  1. -1.  1.  1.\n",
      " -1.  1.  1.  1. -1.  1.  1.  1.  1.  1.  1. -1.  1. -1.  1.  1.  1. -1.\n",
      "  1. -1.  1. -1. -1.  1.  1. -1.  1.  1.  1. -1. -1.  1.  1. -1.  1.  1.\n",
      "  1.  1.  1.  1. -1.  1.  1.  1.  1.  1.  1. -1. -1. -1.  1. -1. -1.  1.\n",
      "  1.  1. -1.  1.  1. -1.  1.  1.  1. -1. -1.  1.  1.  1.  1.  1.  1.  1.\n",
      "  1.  1.]\n"
     ]
    }
   ],
   "source": [
    "#y  = np.array([2,2,2,2,2], dtype=int)\n",
    "print(y)"
   ]
  },
  {
   "cell_type": "markdown",
   "id": "8e7ef33a-a797-4653-b7c6-cb16df59bdea",
   "metadata": {},
   "source": [
    "### b. Constructing KNN Classifier\n",
    "\n",
    "Using supervised learning\n",
    "\n",
    "Adopted from [Analyticsvidhya](https://www.analyticsvidhya.com/blog/2021/01/a-quick-introduction-to-k-nearest-neighbor-knn-classification-using-python/)"
   ]
  },
  {
   "cell_type": "code",
   "execution_count": 83,
   "id": "8f962585-e667-434a-a9b6-0bf4701d3be3",
   "metadata": {},
   "outputs": [],
   "source": [
    "# Splitting the dataset into the Training set (0.5 of data set sample) and Test set (0.5 of sample size)\n",
    "X_train, X_test, y_train, y_test = train_test_split(X, y, test_size = 0.50, random_state = 0)\n"
   ]
  },
  {
   "cell_type": "code",
   "execution_count": 84,
   "id": "210c715b-207b-4fd1-b433-90ac4ac2abc5",
   "metadata": {},
   "outputs": [],
   "source": [
    "# Feature Scaling (if you have large values otherwise skip)\n",
    "\n",
    "#sc = StandardScaler()\n",
    "#X_train = sc.fit_transform(X_train)\n",
    "#X_test = sc.transform(X_test)"
   ]
  },
  {
   "cell_type": "code",
   "execution_count": 85,
   "id": "53a02db4-da41-46bb-b171-2f2545df4c12",
   "metadata": {},
   "outputs": [
    {
     "data": {
      "text/plain": [
       "KNeighborsClassifier(n_neighbors=14)"
      ]
     },
     "execution_count": 85,
     "metadata": {},
     "output_type": "execute_result"
    }
   ],
   "source": [
    "# Training the K-NN model on the Training set\n",
    "n = int(math.sqrt(data_size))\n",
    "classifier = KNeighborsClassifier(n_neighbors = n, metric = 'minkowski', p = 2)  # default parameters\n",
    "classifier.fit(X_train, y_train)\n"
   ]
  },
  {
   "cell_type": "code",
   "execution_count": 86,
   "id": "134f532c-6805-45a4-932b-027bc2dadc80",
   "metadata": {},
   "outputs": [
    {
     "data": {
      "text/plain": [
       "array([-1.,  1.,  1.,  1., -1., -1.,  1.,  1.,  1.,  1.,  1.,  1.,  1.,\n",
       "        1., -1.,  1.,  1., -1., -1.,  1.,  1.,  1.,  1., -1., -1., -1.,\n",
       "        1., -1.,  1.,  1.,  1.,  1.,  1., -1.,  1., -1.,  1.,  1., -1.,\n",
       "       -1.,  1.,  1.,  1.,  1.,  1.,  1.,  1.,  1., -1., -1.,  1.,  1.,\n",
       "        1.,  1.,  1., -1., -1.,  1.,  1.,  1.,  1.,  1.,  1.,  1.,  1.,\n",
       "       -1.,  1.,  1.,  1., -1., -1., -1., -1., -1.,  1., -1.,  1.,  1.,\n",
       "       -1.,  1.,  1., -1.,  1.,  1., -1.,  1., -1.,  1.,  1.,  1., -1.,\n",
       "        1.,  1.,  1.,  1., -1., -1., -1.,  1., -1.])"
      ]
     },
     "execution_count": 86,
     "metadata": {},
     "output_type": "execute_result"
    }
   ],
   "source": [
    "# Predicting the Test set results\n",
    "y_pred = classifier.predict(X_test)\n",
    "y_pred"
   ]
  },
  {
   "cell_type": "code",
   "execution_count": 88,
   "id": "1fbb106e-a22c-4236-a3ee-693267b29179",
   "metadata": {},
   "outputs": [
    {
     "data": {
      "text/plain": [
       "(array([[31,  1],\n",
       "        [ 3, 65]], dtype=int64),\n",
       " 0.96)"
      ]
     },
     "execution_count": 88,
     "metadata": {},
     "output_type": "execute_result"
    }
   ],
   "source": [
    "# Making the Confusion Matrix\n",
    "confusion_matrix(y_test, y_pred), accuracy_score(y_test, y_pred)"
   ]
  },
  {
   "cell_type": "markdown",
   "id": "8af3e587-078d-49b8-9bff-3034782c0757",
   "metadata": {},
   "source": [
    "## Proposed Approach\n",
    "1. We will have to decompose superset GPs into their individual 2x2 subsets and compute their supports through clustering. \n",
    "\n",
    "2. Then, we apply antimonotonicity principle to infer the support of the superset."
   ]
  },
  {
   "cell_type": "markdown",
   "id": "1416e081-0aae-4893-9e45-89760e7affb9",
   "metadata": {},
   "source": [
    "## a. KMeans Clustering\n",
    "Produces labels that are not very accurate in partitioning data points."
   ]
  },
  {
   "cell_type": "code",
   "execution_count": 117,
   "id": "57d5f6b7-1c3c-4771-acf4-1bb50d13eed1",
   "metadata": {},
   "outputs": [
    {
     "name": "stdout",
     "output_type": "stream",
     "text": [
      "[-1. -1. -1. -1.  1.  1. -1.  1.  1. -1.  1.  1.  1.  1.  1.  1.  1. -1.\n",
      " -1.  1.  1. -1.  1. -1. -1. -1.  1. -1.  1.  1. -1.  1.  1.  1. -1. -1.\n",
      " -1. -1.  1.  1.  1.  1.  1. -1.  1.  1. -1. -1. -1.  1.  1.  1. -1. -1.\n",
      "  1.  1.  1.  1. -1.  1. -1.  1.  1.  1.  1.  1.  1.  1.  1.  1.  1.  1.\n",
      "  1.  1.  1.  1.  1.  1.  1. -1. -1.  1. -1. -1.  1.  1. -1. -1.  1. -1.\n",
      " -1.  1. -1.  1. -1. -1.  1.  1.  1.  1. -1. -1.  1.  1. -1.  1. -1.  1.\n",
      " -1.  1.  1. -1. -1.  1.  1. -1.  1.  1. -1.  1.  1.  1.  1. -1.  1.  1.\n",
      " -1.  1.  1.  1. -1.  1.  1.  1.  1.  1.  1. -1.  1. -1.  1.  1.  1. -1.\n",
      "  1.  1.  1. -1. -1.  1.  1. -1.  1.  1.  1.  1. -1.  1.  1. -1.  1.  1.\n",
      "  1.  1.  1.  1. -1.  1.  1.  1.  1.  1.  1. -1. -1. -1.  1. -1. -1.  1.\n",
      "  1.  1. -1.  1.  1. -1.  1.  1.  1. -1.  1.  1.  1.  1.  1.  1.  1.  1.\n",
      "  1.  1.]\n"
     ]
    },
    {
     "data": {
      "image/png": "[encoded data removed]",
      "text/plain": [
       "<Figure size 432x288 with 1 Axes>"
      ]
     },
     "metadata": {
      "needs_background": "light"
     },
     "output_type": "display_data"
    }
   ],
   "source": [
    "# Training\n",
    "# Using KMeans clustering (NOT VERY  ACCURATE)\n",
    "#num_clusters = 3\n",
    "#kmean_labels = KMeans(n_clusters=num_clusters).fit_predict(X)\n",
    "kmean_labels = classifier.predict(X)\n",
    "print(kmean_labels)\n",
    "\n",
    "plt.scatter(feature_X[:,0], feature_X[:,1], c=kmean_labels)\n",
    "#plt.scatter(feature_X[:,0], feature_X[:,1], c=y )\n",
    "\n",
    "plt.show()"
   ]
  },
  {
   "cell_type": "code",
   "execution_count": 118,
   "id": "e47dc58d-bdae-4963-9b85-55639d7066bb",
   "metadata": {},
   "outputs": [
    {
     "data": {
      "text/plain": [
       "(0.7233751942451716,\n",
       " 0.7106733357088082,\n",
       " 0.7169680126232837,\n",
       " 0.955,\n",
       " array([[ 60,   3],\n",
       "        [  6, 131]], dtype=int64))"
      ]
     },
     "execution_count": 118,
     "metadata": {},
     "output_type": "execute_result"
    }
   ],
   "source": [
    "# Evaluation of clustering result of KMeans (true_labels, predicted_labels)\n",
    "homogeneity_score(y, kmean_labels), completeness_score(y, kmean_labels), v_measure_score(y, kmean_labels), accuracy_score(y, kmean_labels), confusion_matrix(y, kmean_labels)"
   ]
  },
  {
   "cell_type": "markdown",
   "id": "8357c94d-b50c-4eb7-9f2e-7b181ab40e19",
   "metadata": {},
   "source": [
    "## b. Spectral Clustering\n",
    "\n",
    "Adopted from: [Towards data science](https://towardsdatascience.com/graph-laplacian-and-its-application-in-machine-learning-7d9aab021d16)"
   ]
  },
  {
   "cell_type": "markdown",
   "id": "caf4204a-57ea-45c1-b2d5-5d6fd78651c5",
   "metadata": {},
   "source": [
    "### 1. Deriving Graph Laplacian representation\n",
    "L = D-W\n",
    "\n",
    "D: Degree matrix\n",
    "\n",
    "W: Similarity graph"
   ]
  },
  {
   "cell_type": "code",
   "execution_count": 92,
   "id": "e00c3d1b-001e-4b04-a71d-8ae0c6b3d788",
   "metadata": {},
   "outputs": [
    {
     "data": {
      "text/plain": [
       "array([[ 73.,   0.,   0., ...,   0.,   0.,   0.],\n",
       "       [  0.,  51.,   0., ...,   0.,   0.,   0.],\n",
       "       [  0.,   0.,  55., ...,   0.,   0.,   0.],\n",
       "       ...,\n",
       "       [  0.,   0.,   0., ...,  29.,   0.,   0.],\n",
       "       [  0.,   0.,   0., ...,   0., 165.,   0.],\n",
       "       [  0.,   0.,   0., ...,   0.,   0., 197.]])"
      ]
     },
     "execution_count": 92,
     "metadata": {},
     "output_type": "execute_result"
    }
   ],
   "source": [
    "# Degree Matrix\n",
    "\n",
    "W = X\n",
    "D = W.sum(axis=1)\n",
    "D = np.diag(np.asarray(D).reshape(data_size,))\n",
    "D"
   ]
  },
  {
   "cell_type": "code",
   "execution_count": 93,
   "id": "59493780-863f-43db-98e9-bdaff1af5eb3",
   "metadata": {},
   "outputs": [
    {
     "data": {
      "text/plain": [
       "array([[ 73.,  -1.,  -1., ...,  -1.,  -1.,  -1.],\n",
       "       [ -1.,  51.,   1., ...,  -1.,  -1.,  -1.],\n",
       "       [ -1.,   1.,  55., ...,  -1.,  -1.,  -1.],\n",
       "       ...,\n",
       "       [ -1.,  -1.,  -1., ...,  29.,  -1.,  -1.],\n",
       "       [ -1.,  -1.,  -1., ...,  -1., 165.,  -1.],\n",
       "       [ -1.,  -1.,  -1., ...,  -1.,  -1., 197.]])"
      ]
     },
     "execution_count": 93,
     "metadata": {},
     "output_type": "execute_result"
    }
   ],
   "source": [
    "# Laplacian Matrix\n",
    "L = D - W\n",
    "L"
   ]
  },
  {
   "cell_type": "code",
   "execution_count": 97,
   "id": "79c1d0ee-c581-4e6d-ae91-67fe7a9e117a",
   "metadata": {},
   "outputs": [
    {
     "data": {
      "text/plain": [
       "array([[ 73.,  -1.,  -1., ...,  -1.,  -1.,  -1.],\n",
       "       [ -1.,  51.,   1., ...,  -1.,  -1.,  -1.],\n",
       "       [ -1.,   1.,  55., ...,  -1.,  -1.,  -1.],\n",
       "       ...,\n",
       "       [ -1.,  -1.,  -1., ...,  29.,  -1.,  -1.],\n",
       "       [ -1.,  -1.,  -1., ...,  -1., 165.,  -1.],\n",
       "       [ -1.,  -1.,  -1., ...,  -1.,  -1., 197.]])"
      ]
     },
     "execution_count": 97,
     "metadata": {},
     "output_type": "execute_result"
    }
   ],
   "source": [
    "# Laplacian Matrix\n",
    "\n",
    "L = csgraph.laplacian(W, normed=False)\n",
    "L#.toarray()"
   ]
  },
  {
   "cell_type": "code",
   "execution_count": 114,
   "id": "21be641a-1e14-4eda-a1d7-135da7eb6b4f",
   "metadata": {},
   "outputs": [
    {
     "name": "stderr",
     "output_type": "stream",
     "text": [
      "C:\\Users\\dowuor\\AppData\\Local\\Programs\\Python\\Python37\\lib\\site-packages\\ipykernel_launcher.py:7: RuntimeWarning: invalid value encountered in sqrt\n",
      "  import sys\n"
     ]
    },
    {
     "data": {
      "text/plain": [
       "array([[nan, nan, nan, ..., nan, nan, nan],\n",
       "       [nan, nan, nan, ..., nan, nan, nan],\n",
       "       [nan, nan, nan, ..., nan, nan, nan],\n",
       "       ...,\n",
       "       [nan, nan, nan, ..., nan, nan, nan],\n",
       "       [nan, nan, nan, ..., nan, nan, nan],\n",
       "       [nan, nan, nan, ..., nan, nan, nan]])"
      ]
     },
     "execution_count": 114,
     "metadata": {},
     "output_type": "execute_result"
    }
   ],
   "source": [
    "# Normalized Laplacian Matirx: \n",
    "\n",
    "# Identity matrix\n",
    "I = np.identity(W.shape[0])\n",
    "\n",
    "# D^{-1/2} matrix\n",
    "D_inv_sqrt = la.inv(np.sqrt(D))\n",
    "L_norm = I - np.dot(D_inv_sqrt, W).dot(D_inv_sqrt)\n",
    "L_norm"
   ]
  },
  {
   "cell_type": "code",
   "execution_count": 98,
   "id": "1e853cef-e84c-45d5-8f54-f6afe416e784",
   "metadata": {
    "tags": []
   },
   "outputs": [
    {
     "data": {
      "text/plain": [
       "array([[ 1.        , -0.01638904, -0.01578183, ..., -0.021734  ,\n",
       "        -0.00911164, -0.00833884],\n",
       "       [-0.01638904,  1.        ,  0.01888137, ..., -0.02600255,\n",
       "        -0.01090117, -0.00997658],\n",
       "       [-0.01578183,  0.01888137,  1.        , ..., -0.02503915,\n",
       "        -0.01049728, -0.00960695],\n",
       "       ...,\n",
       "       [-0.021734  , -0.02600255, -0.02503915, ...,  1.        ,\n",
       "        -0.01445636, -0.01323025],\n",
       "       [-0.00911164, -0.01090117, -0.01049728, ..., -0.01445636,\n",
       "         1.        , -0.00554658],\n",
       "       [-0.00833884, -0.00997658, -0.00960695, ..., -0.01323025,\n",
       "        -0.00554658,  1.        ]])"
      ]
     },
     "execution_count": 98,
     "metadata": {},
     "output_type": "execute_result"
    }
   ],
   "source": [
    "# Normalized Laplacian Matirx: \n",
    "\n",
    "L_norm = csgraph.laplacian(W, normed=True)\n",
    "L_norm#.toarray()"
   ]
  },
  {
   "cell_type": "markdown",
   "id": "58d7d2a0-9a07-4d0c-85e7-544fa8230ccc",
   "metadata": {},
   "source": [
    "### 2. Computing eigenvalues"
   ]
  },
  {
   "cell_type": "code",
   "execution_count": 112,
   "id": "40c93d09-6b2b-4f23-bacc-78633fb7ffc0",
   "metadata": {},
   "outputs": [
    {
     "data": {
      "text/plain": [
       "(array([ 1.98021919e+02, -1.62445912e+02,  1.71154220e+02,  1.64940596e+02,\n",
       "         1.61529742e+02, -1.51779707e+02, -1.49257208e+02,  1.56656834e+02,\n",
       "        -1.40445517e+02, -1.36528354e+02, -1.30110334e+02, -1.27031569e+02,\n",
       "        -1.25052694e+02, -1.21552390e+02, -1.18938838e+02, -1.11693709e+02,\n",
       "         1.42557924e+02,  1.33860980e+02,  1.32628950e+02,  1.32418098e+02,\n",
       "         1.29035584e+02,  1.24434070e+02,  1.20603038e+02,  1.17843818e+02,\n",
       "         1.15108094e+02,  1.09706661e+02,  1.02617420e+02,  9.94872100e+01,\n",
       "        -1.07591774e+02, -1.06101903e+02, -1.05309786e+02, -9.77835703e+01,\n",
       "        -1.01235811e+02, -1.00911932e+02, -1.00130287e+02, -9.94521654e+01,\n",
       "         9.51713795e+01,  9.27581951e+01,  9.22479712e+01,  9.14716537e+01,\n",
       "         8.89187628e+01, -9.41070222e+01, -8.79787255e+01, -8.52500710e+01,\n",
       "        -8.04477267e+01, -7.85606665e+01,  8.43034371e+01,  8.13952463e+01,\n",
       "         7.90130694e+01,  8.02026990e+01,  7.49116028e+01, -7.51929964e+01,\n",
       "        -7.30361100e+01, -6.90670533e+01, -6.66926504e+01, -6.29135500e+01,\n",
       "         7.27894786e+01,  7.18667463e+01,  7.05049093e+01,  6.95847651e+01,\n",
       "         6.76700180e+01,  6.57290211e+01,  6.45996914e+01,  6.03268828e+01,\n",
       "         6.26905480e+01,  6.21939503e+01,  6.15579186e+01, -5.96886136e+01,\n",
       "         5.90722953e+01,  5.57379552e+01, -5.75924997e+01, -5.65411849e+01,\n",
       "        -5.34142938e+01,  5.34537468e+01,  5.24553104e+01,  5.10163727e+01,\n",
       "         4.95248031e+01,  4.72336815e+01,  4.56052709e+01, -5.04365841e+01,\n",
       "        -4.91017246e+01, -4.76051798e+01, -4.63111769e+01, -4.61642893e+01,\n",
       "         4.30936043e+01,  4.17843810e+01,  4.01750558e+01,  3.87417889e+01,\n",
       "         3.75061815e+01,  3.45749436e+01,  3.60084042e+01, -4.36534163e+01,\n",
       "        -4.54008690e+01, -4.08972885e+01, -4.03769929e+01, -3.90972936e+01,\n",
       "        -3.53323300e+01, -3.65246879e+01, -3.75755334e+01, -3.72595408e+01,\n",
       "         3.27319268e+01,  3.15283958e+01,  3.09809958e+01, -3.35883166e+01,\n",
       "        -3.13758980e+01, -3.17103657e+01, -2.99222983e+01,  3.00246086e+01,\n",
       "         2.93073119e+01,  2.90702477e+01, -2.88851931e+01, -2.85950941e+01,\n",
       "         2.85167918e+01,  2.66768745e+01,  2.80031090e+01,  2.42769354e+01,\n",
       "         2.31675916e+01,  2.49862165e+01, -2.86491489e+01, -2.68989988e+01,\n",
       "        -2.65960515e+01, -2.55561683e+01, -2.41491776e+01,  2.21154811e+01,\n",
       "         2.17043271e+01,  2.13647124e+01,  1.82783467e+01,  2.04340609e+01,\n",
       "         1.93363464e+01,  2.00089118e+01, -2.28338680e+01, -1.96864086e+01,\n",
       "        -2.22424735e+01, -2.20330452e+01, -2.08069612e+01, -2.14235350e+01,\n",
       "         1.58436192e+01, -1.84588840e+01, -1.89053978e+01,  1.71783904e+01,\n",
       "         1.39668217e+01, -1.78769636e+01, -1.75353465e+01,  1.24624469e+01,\n",
       "         1.15358550e+01,  1.11444645e+01,  1.00805614e+01, -1.60260904e+01,\n",
       "        -1.69957124e+01, -1.45197125e+01, -1.33117449e+01, -1.35526798e+01,\n",
       "        -1.41946906e+01, -1.24647361e+01, -1.11262900e+01, -1.04676200e+01,\n",
       "        -1.00352558e+01, -1.40792980e+01,  9.38403913e+00,  9.14262914e+00,\n",
       "        -9.34268598e+00,  7.83007581e+00,  8.80937798e+00,  9.02637639e+00,\n",
       "        -8.22829270e+00, -8.69938740e+00, -8.92406672e+00,  7.42339649e+00,\n",
       "         6.19916207e+00,  6.98845925e+00, -7.15654289e+00, -6.46054256e+00,\n",
       "        -4.95678069e+00, -4.70599423e+00,  6.47149469e+00,  4.86975648e+00,\n",
       "         5.56741728e+00,  5.40774671e+00, -7.23940946e-15,  3.31922343e+00,\n",
       "        -6.90581213e+00, -3.86838673e+00,  4.21664349e+00, -2.10085583e+00,\n",
       "         6.93126293e-01, -2.86011404e+00, -6.38654218e-01, -5.48772698e+00,\n",
       "        -3.66118237e+00,  2.39354421e+00,  2.26167063e+00,  1.36692610e+00,\n",
       "         2.86800084e+00,  2.95401625e+00, -2.90793171e+00, -2.62499141e-01,\n",
       "        -1.48208222e+00,  2.44089597e-01, -1.36834406e+00,  1.43541359e+00]),\n",
       " array([[ 5.27184098e-03, -5.63442537e-03,  1.87285228e-02, ...,\n",
       "         -1.03316598e-02,  5.83242361e-04, -1.79836816e-03],\n",
       "        [ 5.24740315e-03, -7.02973261e-03,  1.71506846e-02, ...,\n",
       "         -1.10502707e-02,  6.63260974e-03, -3.97255273e-03],\n",
       "        [ 5.25230074e-03, -6.70717398e-03,  1.74939683e-02, ...,\n",
       "         -9.32371870e-03,  5.79880819e-03, -3.91834867e-03],\n",
       "        ...,\n",
       "        [ 4.88817336e-03,  1.00268475e-02, -1.28035486e-02, ...,\n",
       "         -4.07617154e-02, -5.96949098e-03, -8.17955429e-03],\n",
       "        [ 4.18794354e-03,  6.50885675e-03, -5.23195314e-01, ...,\n",
       "         -3.61860323e-03, -3.92071817e-04,  2.65584889e-03],\n",
       "        [-9.97366026e-01,  3.21687537e-05,  2.34230518e-03, ...,\n",
       "         -1.29106827e-04,  6.19855608e-06, -8.10792764e-07]]))"
      ]
     },
     "execution_count": 112,
     "metadata": {},
     "output_type": "execute_result"
    }
   ],
   "source": [
    "# Finding eigen values and eigen vectors\n",
    "e, evecs = la.eig(L)#.todense())\n",
    "e, evecs"
   ]
  },
  {
   "cell_type": "code",
   "execution_count": 100,
   "id": "a59d3a10-4472-4e22-933d-784d6f7a2670",
   "metadata": {},
   "outputs": [
    {
     "data": {
      "text/plain": [
       "array([ 198.02192, -162.44591,  171.15422,  164.9406 ,  161.52974,\n",
       "       -151.77971, -149.25721,  156.65683, -140.44552, -136.52835,\n",
       "       -130.11033, -127.03157, -125.05269, -121.55239, -118.93884,\n",
       "       -111.69371,  142.55792,  133.86098,  132.62895,  132.4181 ,\n",
       "        129.03558,  124.43407,  120.60304,  117.84382,  115.10809,\n",
       "        109.70666,  102.61742,   99.48721, -107.59177, -106.1019 ,\n",
       "       -105.30979,  -97.78357, -101.23581, -100.91193, -100.13029,\n",
       "        -99.45217,   95.17138,   92.7582 ,   92.24797,   91.47165,\n",
       "         88.91876,  -94.10702,  -87.97873,  -85.25007,  -80.44773,\n",
       "        -78.56067,   84.30344,   81.39525,   79.01307,   80.2027 ,\n",
       "         74.9116 ,  -75.193  ,  -73.03611,  -69.06705,  -66.69265,\n",
       "        -62.91355,   72.78948,   71.86675,   70.50491,   69.58477,\n",
       "         67.67002,   65.72902,   64.59969,   60.32688,   62.69055,\n",
       "         62.19395,   61.55792,  -59.68861,   59.0723 ,   55.73796,\n",
       "        -57.5925 ,  -56.54118,  -53.41429,   53.45375,   52.45531,\n",
       "         51.01637,   49.5248 ,   47.23368,   45.60527,  -50.43658,\n",
       "        -49.10172,  -47.60518,  -46.31118,  -46.16429,   43.0936 ,\n",
       "         41.78438,   40.17506,   38.74179,   37.50618,   34.57494,\n",
       "         36.0084 ,  -43.65342,  -45.40087,  -40.89729,  -40.37699,\n",
       "        -39.09729,  -35.33233,  -36.52469,  -37.57553,  -37.25954,\n",
       "         32.73193,   31.5284 ,   30.981  ,  -33.58832,  -31.3759 ,\n",
       "        -31.71037,  -29.9223 ,   30.02461,   29.30731,   29.07025,\n",
       "        -28.88519,  -28.59509,   28.51679,   26.67687,   28.00311,\n",
       "         24.27694,   23.16759,   24.98622,  -28.64915,  -26.899  ,\n",
       "        -26.59605,  -25.55617,  -24.14918,   22.11548,   21.70433,\n",
       "         21.36471,   18.27835,   20.43406,   19.33635,   20.00891,\n",
       "        -22.83387,  -19.68641,  -22.24247,  -22.03305,  -20.80696,\n",
       "        -21.42354,   15.84362,  -18.45888,  -18.9054 ,   17.17839,\n",
       "         13.96682,  -17.87696,  -17.53535,   12.46245,   11.53585,\n",
       "         11.14446,   10.08056,  -16.02609,  -16.99571,  -14.51971,\n",
       "        -13.31174,  -13.55268,  -14.19469,  -12.46474,  -11.12629,\n",
       "        -10.46762,  -10.03526,  -14.0793 ,    9.38404,    9.14263,\n",
       "         -9.34269,    7.83008,    8.80938,    9.02638,   -8.22829,\n",
       "         -8.69939,   -8.92407,    7.4234 ,    6.19916,    6.98846,\n",
       "         -7.15654,   -6.46054,   -4.95678,   -4.70599,    6.47149,\n",
       "          4.86976,    5.56742,    5.40775,   -0.     ,    3.31922,\n",
       "         -6.90581,   -3.86839,    4.21664,   -2.10086,    0.69313,\n",
       "         -2.86011,   -0.63865,   -5.48773,   -3.66118,    2.39354,\n",
       "          2.26167,    1.36693,    2.868  ,    2.95402,   -2.90793,\n",
       "         -0.2625 ,   -1.48208,    0.24409,   -1.36834,    1.43541])"
      ]
     },
     "execution_count": 100,
     "metadata": {},
     "output_type": "execute_result"
    }
   ],
   "source": [
    "# No. of eigen values equal to 0\n",
    "e_rounded_off = e.round(5)\n",
    "e_rounded_off[e_rounded_off == 0].shape\n",
    "e_rounded_off"
   ]
  },
  {
   "cell_type": "markdown",
   "id": "76d43626-22a2-47af-aabf-303c2674a4df",
   "metadata": {},
   "source": [
    "### 3. Partitioning data points"
   ]
  },
  {
   "cell_type": "code",
   "execution_count": 101,
   "id": "0828d3d4-ac2e-45ef-897b-9cf597f14d7a",
   "metadata": {},
   "outputs": [
    {
     "name": "stdout",
     "output_type": "stream",
     "text": [
      "[  1   5   6   8   9  10  11  12  13  14  15  28  29  30  32  33  34  35\n",
      "  31  41  42  43  44  45  51  52  53  54  55  67  70  71  72  79  80  81\n",
      "  82  83  92  91  93  94  95  98  99  97  96 103 105 104 106 110 118 111\n",
      " 119 120 121 122 130 132 133 135 134 131 138 137 141 142 148 147 149 152\n",
      " 157 151 150 153 154 155 156 160 166 165 164 170 180 171 187 172 173 181\n",
      " 188 194 185 183 196 198 186 195 178 197 184 191 199 190 189 192 193 179\n",
      " 182 175 177 176 168 174 169 167 161 162 163 159 158 146 145 144 143 140\n",
      " 136 139 126 128 129 127 125 124 123 116 115 117 113 114 112 109 108 107\n",
      " 102 101 100  89  90  88  87  86  85  84  78  77  76  75  74  73  69  68\n",
      "  63  66  65  64  62  61  60  59  58  57  56  50  48  49  47  46  40  39\n",
      "  38  37  36  27  26  25  24  23  22  21  20  19  18  17  16   7   4   3\n",
      "   2   0]\n"
     ]
    },
    {
     "data": {
      "text/plain": [
       "array([2, 0], dtype=int64)"
      ]
     },
     "execution_count": 101,
     "metadata": {},
     "output_type": "execute_result"
    }
   ],
   "source": [
    "sorted_idxs = np.argsort(e_rounded_off)\n",
    "print(sorted_idxs)\n",
    "sorted_idxs[-2:]"
   ]
  },
  {
   "cell_type": "code",
   "execution_count": 109,
   "id": "b8e30d9d-9eca-4329-82e2-6bdefd8e3ce4",
   "metadata": {},
   "outputs": [
    {
     "name": "stdout",
     "output_type": "stream",
     "text": [
      "[-1. -1.  1. -1. -1.  1.  1. -1.  1.  1.  1.  1. -1.  1. -1.  1. -1.  1.\n",
      "  1.  1.  1.  1. -1. -1.  1.  1.  1.  1.  1. -1. -1.  1.  1.  1. -1.  1.\n",
      "  1.  1. -1.  1.  1.  1.  1.  1. -1.  1.  1.  1.  1. -1.  1.  1.  1. -1.\n",
      "  1.  1.  1. -1.  1.  1. -1.  1.  1.  1.  1.  1. -1. -1.  1.  1.  1.  1.\n",
      " -1.  1. -1.  1.  1.  1.  1.  1.  1.  1.  1.  1.  1. -1.  1.  1.  1.  1.\n",
      " -1.  1.  1.  1. -1.  1. -1.  1. -1.  1.  1.  1.  1.  1.  1.  1.  1.  1.\n",
      "  1. -1. -1.  1. -1.  1.  1.  1.  1.  1.  1.  1.  1.  1.  1.  1.  1.  1.\n",
      "  1. -1.  1. -1. -1.  1.  1.  1. -1.  1.  1.  1.  1. -1.  1. -1.  1.  1.\n",
      " -1.  1.  1.  1.  1.  1.  1.  1.  1.  1.  1. -1.  1.  1.  1.  1.  1.  1.\n",
      "  1.  1. -1. -1.  1.  1.  1.  1. -1. -1. -1.  1. -1.  1.  1.  1. -1.  1.\n",
      " -1.  1.  1. -1.  1.  1.  1.  1.  1.  1.  1. -1.  1.  1.  1. -1. -1.  1.\n",
      " -1. -1.]\n"
     ]
    },
    {
     "data": {
      "image/png": "[encoded data removed]",
      "text/plain": [
       "<Figure size 432x288 with 1 Axes>"
      ]
     },
     "metadata": {
      "needs_background": "light"
     },
     "output_type": "display_data"
    }
   ],
   "source": [
    "num_clusters = 3\n",
    "evecs_last_2 = evecs[0:, sorted_idxs[-2:]]\n",
    "#new_labels = KMeans(n_clusters=num_clusters).fit_predict(evecs_last_2)\n",
    "new_labels = classifier.predict(evecs)\n",
    "print(new_labels)\n",
    "\n",
    "# Plot cluster result\n",
    "plt.scatter(feature_X[:,0], feature_X[:,1], c=new_labels.astype(float))\n",
    "plt.title(\"Clusters plot\")\n",
    "plt.show()"
   ]
  },
  {
   "cell_type": "code",
   "execution_count": 110,
   "id": "8e229297-7b4d-4ed1-a683-a92f7d1a08bb",
   "metadata": {},
   "outputs": [
    {
     "data": {
      "text/plain": [
       "(0.006718413016602302, 0.007239191411919821, 0.006969086716934197, 0.55)"
      ]
     },
     "execution_count": 110,
     "metadata": {},
     "output_type": "execute_result"
    }
   ],
   "source": [
    "# Evaluation of clustering result of KMeans (true_labels, predicted_labels)\n",
    "homogeneity_score(y, new_labels), completeness_score(y, new_labels), v_measure_score(y, new_labels), accuracy_score(y, new_labels)"
   ]
  },
  {
   "cell_type": "code",
   "execution_count": null,
   "id": "35441df3-7d50-4f99-8672-01bf0eb097be",
   "metadata": {},
   "outputs": [],
   "source": []
  },
  {
   "cell_type": "code",
   "execution_count": null,
   "id": "21dc14fd-9d05-4c0c-9f56-12807758495e",
   "metadata": {},
   "outputs": [],
   "source": []
  }
 ],
 "metadata": {
  "kernelspec": {
   "display_name": "Python 3 (ipykernel)",
   "language": "python",
   "name": "python3"
  },
  "language_info": {
   "codemirror_mode": {
    "name": "ipython",
    "version": 3
   },
   "file_extension": ".py",
   "mimetype": "text/x-python",
   "name": "python",
   "nbconvert_exporter": "python",
   "pygments_lexer": "ipython3",
   "version": "3.7.2"
  }
 },
 "nbformat": 4,
 "nbformat_minor": 5
}
